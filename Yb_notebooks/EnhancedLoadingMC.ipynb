{
 "cells": [
  {
   "cell_type": "code",
   "execution_count": 1,
   "metadata": {},
   "outputs": [],
   "source": [
    "import numpy as np\n",
    "import scipy as sp\n",
    "import scipy.constants\n",
    "from sympy.physics.wigner import wigner_6j\n",
    "from sympy.physics.wigner import wigner_3j\n",
    "import matplotlib.pyplot as plt\n",
    "from scipy.stats import norm\n",
    "import tqdm\n",
    "import random\n",
    "\n",
    "\"\"\" \n",
    "constants\n",
    "\"\"\"\n",
    "pi = np.pi\n",
    "c = sp.constants.c\n",
    "epsilon_0 = sp.constants.epsilon_0\n",
    "hbar = sp.constants.hbar\n",
    "h = sp.constants.h\n",
    "e0 = sp.constants.e\n",
    "a0 = sp.constants.physical_constants[\"Bohr radius\"][0]\n",
    "u = sp.constants.physical_constants['atomic mass constant'][0]\n",
    "kB = sp.constants.physical_constants['Boltzmann constant'][0]\n",
    "mB = sp.constants.physical_constants['Bohr magneton'][0]\n",
    "g = sp.constants.g\n",
    "\n",
    "# α/h [Hz/(V/m)2]=2.48832×10−8 α [a.u.] from https://arxiv.org/pdf/1507.06570.pdf\n",
    "# α [a.u.] = 1.648 777 274 36 x 10-41 α [C2 m2 J-1] #https://physics.nist.gov/cgi-bin/cuu/Value?auepol\n",
    "a_au = 1.64877727436*1e-41\n"
   ]
  },
  {
   "cell_type": "code",
   "execution_count": 2,
   "metadata": {},
   "outputs": [],
   "source": [
    "def light_shift(F, mF, Psingle):\n",
    "    \n",
    "    ground = -9.475*1e-4\n",
    "    f32mf32 = -3.7*1e-4\n",
    "    f32mf12 = -7.5*1e-4\n",
    "    f12mf12 = -7.5*1e-4\n",
    "    \n",
    "    if F==1/2:\n",
    "        excited = f12mf12\n",
    "    elif F==3/2 and abs(mF)==3/2:\n",
    "        excited = f32mf32\n",
    "    elif F==3/2 and abs(mF)==1/2:\n",
    "        excited = f32mf12\n",
    "        \n",
    "\n",
    "    w0 = 0.46e-6 #tweezer waist    \n",
    "    I0 = 2*Psingle/pi/w0**2 #max intensity\n",
    "    \n",
    "    return (excited-ground)*I0*h"
   ]
  },
  {
   "cell_type": "code",
   "execution_count": 3,
   "metadata": {},
   "outputs": [],
   "source": [
    "def Zeeman_shift(F, mF, B):\n",
    "\n",
    "    L = 1\n",
    "    S = 1\n",
    "    J = 1\n",
    "    I = 1/2\n",
    "\n",
    "    gJ = 3/2 + (S*(S+1) - L*(L+1)) / 2 / J / (J+1)  \n",
    "    gF = (F*(F+1) + J*(J+1) - I*(I+1)) / 2 / F / (F+1) * gJ\n",
    "\n",
    "    return mB*gF*B*mF"
   ]
  },
  {
   "cell_type": "code",
   "execution_count": 4,
   "metadata": {},
   "outputs": [],
   "source": [
    "def KE(vx, vy, vz):\n",
    "    return(m*(vx**2+vy**2+vz**2)/2)\n",
    "\n",
    "def PE(x, y, z):\n",
    "    return -U*(1 - 2*(x**2+y**2)/w0**2 - (z/zR)**2)"
   ]
  },
  {
   "cell_type": "code",
   "execution_count": 34,
   "metadata": {},
   "outputs": [],
   "source": [
    "#monte-carlo for temp measurement\n",
    "\n",
    "m = 171*u #mass\n",
    "P = 6.08e-3 #tweezer power (85% loss from clipping, 92% objective tranmission)\n",
    "alpha0 = 37.9e-4 #Hz/W/m-2 from Takahashi\n",
    "_lambda = 532e-9 #532 wavelength\n",
    "k = 2*np.pi/_lambda\n",
    "gamma = 2*np.pi*180e3\n",
    "Isat = 0.138e-3/1e-4\n",
    "Pgreen = 4*2.5e-3 + 2e-3\n",
    "Igreen = Pgreen/np.pi/(2e-3)**2*2\n",
    "w0 = 0.46e-6 #waist at 532 (from Zemax design is 0.4 um)\n",
    "zR = pi*w0**2/ _lambda #Rayleigh range\n",
    "I0 = 2*P /pi/w0**2\n",
    "U = h*I0*alpha0/4\n",
    "omg_r = np.sqrt(4*U/m/w0**2)\n",
    "omg_ax = np.sqrt(2*U/m/zR**2)\n",
    "T = 10e-6\n",
    "F=3/2\n",
    "mF_arr=[-3/2, -1/2, 1/2, 3/2]"
   ]
  },
  {
   "cell_type": "code",
   "execution_count": 38,
   "metadata": {},
   "outputs": [],
   "source": [
    "def Doppler(v, r, delta):\n",
    "    F = hbar*k*(gamma/2)**3*( 1/((delta-k*v)**2 + (gamma/2)**2) -  1/((delta+k*v)**2 + (gamma/2)**2)) * Igreen/Isat\n",
    "    return F*r"
   ]
  },
  {
   "cell_type": "code",
   "execution_count": 40,
   "metadata": {},
   "outputs": [
    {
     "data": {
      "text/plain": [
       "7470873.218231329"
      ]
     },
     "execution_count": 40,
     "metadata": {},
     "output_type": "execute_result"
    }
   ],
   "source": [
    "Doppler(v_std, rpos_std, 1e6)/h"
   ]
  },
  {
   "cell_type": "code",
   "execution_count": 52,
   "metadata": {},
   "outputs": [],
   "source": [
    "v_std = np.sqrt(kB*T/m)\n",
    "rpos_std = np.sqrt(kB*T/m/omg_r**2)\n",
    "axpos_std = np.sqrt(kB*T/m/omg_ax**2)\n",
    "\n",
    "Ntraj = 1000\n",
    "tN = 1000\n",
    "dt = 1e-5\n",
    "\n",
    "rmin = 100e-9 #closest distance for collision to occur\n",
    "\n",
    "xs1 = norm.rvs(size=Ntraj, scale=rpos_std)\n",
    "ys1 = norm.rvs(size=Ntraj, scale=rpos_std)\n",
    "zs1 = norm.rvs(size=Ntraj, scale=axpos_std)\n",
    "vxs1 = norm.rvs(size=Ntraj, scale=v_std)\n",
    "vys1 = norm.rvs(size=Ntraj, scale=v_std)\n",
    "vzs1 = norm.rvs(size=Ntraj, scale=v_std)\n",
    "\n",
    "xs2 = norm.rvs(size=Ntraj, scale=rpos_std)\n",
    "ys2 = norm.rvs(size=Ntraj, scale=rpos_std)\n",
    "zs2 = norm.rvs(size=Ntraj, scale=axpos_std)\n",
    "vxs2 = norm.rvs(size=Ntraj, scale=v_std)\n",
    "vys2 = norm.rvs(size=Ntraj, scale=v_std)\n",
    "vzs2 = norm.rvs(size=Ntraj, scale=v_std)\n",
    "\n",
    "B_arr = np.linspace(0, 15e-4, 50)\n",
    "Delta_arr = np.linspace(-2*np.pi*20e6, 2*np.pi*40e6, 50)\n",
    "\n",
    "load_all = []\n",
    "for i in range(len(Delta_arr)):\n",
    "    Delta = Delta_arr[i]\n",
    "    for j in range(len(B_arr)):\n",
    "        B = B_arr[j]\n",
    "        load = 0\n",
    "\n",
    "        for n in range(Ntraj):\n",
    "            Eint = 0\n",
    "\n",
    "            #1st particle\n",
    "            x1 = xs1[n]\n",
    "            y1 = ys1[n]\n",
    "            z1 = zs1[n]\n",
    "            vx1 = vxs1[n]\n",
    "            vy1 = vys1[n]\n",
    "            vz1 = vzs1[n]\n",
    "\n",
    "            #2nd particle\n",
    "            x2 = xs2[n]\n",
    "            y2 = ys2[n]\n",
    "            z2 = zs2[n]\n",
    "            vx2 = vxs2[n]\n",
    "            vy2 = vys2[n]\n",
    "            vz2 = vzs2[n]\n",
    "\n",
    "            t = 0\n",
    "\n",
    "            while t<tN:\n",
    "\n",
    "                vx1 = vx1 + np.sqrt(abs(2*Ed1)*m/3)\n",
    "                vy1 = vy1 + np.sqrt(abs(2*Ed1)*m/3)\n",
    "                vz1 = vz1 + np.sqrt(abs(2*Ed1)*m/3)\n",
    "\n",
    "                x1 = x1 + vx1*dt\n",
    "                y1 = y1 + vy1*dt\n",
    "                z1 = z1 + vz1*dt - g*dt**2\n",
    "\n",
    "                r1 = np.sqrt(x1**2 + y1**2 + z1**2)\n",
    "                dr1 = np.sqrt((vx1*dt)**2 + (vy1*dt)**2 + (vz1*dt - g*dt**2)**2)\n",
    "                v1 = np.sqrt(vx1**2 + vy1**2 + vz1**2)\n",
    "\n",
    "                vx2 = vx2 - np.sqrt(abs(2*Ed2)*m/3)\n",
    "                vy2 = vy2 - np.sqrt(abs(2*Ed2)*m/3)\n",
    "                vz2 = vz2 - np.sqrt(abs(2*Ed2)*m/3)\n",
    "\n",
    "                x2 = x2 + vx2*dt\n",
    "                y2 = y2 + vy2*dt\n",
    "                z2 = z2 + vz2*dt - g*dt**2\n",
    "\n",
    "                r2 = np.sqrt(x2**2 + y2**2 + z2**2)\n",
    "                dr2 = np.sqrt((vx2*dt)**2 + (vy2*dt)**2 + (vz2*dt - g*dt**2)**2)\n",
    "                v2 = np.sqrt(vx2**2 + vy2**2 + vz2**2)\n",
    "\n",
    "                E1 = KE(vx1, vy1, vz1) + PE(x1, y1, z1)\n",
    "                E2 = KE(vx2, vy2, vz2) + PE(x2, y2, z2)\n",
    "                \n",
    "                r = np.sqrt((x1-x2)**2 + (y1-y2)**2 + (z1-z2)**2)\n",
    "                \n",
    "                Ed1 = 0\n",
    "                Ed2 = 0\n",
    "                \n",
    "                for mF in mF_arr:\n",
    "                    resonance = (Zeeman_shift(F, mF, B) + light_shift(F, mF, P))/hbar\n",
    "                    Ed1 += Doppler(v1, dr1, Delta-resonance)\n",
    "                    Ed2 += Doppler(v1, dr2, Delta-resonance)\n",
    "                \n",
    "\n",
    "                #if r<rmin:\n",
    "                #    mF = random.choice(mF_arr) #excited state mF level for blue-shielding enhanced loading\n",
    "\n",
    "                #    mF1 = random.choice([-1/2, 1/2])\n",
    "                #    mF2 = random.choice([-1/2, 1/2])\n",
    "\n",
    "                #    if abs(mF-mF1)>1 or abs(mF-mF2)>1:\n",
    "                #        Eint = 0\n",
    "                        \n",
    "\n",
    "                #    else:\n",
    "                #        resonance = Zeeman_shift(F, mF, B) + light_shift(F, mF, P)\n",
    "                #        Eint = hbar*Delta - resonance\n",
    "                #        if Eint < 0:\n",
    "                #            Eint = 0\n",
    "\n",
    "                #else:\n",
    "                Eint = 0\n",
    "                \n",
    "                Etot = E1+E2 + Eint + Ed1 + Ed2\n",
    "\n",
    "                if Etot > 2*U:\n",
    "                    load += 0\n",
    "                    #print('lost')\n",
    "                    t = tN\n",
    "\n",
    "                elif Etot > U:\n",
    "                    load += 1\n",
    "                    #print('load')\n",
    "                    t = tN\n",
    "\n",
    "                else:\n",
    "                    t += 1\n",
    "\n",
    "\n",
    "\n",
    "        load_all.append(load)\n",
    "\n",
    "\n"
   ]
  },
  {
   "cell_type": "code",
   "execution_count": 50,
   "metadata": {},
   "outputs": [],
   "source": [
    "\n",
    "Elevels_all = []\n",
    "for mF in mF_arr: \n",
    "    Elevels = []\n",
    "    for b in B_arr:\n",
    "        Elevels.append( (Zeeman_shift(F, mF, b) + light_shift(F, mF, P))/h*1e-6 )\n",
    "    Elevels_all.append(Elevels)\n"
   ]
  },
  {
   "cell_type": "code",
   "execution_count": 51,
   "metadata": {},
   "outputs": [
    {
     "data": {
      "text/plain": [
       "Text(0.5, 0, 'B field in G')"
      ]
     },
     "execution_count": 51,
     "metadata": {},
     "output_type": "execute_result"
    },
    {
     "data": {
      "image/png": "[encoded data removed]",
      "text/plain": [
       "<Figure size 432x288 with 2 Axes>"
      ]
     },
     "metadata": {
      "needs_background": "light"
     },
     "output_type": "display_data"
    }
   ],
   "source": [
    "mF_name = ['-3/2', '-1/2', '+1/2', '+3/2']\n",
    "for i, mF in enumerate(mF_arr):\n",
    "    plt.plot(B_arr*1e4, Elevels_all[i], label = 'F=3/2,'+'mF='+mF_name[i])\n",
    "plt.imshow(np.array(load_all).reshape(50,50), origin='lower', extent=[B_arr[0]*1e4, B_arr[-1]*1e4, Delta_arr[0]/1e6/2/np.pi, Delta_arr[-1]/1e6/2/np.pi], \n",
    "           aspect =(B_arr[0]*1e4-B_arr[-1]*1e4)/(Delta_arr[0]/1e6/2/np.pi-Delta_arr[-1]/1e6/2/np.pi))\n",
    "plt.colorbar()\n",
    "plt.ylabel('freq in MHz')\n",
    "plt.xlabel('B field in G')"
   ]
  },
  {
   "cell_type": "code",
   "execution_count": null,
   "metadata": {},
   "outputs": [],
   "source": []
  }
 ],
 "metadata": {
  "kernelspec": {
   "display_name": "Python 3",
   "language": "python",
   "name": "python3"
  },
  "language_info": {
   "codemirror_mode": {
    "name": "ipython",
    "version": 3
   },
   "file_extension": ".py",
   "mimetype": "text/x-python",
   "name": "python",
   "nbconvert_exporter": "python",
   "pygments_lexer": "ipython3",
   "version": "3.8.5"
  }
 },
 "nbformat": 4,
 "nbformat_minor": 4
}
