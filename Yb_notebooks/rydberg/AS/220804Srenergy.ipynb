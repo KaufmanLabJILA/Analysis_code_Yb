{
 "cells": [
  {
   "cell_type": "markdown",
   "id": "0deb61ce-0467-428b-8260-53874595d248",
   "metadata": {
    "jp-MarkdownHeadingCollapsed": true,
    "tags": []
   },
   "source": []
  },
  {
   "cell_type": "code",
   "execution_count": 4,
   "id": "2b5c3fca-68ae-45d9-8099-35a657b0f613",
   "metadata": {},
   "outputs": [],
   "source": [
    "import matplotlib.pyplot as plt  # Import library for direct plotting functions\n",
    "import numpy as np   \n",
    "import pandas as pd\n",
    "import scipy as sp\n",
    "\n",
    "import arc \n",
    "import arc.beta as beta"
   ]
  },
  {
   "cell_type": "code",
   "execution_count": 5,
   "id": "2dcca7a9-79f9-4a34-b112-e6300a4a3956",
   "metadata": {},
   "outputs": [],
   "source": [
    "#define atom for ARC\n",
    "atom = arc.Ytterbium174()"
   ]
  },
  {
   "cell_type": "markdown",
   "id": "5b4531d2-e751-47f0-acb9-b3e924374461",
   "metadata": {},
   "source": [
    "This is to caliculate the 171 Yb energy structure including higpower fine structure. I will copy the method of Ding 2018 (https://arxiv.org/pdf/1808.05987.pdf). Arc is used for the $^{171}$Yb quantum defect data."
   ]
  },
  {
   "cell_type": "code",
   "execution_count": 85,
   "id": "f8024096-a559-4f28-85a2-b73b64aac042",
   "metadata": {},
   "outputs": [],
   "source": [
    "\"\"\" \n",
    "constants\n",
    "\"\"\"\n",
    "I = 9/2 #nuclear spin\n",
    "a = -4.156e-6 #highpower fine coupling constant[eV] corresponding to 1GHz\n",
    "\n",
    "deltaE = 2*np.pi*12.6428121e9 #GHz the spliting of 171Yb+\n",
    "Rinf = con.physical_constants['Rydberg constant times c in Hz'][0] \n",
    "au = con.physical_constants['atomic mass constant'][0] \n",
    "\n",
    "m_Sr88 = 87.90561*au #mass of 88Sr [kg] from NIST database\n",
    "m_Sr87 = 86.90887749*au #mass of 87Sr [kg] from NIST database\n",
    "\n",
    "m_e = 9.1093837015e-31 #mass of electron [kg]\n",
    "#electron reduced mass \n",
    "#(this would be a bit rigolus. to make it rigolas I should use ion mass?)\n",
    "m88 = m_e*(m_Sr88-m_e)/m_Sr88\n",
    "m87 = m_e*(m_Sr87-m_e)/m_Sr87\n",
    "\n",
    "#conversion from Hz to cm-1\n",
    "Hztocmm1 = 1/con.c/1e2\n",
    "\n",
    "deltaE = 12.6428121e9 #Hz the spliting of 171Yb+\n",
    "# E0Sr = 45932.09/Hztocmm1 #Hz \n",
    "\n",
    "E0Sr = 45932.1943/Hztocmm1 #Hz "
   ]
  },
  {
   "cell_type": "code",
   "execution_count": 86,
   "id": "58aa9f8a-4dd3-40f8-8067-2d2a1e723499",
   "metadata": {},
   "outputs": [
    {
     "data": {
      "text/plain": [
       "1.4597069957830362e-25"
      ]
     },
     "execution_count": 86,
     "metadata": {},
     "output_type": "execute_result"
    }
   ],
   "source": [
    "m_Sr88"
   ]
  },
  {
   "cell_type": "code",
   "execution_count": 87,
   "id": "0b62aa81-4fdf-4000-aac2-cbbf8700639c",
   "metadata": {},
   "outputs": [
    {
     "data": {
      "text/plain": [
       "-2.2610624489999998"
      ]
     },
     "execution_count": 87,
     "metadata": {},
     "output_type": "execute_result"
    }
   ],
   "source": [
    "1/2*a*I*241799"
   ]
  },
  {
   "cell_type": "code",
   "execution_count": 88,
   "id": "a93ed750-6d9a-464b-89dc-8f23c142d889",
   "metadata": {},
   "outputs": [],
   "source": [
    "def QuantumDefect3S1(n):\n",
    "    return 3.3707725 + 0.41979/(n-3.3707725)**2 -0.421377/(n-3.3707725)**4 \n",
    "    # return 3.37065 + 0.443/(n-3.37065)**2 -0.553/(n-3.37065)**4\n",
    "\n",
    "def Sr88Energy3S1(n):\n",
    "    return E0Sr-Rinf*m88/m_e/ ((n -  QuantumDefect3S1(n))**2) #Hz\n",
    "\n",
    "def Sr87Energy3S1(n):\n",
    "    #(m171/m_e)*Rinf\n",
    "    return E0Sr- Rinf*m87/m_e/ ((n -  QuantumDefect3S1(n))**2)+ 1/2*a*I*241799*1e9 #Hz\n"
   ]
  },
  {
   "cell_type": "markdown",
   "id": "4724dcfa-a13a-4a3f-9161-f07a2cc6fc41",
   "metadata": {},
   "source": [
    "Currently ARC does not cover this thompson paper and this transtion, so I will make the function by my self."
   ]
  },
  {
   "cell_type": "markdown",
   "id": "7cb899ec-3372-4181-9ba0-907efd6853bc",
   "metadata": {
    "tags": []
   },
   "source": [
    "# 88Sr energy for sanity check"
   ]
  },
  {
   "cell_type": "markdown",
   "id": "0439eb43-dd34-4c74-bcb2-40f4e36cd562",
   "metadata": {},
   "source": [
    "ARC provides experimentally determined quantum defect data for $^{174}$Sr using multiple references. (https://arc-alkali-rydberg-calculator.readthedocs.io/en/latest/_modules/arc/divalent_atom_data.html#Strontium88.getPressure)"
   ]
  },
  {
   "cell_type": "code",
   "execution_count": 75,
   "id": "68706070-39ef-4570-a63e-51e01d928c41",
   "metadata": {},
   "outputs": [],
   "source": [
    "N=np.arange(30,100,1)\n",
    "\n",
    "#quantum defect data import for 88Sr\n",
    "Sr3S1_qd = QuantumDefect3S1(N)"
   ]
  },
  {
   "cell_type": "code",
   "execution_count": 76,
   "id": "470f6e7b-6b5c-43fb-b762-b8f6ba080ca1",
   "metadata": {
    "tags": []
   },
   "outputs": [
    {
     "data": {
      "image/png": "[encoded data removed]",
      "text/plain": [
       "<Figure size 500x400 with 1 Axes>"
      ]
     },
     "metadata": {
      "needs_background": "light"
     },
     "output_type": "display_data"
    }
   ],
   "source": [
    "#plot\n",
    "fig, axes = plt.subplots(1, 1, figsize=(5,4), dpi=100)\n",
    "plt.title('quantum defect of 174Yb')\n",
    "axes.semilogy(N,Sr3S1_qd,'.',label=\"$n{}^3S_{1}$\")\n",
    "\n",
    "plt.show()"
   ]
  },
  {
   "cell_type": "code",
   "execution_count": 77,
   "id": "e18166e6-ad3a-486e-9f79-0ca6d4327152",
   "metadata": {
    "tags": []
   },
   "outputs": [
    {
     "data": {
      "image/png": "[encoded data removed]",
      "text/plain": [
       "<Figure size 432x288 with 1 Axes>"
      ]
     },
     "metadata": {
      "needs_background": "light"
     },
     "output_type": "display_data"
    }
   ],
   "source": [
    "plt.scatter(N,Sr88Energy3S1(N)/1e12, label= '$^3S_1$ ')\n",
    "\n",
    "plt.title('$^{88}$Sr energy from ionization energy')\n",
    "plt.xlabel('n')\n",
    "plt.ylabel('energy[THz]')\n",
    "\n",
    "plt.legend()\n",
    "plt.show()"
   ]
  },
  {
   "cell_type": "markdown",
   "id": "118dccb4-e79b-4301-bab5-e6d6b4257d5e",
   "metadata": {},
   "source": [
    "# Calculation of the energy of 87Sr"
   ]
  },
  {
   "cell_type": "code",
   "execution_count": 78,
   "id": "7e4d0237-f429-4859-bdc2-5bcc89cf1782",
   "metadata": {
    "tags": []
   },
   "outputs": [
    {
     "data": {
      "image/png": "[encoded data removed]",
      "text/plain": [
       "<Figure size 432x288 with 1 Axes>"
      ]
     },
     "metadata": {
      "needs_background": "light"
     },
     "output_type": "display_data"
    }
   ],
   "source": [
    "plt.scatter(N,Sr87Energy3S1(N)/1e12, label= '$^3S_1$ ')\n",
    "\n",
    "plt.title('$^{87}$Sr energy from ionization energy')\n",
    "plt.xlabel('n')\n",
    "plt.ylabel('energy[THz]')\n",
    "\n",
    "plt.legend()\n",
    "plt.show()"
   ]
  },
  {
   "cell_type": "markdown",
   "id": "c0d13824-89ca-4b65-bca6-5ac6a0edb989",
   "metadata": {},
   "source": [
    "concentrate on n = 74"
   ]
  },
  {
   "cell_type": "code",
   "execution_count": 89,
   "id": "6573d8e1-23c8-4663-9aa8-e3e7fa0cfea0",
   "metadata": {},
   "outputs": [
    {
     "name": "stdout",
     "output_type": "stream",
     "text": [
      "***Calculated value from quantum defect of  87 Sr 6s74s3S1: 1376.3507977583029 THz\n",
      "***exp value                                87 Sr 6s74s3S1: 1376.350880112781 THz\n",
      "***paper theory value                       87 Sr 6s74s3S1: 1376.3508111605156 THz\n"
     ]
    }
   ],
   "source": [
    "print('***Calculated value from quantum defect of  87 Sr 6s74s3S1: {} THz'.format((Sr87Energy3S1(74)/1e12)))\n",
    "print('***exp value                                87 Sr 6s74s3S1: {} THz'.format((45910.1236)/Hztocmm1/1e12))\n",
    "print('***paper theory value                       87 Sr 6s74s3S1: {} THz'.format((45910.1213)/Hztocmm1/1e12))"
   ]
  },
  {
   "cell_type": "code",
   "execution_count": 90,
   "id": "45ed1c14-ac53-4b63-8068-3ca734f5eb85",
   "metadata": {},
   "outputs": [
    {
     "name": "stdout",
     "output_type": "stream",
     "text": [
      "-0.08235447825\n"
     ]
    }
   ],
   "source": [
    "diff74 = Sr87Energy3S1(74) - (45910.1236)/Hztocmm1\n",
    "print(diff74/1e9)"
   ]
  },
  {
   "cell_type": "code",
   "execution_count": 81,
   "id": "4079adbc-db52-4a84-b58f-3de596938e6f",
   "metadata": {},
   "outputs": [
    {
     "name": "stdout",
     "output_type": "stream",
     "text": [
      "***Calculated value from quantum defect of  87 Sr 6s50s3S1: 1375.497292856651 THz\n",
      "***exp value                                87 Sr 6s50s3S1: 1375.4972930388158 THz\n",
      "***paper theory value                       87 Sr 6s50s3S1: 1375.4972270844753 THz\n"
     ]
    }
   ],
   "source": [
    "print('***Calculated value from quantum defect of  87 Sr 6s50s3S1: {} THz'.format(((Sr87Energy3S1(50)-diff74)/1e12)))\n",
    "print('***exp value                                87 Sr 6s50s3S1: {} THz'.format((45881.6510)/Hztocmm1/1e12))\n",
    "print('***paper theory value                       87 Sr 6s50s3S1: {} THz'.format((45881.6488)/Hztocmm1/1e12))"
   ]
  },
  {
   "cell_type": "code",
   "execution_count": null,
   "id": "f9d589bf-25f1-4f92-b2f5-e8fd89b564bb",
   "metadata": {},
   "outputs": [],
   "source": []
  },
  {
   "cell_type": "markdown",
   "id": "d4792579-df00-434b-96c8-1c523f84401e",
   "metadata": {},
   "source": [
    "# C6 scaling calculation"
   ]
  },
  {
   "cell_type": "code",
   "execution_count": 161,
   "id": "21f1911d-b183-4e5d-bf4f-7f2825a1731a",
   "metadata": {},
   "outputs": [
    {
     "data": {
      "text/plain": [
       "<matplotlib.lines.Line2D at 0x1b531813070>"
      ]
     },
     "execution_count": 161,
     "metadata": {},
     "output_type": "execute_result"
    },
    {
     "data": {
      "image/png": "[encoded data removed]",
      "text/plain": [
       "<Figure size 432x288 with 1 Axes>"
      ]
     },
     "metadata": {
      "needs_background": "light"
     },
     "output_type": "display_data"
    }
   ],
   "source": [
    "C6 = 15e9 #um^6\n",
    "def Rb(Omega, n ):\n",
    "    return (C6/Omega*2*np.pi*((n-4.439)/(50-4.439))**11)**(1/6)\n",
    "\n",
    "Omega = 2*np.pi*5e6 #1MHz\n",
    "\n",
    "plt.plot(N,Rb(Omega, N),label='when rabi {}MHz'.format(Omega/(2*np.pi)*1e-6))\n",
    "plt.xlabel('n')\n",
    "plt.ylabel('blocade radius')\n",
    "\n",
    "Omega = 2*np.pi*1e6 #1MHz\n",
    "\n",
    "plt.plot(N,Rb(Omega, N),label='when rabi {}MHz'.format(Omega/(2*np.pi)*1e-6))\n",
    "plt.xlabel('n')\n",
    "plt.ylabel('blocade radius')\n",
    "\n",
    "Omega = 2*np.pi*1e5 #1MHz\n",
    "\n",
    "plt.plot(N,Rb(Omega, N),label='when rabi {}kHz'.format(Omega/(2*np.pi)*1e-3))\n",
    "plt.xlabel('n')\n",
    "plt.ylabel('blocade radius')\n",
    "\n",
    "Omega = 2*np.pi*1e4 #1MHz\n",
    "\n",
    "plt.plot(N,Rb(Omega, N),label='when rabi {}kHz'.format(Omega/(2*np.pi)*1e-3))\n",
    "plt.xlabel('n')\n",
    "plt.ylabel('blocade radius')\n",
    "\n",
    "plt.legend()\n",
    "plt.title('scaling from Burgers 2021 (as like SM disscussion of Shuo 2022)')\n",
    "\n",
    "plt.axhline(y=5)"
   ]
  },
  {
   "cell_type": "code",
   "execution_count": null,
   "id": "40e772b4-6615-44c3-b8b9-6321a09f0a1c",
   "metadata": {},
   "outputs": [],
   "source": []
  }
 ],
 "metadata": {
  "kernelspec": {
   "display_name": "Python 3 (ipykernel)",
   "language": "python",
   "name": "python3"
  },
  "language_info": {
   "codemirror_mode": {
    "name": "ipython",
    "version": 3
   },
   "file_extension": ".py",
   "mimetype": "text/x-python",
   "name": "python",
   "nbconvert_exporter": "python",
   "pygments_lexer": "ipython3",
   "version": "3.9.12"
  }
 },
 "nbformat": 4,
 "nbformat_minor": 5
}
