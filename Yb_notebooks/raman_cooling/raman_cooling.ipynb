{
 "cells": [
  {
   "cell_type": "code",
   "execution_count": 6,
   "metadata": {},
   "outputs": [],
   "source": [
    "import numpy as np\n",
    "import matplotlib.pyplot as plt\n",
    "import scipy.constants as sc\n",
    "import sympy.physics.wigner as wigner"
   ]
  },
  {
   "cell_type": "markdown",
   "metadata": {},
   "source": [
    "$\\newcommand{\\bra}[1]{\\left|{#1}\\right\\rangle}$\n",
    "$\\newcommand{\\ket}[1]{\\left\\langle{#1}\\right|}$\n",
    "$\\newcommand{\\braket}[2]{\\left\\langle{#1}|{#2}\\right\\rangle}$\n",
    "$\\newcommand{\\ws}[6]{\\begin{Bmatrix}#1 & #2 & #3 \\\\ #4 & #5 & #6 \\end{Bmatrix}}$"
   ]
  },
  {
   "cell_type": "code",
   "execution_count": 4,
   "metadata": {},
   "outputs": [
    {
     "data": {
      "text/plain": [
       "0.13885272848646896"
      ]
     },
     "execution_count": 4,
     "metadata": {},
     "output_type": "execute_result"
    }
   ],
   "source": [
    "pi = np.pi\n",
    "muB = 9.274009994e-24\n",
    "Gamma0 = 2*pi*(182.4e3)\n",
    "omega0 = 2*pi*(sc.c/(555.8e-9))\n",
    "muI = 0.4919*(5.050783699e-27)\n",
    "A0 = (1978.89+3957.78)*(1e6)\n",
    "Isat = 0.139*(1e-3)*(1e4)\n",
    "Isat3P1 = sc.hbar*(omega0**3)*Gamma0/(12*pi*(sc.c**2))\n",
    "colorsrc = plt.rcParams[\"axes.prop_cycle\"].by_key()[\"color\"]\n",
    "Isat3P1*(1e-1)"
   ]
  },
  {
   "cell_type": "markdown",
   "metadata": {},
   "source": [
    "And the Raman Rabi freqeuncy is, assuming the same intensity of both beams $I_0$, with polarizations $q1$ and $q2$, and transition from $m_{F1}$ to $m_{F2}$ in the ground state,\n",
    "\n",
    "$$\n",
    "\\Omega_R (m_{F1},m_{F2},I_0,B) =  \\frac{I_0}{\\epsilon_0 c \\hbar^2} \\sum_{F',mF'} \\frac{\\bra{F=1/2, m_{F2}} d_{q2} \\ket{F',m_F'} \\bra{F', m_F'} d_{q1} \\ket{F=1/2, m_{F1}}}{\\Delta_{F',m_F'}(B)}\n",
    "$$"
   ]
  },
  {
   "cell_type": "code",
   "execution_count": 7,
   "metadata": {},
   "outputs": [],
   "source": [
    "# function for computing hyperfine matrix elements for Raman out of ground state 171Yb through 3P1\n",
    "def hypefine_matrix_elem(mF, Fp, mFp, q, omega, Gamma):\n",
    "    angular_part = -3*np.sqrt(2) * ( wigner.clebsch_gordan(1/2,1,Fp,mF,q,mFp) \n",
    "                                          * wigner.wigner_6j(1,0,1,1/2,Fp,1/2) )\n",
    "    reduced_matrix_elem = np.sqrt( Gamma*3*np.pi*sc.epsilon_0*sc.hbar*(sc.c**3)/(omega**3) )\n",
    "    return float(angular_part * reduced_matrix_elem)\n",
    "\n",
    "hypefine_matrix_elem_v = np.vectorize(hypefine_matrix_elem)\n",
    "\n",
    "def gF(F):\n",
    "    return (1/2) + (15/(16*F*(F+1)))\n",
    "\n",
    "def deltaHF(delta0, Fp, mFp, B, A):\n",
    "    return 2*np.pi*delta0 - 2*np.pi*(Fp-0.5)*A - gF(Fp)*muB*B*mFp/sc.hbar\n",
    "\n",
    "def raman_rabi(mF1, mF2, I0, q1, q2, B, delta0, omega=omega0, Gamma=Gamma0, A=A0):\n",
    "    Ep = I0/(sc.epsilon_0*sc.c*(sc.hbar**2))\n",
    "    FmFs = np.array([[1/2,-1/2],[1/2,1/2],[3/2,-3/2],[3/2,-1/2],[3/2,1/2],[3/2,3/2]])\n",
    "    hmes = 0\n",
    "    for FmF in FmFs:\n",
    "        hmes = hmes + (hypefine_matrix_elem_v(mF2, FmF[0], FmF[1], q2, omega, Gamma)\n",
    "                      * hypefine_matrix_elem(mF1, FmF[0], FmF[1], q1, omega, Gamma)\n",
    "                    / deltaHF(delta0, FmF[0], FmF[1], B, A))\n",
    "    return np.abs(Ep*hmes)/(2*pi)\n",
    "\n",
    "#approximate scattering rate assuming large detuning, no cross coupling/coherences\n",
    "def Rsc(mF1, mF2, I0, q1, q2, B, delta0, omega=omega0, Gamma=Gamma0, A=A0):\n",
    "    Ep = np.sqrt(I0/(sc.epsilon_0*sc.c))\n",
    "    FmFs = np.array([[1/2,-1/2],[1/2,1/2],[3/2,-3/2],[3/2,-1/2],[3/2,1/2],[3/2,3/2]])\n",
    "    hmes1 = 0\n",
    "    hmes2 = 0\n",
    "    for FmF in FmFs:\n",
    "        hmes1 = hmes1 + hypefine_matrix_elem_v(mF1, FmF[0], FmF[1], q1, omega, Gamma)/deltaHF(delta0, FmF[0], FmF[1], B, A)\n",
    "        hmes2 = hmes2 + hypefine_matrix_elem_v(mF2, FmF[0], FmF[1], q2, omega, Gamma)/deltaHF(delta0, FmF[0], FmF[1], B, A)\n",
    "    return (Ep**2)*Gamma*(hmes1**2 + hmes2**2)/(8*(sc.hbar**2))"
   ]
  },
  {
   "cell_type": "code",
   "execution_count": null,
   "metadata": {},
   "outputs": [],
   "source": []
  }
 ],
 "metadata": {
  "kernelspec": {
   "display_name": "Python 3",
   "language": "python",
   "name": "python3"
  },
  "language_info": {
   "codemirror_mode": {
    "name": "ipython",
    "version": 3
   },
   "file_extension": ".py",
   "mimetype": "text/x-python",
   "name": "python",
   "nbconvert_exporter": "python",
   "pygments_lexer": "ipython3",
   "version": "3.7.4"
  }
 },
 "nbformat": 4,
 "nbformat_minor": 4
}
