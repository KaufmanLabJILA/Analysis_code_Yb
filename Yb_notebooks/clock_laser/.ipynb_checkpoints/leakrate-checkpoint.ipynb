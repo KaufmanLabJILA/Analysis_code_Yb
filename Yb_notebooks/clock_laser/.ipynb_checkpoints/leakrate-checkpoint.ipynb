{
 "cells": [
  {
   "cell_type": "code",
   "execution_count": 1,
   "metadata": {},
   "outputs": [],
   "source": [
    "import numpy as np\n",
    "import matplotlib.pyplot as plt\n",
    "import datetime as dt"
   ]
  },
  {
   "cell_type": "code",
   "execution_count": 2,
   "metadata": {},
   "outputs": [],
   "source": [
    "times = [dt.datetime(2020,10,19,18,50),\n",
    "        dt.datetime(2020,10,20,11,30),\n",
    "        dt.datetime(2020,10,20,14,45),\n",
    "        dt.datetime(2020,10,20,19,20),\n",
    "        dt.datetime(2020,10,21,11,5),\n",
    "        dt.datetime(2020,10,21,13,37),\n",
    "        dt.datetime(2020,10,22,10,25),\n",
    "        dt.datetime(2020,10,22,18,39),\n",
    "        dt.datetime(2020,10,25,14,7)]"
   ]
  },
  {
   "cell_type": "code",
   "execution_count": 3,
   "metadata": {},
   "outputs": [],
   "source": [
    "pressures = [0.987,1.56,1.60,1.65,1.80,1.81,1.92, 1.96, 2.38]"
   ]
  },
  {
   "cell_type": "code",
   "execution_count": 4,
   "metadata": {},
   "outputs": [],
   "source": [
    "timesHrs = []\n",
    "for time in times:\n",
    "    timesHrs.append((time.timestamp()-times[0].timestamp())/3600)\n",
    "timesHrs = np.array(timesHrs)"
   ]
  },
  {
   "cell_type": "code",
   "execution_count": 5,
   "metadata": {},
   "outputs": [
    {
     "data": {
      "text/plain": [
       "Text(0.5, 0, 'time (days)')"
      ]
     },
     "execution_count": 5,
     "metadata": {},
     "output_type": "execute_result"
    },
    {
     "data": {
      "image/png": "[encoded data removed]",
      "text/plain": [
       "<Figure size 432x288 with 1 Axes>"
      ]
     },
     "metadata": {
      "needs_background": "light"
     },
     "output_type": "display_data"
    }
   ],
   "source": [
    "plt.plot(timesHrs/24, pressures)\n",
    "plt.plot(timesHrs/24, pressures, 'k.')\n",
    "plt.ylabel('pressure')\n",
    "plt.xlabel('time (days)')"
   ]
  },
  {
   "cell_type": "code",
   "execution_count": null,
   "metadata": {},
   "outputs": [],
   "source": []
  }
 ],
 "metadata": {
  "kernelspec": {
   "display_name": "Python 3",
   "language": "python",
   "name": "python3"
  },
  "language_info": {
   "codemirror_mode": {
    "name": "ipython",
    "version": 3
   },
   "file_extension": ".py",
   "mimetype": "text/x-python",
   "name": "python",
   "nbconvert_exporter": "python",
   "pygments_lexer": "ipython3",
   "version": "3.6.9"
  }
 },
 "nbformat": 4,
 "nbformat_minor": 4
}
