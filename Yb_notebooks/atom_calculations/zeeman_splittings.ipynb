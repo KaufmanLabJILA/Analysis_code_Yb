{
 "cells": [
  {
   "cell_type": "code",
   "execution_count": 44,
   "metadata": {},
   "outputs": [],
   "source": [
    "import numpy as np\n",
    "import scipy.constants as sc\n",
    "import matplotlib.pyplot as plt\n",
    "pi = np.pi"
   ]
  },
  {
   "cell_type": "code",
   "execution_count": 16,
   "metadata": {},
   "outputs": [],
   "source": [
    "muB = sc.physical_constants['Bohr magneton'][0]\n",
    "muN = sc.physical_constants['nuclear magneton'][0]"
   ]
  },
  {
   "cell_type": "code",
   "execution_count": 54,
   "metadata": {},
   "outputs": [],
   "source": [
    "alphag = -37.9\n",
    "\n",
    "def alphae(F, mF, theta):\n",
    "    if (F==1/2):\n",
    "        alpha = -22.4\n",
    "    else:\n",
    "        alpha = -22.4 + 7.6*(1/2)*(3*(np.cos(theta)**2)-1)*((3*(mF**2)-F*(F+1))/(F*(2*F-1)))\n",
    "    return (1e-4)*alpha/4"
   ]
  },
  {
   "cell_type": "code",
   "execution_count": 61,
   "metadata": {},
   "outputs": [],
   "source": [
    "gl = 1\n",
    "gs = 2\n",
    "\n",
    "def gj(s,l,j):\n",
    "    return ( gl * (j*(j+1) - s*(s+1) + l*(l+1)) / (2*j*(j+1)) ) + ( gs * (j*(j+1) + s*(s+1) - l*(l+1)) / (2*j*(j+1)) )\n",
    "\n",
    "def gf(i,s,l,j,f):\n",
    "    return gj(s,l,j) * (f*(f+1) - i*(i+1) + j*(j+1)) / (2*f*(f+1))"
   ]
  },
  {
   "cell_type": "code",
   "execution_count": 62,
   "metadata": {},
   "outputs": [],
   "source": [
    "def tweezer_depth_e(f,mf,P0,w0):\n",
    "    I0 = 2*P0/(pi*(w0**2))\n",
    "    alpha = alphae(f,mf,0)\n",
    "    return alpha*I0\n",
    "\n",
    "def tweezer_depth_g(P0,w0):\n",
    "    I0 = 2*P0/(pi*(w0**2))\n",
    "    return (1e-4)*alphag*I0/4"
   ]
  },
  {
   "cell_type": "code",
   "execution_count": 63,
   "metadata": {},
   "outputs": [
    {
     "data": {
      "text/plain": [
       "-17103891.332276464"
      ]
     },
     "execution_count": 63,
     "metadata": {},
     "output_type": "execute_result"
    }
   ],
   "source": [
    "tweezer_depth_g(6e-3,460e-9)"
   ]
  },
  {
   "cell_type": "code",
   "execution_count": 102,
   "metadata": {},
   "outputs": [
    {
     "data": {
      "text/plain": [
       "10424799.202522065"
      ]
     },
     "execution_count": 102,
     "metadata": {},
     "output_type": "execute_result"
    }
   ],
   "source": [
    "tweezer_depth_e(3/2,3/2,6e-3,460e-9) - tweezer_depth_g(6e-3,460e-9)"
   ]
  },
  {
   "cell_type": "code",
   "execution_count": 101,
   "metadata": {},
   "outputs": [
    {
     "data": {
      "text/plain": [
       "3565191.069260793"
      ]
     },
     "execution_count": 101,
     "metadata": {},
     "output_type": "execute_result"
    }
   ],
   "source": [
    "tweezer_depth_e(3/2,1/2,6e-3,460e-9) - tweezer_depth_g(6e-3,460e-9)"
   ]
  },
  {
   "cell_type": "code",
   "execution_count": 65,
   "metadata": {},
   "outputs": [],
   "source": [
    "# for 171 3P1\n",
    "def freq_shift(f,mf,B,P0,w0):\n",
    "    dfB = gf(1/2,1,1,1,f)*muB*mf*B/(2*pi*sc.hbar)\n",
    "    dfT = tweezer_depth_e(f,mf,P0,w0) - tweezer_depth_g(P0,w0)\n",
    "    return dfB + dfT"
   ]
  },
  {
   "cell_type": "code",
   "execution_count": 69,
   "metadata": {},
   "outputs": [
    {
     "data": {
      "text/plain": [
       "<matplotlib.legend.Legend at 0x222cde8deb0>"
      ]
     },
     "execution_count": 69,
     "metadata": {},
     "output_type": "execute_result"
    },
    {
     "data": {
      "image/png": "[encoded data removed]",
      "text/plain": [
       "<Figure size 432x288 with 1 Axes>"
      ]
     },
     "metadata": {
      "needs_background": "light"
     },
     "output_type": "display_data"
    }
   ],
   "source": [
    "Bs = np.linspace(0, 20e-4, 100)\n",
    "plt.plot(Bs*1e4, freq_shift(3/2,3/2,Bs,6e-3,460e-9)/(1e6), label='mF = 3/2')\n",
    "plt.plot(Bs*1e4, freq_shift(3/2,1/2,Bs,6e-3,460e-9)/(1e6), label='mF = 1/2')\n",
    "plt.plot(Bs*1e4, freq_shift(3/2,-1/2,Bs,6e-3,460e-9)/(1e6), label='mF = -1/2')\n",
    "plt.plot(Bs*1e4, freq_shift(3/2,-3/2,Bs,6e-3,460e-9)/(1e6), label='mF = -3/2')\n",
    "plt.xlabel('B || tweezer pol (G)')\n",
    "plt.ylabel('diff freq shift (MHz)')\n",
    "plt.legend()"
   ]
  },
  {
   "cell_type": "code",
   "execution_count": 83,
   "metadata": {},
   "outputs": [
    {
     "data": {
      "text/plain": [
       "40.8"
      ]
     },
     "execution_count": 83,
     "metadata": {},
     "output_type": "execute_result"
    }
   ],
   "source": [
    "124.6-83.8"
   ]
  },
  {
   "cell_type": "code",
   "execution_count": 89,
   "metadata": {},
   "outputs": [
    {
     "data": {
      "text/plain": [
       "40866631.9384802"
      ]
     },
     "execution_count": 89,
     "metadata": {},
     "output_type": "execute_result"
    }
   ],
   "source": [
    "freq_shift(3/2,3/2,14.5e-4,6e-3,460e-9)"
   ]
  },
  {
   "cell_type": "code",
   "execution_count": 90,
   "metadata": {},
   "outputs": [
    {
     "data": {
      "text/plain": [
       "13712468.647913504"
      ]
     },
     "execution_count": 90,
     "metadata": {},
     "output_type": "execute_result"
    }
   ],
   "source": [
    "freq_shift(3/2,1/2,14.5e-4,6e-3,460e-9)"
   ]
  },
  {
   "cell_type": "code",
   "execution_count": 91,
   "metadata": {},
   "outputs": [
    {
     "data": {
      "text/plain": [
       "97.50999999999999"
      ]
     },
     "execution_count": 91,
     "metadata": {},
     "output_type": "execute_result"
    }
   ],
   "source": [
    "83.8+13.71"
   ]
  },
  {
   "cell_type": "code",
   "execution_count": 92,
   "metadata": {},
   "outputs": [
    {
     "data": {
      "text/plain": [
       "-6582086.509391919"
      ]
     },
     "execution_count": 92,
     "metadata": {},
     "output_type": "execute_result"
    }
   ],
   "source": [
    "freq_shift(3/2,-1/2,14.5e-4,6e-3,460e-9)"
   ]
  },
  {
   "cell_type": "code",
   "execution_count": 105,
   "metadata": {},
   "outputs": [
    {
     "data": {
      "text/plain": [
       "117.05495979119142"
      ]
     },
     "execution_count": 105,
     "metadata": {},
     "output_type": "execute_result"
    }
   ],
   "source": [
    "freq_shift(3/2,3/2,14.5e-4,(0.9/3.3)*6e-3,460e-9)*(1e-6) + 83.77"
   ]
  },
  {
   "cell_type": "code",
   "execution_count": 106,
   "metadata": {},
   "outputs": [
    {
     "data": {
      "text/plain": [
       "94.88960241572383"
      ]
     },
     "execution_count": 106,
     "metadata": {},
     "output_type": "execute_result"
    }
   ],
   "source": [
    "freq_shift(3/2,1/2,14.5e-4,(0.9/3.3)*6e-3,460e-9)*(1e-6) + 83.77"
   ]
  },
  {
   "cell_type": "code",
   "execution_count": 110,
   "metadata": {},
   "outputs": [
    {
     "data": {
      "text/plain": [
       "11052.760182209962"
      ]
     },
     "execution_count": 110,
     "metadata": {},
     "output_type": "execute_result"
    }
   ],
   "source": [
    "muN*(14.5e-4)/(2*pi*sc.hbar)"
   ]
  },
  {
   "cell_type": "code",
   "execution_count": null,
   "metadata": {},
   "outputs": [],
   "source": [
    "1000"
   ]
  }
 ],
 "metadata": {
  "kernelspec": {
   "display_name": "Python 3",
   "language": "python",
   "name": "python3"
  },
  "language_info": {
   "codemirror_mode": {
    "name": "ipython",
    "version": 3
   },
   "file_extension": ".py",
   "mimetype": "text/x-python",
   "name": "python",
   "nbconvert_exporter": "python",
   "pygments_lexer": "ipython3",
   "version": "3.8.5"
  }
 },
 "nbformat": 4,
 "nbformat_minor": 4
}
