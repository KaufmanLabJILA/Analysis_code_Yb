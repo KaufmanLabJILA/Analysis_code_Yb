{
 "cells": [
  {
   "cell_type": "code",
   "execution_count": 1,
   "metadata": {},
   "outputs": [],
   "source": [
    "import numpy as np\n",
    "import scipy.constants as sc\n",
    "import matplotlib.pyplot as plt\n",
    "pi = np.pi"
   ]
  },
  {
   "cell_type": "code",
   "execution_count": 2,
   "metadata": {},
   "outputs": [],
   "source": [
    "muB = sc.physical_constants['Bohr magneton'][0]\n",
    "muN = sc.physical_constants['nuclear magneton'][0]"
   ]
  },
  {
   "cell_type": "code",
   "execution_count": 3,
   "metadata": {},
   "outputs": [
    {
     "data": {
      "text/plain": [
       "9.2740100783e-24"
      ]
     },
     "execution_count": 3,
     "metadata": {},
     "output_type": "execute_result"
    }
   ],
   "source": [
    "muB"
   ]
  },
  {
   "cell_type": "code",
   "execution_count": 4,
   "metadata": {},
   "outputs": [
    {
     "data": {
      "text/plain": [
       "1344.6254456150605"
      ]
     },
     "execution_count": 4,
     "metadata": {},
     "output_type": "execute_result"
    }
   ],
   "source": [
    "2*muN*0.49*(1.8e-4)/sc.h"
   ]
  },
  {
   "cell_type": "code",
   "execution_count": 5,
   "metadata": {},
   "outputs": [],
   "source": [
    "fieldCal = 6.1"
   ]
  },
  {
   "cell_type": "code",
   "execution_count": 6,
   "metadata": {},
   "outputs": [],
   "source": [
    "alphag = -37.9\n",
    "\n",
    "def alphae(F, mF, theta):\n",
    "    if (F==1/2):\n",
    "        alpha = -22.4\n",
    "    else:\n",
    "        alpha = -22.4 + 7.6*(1/2)*(3*(np.cos(theta)**2)-1)*((3*(mF**2)-F*(F+1))/(F*(2*F-1)))\n",
    "    return (1e-4)*alpha/4"
   ]
  },
  {
   "cell_type": "code",
   "execution_count": 7,
   "metadata": {},
   "outputs": [],
   "source": [
    "gl = 1\n",
    "gs = 2\n",
    "\n",
    "def gj(s,l,j):\n",
    "    return ( gl * (j*(j+1) - s*(s+1) + l*(l+1)) / (2*j*(j+1)) ) + ( gs * (j*(j+1) + s*(s+1) - l*(l+1)) / (2*j*(j+1)) )\n",
    "\n",
    "def gf(i,s,l,j,f):\n",
    "    return gj(s,l,j) * (f*(f+1) - i*(i+1) + j*(j+1)) / (2*f*(f+1))"
   ]
  },
  {
   "cell_type": "code",
   "execution_count": 8,
   "metadata": {},
   "outputs": [],
   "source": [
    "def tweezer_depth_e(f,mf,P0,w0):\n",
    "    I0 = 2*P0/(pi*(w0**2))\n",
    "    alpha = alphae(f,mf,0)\n",
    "    return alpha*I0\n",
    "\n",
    "def tweezer_depth_g(P0,w0):\n",
    "    I0 = 2*P0/(pi*(w0**2))\n",
    "    return (1e-4)*alphag*I0/4"
   ]
  },
  {
   "cell_type": "code",
   "execution_count": 9,
   "metadata": {},
   "outputs": [
    {
     "data": {
      "text/plain": [
       "-17103891.332276464"
      ]
     },
     "execution_count": 9,
     "metadata": {},
     "output_type": "execute_result"
    }
   ],
   "source": [
    "tweezer_depth_g(6e-3,460e-9)"
   ]
  },
  {
   "cell_type": "code",
   "execution_count": 10,
   "metadata": {},
   "outputs": [
    {
     "data": {
      "text/plain": [
       "10424799.202522065"
      ]
     },
     "execution_count": 10,
     "metadata": {},
     "output_type": "execute_result"
    }
   ],
   "source": [
    "tweezer_depth_e(3/2,3/2,6e-3,460e-9) - tweezer_depth_g(6e-3,460e-9)"
   ]
  },
  {
   "cell_type": "code",
   "execution_count": 11,
   "metadata": {},
   "outputs": [
    {
     "data": {
      "text/plain": [
       "3565191.069260793"
      ]
     },
     "execution_count": 11,
     "metadata": {},
     "output_type": "execute_result"
    }
   ],
   "source": [
    "tweezer_depth_e(3/2,1/2,6e-3,460e-9) - tweezer_depth_g(6e-3,460e-9)"
   ]
  },
  {
   "cell_type": "code",
   "execution_count": 12,
   "metadata": {},
   "outputs": [],
   "source": [
    "# for 171 3P1\n",
    "def freq_shift(f,mf,B,P0,w0):\n",
    "    dfB = gf(1/2,1,1,1,f)*muB*mf*B/(2*pi*sc.hbar)\n",
    "    dfT = tweezer_depth_e(f,mf,P0,w0) - tweezer_depth_g(P0,w0)\n",
    "    return dfB + dfT"
   ]
  },
  {
   "cell_type": "code",
   "execution_count": 16,
   "metadata": {},
   "outputs": [
    {
     "data": {
      "text/plain": [
       "<matplotlib.legend.Legend at 0x2aa9e6377c0>"
      ]
     },
     "execution_count": 16,
     "metadata": {},
     "output_type": "execute_result"
    },
    {
     "data": {
      "image/png": "[encoded data removed]",
      "text/plain": [
       "<Figure size 432x288 with 1 Axes>"
      ]
     },
     "metadata": {
      "needs_background": "light"
     },
     "output_type": "display_data"
    }
   ],
   "source": [
    "Bs = np.linspace(7.5e-4, 16e-4, 100)\n",
    "plt.plot(Bs*1e4, freq_shift(3/2,3/2,Bs,6e-3,460e-9)/(1e6), label='mF = 3/2')\n",
    "plt.plot(Bs*1e4, freq_shift(3/2,1/2,Bs,6e-3,460e-9)/(1e6), label='mF = 1/2')\n",
    "plt.plot(Bs*1e4, freq_shift(3/2,-1/2,Bs,6e-3,460e-9)/(1e6), label='mF = -1/2')\n",
    "plt.plot(Bs*1e4, freq_shift(3/2,-3/2,Bs,6e-3,460e-9)/(1e6), label='mF = -3/2')\n",
    "plt.xlabel('B || tweezer pol (G)')\n",
    "plt.ylabel('diff freq shift (MHz)')\n",
    "plt.legend()"
   ]
  },
  {
   "cell_type": "code",
   "execution_count": 14,
   "metadata": {},
   "outputs": [
    {
     "data": {
      "text/plain": [
       "12.2"
      ]
     },
     "execution_count": 14,
     "metadata": {},
     "output_type": "execute_result"
    }
   ],
   "source": [
    "fieldCal*2"
   ]
  },
  {
   "cell_type": "code",
   "execution_count": 14,
   "metadata": {},
   "outputs": [
    {
     "data": {
      "text/plain": [
       "3.5009851703233976"
      ]
     },
     "execution_count": 14,
     "metadata": {},
     "output_type": "execute_result"
    }
   ],
   "source": [
    "freq_shift(3/2,3/2,fieldCal*0.3*(1e-4),(0.8/5.84)*6e-3,460e-9)/(1e6)-freq_shift(3/2,1/2,fieldCal*0.3*(1e-4),(0.8/5.84)*6e-3,460e-9)/(1e6)"
   ]
  },
  {
   "cell_type": "code",
   "execution_count": 15,
   "metadata": {},
   "outputs": [
    {
     "data": {
      "text/plain": [
       "2.561312823301305"
      ]
     },
     "execution_count": 15,
     "metadata": {},
     "output_type": "execute_result"
    }
   ],
   "source": [
    "freq_shift(3/2,1/2,fieldCal*0.3*(1e-4),(0.8/5.84)*6e-3,460e-9)/(1e6)-freq_shift(3/2,-1/2,fieldCal*0.3*(1e-4),(0.8/5.84)*6e-3,460e-9)/(1e6)"
   ]
  },
  {
   "cell_type": "code",
   "execution_count": 16,
   "metadata": {},
   "outputs": [
    {
     "data": {
      "text/plain": [
       "1.6216404762792118"
      ]
     },
     "execution_count": 16,
     "metadata": {},
     "output_type": "execute_result"
    }
   ],
   "source": [
    "freq_shift(3/2,-1/2,fieldCal*0.3*(1e-4),(0.8/5.84)*6e-3,460e-9)/(1e6)-freq_shift(3/2,-3/2,fieldCal*0.3*(1e-4),(0.8/5.84)*6e-3,460e-9)/(1e6)"
   ]
  },
  {
   "cell_type": "code",
   "execution_count": 17,
   "metadata": {},
   "outputs": [
    {
     "data": {
      "text/plain": [
       "-2.4139145496749608"
      ]
     },
     "execution_count": 17,
     "metadata": {},
     "output_type": "execute_result"
    }
   ],
   "source": [
    "freq_shift(3/2,-3/2,fieldCal*0.3*(1e-4),(0.8/5.84)*6e-3,460e-9)/(1e6)"
   ]
  },
  {
   "cell_type": "code",
   "execution_count": 18,
   "metadata": {},
   "outputs": [
    {
     "data": {
      "text/plain": [
       "5.270023920228954"
      ]
     },
     "execution_count": 18,
     "metadata": {},
     "output_type": "execute_result"
    }
   ],
   "source": [
    "freq_shift(3/2,3/2,fieldCal*0.3*(1e-4),(0.8/5.84)*6e-3,460e-9)/(1e6)"
   ]
  },
  {
   "cell_type": "code",
   "execution_count": 19,
   "metadata": {},
   "outputs": [
    {
     "data": {
      "text/plain": [
       "1.769038749905556"
      ]
     },
     "execution_count": 19,
     "metadata": {},
     "output_type": "execute_result"
    }
   ],
   "source": [
    "freq_shift(3/2,1/2,fieldCal*0.3*(1e-4),(0.8/5.84)*6e-3,460e-9)/(1e6)"
   ]
  },
  {
   "cell_type": "code",
   "execution_count": 20,
   "metadata": {},
   "outputs": [
    {
     "data": {
      "text/plain": [
       "-0.7922740733957491"
      ]
     },
     "execution_count": 20,
     "metadata": {},
     "output_type": "execute_result"
    }
   ],
   "source": [
    "freq_shift(3/2,-1/2,fieldCal*0.3*(1e-4),(0.8/5.84)*6e-3,460e-9)/(1e6)"
   ]
  },
  {
   "cell_type": "code",
   "execution_count": 21,
   "metadata": {},
   "outputs": [
    {
     "data": {
      "text/plain": [
       "-2.4139145496749608"
      ]
     },
     "execution_count": 21,
     "metadata": {},
     "output_type": "execute_result"
    }
   ],
   "source": [
    "freq_shift(3/2,-3/2,fieldCal*0.3*(1e-4),(0.8/5.84)*6e-3,460e-9)/(1e6)"
   ]
  },
  {
   "cell_type": "code",
   "execution_count": 15,
   "metadata": {},
   "outputs": [
    {
     "data": {
      "text/plain": [
       "96.27357053221132"
      ]
     },
     "execution_count": 15,
     "metadata": {},
     "output_type": "execute_result"
    }
   ],
   "source": [
    "83.77 + freq_shift(3/2,1/2,(2.5/3.5)*21.35e-4,(3/5.84)*6e-3,460e-9)/(1e6)"
   ]
  },
  {
   "cell_type": "code",
   "execution_count": 40,
   "metadata": {},
   "outputs": [
    {
     "data": {
      "text/plain": [
       "1.0451700203044672"
      ]
     },
     "execution_count": 40,
     "metadata": {},
     "output_type": "execute_result"
    }
   ],
   "source": [
    "freq_shift(3/2,1/2,0,(0.9/3.07)*6e-3,460e-9)/(1e6)"
   ]
  },
  {
   "cell_type": "code",
   "execution_count": 47,
   "metadata": {},
   "outputs": [
    {
     "data": {
      "text/plain": [
       "-5014170.097410039"
      ]
     },
     "execution_count": 47,
     "metadata": {},
     "output_type": "execute_result"
    }
   ],
   "source": [
    "tweezer_depth_g((0.9/3.07)*6e-3,460e-9)"
   ]
  },
  {
   "cell_type": "code",
   "execution_count": 33,
   "metadata": {},
   "outputs": [
    {
     "data": {
      "text/plain": [
       "4.98371335504886"
      ]
     },
     "execution_count": 33,
     "metadata": {},
     "output_type": "execute_result"
    }
   ],
   "source": [
    "17*0.9/3.07"
   ]
  },
  {
   "cell_type": "code",
   "execution_count": 127,
   "metadata": {},
   "outputs": [
    {
     "data": {
      "text/plain": [
       "3.5651910692607927"
      ]
     },
     "execution_count": 127,
     "metadata": {},
     "output_type": "execute_result"
    }
   ],
   "source": [
    "freq_shift(3/2,1/2,0,6e-3,460e-9)/(1e6)"
   ]
  },
  {
   "cell_type": "code",
   "execution_count": 89,
   "metadata": {},
   "outputs": [
    {
     "data": {
      "text/plain": [
       "40866631.9384802"
      ]
     },
     "execution_count": 89,
     "metadata": {},
     "output_type": "execute_result"
    }
   ],
   "source": [
    "freq_shift(3/2,3/2,14.5e-4,6e-3,460e-9)"
   ]
  },
  {
   "cell_type": "code",
   "execution_count": 90,
   "metadata": {},
   "outputs": [
    {
     "data": {
      "text/plain": [
       "13712468.647913504"
      ]
     },
     "execution_count": 90,
     "metadata": {},
     "output_type": "execute_result"
    }
   ],
   "source": [
    "freq_shift(3/2,1/2,14.5e-4,6e-3,460e-9)"
   ]
  },
  {
   "cell_type": "code",
   "execution_count": 91,
   "metadata": {},
   "outputs": [
    {
     "data": {
      "text/plain": [
       "97.50999999999999"
      ]
     },
     "execution_count": 91,
     "metadata": {},
     "output_type": "execute_result"
    }
   ],
   "source": [
    "83.8+13.71"
   ]
  },
  {
   "cell_type": "code",
   "execution_count": 92,
   "metadata": {},
   "outputs": [
    {
     "data": {
      "text/plain": [
       "-6582086.509391919"
      ]
     },
     "execution_count": 92,
     "metadata": {},
     "output_type": "execute_result"
    }
   ],
   "source": [
    "freq_shift(3/2,-1/2,14.5e-4,6e-3,460e-9)"
   ]
  },
  {
   "cell_type": "code",
   "execution_count": 22,
   "metadata": {},
   "outputs": [
    {
     "data": {
      "text/plain": [
       "-5816.842890498356"
      ]
     },
     "execution_count": 22,
     "metadata": {},
     "output_type": "execute_result"
    }
   ],
   "source": [
    "freq_shift(1/2,1/2,21e-4,6e-3,460e-9)*(1e-6) + 83.77 - 5937"
   ]
  },
  {
   "cell_type": "code",
   "execution_count": null,
   "metadata": {},
   "outputs": [],
   "source": []
  },
  {
   "cell_type": "code",
   "execution_count": 106,
   "metadata": {},
   "outputs": [
    {
     "data": {
      "text/plain": [
       "94.88960241572383"
      ]
     },
     "execution_count": 106,
     "metadata": {},
     "output_type": "execute_result"
    }
   ],
   "source": [
    "freq_shift(3/2,1/2,14.5e-4,(0.9/3.3)*6e-3,460e-9)*(1e-6) + 83.77"
   ]
  },
  {
   "cell_type": "code",
   "execution_count": 111,
   "metadata": {},
   "outputs": [
    {
     "data": {
      "text/plain": [
       "1.5245186458220639"
      ]
     },
     "execution_count": 111,
     "metadata": {},
     "output_type": "execute_result"
    }
   ],
   "source": [
    "muN*(200e-9)/(2*pi*sc.hbar)"
   ]
  },
  {
   "cell_type": "code",
   "execution_count": 42,
   "metadata": {},
   "outputs": [
    {
     "data": {
      "text/plain": [
       "-3969000.077105572"
      ]
     },
     "execution_count": 42,
     "metadata": {},
     "output_type": "execute_result"
    }
   ],
   "source": [
    "tweezer_depth_e(3/2,1/2,(0.9/3.07)*6e-3,460e-9)"
   ]
  },
  {
   "cell_type": "code",
   "execution_count": 44,
   "metadata": {},
   "outputs": [
    {
     "data": {
      "text/plain": [
       "16.0"
      ]
     },
     "execution_count": 44,
     "metadata": {},
     "output_type": "execute_result"
    }
   ],
   "source": [
    "64*np.sqrt(0.25/4)"
   ]
  },
  {
   "cell_type": "code",
   "execution_count": 120,
   "metadata": {},
   "outputs": [
    {
     "data": {
      "text/plain": [
       "2.8431270552332912"
      ]
     },
     "execution_count": 120,
     "metadata": {},
     "output_type": "execute_result"
    }
   ],
   "source": [
    "freq_shift(3/2,3/2,0,(0.9/3.3)*6e-3,460e-9)*(1e-6)"
   ]
  },
  {
   "cell_type": "code",
   "execution_count": 121,
   "metadata": {},
   "outputs": [
    {
     "data": {
      "text/plain": [
       "0.9723248370711254"
      ]
     },
     "execution_count": 121,
     "metadata": {},
     "output_type": "execute_result"
    }
   ],
   "source": [
    "freq_shift(3/2,1/2,0,(0.9/3.3)*6e-3,460e-9)*(1e-6)"
   ]
  },
  {
   "cell_type": "code",
   "execution_count": 122,
   "metadata": {},
   "outputs": [
    {
     "data": {
      "text/plain": [
       "<matplotlib.legend.Legend at 0x222cdf4e8b0>"
      ]
     },
     "execution_count": 122,
     "metadata": {},
     "output_type": "execute_result"
    },
    {
     "data": {
      "image/png": "[encoded data removed]",
      "text/plain": [
       "<Figure size 432x288 with 1 Axes>"
      ]
     },
     "metadata": {
      "needs_background": "light"
     },
     "output_type": "display_data"
    }
   ],
   "source": [
    "Bs = np.linspace(0, 20e-4, 100)\n",
    "plt.plot(Bs*1e4, freq_shift(3/2,3/2,Bs,(0.9/3.3)*6e-3,460e-9)/(1e6), label='mF = 3/2')\n",
    "plt.plot(Bs*1e4, freq_shift(3/2,1/2,Bs,(0.9/3.3)*6e-3,460e-9)/(1e6), label='mF = 1/2')\n",
    "plt.plot(Bs*1e4, freq_shift(3/2,-1/2,Bs,(0.9/3.3)*6e-3,460e-9)/(1e6), label='mF = -1/2')\n",
    "plt.plot(Bs*1e4, freq_shift(3/2,-3/2,Bs,(0.9/3.3)*6e-3,460e-9)/(1e6), label='mF = -3/2')\n",
    "plt.xlabel('B || tweezer pol (G)')\n",
    "plt.ylabel('diff freq shift (MHz)')\n",
    "plt.legend()"
   ]
  },
  {
   "cell_type": "code",
   "execution_count": 124,
   "metadata": {},
   "outputs": [
    {
     "data": {
      "text/plain": [
       "2.0"
      ]
     },
     "execution_count": 124,
     "metadata": {},
     "output_type": "execute_result"
    }
   ],
   "source": [
    "1/0.5"
   ]
  },
  {
   "cell_type": "code",
   "execution_count": null,
   "metadata": {},
   "outputs": [],
   "source": [
    "2/()"
   ]
  },
  {
   "cell_type": "code",
   "execution_count": 125,
   "metadata": {},
   "outputs": [
    {
     "data": {
      "text/plain": [
       "2.286777968733096"
      ]
     },
     "execution_count": 125,
     "metadata": {},
     "output_type": "execute_result"
    }
   ],
   "source": [
    "muN*(300e-9)/(2*pi*sc.hbar)"
   ]
  },
  {
   "cell_type": "code",
   "execution_count": null,
   "metadata": {},
   "outputs": [],
   "source": []
  }
 ],
 "metadata": {
  "kernelspec": {
   "display_name": "Python 3",
   "language": "python",
   "name": "python3"
  },
  "language_info": {
   "codemirror_mode": {
    "name": "ipython",
    "version": 3
   },
   "file_extension": ".py",
   "mimetype": "text/x-python",
   "name": "python",
   "nbconvert_exporter": "python",
   "pygments_lexer": "ipython3",
   "version": "3.8.5"
  }
 },
 "nbformat": 4,
 "nbformat_minor": 4
}
