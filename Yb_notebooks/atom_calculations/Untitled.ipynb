{
 "cells": [
  {
   "cell_type": "code",
   "execution_count": 4,
   "id": "8f59498e-8e0f-4309-a7db-33c1b6242749",
   "metadata": {},
   "outputs": [],
   "source": [
    "import numpy as np\n",
    "from sympy.physics.wigner import wigner_6j"
   ]
  },
  {
   "cell_type": "code",
   "execution_count": 3,
   "id": "91a75f07-411d-4a92-9aca-5db826f8b4d3",
   "metadata": {},
   "outputs": [],
   "source": [
    "J = 1\n",
    "F=3/2\n",
    "I=1/2"
   ]
  },
  {
   "cell_type": "code",
   "execution_count": 20,
   "id": "b8d567eb-5c1e-43a1-98a4-5af5008f306d",
   "metadata": {},
   "outputs": [],
   "source": [
    "mF = 1/2\n",
    "al = float((-1)**(J+I+F)*np.sqrt( 3*(J+1)*(2*J+1)*(2*J+3)/2/J/(2*J-1) ) * np.sqrt( 2*F*(2*F-1)*(2*F+1)/3/(F+1)/(2*F+1) ) * wigner_6j(F, 2, F, J, I, J)) "
   ]
  },
  {
   "cell_type": "code",
   "execution_count": 21,
   "id": "ae284416-3738-43ea-bbfd-d56eb9ada08e",
   "metadata": {},
   "outputs": [
    {
     "data": {
      "text/plain": [
       "-0.6123724356957945"
      ]
     },
     "execution_count": 21,
     "metadata": {},
     "output_type": "execute_result"
    }
   ],
   "source": [
    "al * (3*mF**2-F*(F+1)) / (2*F*(2*F-1)) "
   ]
  },
  {
   "cell_type": "code",
   "execution_count": 28,
   "id": "e637c8ed-75d8-4560-bb49-132070a2679b",
   "metadata": {},
   "outputs": [
    {
     "data": {
      "text/plain": [
       "0.5"
      ]
     },
     "execution_count": 28,
     "metadata": {},
     "output_type": "execute_result"
    }
   ],
   "source": [
    "mF = 1\n",
    "(3*mF**2-J*(J+1)) / (2*J*(2*J-1)) * (3*1-1)/2"
   ]
  },
  {
   "cell_type": "code",
   "execution_count": 29,
   "id": "326bb572-67ae-4816-943d-754867f3df78",
   "metadata": {},
   "outputs": [
    {
     "data": {
      "text/plain": [
       "-1.0"
      ]
     },
     "execution_count": 29,
     "metadata": {},
     "output_type": "execute_result"
    }
   ],
   "source": [
    "mF = 0\n",
    "(3*mF**2-J*(J+1)) / (2*J*(2*J-1)) * (3*1-1)/2"
   ]
  },
  {
   "cell_type": "code",
   "execution_count": null,
   "id": "e2aa02c3-d5d9-4967-8baa-3d8a87728f4b",
   "metadata": {},
   "outputs": [],
   "source": []
  }
 ],
 "metadata": {
  "kernelspec": {
   "display_name": "Python 3 (ipykernel)",
   "language": "python",
   "name": "python3"
  },
  "language_info": {
   "codemirror_mode": {
    "name": "ipython",
    "version": 3
   },
   "file_extension": ".py",
   "mimetype": "text/x-python",
   "name": "python",
   "nbconvert_exporter": "python",
   "pygments_lexer": "ipython3",
   "version": "3.9.16"
  }
 },
 "nbformat": 4,
 "nbformat_minor": 5
}
