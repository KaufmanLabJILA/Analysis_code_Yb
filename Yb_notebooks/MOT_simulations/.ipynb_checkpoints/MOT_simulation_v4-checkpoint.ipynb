{
 "cells": [
  {
   "cell_type": "code",
   "execution_count": 627,
   "metadata": {},
   "outputs": [],
   "source": [
    "%matplotlib qt\n",
    "import numpy as np\n",
    "import scipy.constants as sc\n",
    "import matplotlib.pyplot as plt\n",
    "from mpl_toolkits.mplot3d import Axes3D\n",
    "import motSim\n",
    "import time\n",
    "import matplotlib as mpl\n",
    "import importlib\n",
    "from matplotlib.ticker import StrMethodFormatter"
   ]
  },
  {
   "cell_type": "markdown",
   "metadata": {},
   "source": [
    "$\\newcommand{\\ket}[1]{\\left|{#1}\\right\\rangle}$\n",
    "$\\newcommand{\\bra}[1]{\\left\\langle{#1}\\right|}$"
   ]
  },
  {
   "cell_type": "code",
   "execution_count": 2,
   "metadata": {},
   "outputs": [],
   "source": [
    "muB=9.274e-24\n",
    "AMU=1.66e-27\n",
    "m171 = 171*AMU\n",
    "Is556 = (0.139e-3)*(1e4)\n",
    "Is399 = (59.97e-3)*(1e4)\n",
    "k556 = 2*np.pi/(556e-9)\n",
    "k399 = 2*np.pi/(399e-9)\n",
    "gamma556 = 2*np.pi*180e3\n",
    "gamma399 = 2*np.pi*30e6\n",
    "Td = sc.hbar*gamma556/(2*sc.k)\n",
    "vd = np.sqrt(sc.hbar*gamma556/(2*m171))"
   ]
  },
  {
   "cell_type": "markdown",
   "metadata": {},
   "source": [
    "capture velocity estimate:"
   ]
  },
  {
   "cell_type": "markdown",
   "metadata": {},
   "source": [
    "$$\n",
    "\\frac{1}{2} m v^2 = \\frac{\\hbar k \\Gamma}{2} d\n",
    "$$\n",
    "\n",
    "$$\n",
    "v_c = \\sqrt{\\frac{\\hbar k \\Gamma d}{m}}\n",
    "$$"
   ]
  },
  {
   "cell_type": "markdown",
   "metadata": {},
   "source": [
    "$$\n",
    "T_d = \\frac{\\hbar \\Gamma}{2 k_b}\n",
    "$$\n",
    "\n",
    "$$\n",
    "v_d = \\sqrt{\\frac{k_b T_d}{m}} = \\sqrt{ \\frac{\\hbar \\Gamma}{2 m} }\n",
    "$$"
   ]
  },
  {
   "cell_type": "code",
   "execution_count": 118,
   "metadata": {},
   "outputs": [],
   "source": [
    "def vcMOT(d):\n",
    "    return np.sqrt(sc.hbar*k556*gamma556*d/m171)"
   ]
  },
  {
   "cell_type": "code",
   "execution_count": 119,
   "metadata": {},
   "outputs": [
    {
     "data": {
      "text/plain": [
       "3.4453607920562197"
      ]
     },
     "execution_count": 119,
     "metadata": {},
     "output_type": "execute_result"
    }
   ],
   "source": [
    "vcMOT(0.0025)"
   ]
  },
  {
   "cell_type": "markdown",
   "metadata": {},
   "source": [
    "## quadrapole field"
   ]
  },
  {
   "cell_type": "markdown",
   "metadata": {},
   "source": [
    "$$\n",
    "B_x = G_x x \\\\\n",
    "B_y= G_y y \\\\\n",
    "B_z = G_z z\n",
    "$$\n",
    "\n",
    "$$\n",
    "G_z = -2 G_x = -2 G_y\n",
    "$$"
   ]
  },
  {
   "cell_type": "markdown",
   "metadata": {},
   "source": [
    "## useful paper for MOT forces:"
   ]
  },
  {
   "cell_type": "markdown",
   "metadata": {},
   "source": [
    "https://arxiv.org/pdf/0905.2897.pdf"
   ]
  },
  {
   "cell_type": "markdown",
   "metadata": {},
   "source": [
    "## MOT force expressions"
   ]
  },
  {
   "cell_type": "markdown",
   "metadata": {},
   "source": [
    "When the atom is displaced from the z axis, the quantization axis won't be along axis of the beam and the polarization of each beam will be a mixture of $\\sigma^-$, $\\sigma^+$, and $\\pi$. The polarization (in the $\\sigma^-$, $\\pi$, $\\sigma^+$-basis) can be rotated around y and z using the spin-1 rotation matrices,\n",
    "\n",
    "$$\n",
    "U_y(\\theta) = \\left( \\begin{array} ~\\frac{1}{2} (1+cos(\\theta)) & -\\frac{1}{\\sqrt{2}}sin(\\theta) & \\frac{1}{2}(1-cos(\\theta)) \\\\\n",
    "\\frac{1}{\\sqrt{2}}sin(\\theta) & cos(\\theta) & -\\frac{1}{\\sqrt{2}}sin(\\theta) \\\\\n",
    "\\frac{1}{2} (1-cos(\\theta)) & \\frac{1}{\\sqrt{2}}sin(\\theta) & \\frac{1}{2}(1+cos(\\theta))\n",
    "\\end{array} \\right)\n",
    "$$\n",
    "\n",
    "$$\n",
    "U_z(\\phi) = \\left( \\begin{array} ~e^{-i \\phi} & 0 & 0 \\\\\n",
    "0 & 1 & 0) \\\\\n",
    "0 & 0 & e^{i \\phi}\n",
    "\\end{array} \\right)\n",
    "$$"
   ]
  },
  {
   "cell_type": "markdown",
   "metadata": {},
   "source": [
    "In a frame rotated relative to a right-handed beam by $\\theta$, (-$\\theta$?, doesn't matter I think)\n",
    "$$\n",
    "\\frac{1}{2}(1+cos(\\theta)) \\ket{\\sigma^+} + \\frac{1}{\\sqrt{2}}sin(\\theta)\\ket{\\pi} + \\frac{1}{2}(1-cos(\\theta))\\ket{\\sigma^-}\n",
    "$$"
   ]
  },
  {
   "cell_type": "markdown",
   "metadata": {},
   "source": [
    "break each beam into its two circular polarization components relative to $\\boldsymbol{\\mu'}$, ignore $\\pi$ component. Right-handed beam (relative to propagation direction of $\\mathbf{k_i}$) gives a force:"
   ]
  },
  {
   "cell_type": "markdown",
   "metadata": {},
   "source": [
    "$$\n",
    "\\mathbf{F_{ki}}(\\mathbf{r},\\mathbf{k_i}) = \\frac{\\hbar \\mathbf{k_i} \\Gamma s_i(\\mathbf{r})}{2} \\left[ \\frac{\\left(\\frac{1}{2}(1-cos(\\theta))\\right)^2}{1+s_{tot}(\\mathbf{r})+\\left( \\frac{2 (\\delta - \\mathbf{k_i}\\cdot \\mathbf{v} + \\mu'B(\\mathbf{r})/\\hbar)}{\\Gamma} \\right)^2} + \\frac{\\frac{1}{2}(1-cos^2(\\theta))}{1+s_{tot}(\\mathbf{r})+\\left( \\frac{2 (\\delta - \\mathbf{k_i}\\cdot \\mathbf{v})}{\\Gamma} \\right)^2} \n",
    "+ \\frac{\\left(\\frac{1}{2}(1+cos(\\theta))\\right)^2}{1+s_{tot}(\\mathbf{r})+\\left( \\frac{2 (\\delta - \\mathbf{k_i}\\cdot \\mathbf{v} - \\mu'B(\\mathbf{r})/\\hbar)}{\\Gamma} \\right)^2} \\right]\n",
    "$$"
   ]
  },
  {
   "cell_type": "markdown",
   "metadata": {},
   "source": [
    "where $\\theta$ is the angle between $\\mathbf{k_1}$ and $\\boldsymbol{\\mu'}$, $s_i$ is the beam intensity divided by the saturation intensity of the transition $s_i = I_i/I_s$ at position $\\mathbf{r}$, $s_{tot}$ is the sum of all $s_i$ at $\\mathbf{r}$, $\\delta$ is the detuning in angular frequency, and $\\Gamma$ the transition width. Sign in front of Zeeman detuning is pretty confusing— left term is shift of $\\Delta m_F = -1$, middle term is shift of $\\Delta m_F = 0$, right term is shift of $\\Delta m_F = +1$ transition. When $\\theta=\\pi$, $\\mathbf{B}$ and $\\boldsymbol{\\mu'}$ point opposite $\\mathbf{k_1}$ and the right-handed beam (relative to $\\mathbf{k_1}$) looks left-handed to the atom, driving $\\Delta m_F = -1$ giving the shift $+\\mu'B/\\hbar$."
   ]
  },
  {
   "cell_type": "markdown",
   "metadata": {},
   "source": [
    "## zeeman slower eqns"
   ]
  },
  {
   "cell_type": "markdown",
   "metadata": {},
   "source": [
    "constant acceleration field profile:\n",
    "$$\n",
    "B(z) = B_0 + B_a \\sqrt{1-\\frac{z}{z_0}}\n",
    "$$"
   ]
  },
  {
   "cell_type": "markdown",
   "metadata": {},
   "source": [
    "where $B_a = \\frac{\\hbar k v_i}{\\mu'}$, $z_0 = \\frac{v_i^2}{2a}$, $a=\\frac{s_0}{1+s_0} a_{max}$, and $B_0 = \\frac{\\hbar\\delta}{\\mu'}$"
   ]
  },
  {
   "cell_type": "markdown",
   "metadata": {},
   "source": [
    "# 5 orthogonal, 2 crossed slowers"
   ]
  },
  {
   "cell_type": "code",
   "execution_count": 506,
   "metadata": {},
   "outputs": [],
   "source": [
    "w0 = 2.5e-3\n",
    "w0vert = 4e-3\n",
    "delta556 = -15*gamma556\n",
    "delta399 = -1.2*gamma399\n",
    "S556 = 600\n",
    "S556vert = 4\n",
    "S399 = 2.13\n",
    "xS = -8e-3\n",
    "Gz = -(8e-2)#z fieldGrad\n",
    "muEff = 1.5*muB\n",
    "Natoms = 500\n",
    "x0 = -260e-3\n",
    "z0 = 0\n",
    "vx0 = 30\n",
    "Tx0 = m171*(2**2)/sc.k\n",
    "Trho0 = 1e-3\n",
    "NtimeSteps = 2500\n",
    "dt = 30e-6\n",
    "v0 = np.array([np.random.normal(vx0, np.sqrt(sc.k*Tx0/m171), Natoms),\n",
    "               np.random.normal(0, np.sqrt(sc.k*Trho0/m171), Natoms),\n",
    "               np.random.normal(0, np.sqrt(sc.k*Trho0/m171), Natoms)])\n",
    "r0 = np.array([np.zeros(Natoms)+x0, np.zeros(Natoms), np.zeros(Natoms)+z0])"
   ]
  },
  {
   "cell_type": "code",
   "execution_count": 507,
   "metadata": {},
   "outputs": [],
   "source": [
    "theta_h = 55.5*np.pi/180\n",
    "theta_c = 25*np.pi/180\n",
    "theta_cvert = 0*np.pi/180\n",
    "kb1 = motSim.motBeam(k556*np.array([np.cos(theta_h), np.sin(theta_h), 0]), w0, np.zeros(3), gamma556, delta556, S556, 1)\n",
    "kb2 = motSim.motBeam(k556*np.array([-np.cos(theta_h), np.sin(theta_h), 0]), w0, np.zeros(3), gamma556, delta556, S556, 1)\n",
    "kb3 = motSim.motBeam(k556*np.array([np.cos(theta_h), -np.sin(theta_h), 0]), w0, np.zeros(3), gamma556, delta556, S556, 1)\n",
    "kb4 = motSim.motBeam(k556*np.array([-np.cos(theta_h), -np.sin(theta_h), 0]), w0, np.zeros(3), gamma556, delta556, S556, 1)\n",
    "kb5 = motSim.motBeam(k556*np.array([0, 0, 1]), w0vert, np.zeros(3), gamma556, delta556, S556vert, -1)\n",
    "kb1b = motSim.motBeam(k399*np.array([-np.sin(theta_c)*np.cos(theta_cvert), -np.cos(theta_c)*np.cos(theta_cvert), np.sin(theta_cvert)]), w0, np.array([xS,0,0]), gamma399, delta399, S399, 1)\n",
    "kb2b = motSim.motBeam(k399*np.array([-np.sin(theta_c)*np.cos(theta_cvert), np.cos(theta_c)*np.cos(theta_cvert), np.sin(theta_cvert)]), w0, np.array([xS,0,0]), gamma399, delta399, S399, 1)\n",
    "# zeemanTheta = 3.5*np.pi/180\n",
    "# zeemanX0 = 10e-3\n",
    "# zeemanWidth = 4e-3\n",
    "# kb6 = motBeam.motBeam(k399*np.array([-np.cos(zeemanTheta), 0, np.sin(zeemanTheta)]), zeemanWidth, \n",
    "#                       np.array([zeemanX0, 0, -3e-3]), gamma399, delta399, 0.05, -1)\n",
    "kis = np.array([kb1, kb2, kb3, kb4, kb5, kb1b, kb2b])"
   ]
  },
  {
   "cell_type": "code",
   "execution_count": 508,
   "metadata": {},
   "outputs": [
    {
     "name": "stdout",
     "output_type": "stream",
     "text": [
      "capture fraction = 0.022\n"
     ]
    }
   ],
   "source": [
    "rnAll, vnAll, cFrac = motSim.RK4MC(kis, m171, muEff, Gz, r0, v0, dt, NtimeSteps, Natoms)"
   ]
  },
  {
   "cell_type": "code",
   "execution_count": 504,
   "metadata": {},
   "outputs": [
    {
     "data": {
      "text/plain": [
       "[<matplotlib.lines.Line2D at 0x2896d077438>]"
      ]
     },
     "execution_count": 504,
     "metadata": {},
     "output_type": "execute_result"
    }
   ],
   "source": [
    "plt.figure(2)\n",
    "plt.cla()\n",
    "plt.plot(rnAll[250::2,0,0],vnAll[250::2,0,0])"
   ]
  },
  {
   "cell_type": "code",
   "execution_count": 505,
   "metadata": {},
   "outputs": [],
   "source": [
    "beamlen = 60\n",
    "plotSize = 60\n",
    "balpha = 0.08\n",
    "fig = plt.figure(3, figsize=[6,6])\n",
    "plt.cla()\n",
    "ax = fig.gca(projection='3d')\n",
    "ax.set_xlim([-20,20])\n",
    "ax.set_ylim([-20,20])\n",
    "ax.set_zlim([-20,20])\n",
    "motSim.plotBeams(ax, kis[:-2], plotSize/2, beamlen, beamWidth=w0*(1e3), colors=np.repeat('#9FCC3B',5), alpha=0.15)\n",
    "motSim.plotBeams(ax, kis[-2:], plotSize, 2*beamlen, beamWidth=w0*(1e3), colors=np.repeat('#1BAAD5',4), alpha=0.12)\n",
    "for i in range(Natoms):\n",
    "    ax.plot(rnAll[::10,0,i]*(1e3), rnAll[::10,1,i]*(1e3), rnAll[::10,2,i]*(1e3), color='k', alpha=0.1)\n",
    "    ax.scatter(rnAll[-1,0,i]*(1e3), rnAll[-1,1,i]*(1e3), rnAll[-1,2,i]*(1e3), c='#CC4129', s=2, alpha=0.5)\n",
    "#     ax.scatter(rnAll[-1,1,i]*(1e3), rnAll[-1,2,i]*(1e3), zs=ax.get_xlim()[0], zdir='x', c='#CC4129', s=2, alpha=0.2)\n",
    "#     ax.scatter(rnAll[-1,0,i]*(1e3), rnAll[-1,2,i]*(1e3), zs=ax.get_ylim()[1], zdir='y', c='#CC4129', s=2, alpha=0.2)\n",
    "#     ax.scatter(rnAll[-1,0,i]*(1e3), rnAll[-1,1,i]*(1e3), zs=ax.get_zlim()[0], zdir='z', c='#CC4129', s=2, alpha=0.2)\n",
    "ax.set_xlabel('x (mm)')\n",
    "ax.set_ylabel('y (mm)')\n",
    "ax.set_zlabel('z (mm)')\n",
    "ax.w_xaxis.set_pane_color((0,0,0,0.01))\n",
    "ax.w_yaxis.set_pane_color((0,0,0,0.01))\n",
    "ax.w_zaxis.set_pane_color((0,0,0,0.01))"
   ]
  },
  {
   "cell_type": "code",
   "execution_count": 202,
   "metadata": {},
   "outputs": [
    {
     "data": {
      "text/plain": [
       "<matplotlib.legend.Legend at 0x166f7ff0438>"
      ]
     },
     "execution_count": 202,
     "metadata": {},
     "output_type": "execute_result"
    }
   ],
   "source": [
    "x = np.linspace(-20e-3,20e-3,200)\n",
    "Fkb556test = motSim.FMOT(m171, muEff, Gz, np.array([x, np.zeros_like(x), np.zeros_like(x)]),np.zeros((3,len(x))),kis[:-2])\n",
    "Fkb399test = motSim.FMOT(m171, muEff, Gz, np.array([x, np.zeros_like(x), np.zeros_like(x)+(0e-3)]),np.array([np.ones_like(x)*25, np.zeros_like(x), np.zeros_like(x)]),kis[-2:])\n",
    "Fkb399testv10 = motSim.FMOT(m171, muEff, Gz, np.array([x, np.zeros_like(x), np.zeros_like(x)]),np.array([np.ones_like(x)*10, np.zeros_like(x), np.zeros_like(x)]),kis[-2:])\n",
    "Fkb399testv0 = motSim.FMOT(m171, muEff, Gz, np.array([x, np.zeros_like(x), np.zeros_like(x)]),np.zeros((3,len(x))),kis[-2:])\n",
    "Fkbtest = motSim.FMOT(m171, muEff, Gz, np.array([x, np.zeros_like(x), np.zeros_like(x)]),np.zeros((3,len(x))),kis)\n",
    "fig, ax = plt.subplots()\n",
    "plt.plot(x, Fkb399test[0], label='399, v=25m/s')\n",
    "plt.plot(x, Fkb556test[0], label='556, v=0 m/s')\n",
    "plt.plot(x, Fkb399testv0[0], label='399, v=0 m/s')\n",
    "plt.plot(x, Fkb399testv10[0], label='399, v=10 m/s')\n",
    "plt.plot(x, Fkbtest[0], label='sum')\n",
    "plt.legend()"
   ]
  },
  {
   "cell_type": "code",
   "execution_count": 121,
   "metadata": {},
   "outputs": [
    {
     "data": {
      "text/plain": [
       "Text(0, 0.5, 'normalized intensity')"
      ]
     },
     "execution_count": 121,
     "metadata": {},
     "output_type": "execute_result"
    }
   ],
   "source": [
    "s = np.linspace(-5*w0, 5*w0, 200)\n",
    "r = np.array([[-s/np.sqrt(2)], s/np.sqrt(2), np.zeros_like(s)])\n",
    "fig, ax = plt.subplots()\n",
    "plt.plot(s*(1e3),kb1b.Sat(r)[0]/S399) #/kb1b.Sat(r)[0,int(len(s)/2)]\n",
    "plt.plot(s*(1e3),kb1.Sat(r)[0]/S556)\n",
    "plt.xlabel(r'$\\rho$ (mm)')\n",
    "plt.ylabel('normalized intensity')"
   ]
  },
  {
   "cell_type": "code",
   "execution_count": 122,
   "metadata": {},
   "outputs": [
    {
     "data": {
      "text/plain": [
       "[<matplotlib.lines.Line2D at 0x17bfe8c35c0>]"
      ]
     },
     "execution_count": 122,
     "metadata": {},
     "output_type": "execute_result"
    }
   ],
   "source": [
    "t = np.arange(0, dt*NtimeSteps, dt*10)\n",
    "fig, ax = plt.subplots()\n",
    "plt.plot(t,vnAll[::10,0,0])"
   ]
  },
  {
   "cell_type": "code",
   "execution_count": 435,
   "metadata": {},
   "outputs": [
    {
     "data": {
      "text/plain": [
       "[<matplotlib.lines.Line2D at 0x2896d7a8080>]"
      ]
     },
     "execution_count": 435,
     "metadata": {},
     "output_type": "execute_result"
    }
   ],
   "source": [
    "x = np.linspace(-10e-3,10e-3,200)\n",
    "z = x\n",
    "FkbtestX = motSim.FMOT(m171, muEff, Gz, np.array([x, np.zeros_like(x), np.zeros_like(x)]),np.zeros((3,len(x))),kis[:-2])\n",
    "# FkbtestZ = motSim.FMOT(m171, muEff, Gz, np.array([np.zeros_like(z), np.zeros_like(z), z]),np.zeros((3,len(z))),kis)\n",
    "plt.figure(4)\n",
    "plt.cla()\n",
    "plt.plot(x, FkbtestX[0]/m171)\n",
    "# plt.plot(z, FkbtestZ[2])"
   ]
  },
  {
   "cell_type": "code",
   "execution_count": 468,
   "metadata": {},
   "outputs": [
    {
     "data": {
      "text/plain": [
       "Text(0.5, 1.0, 'vx = 0 m/s')"
      ]
     },
     "execution_count": 468,
     "metadata": {},
     "output_type": "execute_result"
    }
   ],
   "source": [
    "x = np.linspace(-20e-3,10e-3,200)\n",
    "dfs = np.arange(-30,-10,2)\n",
    "vx = 0\n",
    "norm = mpl.colors.Normalize(vmin=dfs[0], vmax=dfs[-1]+5)\n",
    "cmap = mpl.cm.ScalarMappable(norm=norm, cmap=mpl.cm.plasma)\n",
    "cmap.set_array([])\n",
    "norm = mpl.colors.Normalize(vmin=dfs[0], vmax=0)\n",
    "plt.figure(5)\n",
    "plt.clf()\n",
    "ax = fig.gca()\n",
    "for df in dfs:\n",
    "    dfG = df*gamma556\n",
    "    kb1 = motSim.motBeam(k556*np.array([np.cos(theta_h), np.sin(theta_h), 0]), w0, np.zeros(3), gamma556, dfG, S556, 1)\n",
    "    kb2 = motSim.motBeam(k556*np.array([-np.cos(theta_h), np.sin(theta_h), 0]), w0, np.zeros(3), gamma556, dfG, S556, 1)\n",
    "    kb3 = motSim.motBeam(k556*np.array([np.cos(theta_h), -np.sin(theta_h), 0]), w0, np.zeros(3), gamma556, dfG, S556, 1)\n",
    "    kb4 = motSim.motBeam(k556*np.array([-np.cos(theta_h), -np.sin(theta_h), 0]), w0, np.zeros(3), gamma556, dfG, S556, 1)\n",
    "    kb5 = motSim.motBeam(k556*np.array([0, 0, 1]), w0vert, np.zeros(3), gamma556, dfG, S556vert, -1)\n",
    "    kis = np.array([kb1, kb2, kb3, kb4, kb5])\n",
    "    FkbtestX = motSim.FMOT(m171, muEff, Gz, np.array([x, np.zeros_like(x), np.zeros_like(x)]),\n",
    "                          np.array([vx*np.ones_like(x), np.zeros_like(x), np.zeros_like(x)]),kis)\n",
    "    plt.plot(x*(1e3), FkbtestX[0]/m171, color=cmap.to_rgba(df))\n",
    "plt.xlabel('x (mm)')\n",
    "plt.ylabel('Fx/m171')\n",
    "cbar = plt.colorbar(cmap)\n",
    "cbar.ax.set_ylabel('detuning ($\\Gamma$)')\n",
    "plt.title('vx = '+str(vx)+' m/s')"
   ]
  },
  {
   "cell_type": "code",
   "execution_count": 273,
   "metadata": {},
   "outputs": [],
   "source": [
    "inTrapped = ( np.sqrt(rnAll[-1,0,:]**2 + rnAll[-1,1,:]**2 + rnAll[-1,2,:]**2) < 4e-3 )\n",
    "vnTrapped = vnAll[0,0,inTrapped]\n",
    "vnYTrapped = vnAll[0,1,inTrapped]\n",
    "vnZTrapped = vnAll[0,2,inTrapped]"
   ]
  },
  {
   "cell_type": "code",
   "execution_count": 276,
   "metadata": {},
   "outputs": [
    {
     "data": {
      "text/plain": [
       "<matplotlib.legend.Legend at 0x289634d3390>"
      ]
     },
     "execution_count": 276,
     "metadata": {},
     "output_type": "execute_result"
    }
   ],
   "source": [
    "plt.figure(6)\n",
    "plt.cla()\n",
    "plt.hist(vnAll[0,0,:],bins=np.arange(10,45), label='initial')\n",
    "plt.hist(vnTrapped,bins=np.arange(10,45), label='captured');\n",
    "plt.xlabel(r'$v_{x, init}$ (m/s)')\n",
    "plt.ylabel('number atoms')\n",
    "plt.legend()"
   ]
  },
  {
   "cell_type": "code",
   "execution_count": 74,
   "metadata": {},
   "outputs": [
    {
     "data": {
      "text/plain": [
       "<matplotlib.legend.Legend at 0x166f03e2dd8>"
      ]
     },
     "execution_count": 74,
     "metadata": {},
     "output_type": "execute_result"
    }
   ],
   "source": [
    "fig, ax = plt.subplots()\n",
    "plt.hist(vnAll[0,1,:],bins=np.arange(-0.5,0.5,0.1), label='initial')\n",
    "plt.hist(vnYTrapped,bins=np.arange(-0.5,0.5,0.1), label='captured');\n",
    "plt.xlabel(r'$v_{init,y}$ (m/s)')\n",
    "plt.ylabel('number atoms')\n",
    "plt.legend()"
   ]
  },
  {
   "cell_type": "code",
   "execution_count": 76,
   "metadata": {},
   "outputs": [
    {
     "data": {
      "text/plain": [
       "<matplotlib.legend.Legend at 0x166ee1bccf8>"
      ]
     },
     "execution_count": 76,
     "metadata": {},
     "output_type": "execute_result"
    }
   ],
   "source": [
    "fig, ax = plt.subplots()\n",
    "plt.hist(vnAll[0,2,:],bins=np.arange(-0.5,0.5,0.1), label='initial')\n",
    "plt.hist(vnZTrapped,bins=np.arange(-0.5,0.5,0.1), label='captured');\n",
    "plt.xlabel(r'$v_{init,z}$ (m/s)')\n",
    "plt.ylabel('number atoms')\n",
    "plt.legend()"
   ]
  },
  {
   "cell_type": "code",
   "execution_count": 45,
   "metadata": {},
   "outputs": [
    {
     "data": {
      "text/plain": [
       "500.0"
      ]
     },
     "execution_count": 45,
     "metadata": {},
     "output_type": "execute_result"
    }
   ],
   "source": [
    "t = 0.3/30\n",
    "g = 10\n",
    "dz = 0.5*(t**2)*g\n",
    "dz*(1e6)"
   ]
  },
  {
   "cell_type": "code",
   "execution_count": null,
   "metadata": {},
   "outputs": [],
   "source": []
  },
  {
   "cell_type": "code",
   "execution_count": 90,
   "metadata": {},
   "outputs": [
    {
     "data": {
      "text/plain": [
       "<matplotlib.legend.Legend at 0x1d854b99b00>"
      ]
     },
     "execution_count": 90,
     "metadata": {},
     "output_type": "execute_result"
    }
   ],
   "source": [
    "fig, ax = plt.subplots()\n",
    "plt.hist(vnAll[-1,0,:],bins=np.arange(-35,35), label='final')\n",
    "plt.xlabel(r'$v_{final}$ (m/s)')\n",
    "plt.ylabel('number atoms')\n",
    "plt.legend()"
   ]
  },
  {
   "cell_type": "code",
   "execution_count": 60,
   "metadata": {},
   "outputs": [
    {
     "data": {
      "text/plain": [
       "0.002465724061101375"
      ]
     },
     "execution_count": 60,
     "metadata": {},
     "output_type": "execute_result"
    }
   ],
   "source": [
    "t = 0.3/30\n",
    "vt = np.sqrt(0.5*sc.k*(2.5e-3)/m171)\n",
    "vt*t"
   ]
  },
  {
   "cell_type": "code",
   "execution_count": 107,
   "metadata": {},
   "outputs": [
    {
     "data": {
      "text/plain": [
       "64.99825074232679"
      ]
     },
     "execution_count": 107,
     "metadata": {},
     "output_type": "execute_result"
    }
   ],
   "source": [
    "90-np.arctan(169.05/362.5)*180/np.pi"
   ]
  },
  {
   "cell_type": "code",
   "execution_count": 46,
   "metadata": {},
   "outputs": [
    {
     "data": {
      "text/plain": [
       "[<matplotlib.lines.Line2D at 0x271ed824940>]"
      ]
     },
     "execution_count": 46,
     "metadata": {},
     "output_type": "execute_result"
    }
   ],
   "source": [
    "x = np.linspace(-1,1,100)\n",
    "plt.figure(6)\n",
    "plt.cla()\n",
    "plt.plot(x, np.heaviside(x+0.5,0.5)*np.heaviside(-x+0.5,0.5))"
   ]
  },
  {
   "cell_type": "markdown",
   "metadata": {},
   "source": [
    "# 5 orthogonal, 2 crossed slowers, elliptical"
   ]
  },
  {
   "cell_type": "code",
   "execution_count": 36,
   "metadata": {},
   "outputs": [],
   "source": [
    "importlib.reload(motSim)\n",
    "kb = motSim.motBeam(k556*np.array([0, 0, 1]), w0*0.5, np.zeros(3), gamma556, delta556, S556, 1)\n",
    "kbEll = motSim.motBeamElliptical(k556*np.array([0, 0, 1]), w0, np.zeros(3), gamma556, delta556, S556, 1, w0x=0.007, w0y=0.0025)"
   ]
  },
  {
   "cell_type": "code",
   "execution_count": 283,
   "metadata": {},
   "outputs": [
    {
     "data": {
      "text/plain": [
       "[<matplotlib.lines.Line2D at 0x2895e0440b8>]"
      ]
     },
     "execution_count": 283,
     "metadata": {},
     "output_type": "execute_result"
    }
   ],
   "source": [
    "x = np.linspace(-0.01, 0.01, 100)\n",
    "y = np.linspace(-0.01, 0.01, 100)\n",
    "rxcut = np.array([x, np.zeros_like(x),  np.zeros_like(x)])\n",
    "rycut = np.array([np.zeros_like(y), y,  np.zeros_like(y)])\n",
    "plt.figure(1)\n",
    "plt.cla()\n",
    "plt.plot(x, kb.Sat(rxcut))\n",
    "plt.plot(x, kbEll.Sat(rxcut))\n",
    "plt.plot(y, kbEll.Sat(rycut))"
   ]
  },
  {
   "cell_type": "code",
   "execution_count": 332,
   "metadata": {},
   "outputs": [],
   "source": [
    "w0 = 2.5e-3\n",
    "w0xS = 5.5e-3\n",
    "w0yS = 2.5e-3\n",
    "w0xG = 2.5e-3\n",
    "w0yG = 3e-3\n",
    "w0vert = 4e-3\n",
    "delta556 = -25*gamma556\n",
    "delta399 = -1.2*gamma399\n",
    "S556 = 600\n",
    "S556vert = 8\n",
    "S399 = 0.96\n",
    "xS = -12e-3\n",
    "Gz = -(8e-2)#z fieldGrad\n",
    "muEff = 1.5*muB\n",
    "Natoms = 500\n",
    "x0 = -260e-3\n",
    "z0 = 0\n",
    "vx0 = 30\n",
    "Tx0 = m171*(2**2)/sc.k\n",
    "Trho0 = 1e-3\n",
    "NtimeSteps = 2500\n",
    "dt = 30e-6\n",
    "v0 = np.array([np.random.normal(vx0, np.sqrt(sc.k*Tx0/m171), Natoms),\n",
    "               np.random.normal(0, np.sqrt(sc.k*Trho0/m171), Natoms),\n",
    "               np.random.normal(0, np.sqrt(sc.k*Trho0/m171), Natoms)])\n",
    "r0 = np.array([np.zeros(Natoms)+x0, np.zeros(Natoms), np.zeros(Natoms)+z0])"
   ]
  },
  {
   "cell_type": "code",
   "execution_count": 333,
   "metadata": {},
   "outputs": [],
   "source": [
    "theta_h = 55.5*np.pi/180\n",
    "theta_c = 25*np.pi/180\n",
    "theta_cvert = 0*np.pi/180\n",
    "kb1 = motSim.motBeamElliptical(k556*np.array([np.cos(theta_h), np.sin(theta_h), 0]), w0, np.zeros(3), gamma556, delta556, S556, 1, w0x=w0xG, w0y=w0yG)\n",
    "kb2 = motSim.motBeamElliptical(k556*np.array([-np.cos(theta_h), np.sin(theta_h), 0]), w0, np.zeros(3), gamma556, delta556, S556, 1, w0x=w0xG, w0y=w0yG)\n",
    "kb3 = motSim.motBeamElliptical(k556*np.array([np.cos(theta_h), -np.sin(theta_h), 0]), w0, np.zeros(3), gamma556, delta556, S556, 1, w0x=w0xG, w0y=w0yG)\n",
    "kb4 = motSim.motBeamElliptical(k556*np.array([-np.cos(theta_h), -np.sin(theta_h), 0]), w0, np.zeros(3), gamma556, delta556, S556, 1, w0x=w0xG, w0y=w0yG)\n",
    "kb5 = motSim.motBeam(k556*np.array([0, 0, 1]), w0vert, np.zeros(3), gamma556, delta556, S556vert, -1)\n",
    "kb1b = motSim.motBeamElliptical(k399*np.array([-np.sin(theta_c)*np.cos(theta_cvert), -np.cos(theta_c)*np.cos(theta_cvert), \n",
    "                                               np.sin(theta_cvert)]), w0, np.array([xS,0,0]), gamma399, delta399, S399, 1, w0x=w0xS, w0y=w0yS)\n",
    "kb2b = motSim.motBeamElliptical(k399*np.array([-np.sin(theta_c)*np.cos(theta_cvert), np.cos(theta_c)*np.cos(theta_cvert), \n",
    "                                               np.sin(theta_cvert)]), w0, np.array([xS,0,0]), gamma399, delta399, S399, 1, w0x=w0xS, w0y=w0yS)\n",
    "# zeemanTheta = 3.5*np.pi/180\n",
    "# zeemanX0 = 10e-3\n",
    "# zeemanWidth = 4e-3\n",
    "# kb6 = motBeam.motBeam(k399*np.array([-np.cos(zeemanTheta), 0, np.sin(zeemanTheta)]), zeemanWidth, \n",
    "#                       np.array([zeemanX0, 0, -3e-3]), gamma399, delta399, 0.05, -1)\n",
    "kis = np.array([kb1, kb2, kb3, kb4, kb5, kb1b, kb2b])"
   ]
  },
  {
   "cell_type": "code",
   "execution_count": 334,
   "metadata": {},
   "outputs": [
    {
     "name": "stdout",
     "output_type": "stream",
     "text": [
      "capture fraction = 0.016\n"
     ]
    }
   ],
   "source": [
    "rnAll, vnAll, cFrac = motSim.RK4MC(kis, m171, muEff, Gz, r0, v0, dt, NtimeSteps, Natoms)"
   ]
  },
  {
   "cell_type": "code",
   "execution_count": 306,
   "metadata": {},
   "outputs": [
    {
     "data": {
      "text/plain": [
       "[<matplotlib.lines.Line2D at 0x289623dcc50>]"
      ]
     },
     "execution_count": 306,
     "metadata": {},
     "output_type": "execute_result"
    }
   ],
   "source": [
    "plt.figure(2)\n",
    "plt.cla()\n",
    "plt.plot(rnAll[::5,0,0],vnAll[::5,0,0])"
   ]
  },
  {
   "cell_type": "code",
   "execution_count": 307,
   "metadata": {},
   "outputs": [],
   "source": [
    "beamlen = 60\n",
    "plotSize = 60\n",
    "balpha = 0.08\n",
    "fig = plt.figure(3, figsize=[6,6])\n",
    "plt.cla()\n",
    "ax = fig.gca(projection='3d')\n",
    "ax.set_xlim([-20,20])\n",
    "ax.set_ylim([-20,20])\n",
    "ax.set_zlim([-20,20])\n",
    "motSim.plotBeams(ax, kis[:-2], plotSize/2, beamlen, beamWidth=w0*(1e3), colors=np.repeat('#9FCC3B',5), alpha=0.15)\n",
    "motSim.plotBeams(ax, kis[-2:], plotSize, 2*beamlen, beamWidth=w0*(1e3), colors=np.repeat('#1BAAD5',4), alpha=0.12)\n",
    "for i in range(Natoms):\n",
    "    ax.plot(rnAll[::10,0,i]*(1e3), rnAll[::10,1,i]*(1e3), rnAll[::10,2,i]*(1e3), color='k', alpha=0.1)\n",
    "    ax.scatter(rnAll[-1,0,i]*(1e3), rnAll[-1,1,i]*(1e3), rnAll[-1,2,i]*(1e3), c='#CC4129', s=2, alpha=0.5)\n",
    "#     ax.scatter(rnAll[-1,1,i]*(1e3), rnAll[-1,2,i]*(1e3), zs=ax.get_xlim()[0], zdir='x', c='#CC4129', s=2, alpha=0.2)\n",
    "#     ax.scatter(rnAll[-1,0,i]*(1e3), rnAll[-1,2,i]*(1e3), zs=ax.get_ylim()[1], zdir='y', c='#CC4129', s=2, alpha=0.2)\n",
    "#     ax.scatter(rnAll[-1,0,i]*(1e3), rnAll[-1,1,i]*(1e3), zs=ax.get_zlim()[0], zdir='z', c='#CC4129', s=2, alpha=0.2)\n",
    "ax.set_xlabel('x (mm)')\n",
    "ax.set_ylabel('y (mm)')\n",
    "ax.set_zlabel('z (mm)')\n",
    "ax.w_xaxis.set_pane_color((0,0,0,0.01))\n",
    "ax.w_yaxis.set_pane_color((0,0,0,0.01))\n",
    "ax.w_zaxis.set_pane_color((0,0,0,0.01))"
   ]
  },
  {
   "cell_type": "code",
   "execution_count": 202,
   "metadata": {},
   "outputs": [
    {
     "data": {
      "text/plain": [
       "<matplotlib.legend.Legend at 0x166f7ff0438>"
      ]
     },
     "execution_count": 202,
     "metadata": {},
     "output_type": "execute_result"
    }
   ],
   "source": [
    "x = np.linspace(-20e-3,20e-3,200)\n",
    "Fkb556test = motSim.FMOT(m171, muEff, Gz, np.array([x, np.zeros_like(x), np.zeros_like(x)]),np.zeros((3,len(x))),kis[:-2])\n",
    "Fkb399test = motSim.FMOT(m171, muEff, Gz, np.array([x, np.zeros_like(x), np.zeros_like(x)+(0e-3)]),np.array([np.ones_like(x)*25, np.zeros_like(x), np.zeros_like(x)]),kis[-2:])\n",
    "Fkb399testv10 = motSim.FMOT(m171, muEff, Gz, np.array([x, np.zeros_like(x), np.zeros_like(x)]),np.array([np.ones_like(x)*10, np.zeros_like(x), np.zeros_like(x)]),kis[-2:])\n",
    "Fkb399testv0 = motSim.FMOT(m171, muEff, Gz, np.array([x, np.zeros_like(x), np.zeros_like(x)]),np.zeros((3,len(x))),kis[-2:])\n",
    "Fkbtest = motSim.FMOT(m171, muEff, Gz, np.array([x, np.zeros_like(x), np.zeros_like(x)]),np.zeros((3,len(x))),kis)\n",
    "fig, ax = plt.subplots()\n",
    "plt.plot(x, Fkb399test[0], label='399, v=25m/s')\n",
    "plt.plot(x, Fkb556test[0], label='556, v=0 m/s')\n",
    "plt.plot(x, Fkb399testv0[0], label='399, v=0 m/s')\n",
    "plt.plot(x, Fkb399testv10[0], label='399, v=10 m/s')\n",
    "plt.plot(x, Fkbtest[0], label='sum')\n",
    "plt.legend()"
   ]
  },
  {
   "cell_type": "code",
   "execution_count": 102,
   "metadata": {},
   "outputs": [
    {
     "data": {
      "text/plain": [
       "[<matplotlib.lines.Line2D at 0x28955bbaeb8>]"
      ]
     },
     "execution_count": 102,
     "metadata": {},
     "output_type": "execute_result"
    }
   ],
   "source": [
    "x = np.linspace(-50e-3,10e-3,200)\n",
    "z = x\n",
    "FkbtestX = motSim.FMOT(m171, muEff, Gz, np.array([x, np.zeros_like(x), np.zeros_like(x)]),np.zeros((3,len(x))),kis)\n",
    "FkbtestXSlowers = motSim.FMOT(m171, muEff, Gz, np.array([x, np.zeros_like(x), np.zeros_like(x)]),np.zeros((3,len(x))),kis[-2:])\n",
    "FkbtestXGreen = motSim.FMOT(m171, muEff, Gz, np.array([x, np.zeros_like(x), np.zeros_like(x)]),np.zeros((3,len(x))),kis[:-2])\n",
    "# FkbtestZ = motSim.FMOT(m171, muEff, Gz, np.array([np.zeros_like(z), np.zeros_like(z), z]),np.zeros((3,len(z))),kis)\n",
    "plt.figure(4)\n",
    "plt.cla()\n",
    "plt.plot(x, FkbtestXSlowers[0]/m171)\n",
    "plt.plot(x, FkbtestXGreen[0]/m171)\n",
    "# plt.plot(x, FkbtestX[0]/m171)\n",
    "# plt.plot(z, FkbtestZ[0])"
   ]
  },
  {
   "cell_type": "code",
   "execution_count": 335,
   "metadata": {},
   "outputs": [],
   "source": [
    "inTrapped = ( np.sqrt(rnAll[-1,0,:]**2 + rnAll[-1,1,:]**2 + rnAll[-1,2,:]**2) < 4e-3 )\n",
    "vnTrapped = vnAll[0,0,inTrapped]\n",
    "vnYTrapped = vnAll[0,1,inTrapped]\n",
    "vnZTrapped = vnAll[0,2,inTrapped]"
   ]
  },
  {
   "cell_type": "code",
   "execution_count": 336,
   "metadata": {},
   "outputs": [
    {
     "data": {
      "text/plain": [
       "<matplotlib.legend.Legend at 0x2895c9d1fd0>"
      ]
     },
     "execution_count": 336,
     "metadata": {},
     "output_type": "execute_result"
    }
   ],
   "source": [
    "plt.figure(6)\n",
    "plt.cla()\n",
    "plt.hist(vnAll[0,0,:],bins=np.arange(10,45), label='initial')\n",
    "plt.hist(vnTrapped,bins=np.arange(10,45), label='captured');\n",
    "plt.xlabel(r'$v_{x, init}$ (m/s)')\n",
    "plt.ylabel('number atoms')\n",
    "plt.legend()"
   ]
  },
  {
   "cell_type": "markdown",
   "metadata": {},
   "source": [
    "# 5 orthogonal, coreshell"
   ]
  },
  {
   "cell_type": "code",
   "execution_count": 615,
   "metadata": {},
   "outputs": [],
   "source": [
    "w0 = 2.5e-3\n",
    "w0Shell = 1.7e-3\n",
    "w0vert = 4e-3\n",
    "delta556 = -25*gamma556\n",
    "delta399 = -1.2*gamma399\n",
    "S556 = 600\n",
    "S556vert = 8\n",
    "S399 = 0.96\n",
    "xS = -12e-3\n",
    "Gz = -(8e-2)#z fieldGrad\n",
    "muEff = 1.5*muB\n",
    "Natoms = 200\n",
    "x0 = -260e-3\n",
    "z0 = 0\n",
    "vx0 = 30\n",
    "Tx0 = m171*(2**2)/sc.k\n",
    "Trho0 = 2.5e-3\n",
    "NtimeSteps = 2000\n",
    "dt = 30e-6\n",
    "v0 = np.array([np.random.normal(vx0, np.sqrt(sc.k*Tx0/m171), Natoms),\n",
    "               np.random.normal(0, np.sqrt(sc.k*Trho0/m171), Natoms),\n",
    "               np.random.normal(0, np.sqrt(sc.k*Trho0/m171), Natoms)])\n",
    "r0 = np.array([np.zeros(Natoms)+x0, np.zeros(Natoms), np.zeros(Natoms)+z0])"
   ]
  },
  {
   "cell_type": "code",
   "execution_count": 616,
   "metadata": {},
   "outputs": [
    {
     "data": {
      "text/plain": [
       "[<matplotlib.lines.Line2D at 0x2896d624c50>]"
      ]
     },
     "execution_count": 616,
     "metadata": {},
     "output_type": "execute_result"
    }
   ],
   "source": [
    "kb1t = motSim.motBeam(k556*np.array([0, 0, 1]), w0, np.zeros(3), gamma556, delta556, S556, 1)\n",
    "kb1bt = motSim.motBeamShell(k399*np.array([0, 0, 1]), w0Shell, np.zeros(3), gamma399, delta399, S399, 1, l=3)\n",
    "x = np.linspace(-3*w0,3*w0,200)\n",
    "r = np.array([x, np.zeros_like(x), np.zeros_like(x)])\n",
    "plt.figure(7)\n",
    "plt.cla()\n",
    "plt.plot(x, kb1t.Sat(r)/S556, color='#8ccf11')\n",
    "plt.plot(x, kb1bt.Sat(r)/S399, color='#8744c9')"
   ]
  },
  {
   "cell_type": "code",
   "execution_count": 617,
   "metadata": {},
   "outputs": [],
   "source": [
    "theta_h = 55.5*np.pi/180\n",
    "theta_c = 25*np.pi/180\n",
    "theta_cvert = 0*np.pi/180\n",
    "kb1 = motSim.motBeam(k556*np.array([np.cos(theta_h), np.sin(theta_h), 0]), w0, np.zeros(3), gamma556, delta556, S556, 1)\n",
    "kb2 = motSim.motBeam(k556*np.array([-np.cos(theta_h), np.sin(theta_h), 0]), w0, np.zeros(3), gamma556, delta556, S556, 1)\n",
    "kb3 = motSim.motBeam(k556*np.array([np.cos(theta_h), -np.sin(theta_h), 0]), w0, np.zeros(3), gamma556, delta556, S556, 1)\n",
    "kb4 = motSim.motBeam(k556*np.array([-np.cos(theta_h), -np.sin(theta_h), 0]), w0, np.zeros(3), gamma556, delta556, S556, 1)\n",
    "kb5 = motSim.motBeam(k556*np.array([0, 0, 1]), w0vert, np.zeros(3), gamma556, delta556, S556vert, -1)\n",
    "kb1b = motSim.motBeamShell(k399*np.array([np.cos(theta_h), np.sin(theta_h), 0]), w0, np.zeros(3), gamma399, delta399, S399, 1)\n",
    "kb2b = motSim.motBeamShell(k399*np.array([-np.cos(theta_h), np.sin(theta_h), 0]), w0, np.zeros(3), gamma399, delta399, S399, 1)\n",
    "kb3b = motSim.motBeamShell(k399*np.array([np.cos(theta_h), -np.sin(theta_h), 0]), w0, np.zeros(3), gamma399, delta399, S399, 1)\n",
    "kb4b = motSim.motBeamShell(k399*np.array([-np.cos(theta_h), -np.sin(theta_h), 0]), w0, np.zeros(3), gamma399, delta399, S399, 1)\n",
    "# kb1b = motSim.motBeamShell(k399*np.array([-np.sin(theta_c)*np.cos(theta_cvert), -np.cos(theta_c)*np.cos(theta_cvert), \n",
    "#                                                np.sin(theta_cvert)]), w0, np.array([xS,0,0]), gamma399, delta399, S399, 1)\n",
    "# kb2b = motSim.motBeamShell(k399*np.array([-np.sin(theta_c)*np.cos(theta_cvert), np.cos(theta_c)*np.cos(theta_cvert), \n",
    "#                                                np.sin(theta_cvert)]), w0, np.array([xS,0,0]), gamma399, delta399, S399, 1)\n",
    "# zeemanTheta = 3.5*np.pi/180\n",
    "# zeemanX0 = 10e-3\n",
    "# zeemanWidth = 4e-3\n",
    "# kb6 = motBeam.motBeam(k399*np.array([-np.cos(zeemanTheta), 0, np.sin(zeemanTheta)]), zeemanWidth, \n",
    "#                       np.array([zeemanX0, 0, -3e-3]), gamma399, delta399, 0.05, -1)\n",
    "kis = np.array([kb1, kb2, kb3, kb4, kb5, kb1b, kb2b, kb3b, kb4b])"
   ]
  },
  {
   "cell_type": "code",
   "execution_count": 571,
   "metadata": {},
   "outputs": [
    {
     "name": "stdout",
     "output_type": "stream",
     "text": [
      "capture fraction = 0.280\n"
     ]
    }
   ],
   "source": [
    "rnAll, vnAll, cFrac = motSim.RK4MC(kis, m171, muEff, Gz, r0, v0, dt, NtimeSteps, Natoms)"
   ]
  },
  {
   "cell_type": "code",
   "execution_count": 581,
   "metadata": {},
   "outputs": [
    {
     "data": {
      "text/plain": [
       "2.2054106457518077"
      ]
     },
     "execution_count": 581,
     "metadata": {},
     "output_type": "execute_result"
    }
   ],
   "source": [
    "np.sqrt(sc.k*0.1/m171)"
   ]
  },
  {
   "cell_type": "code",
   "execution_count": 582,
   "metadata": {},
   "outputs": [
    {
     "name": "stdout",
     "output_type": "stream",
     "text": [
      "0.5 0.0007\n",
      "capture fraction = 0.574\n",
      "0.5 0.0022500000000000003\n",
      "capture fraction = 0.232\n",
      "0.5 0.0038000000000000004\n",
      "capture fraction = 0.182\n",
      "0.5 0.005350000000000001\n",
      "capture fraction = 0.148\n",
      "0.5 0.006900000000000001\n",
      "capture fraction = 0.112\n",
      "0.5 0.008450000000000001\n",
      "capture fraction = 0.074\n",
      "0.5 0.01\n",
      "capture fraction = 0.102\n",
      "3.75 0.0007\n",
      "capture fraction = 0.352\n",
      "3.75 0.0022500000000000003\n",
      "capture fraction = 0.154\n",
      "3.75 0.0038000000000000004\n",
      "capture fraction = 0.132\n",
      "3.75 0.005350000000000001\n",
      "capture fraction = 0.084\n",
      "3.75 0.006900000000000001\n",
      "capture fraction = 0.074\n",
      "3.75 0.008450000000000001\n",
      "capture fraction = 0.058\n",
      "3.75 0.01\n",
      "capture fraction = 0.062\n",
      "7.0 0.0007\n",
      "capture fraction = 0.306\n",
      "7.0 0.0022500000000000003\n",
      "capture fraction = 0.144\n",
      "7.0 0.0038000000000000004\n",
      "capture fraction = 0.062\n",
      "7.0 0.005350000000000001\n",
      "capture fraction = 0.072\n",
      "7.0 0.006900000000000001\n",
      "capture fraction = 0.044\n",
      "7.0 0.008450000000000001\n",
      "capture fraction = 0.036\n",
      "7.0 0.01\n",
      "capture fraction = 0.028\n",
      "10.25 0.0007\n",
      "capture fraction = 0.292\n",
      "10.25 0.0022500000000000003\n",
      "capture fraction = 0.142\n",
      "10.25 0.0038000000000000004\n",
      "capture fraction = 0.078\n",
      "10.25 0.005350000000000001\n",
      "capture fraction = 0.046\n",
      "10.25 0.006900000000000001\n",
      "capture fraction = 0.050\n",
      "10.25 0.008450000000000001\n",
      "capture fraction = 0.034\n",
      "10.25 0.01\n",
      "capture fraction = 0.024\n",
      "13.5 0.0007\n",
      "capture fraction = 0.264\n",
      "13.5 0.0022500000000000003\n",
      "capture fraction = 0.106\n",
      "13.5 0.0038000000000000004\n",
      "capture fraction = 0.056\n",
      "13.5 0.005350000000000001\n",
      "capture fraction = 0.054\n",
      "13.5 0.006900000000000001\n",
      "capture fraction = 0.054\n",
      "13.5 0.008450000000000001\n",
      "capture fraction = 0.038\n",
      "13.5 0.01\n",
      "capture fraction = 0.034\n",
      "16.75 0.0007\n",
      "capture fraction = 0.220\n",
      "16.75 0.0022500000000000003\n",
      "capture fraction = 0.112\n",
      "16.75 0.0038000000000000004\n",
      "capture fraction = 0.062\n",
      "16.75 0.005350000000000001\n",
      "capture fraction = 0.052\n",
      "16.75 0.006900000000000001\n",
      "capture fraction = 0.046\n",
      "16.75 0.008450000000000001\n",
      "capture fraction = 0.028\n",
      "16.75 0.01\n",
      "capture fraction = 0.028\n",
      "20.0 0.0007\n",
      "capture fraction = 0.190\n",
      "20.0 0.0022500000000000003\n",
      "capture fraction = 0.094\n",
      "20.0 0.0038000000000000004\n",
      "capture fraction = 0.056\n",
      "20.0 0.005350000000000001\n",
      "capture fraction = 0.052\n",
      "20.0 0.006900000000000001\n",
      "capture fraction = 0.028\n",
      "20.0 0.008450000000000001\n",
      "capture fraction = 0.024\n",
      "20.0 0.01\n",
      "capture fraction = 0.022\n"
     ]
    }
   ],
   "source": [
    "Tx0s = np.linspace(0.5, 20, 7)\n",
    "Trho0s = np.linspace(0.7e-3, 10e-3, 7)\n",
    "cFracs = np.zeros((len(Tx0s), len(Trho0s)))\n",
    "for i in range(len(Tx0s)):\n",
    "    for j in range(len(Trho0s)):\n",
    "        Tx0 = Tx0s[i]\n",
    "        Trho0 = Trho0s[j]\n",
    "        print(Tx0, Trho0)\n",
    "        v0 = np.array([np.random.normal(vx0, np.sqrt(sc.k*Tx0/m171), Natoms),\n",
    "               np.random.normal(0, np.sqrt(sc.k*Trho0/m171), Natoms),\n",
    "               np.random.normal(0, np.sqrt(sc.k*Trho0/m171), Natoms)])\n",
    "        _, _, cFracs[i,j] = motSim.RK4MC(kis, m171, muEff, Gz, r0, v0, dt, NtimeSteps, Natoms)\n",
    "np.savetxt('A:/Analysis_code/Yb_notebooks/MOT_simulations/capture_fraction_coreshell_grid.txt', cFracs, delimiter=',')"
   ]
  },
  {
   "cell_type": "code",
   "execution_count": 630,
   "metadata": {},
   "outputs": [
    {
     "data": {
      "text/plain": [
       "Text(0, 0.5, 'T$_x$ (K)')"
      ]
     },
     "execution_count": 630,
     "metadata": {},
     "output_type": "execute_result"
    }
   ],
   "source": [
    "gridTrho0, gridTx0 = np.meshgrid(Trho0s, Tx0s)\n",
    "plt.figure(9)\n",
    "plt.clf()\n",
    "ax = plt.gca()\n",
    "contoursF = np.linspace(0.0, 0.55, 20)\n",
    "contours = np.linspace(0.0, 0.5, 5)\n",
    "cs1 = ax.contourf(gridTrho0, gridTx0, cFracs, contoursF, cmap='Spectral')\n",
    "# ax.imshow(cFracs, interpolation='bicubic', extent=[Tx0s[0], Tx0s[-1], Trho0s[0], Trho0s[-1]], \n",
    "#            aspect=(Tx0s[-1]-Tx0s[0])/(Trho0s[-1]-Trho0s[0]))\n",
    "cbar = plt.colorbar(cs1, ax=ax)\n",
    "cbar.ax.set_ylabel('capture fraction')\n",
    "cbar.ax.yaxis.set_major_formatter(FormatStrFormatter('%.2f'))\n",
    "# ax.contour(cFracs, levels=contours, colors='white', alpha=0.5)\n",
    "plt.xlabel(r'T$_\\rho$ (K)')\n",
    "plt.ylabel(r'T$_x$ (K)')"
   ]
  },
  {
   "cell_type": "code",
   "execution_count": 624,
   "metadata": {},
   "outputs": [
    {
     "data": {
      "text/plain": [
       "0.574"
      ]
     },
     "execution_count": 624,
     "metadata": {},
     "output_type": "execute_result"
    }
   ],
   "source": [
    "np.max(cFracs)"
   ]
  },
  {
   "cell_type": "code",
   "execution_count": 585,
   "metadata": {},
   "outputs": [
    {
     "data": {
      "text/plain": [
       "[<matplotlib.lines.Line2D at 0x2896d1bf898>]"
      ]
     },
     "execution_count": 585,
     "metadata": {},
     "output_type": "execute_result"
    }
   ],
   "source": [
    "plt.figure(2)\n",
    "plt.cla()\n",
    "plt.plot(rnAll[::5,0,0],vnAll[::5,0,0])"
   ]
  },
  {
   "cell_type": "code",
   "execution_count": 376,
   "metadata": {},
   "outputs": [],
   "source": [
    "beamlen = 60\n",
    "plotSize = 60\n",
    "balpha = 0.08\n",
    "fig = plt.figure(3, figsize=[6,6])\n",
    "plt.cla()\n",
    "ax = fig.gca(projection='3d')\n",
    "ax.set_xlim([-20,20])\n",
    "ax.set_ylim([-20,20])\n",
    "ax.set_zlim([-20,20])\n",
    "motSim.plotBeams(ax, kis[:-2], plotSize/2, beamlen, beamWidth=w0*(1e3), colors=np.repeat('#9FCC3B',5), alpha=0.15)\n",
    "motSim.plotBeams(ax, kis[-2:], plotSize, 2*beamlen, beamWidth=w0*(1e3), colors=np.repeat('#1BAAD5',4), alpha=0.12)\n",
    "for i in range(Natoms):\n",
    "    ax.plot(rnAll[::10,0,i]*(1e3), rnAll[::10,1,i]*(1e3), rnAll[::10,2,i]*(1e3), color='k', alpha=0.01)\n",
    "    ax.scatter(rnAll[-1,0,i]*(1e3), rnAll[-1,1,i]*(1e3), rnAll[-1,2,i]*(1e3), c='#CC4129', s=2, alpha=0.5)\n",
    "#     ax.scatter(rnAll[-1,1,i]*(1e3), rnAll[-1,2,i]*(1e3), zs=ax.get_xlim()[0], zdir='x', c='#CC4129', s=2, alpha=0.2)\n",
    "#     ax.scatter(rnAll[-1,0,i]*(1e3), rnAll[-1,2,i]*(1e3), zs=ax.get_ylim()[1], zdir='y', c='#CC4129', s=2, alpha=0.2)\n",
    "#     ax.scatter(rnAll[-1,0,i]*(1e3), rnAll[-1,1,i]*(1e3), zs=ax.get_zlim()[0], zdir='z', c='#CC4129', s=2, alpha=0.2)\n",
    "ax.set_xlabel('x (mm)')\n",
    "ax.set_ylabel('y (mm)')\n",
    "ax.set_zlabel('z (mm)')\n",
    "ax.w_xaxis.set_pane_color((0,0,0,0.01))\n",
    "ax.w_yaxis.set_pane_color((0,0,0,0.01))\n",
    "ax.w_zaxis.set_pane_color((0,0,0,0.01))"
   ]
  },
  {
   "cell_type": "code",
   "execution_count": 202,
   "metadata": {},
   "outputs": [
    {
     "data": {
      "text/plain": [
       "<matplotlib.legend.Legend at 0x166f7ff0438>"
      ]
     },
     "execution_count": 202,
     "metadata": {},
     "output_type": "execute_result"
    }
   ],
   "source": [
    "x = np.linspace(-20e-3,20e-3,200)\n",
    "Fkb556test = motSim.FMOT(m171, muEff, Gz, np.array([x, np.zeros_like(x), np.zeros_like(x)]),np.zeros((3,len(x))),kis[:-2])\n",
    "Fkb399test = motSim.FMOT(m171, muEff, Gz, np.array([x, np.zeros_like(x), np.zeros_like(x)+(0e-3)]),np.array([np.ones_like(x)*25, np.zeros_like(x), np.zeros_like(x)]),kis[-2:])\n",
    "Fkb399testv10 = motSim.FMOT(m171, muEff, Gz, np.array([x, np.zeros_like(x), np.zeros_like(x)]),np.array([np.ones_like(x)*10, np.zeros_like(x), np.zeros_like(x)]),kis[-2:])\n",
    "Fkb399testv0 = motSim.FMOT(m171, muEff, Gz, np.array([x, np.zeros_like(x), np.zeros_like(x)]),np.zeros((3,len(x))),kis[-2:])\n",
    "Fkbtest = motSim.FMOT(m171, muEff, Gz, np.array([x, np.zeros_like(x), np.zeros_like(x)]),np.zeros((3,len(x))),kis)\n",
    "fig, ax = plt.subplots()\n",
    "plt.plot(x, Fkb399test[0], label='399, v=25m/s')\n",
    "plt.plot(x, Fkb556test[0], label='556, v=0 m/s')\n",
    "plt.plot(x, Fkb399testv0[0], label='399, v=0 m/s')\n",
    "plt.plot(x, Fkb399testv10[0], label='399, v=10 m/s')\n",
    "plt.plot(x, Fkbtest[0], label='sum')\n",
    "plt.legend()"
   ]
  },
  {
   "cell_type": "code",
   "execution_count": 102,
   "metadata": {},
   "outputs": [
    {
     "data": {
      "text/plain": [
       "[<matplotlib.lines.Line2D at 0x28955bbaeb8>]"
      ]
     },
     "execution_count": 102,
     "metadata": {},
     "output_type": "execute_result"
    }
   ],
   "source": [
    "x = np.linspace(-50e-3,10e-3,200)\n",
    "z = x\n",
    "FkbtestX = motSim.FMOT(m171, muEff, Gz, np.array([x, np.zeros_like(x), np.zeros_like(x)]),np.zeros((3,len(x))),kis)\n",
    "FkbtestXSlowers = motSim.FMOT(m171, muEff, Gz, np.array([x, np.zeros_like(x), np.zeros_like(x)]),np.zeros((3,len(x))),kis[-2:])\n",
    "FkbtestXGreen = motSim.FMOT(m171, muEff, Gz, np.array([x, np.zeros_like(x), np.zeros_like(x)]),np.zeros((3,len(x))),kis[:-2])\n",
    "# FkbtestZ = motSim.FMOT(m171, muEff, Gz, np.array([np.zeros_like(z), np.zeros_like(z), z]),np.zeros((3,len(z))),kis)\n",
    "plt.figure(4)\n",
    "plt.cla()\n",
    "plt.plot(x, FkbtestXSlowers[0]/m171)\n",
    "plt.plot(x, FkbtestXGreen[0]/m171)\n",
    "# plt.plot(x, FkbtestX[0]/m171)\n",
    "# plt.plot(z, FkbtestZ[0])"
   ]
  },
  {
   "cell_type": "code",
   "execution_count": 377,
   "metadata": {},
   "outputs": [],
   "source": [
    "inTrapped = ( np.sqrt(rnAll[-1,0,:]**2 + rnAll[-1,1,:]**2 + rnAll[-1,2,:]**2) < 4e-3 )\n",
    "vnTrapped = vnAll[0,0,inTrapped]\n",
    "vnYTrapped = vnAll[0,1,inTrapped]\n",
    "vnZTrapped = vnAll[0,2,inTrapped]"
   ]
  },
  {
   "cell_type": "code",
   "execution_count": 378,
   "metadata": {},
   "outputs": [
    {
     "data": {
      "text/plain": [
       "<matplotlib.legend.Legend at 0x289634c61d0>"
      ]
     },
     "execution_count": 378,
     "metadata": {},
     "output_type": "execute_result"
    }
   ],
   "source": [
    "plt.figure(6)\n",
    "plt.cla()\n",
    "plt.hist(vnAll[0,0,:],bins=np.arange(10,45), label='initial')\n",
    "plt.hist(vnTrapped,bins=np.arange(10,45), label='captured');\n",
    "plt.xlabel(r'$v_{x, init}$ (m/s)')\n",
    "plt.ylabel('number atoms')\n",
    "plt.legend()"
   ]
  },
  {
   "cell_type": "markdown",
   "metadata": {},
   "source": [
    "# 5 orthogonal, coreshell, 2 crossed slowers"
   ]
  },
  {
   "cell_type": "code",
   "execution_count": 563,
   "metadata": {},
   "outputs": [],
   "source": [
    "w0 = 2.5e-3\n",
    "w0Shell = 1.7e-3\n",
    "w0vert = 4e-3\n",
    "delta556 = -25*gamma556\n",
    "delta399 = -1.2*gamma399\n",
    "S556 = 600\n",
    "S556vert = 8\n",
    "S399 = 0.96\n",
    "xS = -12e-3\n",
    "Gz = -(8e-2)#z fieldGrad\n",
    "muEff = 1.5*muB\n",
    "Natoms = 500\n",
    "x0 = -260e-3\n",
    "z0 = 0\n",
    "vx0 = 30\n",
    "Tx0 = m171*(2**2)/sc.k\n",
    "Trho0 = 2.5e-3\n",
    "NtimeSteps = 2500\n",
    "dt = 20e-6\n",
    "v0 = np.array([np.random.normal(vx0, np.sqrt(sc.k*Tx0/m171), Natoms),\n",
    "               np.random.normal(0, np.sqrt(sc.k*Trho0/m171), Natoms),\n",
    "               np.random.normal(0, np.sqrt(sc.k*Trho0/m171), Natoms)])\n",
    "r0 = np.array([np.zeros(Natoms)+x0, np.zeros(Natoms), np.zeros(Natoms)+z0])"
   ]
  },
  {
   "cell_type": "code",
   "execution_count": 564,
   "metadata": {},
   "outputs": [
    {
     "data": {
      "text/plain": [
       "[<matplotlib.lines.Line2D at 0x2895e319748>]"
      ]
     },
     "execution_count": 564,
     "metadata": {},
     "output_type": "execute_result"
    }
   ],
   "source": [
    "kb1t = motSim.motBeam(k556*np.array([0, 0, 1]), w0, np.zeros(3), gamma556, delta556, S556, 1)\n",
    "kb1bt = motSim.motBeamShell(k399*np.array([0, 0, 1]), w0Shell, np.zeros(3), gamma399, delta399, S399, 1, l=3)\n",
    "x = np.linspace(-3*w0,3*w0,200)\n",
    "r = np.array([x, np.zeros_like(x), np.zeros_like(x)])\n",
    "plt.figure(7)\n",
    "plt.cla()\n",
    "plt.plot(x, kb1t.Sat(r)/S556, color='#8ccf11')\n",
    "plt.plot(x, kb1bt.Sat(r)/S399, color='#8744c9')"
   ]
  },
  {
   "cell_type": "code",
   "execution_count": 565,
   "metadata": {},
   "outputs": [],
   "source": [
    "theta_h = 55.5*np.pi/180\n",
    "theta_c = 25*np.pi/180\n",
    "theta_cvert = 0*np.pi/180\n",
    "kb1 = motSim.motBeam(k556*np.array([np.cos(theta_h), np.sin(theta_h), 0]), w0, np.zeros(3), gamma556, delta556, S556, 1)\n",
    "kb2 = motSim.motBeam(k556*np.array([-np.cos(theta_h), np.sin(theta_h), 0]), w0, np.zeros(3), gamma556, delta556, S556, 1)\n",
    "kb3 = motSim.motBeam(k556*np.array([np.cos(theta_h), -np.sin(theta_h), 0]), w0, np.zeros(3), gamma556, delta556, S556, 1)\n",
    "kb4 = motSim.motBeam(k556*np.array([-np.cos(theta_h), -np.sin(theta_h), 0]), w0, np.zeros(3), gamma556, delta556, S556, 1)\n",
    "kb5 = motSim.motBeam(k556*np.array([0, 0, 1]), w0vert, np.zeros(3), gamma556, delta556, S556vert, -1)\n",
    "kb1b = motSim.motBeamShell(k399*np.array([np.cos(theta_h), np.sin(theta_h), 0]), w0, np.zeros(3), gamma399, delta399, S399, 1)\n",
    "kb2b = motSim.motBeamShell(k399*np.array([-np.cos(theta_h), np.sin(theta_h), 0]), w0, np.zeros(3), gamma399, delta399, S399, 1)\n",
    "kb3b = motSim.motBeamShell(k399*np.array([np.cos(theta_h), -np.sin(theta_h), 0]), w0, np.zeros(3), gamma399, delta399, S399, 1)\n",
    "kb4b = motSim.motBeamShell(k399*np.array([-np.cos(theta_h), -np.sin(theta_h), 0]), w0, np.zeros(3), gamma399, delta399, S399, 1)\n",
    "kb1bc = motSim.motBeamShell(k399*np.array([-np.sin(theta_c)*np.cos(theta_cvert), -np.cos(theta_c)*np.cos(theta_cvert), \n",
    "                                               np.sin(theta_cvert)]), w0, np.array([xS,0,0]), gamma399, delta399, S399, 1)\n",
    "kb2bc = motSim.motBeamShell(k399*np.array([-np.sin(theta_c)*np.cos(theta_cvert), np.cos(theta_c)*np.cos(theta_cvert), \n",
    "                                               np.sin(theta_cvert)]), w0, np.array([xS,0,0]), gamma399, delta399, S399, 1)\n",
    "# zeemanTheta = 3.5*np.pi/180\n",
    "# zeemanX0 = 10e-3\n",
    "# zeemanWidth = 4e-3\n",
    "# kb6 = motBeam.motBeam(k399*np.array([-np.cos(zeemanTheta), 0, np.sin(zeemanTheta)]), zeemanWidth, \n",
    "#                       np.array([zeemanX0, 0, -3e-3]), gamma399, delta399, 0.05, -1)\n",
    "kis = np.array([kb1, kb2, kb3, kb4, kb5, kb1b, kb2b, kb3b, kb4b, kb1bc, kb2bc])"
   ]
  },
  {
   "cell_type": "code",
   "execution_count": 566,
   "metadata": {},
   "outputs": [
    {
     "name": "stdout",
     "output_type": "stream",
     "text": [
      "capture fraction = 0.430\n"
     ]
    }
   ],
   "source": [
    "rnAll, vnAll, cFrac = motSim.RK4MC(kis, m171, muEff, Gz, r0, v0, dt, NtimeSteps, Natoms)"
   ]
  },
  {
   "cell_type": "code",
   "execution_count": 364,
   "metadata": {},
   "outputs": [
    {
     "data": {
      "text/plain": [
       "[<matplotlib.lines.Line2D at 0x289554b6a58>]"
      ]
     },
     "execution_count": 364,
     "metadata": {},
     "output_type": "execute_result"
    }
   ],
   "source": [
    "plt.figure(2)\n",
    "plt.cla()\n",
    "plt.plot(rnAll[::5,0,0],vnAll[::5,0,0])"
   ]
  },
  {
   "cell_type": "code",
   "execution_count": 376,
   "metadata": {},
   "outputs": [],
   "source": [
    "beamlen = 60\n",
    "plotSize = 60\n",
    "balpha = 0.08\n",
    "fig = plt.figure(3, figsize=[6,6])\n",
    "plt.cla()\n",
    "ax = fig.gca(projection='3d')\n",
    "ax.set_xlim([-20,20])\n",
    "ax.set_ylim([-20,20])\n",
    "ax.set_zlim([-20,20])\n",
    "motSim.plotBeams(ax, kis[:-2], plotSize/2, beamlen, beamWidth=w0*(1e3), colors=np.repeat('#9FCC3B',5), alpha=0.15)\n",
    "motSim.plotBeams(ax, kis[-2:], plotSize, 2*beamlen, beamWidth=w0*(1e3), colors=np.repeat('#1BAAD5',4), alpha=0.12)\n",
    "for i in range(Natoms):\n",
    "    ax.plot(rnAll[::10,0,i]*(1e3), rnAll[::10,1,i]*(1e3), rnAll[::10,2,i]*(1e3), color='k', alpha=0.01)\n",
    "    ax.scatter(rnAll[-1,0,i]*(1e3), rnAll[-1,1,i]*(1e3), rnAll[-1,2,i]*(1e3), c='#CC4129', s=2, alpha=0.5)\n",
    "#     ax.scatter(rnAll[-1,1,i]*(1e3), rnAll[-1,2,i]*(1e3), zs=ax.get_xlim()[0], zdir='x', c='#CC4129', s=2, alpha=0.2)\n",
    "#     ax.scatter(rnAll[-1,0,i]*(1e3), rnAll[-1,2,i]*(1e3), zs=ax.get_ylim()[1], zdir='y', c='#CC4129', s=2, alpha=0.2)\n",
    "#     ax.scatter(rnAll[-1,0,i]*(1e3), rnAll[-1,1,i]*(1e3), zs=ax.get_zlim()[0], zdir='z', c='#CC4129', s=2, alpha=0.2)\n",
    "ax.set_xlabel('x (mm)')\n",
    "ax.set_ylabel('y (mm)')\n",
    "ax.set_zlabel('z (mm)')\n",
    "ax.w_xaxis.set_pane_color((0,0,0,0.01))\n",
    "ax.w_yaxis.set_pane_color((0,0,0,0.01))\n",
    "ax.w_zaxis.set_pane_color((0,0,0,0.01))"
   ]
  },
  {
   "cell_type": "code",
   "execution_count": 202,
   "metadata": {},
   "outputs": [
    {
     "data": {
      "text/plain": [
       "<matplotlib.legend.Legend at 0x166f7ff0438>"
      ]
     },
     "execution_count": 202,
     "metadata": {},
     "output_type": "execute_result"
    }
   ],
   "source": [
    "x = np.linspace(-20e-3,20e-3,200)\n",
    "Fkb556test = motSim.FMOT(m171, muEff, Gz, np.array([x, np.zeros_like(x), np.zeros_like(x)]),np.zeros((3,len(x))),kis[:-2])\n",
    "Fkb399test = motSim.FMOT(m171, muEff, Gz, np.array([x, np.zeros_like(x), np.zeros_like(x)+(0e-3)]),np.array([np.ones_like(x)*25, np.zeros_like(x), np.zeros_like(x)]),kis[-2:])\n",
    "Fkb399testv10 = motSim.FMOT(m171, muEff, Gz, np.array([x, np.zeros_like(x), np.zeros_like(x)]),np.array([np.ones_like(x)*10, np.zeros_like(x), np.zeros_like(x)]),kis[-2:])\n",
    "Fkb399testv0 = motSim.FMOT(m171, muEff, Gz, np.array([x, np.zeros_like(x), np.zeros_like(x)]),np.zeros((3,len(x))),kis[-2:])\n",
    "Fkbtest = motSim.FMOT(m171, muEff, Gz, np.array([x, np.zeros_like(x), np.zeros_like(x)]),np.zeros((3,len(x))),kis)\n",
    "fig, ax = plt.subplots()\n",
    "plt.plot(x, Fkb399test[0], label='399, v=25m/s')\n",
    "plt.plot(x, Fkb556test[0], label='556, v=0 m/s')\n",
    "plt.plot(x, Fkb399testv0[0], label='399, v=0 m/s')\n",
    "plt.plot(x, Fkb399testv10[0], label='399, v=10 m/s')\n",
    "plt.plot(x, Fkbtest[0], label='sum')\n",
    "plt.legend()"
   ]
  },
  {
   "cell_type": "code",
   "execution_count": 102,
   "metadata": {},
   "outputs": [
    {
     "data": {
      "text/plain": [
       "[<matplotlib.lines.Line2D at 0x28955bbaeb8>]"
      ]
     },
     "execution_count": 102,
     "metadata": {},
     "output_type": "execute_result"
    }
   ],
   "source": [
    "x = np.linspace(-50e-3,10e-3,200)\n",
    "z = x\n",
    "FkbtestX = motSim.FMOT(m171, muEff, Gz, np.array([x, np.zeros_like(x), np.zeros_like(x)]),np.zeros((3,len(x))),kis)\n",
    "FkbtestXSlowers = motSim.FMOT(m171, muEff, Gz, np.array([x, np.zeros_like(x), np.zeros_like(x)]),np.zeros((3,len(x))),kis[-2:])\n",
    "FkbtestXGreen = motSim.FMOT(m171, muEff, Gz, np.array([x, np.zeros_like(x), np.zeros_like(x)]),np.zeros((3,len(x))),kis[:-2])\n",
    "# FkbtestZ = motSim.FMOT(m171, muEff, Gz, np.array([np.zeros_like(z), np.zeros_like(z), z]),np.zeros((3,len(z))),kis)\n",
    "plt.figure(4)\n",
    "plt.cla()\n",
    "plt.plot(x, FkbtestXSlowers[0]/m171)\n",
    "plt.plot(x, FkbtestXGreen[0]/m171)\n",
    "# plt.plot(x, FkbtestX[0]/m171)\n",
    "# plt.plot(z, FkbtestZ[0])"
   ]
  },
  {
   "cell_type": "code",
   "execution_count": 377,
   "metadata": {},
   "outputs": [],
   "source": [
    "inTrapped = ( np.sqrt(rnAll[-1,0,:]**2 + rnAll[-1,1,:]**2 + rnAll[-1,2,:]**2) < 4e-3 )\n",
    "vnTrapped = vnAll[0,0,inTrapped]\n",
    "vnYTrapped = vnAll[0,1,inTrapped]\n",
    "vnZTrapped = vnAll[0,2,inTrapped]"
   ]
  },
  {
   "cell_type": "code",
   "execution_count": 378,
   "metadata": {},
   "outputs": [
    {
     "data": {
      "text/plain": [
       "<matplotlib.legend.Legend at 0x289634c61d0>"
      ]
     },
     "execution_count": 378,
     "metadata": {},
     "output_type": "execute_result"
    }
   ],
   "source": [
    "plt.figure(6)\n",
    "plt.cla()\n",
    "plt.hist(vnAll[0,0,:],bins=np.arange(10,45), label='initial')\n",
    "plt.hist(vnTrapped,bins=np.arange(10,45), label='captured');\n",
    "plt.xlabel(r'$v_{x, init}$ (m/s)')\n",
    "plt.ylabel('number atoms')\n",
    "plt.legend()"
   ]
  },
  {
   "cell_type": "markdown",
   "metadata": {},
   "source": [
    "# 5 orthogonal, 2 crossed slowers, freq broadening"
   ]
  },
  {
   "cell_type": "code",
   "execution_count": 427,
   "metadata": {},
   "outputs": [
    {
     "data": {
      "text/plain": [
       "<module 'motSim' from 'A:\\\\Analysis_code\\\\Yb_notebooks\\\\MOT_simulations\\\\motSim.py'>"
      ]
     },
     "execution_count": 427,
     "metadata": {},
     "output_type": "execute_result"
    }
   ],
   "source": [
    "importlib.reload(motSim)"
   ]
  },
  {
   "cell_type": "code",
   "execution_count": 567,
   "metadata": {},
   "outputs": [],
   "source": [
    "w0 = 2.5e-3\n",
    "w0vert = 4e-3\n",
    "gamma556B = 50*gamma556\n",
    "delta556 = -25*gamma556;\n",
    "delta556B = -2*gamma556B\n",
    "delta399 = -1.2*gamma399\n",
    "S556 = 2\n",
    "S556vert = 8\n",
    "S399 = 2\n",
    "xS = -8e-3\n",
    "Gz = -(8e-2)#z fieldGrad\n",
    "muEff = 1.5*muB\n",
    "Natoms = 500\n",
    "x0 = -260e-3\n",
    "z0 = 0\n",
    "vx0 = 30\n",
    "Tx0 = m171*(20**2)/sc.k\n",
    "Trho0 = 1e-3\n",
    "NtimeSteps = 2500\n",
    "dt = 30e-6\n",
    "v0 = np.array([np.random.normal(vx0, np.sqrt(sc.k*Tx0/m171), Natoms),\n",
    "               np.random.normal(0, np.sqrt(sc.k*Trho0/m171), Natoms),\n",
    "               np.random.normal(0, np.sqrt(sc.k*Trho0/m171), Natoms)])\n",
    "r0 = np.array([np.zeros(Natoms)+x0, np.zeros(Natoms), np.zeros(Natoms)+z0])"
   ]
  },
  {
   "cell_type": "code",
   "execution_count": 554,
   "metadata": {},
   "outputs": [],
   "source": [
    "theta_h = 55.5*np.pi/180\n",
    "theta_c = 25*np.pi/180\n",
    "theta_cvert = 0*np.pi/180\n",
    "kb1 = motSim.motBeamFreqDith(k556*np.array([np.cos(theta_h), np.sin(theta_h), 0]), w0, np.zeros(3), gamma556B, delta556, S556, 1, gammaB=gamma556B)\n",
    "kb2 = motSim.motBeamFreqDith(k556*np.array([-np.cos(theta_h), np.sin(theta_h), 0]), w0, np.zeros(3), gamma556B, delta556, S556, 1, gammaB=gamma556B)\n",
    "kb3 = motSim.motBeamFreqDith(k556*np.array([np.cos(theta_h), -np.sin(theta_h), 0]), w0, np.zeros(3), gamma556B, delta556, S556, 1, gammaB=gamma556B)\n",
    "kb4 = motSim.motBeamFreqDith(k556*np.array([-np.cos(theta_h), -np.sin(theta_h), 0]), w0, np.zeros(3), gamma556B, delta556, S556, 1, gammaB=gamma556B)\n",
    "kb5 = motSim.motBeam(k556*np.array([0, 0, 1]), w0vert, np.zeros(3), gamma556, delta556, S556vert, -1)\n",
    "kb1b = motSim.motBeam(k399*np.array([-np.sin(theta_c)*np.cos(theta_cvert), -np.cos(theta_c)*np.cos(theta_cvert), np.sin(theta_cvert)]), w0, np.array([xS,0,0]), gamma399, delta399, S399, 1)\n",
    "kb2b = motSim.motBeam(k399*np.array([-np.sin(theta_c)*np.cos(theta_cvert), np.cos(theta_c)*np.cos(theta_cvert), np.sin(theta_cvert)]), w0, np.array([xS,0,0]), gamma399, delta399, S399, 1)\n",
    "# zeemanTheta = 3.5*np.pi/180\n",
    "# zeemanX0 = 10e-3\n",
    "# zeemanWidth = 4e-3\n",
    "# kb6 = motBeam.motBeam(k399*np.array([-np.cos(zeemanTheta), 0, np.sin(zeemanTheta)]), zeemanWidth, \n",
    "#                       np.array([zeemanX0, 0, -3e-3]), gamma399, delta399, 0.05, -1)\n",
    "kis = np.array([kb1, kb2, kb3, kb4, kb5, kb1b, kb2b])"
   ]
  },
  {
   "cell_type": "code",
   "execution_count": 555,
   "metadata": {},
   "outputs": [
    {
     "name": "stdout",
     "output_type": "stream",
     "text": [
      "capture fraction = 0.060\n"
     ]
    }
   ],
   "source": [
    "rnAll, vnAll, cFrac = motSim.RK4MC(kis, m171, muEff, Gz, r0, v0, dt, NtimeSteps, Natoms)"
   ]
  },
  {
   "cell_type": "code",
   "execution_count": 528,
   "metadata": {},
   "outputs": [
    {
     "data": {
      "text/plain": [
       "[<matplotlib.lines.Line2D at 0x2896223ffd0>]"
      ]
     },
     "execution_count": 528,
     "metadata": {},
     "output_type": "execute_result"
    }
   ],
   "source": [
    "plt.figure(2)\n",
    "plt.cla()\n",
    "plt.plot(rnAll[250::2,0,0],vnAll[250::2,0,0])"
   ]
  },
  {
   "cell_type": "code",
   "execution_count": 517,
   "metadata": {},
   "outputs": [],
   "source": [
    "beamlen = 60\n",
    "plotSize = 60\n",
    "balpha = 0.08\n",
    "fig = plt.figure(3, figsize=[6,6])\n",
    "plt.cla()\n",
    "ax = fig.gca(projection='3d')\n",
    "ax.set_xlim([-20,20])\n",
    "ax.set_ylim([-20,20])\n",
    "ax.set_zlim([-20,20])\n",
    "motSim.plotBeams(ax, kis[:-2], plotSize/2, beamlen, beamWidth=w0*(1e3), colors=np.repeat('#9FCC3B',5), alpha=0.15)\n",
    "motSim.plotBeams(ax, kis[-2:], plotSize, 2*beamlen, beamWidth=w0*(1e3), colors=np.repeat('#1BAAD5',4), alpha=0.12)\n",
    "for i in range(Natoms):\n",
    "    ax.plot(rnAll[::10,0,i]*(1e3), rnAll[::10,1,i]*(1e3), rnAll[::10,2,i]*(1e3), color='k', alpha=0.01)\n",
    "    ax.scatter(rnAll[-1,0,i]*(1e3), rnAll[-1,1,i]*(1e3), rnAll[-1,2,i]*(1e3), c='#CC4129', s=2, alpha=0.5)\n",
    "#     ax.scatter(rnAll[-1,1,i]*(1e3), rnAll[-1,2,i]*(1e3), zs=ax.get_xlim()[0], zdir='x', c='#CC4129', s=2, alpha=0.2)\n",
    "#     ax.scatter(rnAll[-1,0,i]*(1e3), rnAll[-1,2,i]*(1e3), zs=ax.get_ylim()[1], zdir='y', c='#CC4129', s=2, alpha=0.2)\n",
    "#     ax.scatter(rnAll[-1,0,i]*(1e3), rnAll[-1,1,i]*(1e3), zs=ax.get_zlim()[0], zdir='z', c='#CC4129', s=2, alpha=0.2)\n",
    "ax.set_xlabel('x (mm)')\n",
    "ax.set_ylabel('y (mm)')\n",
    "ax.set_zlabel('z (mm)')\n",
    "ax.w_xaxis.set_pane_color((0,0,0,0.01))\n",
    "ax.w_yaxis.set_pane_color((0,0,0,0.01))\n",
    "ax.w_zaxis.set_pane_color((0,0,0,0.01))"
   ]
  },
  {
   "cell_type": "code",
   "execution_count": 202,
   "metadata": {},
   "outputs": [
    {
     "data": {
      "text/plain": [
       "<matplotlib.legend.Legend at 0x166f7ff0438>"
      ]
     },
     "execution_count": 202,
     "metadata": {},
     "output_type": "execute_result"
    }
   ],
   "source": [
    "x = np.linspace(-20e-3,20e-3,200)\n",
    "Fkb556test = motSim.FMOT(m171, muEff, Gz, np.array([x, np.zeros_like(x), np.zeros_like(x)]),np.zeros((3,len(x))),kis[:-2])\n",
    "Fkb399test = motSim.FMOT(m171, muEff, Gz, np.array([x, np.zeros_like(x), np.zeros_like(x)+(0e-3)]),np.array([np.ones_like(x)*25, np.zeros_like(x), np.zeros_like(x)]),kis[-2:])\n",
    "Fkb399testv10 = motSim.FMOT(m171, muEff, Gz, np.array([x, np.zeros_like(x), np.zeros_like(x)]),np.array([np.ones_like(x)*10, np.zeros_like(x), np.zeros_like(x)]),kis[-2:])\n",
    "Fkb399testv0 = motSim.FMOT(m171, muEff, Gz, np.array([x, np.zeros_like(x), np.zeros_like(x)]),np.zeros((3,len(x))),kis[-2:])\n",
    "Fkbtest = motSim.FMOT(m171, muEff, Gz, np.array([x, np.zeros_like(x), np.zeros_like(x)]),np.zeros((3,len(x))),kis)\n",
    "fig, ax = plt.subplots()\n",
    "plt.plot(x, Fkb399test[0], label='399, v=25m/s')\n",
    "plt.plot(x, Fkb556test[0], label='556, v=0 m/s')\n",
    "plt.plot(x, Fkb399testv0[0], label='399, v=0 m/s')\n",
    "plt.plot(x, Fkb399testv10[0], label='399, v=10 m/s')\n",
    "plt.plot(x, Fkbtest[0], label='sum')\n",
    "plt.legend()"
   ]
  },
  {
   "cell_type": "code",
   "execution_count": 121,
   "metadata": {},
   "outputs": [
    {
     "data": {
      "text/plain": [
       "Text(0, 0.5, 'normalized intensity')"
      ]
     },
     "execution_count": 121,
     "metadata": {},
     "output_type": "execute_result"
    }
   ],
   "source": [
    "s = np.linspace(-5*w0, 5*w0, 200)\n",
    "r = np.array([[-s/np.sqrt(2)], s/np.sqrt(2), np.zeros_like(s)])\n",
    "fig, ax = plt.subplots()\n",
    "plt.plot(s*(1e3),kb1b.Sat(r)[0]/S399) #/kb1b.Sat(r)[0,int(len(s)/2)]\n",
    "plt.plot(s*(1e3),kb1.Sat(r)[0]/S556)\n",
    "plt.xlabel(r'$\\rho$ (mm)')\n",
    "plt.ylabel('normalized intensity')"
   ]
  },
  {
   "cell_type": "code",
   "execution_count": 122,
   "metadata": {},
   "outputs": [
    {
     "data": {
      "text/plain": [
       "[<matplotlib.lines.Line2D at 0x17bfe8c35c0>]"
      ]
     },
     "execution_count": 122,
     "metadata": {},
     "output_type": "execute_result"
    }
   ],
   "source": [
    "t = np.arange(0, dt*NtimeSteps, dt*10)\n",
    "fig, ax = plt.subplots()\n",
    "plt.plot(t,vnAll[::10,0,0])"
   ]
  },
  {
   "cell_type": "code",
   "execution_count": 432,
   "metadata": {},
   "outputs": [
    {
     "data": {
      "text/plain": [
       "[<matplotlib.lines.Line2D at 0x2896d7c7908>]"
      ]
     },
     "execution_count": 432,
     "metadata": {},
     "output_type": "execute_result"
    }
   ],
   "source": [
    "x = np.linspace(-10e-3,10e-3,200)\n",
    "z = x\n",
    "FkbtestX = motSim.FMOT(m171, muEff, Gz, np.array([x, np.zeros_like(x), np.zeros_like(x)]),np.zeros((3,len(x))),kis[:-2])\n",
    "# FkbtestZ = motSim.FMOT(m171, muEff, Gz, np.array([np.zeros_like(z), np.zeros_like(z), z]),np.zeros((3,len(z))),kis)\n",
    "plt.figure(4)\n",
    "plt.cla()\n",
    "plt.plot(x, FkbtestX[0]/m171)\n",
    "# plt.plot(z, FkbtestZ[2])"
   ]
  },
  {
   "cell_type": "code",
   "execution_count": 418,
   "metadata": {},
   "outputs": [
    {
     "data": {
      "text/plain": [
       "Text(0.5, 1.0, 'vx = 5 m/s')"
      ]
     },
     "execution_count": 418,
     "metadata": {},
     "output_type": "execute_result"
    }
   ],
   "source": [
    "x = np.linspace(-20e-3,10e-3,200)\n",
    "dfs = np.arange(-30,-10,2)\n",
    "vx = 5\n",
    "norm = mpl.colors.Normalize(vmin=dfs[0], vmax=dfs[-1]+5)\n",
    "cmap = mpl.cm.ScalarMappable(norm=norm, cmap=mpl.cm.plasma)\n",
    "cmap.set_array([])\n",
    "norm = mpl.colors.Normalize(vmin=dfs[0], vmax=0)\n",
    "plt.figure(5)\n",
    "plt.clf()\n",
    "ax = fig.gca()\n",
    "for df in dfs:\n",
    "    dfG = df*gamma556\n",
    "    kb1 = motSim.motBeam(k556*np.array([np.cos(theta_h), np.sin(theta_h), 0]), w0, np.zeros(3), gamma556B, dfG, S556, 1)\n",
    "    kb2 = motSim.motBeam(k556*np.array([-np.cos(theta_h), np.sin(theta_h), 0]), w0, np.zeros(3), gamma556B, dfG, S556, 1)\n",
    "    kb3 = motSim.motBeam(k556*np.array([np.cos(theta_h), -np.sin(theta_h), 0]), w0, np.zeros(3), gamma556B, dfG, S556, 1)\n",
    "    kb4 = motSim.motBeam(k556*np.array([-np.cos(theta_h), -np.sin(theta_h), 0]), w0, np.zeros(3), gamma556B, dfG, S556, 1)\n",
    "    kb5 = motSim.motBeam(k556*np.array([0, 0, 1]), w0vert, np.zeros(3), gamma556, dfG, S556vert, -1)\n",
    "    kis = np.array([kb1, kb2, kb3, kb4, kb5])\n",
    "    FkbtestX = motSim.FMOT(m171, muEff, Gz, np.array([x, np.zeros_like(x), np.zeros_like(x)]),\n",
    "                          np.array([vx*np.ones_like(x), np.zeros_like(x), np.zeros_like(x)]),kis)\n",
    "    plt.plot(x*(1e3), FkbtestX[0]/m171, color=cmap.to_rgba(df))\n",
    "plt.xlabel('x (mm)')\n",
    "plt.ylabel('Fx/m171')\n",
    "cbar = plt.colorbar(cmap)\n",
    "cbar.ax.set_ylabel('detuning ($\\Gamma$)')\n",
    "plt.title('vx = '+str(vx)+' m/s')"
   ]
  },
  {
   "cell_type": "code",
   "execution_count": 458,
   "metadata": {},
   "outputs": [],
   "source": [
    "inTrapped = ( np.sqrt(rnAll[-1,0,:]**2 + rnAll[-1,1,:]**2 + rnAll[-1,2,:]**2) < 4e-3 )\n",
    "vnTrapped = vnAll[0,0,inTrapped]\n",
    "vnYTrapped = vnAll[0,1,inTrapped]\n",
    "vnZTrapped = vnAll[0,2,inTrapped]"
   ]
  },
  {
   "cell_type": "code",
   "execution_count": 460,
   "metadata": {},
   "outputs": [
    {
     "data": {
      "text/plain": [
       "Text(0.5, 1.0, 'T$_{transverse}$ = 1 mK')"
      ]
     },
     "execution_count": 460,
     "metadata": {},
     "output_type": "execute_result"
    }
   ],
   "source": [
    "plt.figure(6)\n",
    "plt.cla()\n",
    "plt.hist(vnAll[0,0,:],bins=np.arange(10,45), label='initial')\n",
    "plt.hist(vnTrapped,bins=np.arange(10,45), label='captured');\n",
    "plt.xlabel(r'$v_{x, init}$ (m/s)')\n",
    "plt.ylabel('number atoms')\n",
    "plt.legend()\n",
    "plt.title('T$_{transverse}$ = 1 mK')"
   ]
  },
  {
   "cell_type": "code",
   "execution_count": 532,
   "metadata": {},
   "outputs": [
    {
     "data": {
      "text/plain": [
       "<matplotlib.legend.Legend at 0x2895e0d1358>"
      ]
     },
     "execution_count": 532,
     "metadata": {},
     "output_type": "execute_result"
    }
   ],
   "source": [
    "plt.figure(8)\n",
    "plt.cla()\n",
    "plt.hist(vnAll[0,1,:],bins=np.arange(-0.5,0.5,0.1), label='initial')\n",
    "plt.hist(vnYTrapped,bins=np.arange(-0.5,0.5,0.1), label='captured');\n",
    "plt.xlabel(r'$v_{init,y}$ (m/s)')\n",
    "plt.ylabel('number atoms')\n",
    "plt.legend()"
   ]
  },
  {
   "cell_type": "code",
   "execution_count": 76,
   "metadata": {},
   "outputs": [
    {
     "data": {
      "text/plain": [
       "<matplotlib.legend.Legend at 0x166ee1bccf8>"
      ]
     },
     "execution_count": 76,
     "metadata": {},
     "output_type": "execute_result"
    }
   ],
   "source": [
    "fig, ax = plt.subplots()\n",
    "plt.hist(vnAll[0,2,:],bins=np.arange(-0.5,0.5,0.1), label='initial')\n",
    "plt.hist(vnZTrapped,bins=np.arange(-0.5,0.5,0.1), label='captured');\n",
    "plt.xlabel(r'$v_{init,z}$ (m/s)')\n",
    "plt.ylabel('number atoms')\n",
    "plt.legend()"
   ]
  },
  {
   "cell_type": "code",
   "execution_count": 45,
   "metadata": {},
   "outputs": [
    {
     "data": {
      "text/plain": [
       "500.0"
      ]
     },
     "execution_count": 45,
     "metadata": {},
     "output_type": "execute_result"
    }
   ],
   "source": [
    "t = 0.3/30\n",
    "g = 10\n",
    "dz = 0.5*(t**2)*g\n",
    "dz*(1e6)"
   ]
  },
  {
   "cell_type": "code",
   "execution_count": null,
   "metadata": {},
   "outputs": [],
   "source": []
  },
  {
   "cell_type": "code",
   "execution_count": 552,
   "metadata": {},
   "outputs": [
    {
     "data": {
      "text/plain": [
       "<matplotlib.legend.Legend at 0x2896d30c278>"
      ]
     },
     "execution_count": 552,
     "metadata": {},
     "output_type": "execute_result"
    }
   ],
   "source": [
    "plt.figure(8)\n",
    "plt.cla()\n",
    "plt.hist(vnAll[-1,0,:],bins=np.arange(-35,35), label='final')\n",
    "plt.xlabel(r'$v_{x, final}$ (m/s)')\n",
    "plt.ylabel('number atoms')\n",
    "plt.legend()"
   ]
  },
  {
   "cell_type": "code",
   "execution_count": 60,
   "metadata": {},
   "outputs": [
    {
     "data": {
      "text/plain": [
       "0.002465724061101375"
      ]
     },
     "execution_count": 60,
     "metadata": {},
     "output_type": "execute_result"
    }
   ],
   "source": [
    "t = 0.3/30\n",
    "vt = np.sqrt(0.5*sc.k*(2.5e-3)/m171)\n",
    "vt*t"
   ]
  },
  {
   "cell_type": "code",
   "execution_count": 107,
   "metadata": {},
   "outputs": [
    {
     "data": {
      "text/plain": [
       "64.99825074232679"
      ]
     },
     "execution_count": 107,
     "metadata": {},
     "output_type": "execute_result"
    }
   ],
   "source": [
    "90-np.arctan(169.05/362.5)*180/np.pi"
   ]
  },
  {
   "cell_type": "code",
   "execution_count": 46,
   "metadata": {},
   "outputs": [
    {
     "data": {
      "text/plain": [
       "[<matplotlib.lines.Line2D at 0x271ed824940>]"
      ]
     },
     "execution_count": 46,
     "metadata": {},
     "output_type": "execute_result"
    }
   ],
   "source": [
    "x = np.linspace(-1,1,100)\n",
    "plt.figure(6)\n",
    "plt.cla()\n",
    "plt.plot(x, np.heaviside(x+0.5,0.5)*np.heaviside(-x+0.5,0.5))"
   ]
  },
  {
   "cell_type": "code",
   "execution_count": 457,
   "metadata": {},
   "outputs": [
    {
     "data": {
      "text/plain": [
       "2.7292586178061327e-05"
      ]
     },
     "execution_count": 457,
     "metadata": {},
     "output_type": "execute_result"
    }
   ],
   "source": [
    "np.pi*(w0**2)*2*Is556/2"
   ]
  },
  {
   "cell_type": "code",
   "execution_count": null,
   "metadata": {},
   "outputs": [],
   "source": []
  }
 ],
 "metadata": {
  "kernelspec": {
   "display_name": "Python 3",
   "language": "python",
   "name": "python3"
  },
  "language_info": {
   "codemirror_mode": {
    "name": "ipython",
    "version": 3
   },
   "file_extension": ".py",
   "mimetype": "text/x-python",
   "name": "python",
   "nbconvert_exporter": "python",
   "pygments_lexer": "ipython3",
   "version": "3.6.9"
  },
  "toc-autonumbering": true,
  "toc-showtags": false
 },
 "nbformat": 4,
 "nbformat_minor": 4
}
