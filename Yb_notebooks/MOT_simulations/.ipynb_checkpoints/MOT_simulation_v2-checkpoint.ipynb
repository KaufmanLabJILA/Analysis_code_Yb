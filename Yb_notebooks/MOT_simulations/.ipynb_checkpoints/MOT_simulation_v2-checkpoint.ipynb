{
 "cells": [
  {
   "cell_type": "code",
   "execution_count": 1,
   "metadata": {},
   "outputs": [],
   "source": [
    "%matplotlib ipympl\n",
    "import numpy as np\n",
    "import scipy.constants as sc\n",
    "import matplotlib.pyplot as plt\n",
    "from mpl_toolkits.mplot3d import Axes3D\n",
    "import motSim"
   ]
  },
  {
   "cell_type": "markdown",
   "metadata": {},
   "source": [
    "$\\newcommand{\\ket}[1]{\\left|{#1}\\right\\rangle}$\n",
    "$\\newcommand{\\bra}[1]{\\left\\langle{#1}\\right|}$"
   ]
  },
  {
   "cell_type": "code",
   "execution_count": 2,
   "metadata": {},
   "outputs": [],
   "source": [
    "muB=9.274e-24\n",
    "AMU=1.66e-27\n",
    "m171 = 171*AMU\n",
    "Is556 = (0.139e-3)*(1e4)\n",
    "Is399 = (59.97e-3)*(1e4)\n",
    "k556 = 2*np.pi/(556e-9)\n",
    "k399 = 2*np.pi/(399e-9)\n",
    "gamma556 = 2*np.pi*180e3\n",
    "gamma399 = 2*np.pi*30e6\n",
    "Td = sc.hbar*gamma556/(2*sc.k)\n",
    "vd = np.sqrt(sc.hbar*gamma556/(2*m171))"
   ]
  },
  {
   "cell_type": "markdown",
   "metadata": {},
   "source": [
    "capture velocity estimate:"
   ]
  },
  {
   "cell_type": "markdown",
   "metadata": {},
   "source": [
    "$$\n",
    "\\frac{1}{2} m v^2 = \\frac{\\hbar k \\Gamma}{2} d\n",
    "$$\n",
    "\n",
    "$$\n",
    "v_c = \\sqrt{\\frac{\\hbar k \\Gamma d}{m}}\n",
    "$$"
   ]
  },
  {
   "cell_type": "markdown",
   "metadata": {},
   "source": [
    "$$\n",
    "T_d = \\frac{\\hbar \\Gamma}{2 k_b}\n",
    "$$\n",
    "\n",
    "$$\n",
    "v_d = \\sqrt{\\frac{k_b T_d}{m}} = \\sqrt{ \\frac{\\hbar \\Gamma}{2 m} }\n",
    "$$"
   ]
  },
  {
   "cell_type": "code",
   "execution_count": 309,
   "metadata": {},
   "outputs": [],
   "source": [
    "def vcMOT(d):\n",
    "    return np.sqrt(sc.hbar*k556*gamma556*d/m171)"
   ]
  },
  {
   "cell_type": "markdown",
   "metadata": {},
   "source": [
    "## MOT force expressions"
   ]
  },
  {
   "cell_type": "markdown",
   "metadata": {},
   "source": [
    "Force from a pair of counter-propagating beams is \n",
    "$\\mathbf{F} = \\mathbf{F_+} + \\mathbf{F_-}$, where\n",
    "\n",
    "$$\n",
    "\\mathbf{F_{\\pm}} = \\pm \\frac{\\hbar \\mathbf{k} \\Gamma}{2} \\frac{s_0}{1+s_0+\\left( \\frac{2 \\delta \\mp \\omega_D \\mp \\mu'B/\\hbar}{\\Gamma}\\right)^2} \n",
    "$$"
   ]
  },
  {
   "cell_type": "markdown",
   "metadata": {},
   "source": [
    "assuming the quantization axis is along the beam direction.\n"
   ]
  },
  {
   "cell_type": "markdown",
   "metadata": {},
   "source": [
    "When the atom is displaced from the z axis, the quantization axis won't be along axis of the beam and the polarization of each beam will be a mixture of $\\sigma^-$, $\\sigma^+$, and $\\pi$. The polarization (in the $\\sigma^-$, $\\pi$, $\\sigma^+$-basis) can be rotated around y and z using the spin-1 rotation matrices,\n",
    "\n",
    "$$\n",
    "U_y(\\theta) = \\left( \\begin{array} ~\\frac{1}{2} (1+cos(\\theta)) & -\\frac{1}{\\sqrt{2}}sin(\\theta) & \\frac{1}{2}(1-cos(\\theta)) \\\\\n",
    "\\frac{1}{\\sqrt{2}}sin(\\theta) & cos(\\theta) & -\\frac{1}{\\sqrt{2}}sin(\\theta) \\\\\n",
    "\\frac{1}{2} (1-cos(\\theta)) & \\frac{1}{\\sqrt{2}}sin(\\theta) & \\frac{1}{2}(1+cos(\\theta))\n",
    "\\end{array} \\right)\n",
    "$$\n",
    "\n",
    "$$\n",
    "U_z(\\phi) = \\left( \\begin{array} ~e^{-i \\phi} & 0 & 0 \\\\\n",
    "0 & 1 & 0) \\\\\n",
    "0 & 0 & e^{i \\phi}\n",
    "\\end{array} \\right)\n",
    "$$"
   ]
  },
  {
   "cell_type": "markdown",
   "metadata": {},
   "source": [
    "In a frame rotated relative to a right-handed beam by $\\theta$, (-$\\theta$?, doesn't matter I think)\n",
    "$$\n",
    "\\frac{1}{2}(1+cos(\\theta)) \\ket{\\sigma^+} + \\frac{1}{\\sqrt{2}}sin(\\theta)\\ket{\\pi} + \\frac{1}{2}(1-cos(\\theta))\\ket{\\sigma^-}\n",
    "$$"
   ]
  },
  {
   "cell_type": "markdown",
   "metadata": {},
   "source": [
    "break each beam into its two circular polarization components relative to $\\boldsymbol{\\mu'}$, ignore $\\pi$ component. Right-handed beam (relative to $\\mathbf{k_1}$) gives a force:"
   ]
  },
  {
   "cell_type": "markdown",
   "metadata": {},
   "source": [
    "$$\n",
    "\\mathbf{F_{k1}} = \\frac{\\hbar \\mathbf{k} \\Gamma s_0}{2} \\left[ \\frac{\\left(\\frac{1}{2}(1-cos(\\theta))\\right)^2}{1+s_0+\\left( \\frac{2 (\\delta - kv_{k1} + \\mu'B/\\hbar)}{\\Gamma} \\right)^2} \n",
    "+ \\frac{\\left(\\frac{1}{2}(1+cos(\\theta))\\right)^2}{1+s_0+\\left( \\frac{2 (\\delta - kv_{k1} - \\mu'B/\\hbar)}{\\Gamma} \\right)^2} \\right]\n",
    "$$"
   ]
  },
  {
   "cell_type": "markdown",
   "metadata": {},
   "source": [
    "where $\\theta$ is the angle between $\\mathbf{k_1}$ and $\\boldsymbol{\\mu'}$. Sign in front of Zeeman detuning is pretty confusing— left term is shift of $\\Delta m_F = -1$, right term is shift of $\\Delta m_F = +1$ transition. When $\\theta=\\pi$, $\\mathbf{B}$ and $\\boldsymbol{\\mu'}$ point opposite $\\mathbf{k_1}$ and the right-handed beam (relative to $\\mathbf{k_1}$) looks left-handed to the atom, driving $\\Delta m_F = -1$ giving the shift $+\\mu'B/\\hbar$."
   ]
  },
  {
   "cell_type": "markdown",
   "metadata": {},
   "source": [
    "## zeeman slower eqns"
   ]
  },
  {
   "cell_type": "markdown",
   "metadata": {},
   "source": [
    "constant acceleration field profile:\n",
    "$$\n",
    "B(z) = B_0 + B_a \\sqrt{1-\\frac{z}{z_0}}\n",
    "$$"
   ]
  },
  {
   "cell_type": "markdown",
   "metadata": {},
   "source": [
    "where $B_a = \\frac{\\hbar k v_i}{\\mu'}$, $z_0 = \\frac{v_i^2}{2a}$, $a=\\frac{s_0}{1+s_0} a_{max}$, and $B_0 = \\frac{\\hbar\\delta}{\\mu'}$"
   ]
  },
  {
   "cell_type": "code",
   "execution_count": 192,
   "metadata": {},
   "outputs": [
    {
     "name": "stdout",
     "output_type": "stream",
     "text": [
      "-71.44781151606642 0.14922266398510112 551378.7893914512 0.0056676101078335225\n"
     ]
    }
   ],
   "source": [
    "amax= sc.hbar*k399*gamma399/(2*m171)\n",
    "a = 0.1*amax\n",
    "vi = 25\n",
    "z0 = (vi**2)/(2*a)\n",
    "Ba = sc.hbar*k399*25/muEff\n",
    "B0 = -sc.hbar*5*gamma399/muEff\n",
    "print((1e4)*B0, (1e2)*Ba/2, amax, z0)"
   ]
  },
  {
   "cell_type": "markdown",
   "metadata": {},
   "source": [
    "# pyramid MOT, 1 blue slower"
   ]
  },
  {
   "cell_type": "markdown",
   "metadata": {},
   "source": [
    "4 green beams in pyramid shape through bottom of cell, 1 blue beam as a Zeeman slower pointing towards diff pumping tube"
   ]
  },
  {
   "cell_type": "code",
   "execution_count": 3,
   "metadata": {},
   "outputs": [],
   "source": [
    "w0 = 7e-3\n",
    "delta556 = -30*gamma556\n",
    "delta399 = -3*gamma399\n",
    "S556 = 50\n",
    "S399 = 0.024\n",
    "Bp = (2e-2)#fieldGrad\n",
    "muEff = 1.5*muB\n",
    "zeemanTheta = 2.1*np.pi/180\n",
    "zeemanX0 = -50e-3\n",
    "zeemanZ0 = 0\n",
    "zeemanWidth = 4e-3\n",
    "Natoms = 1\n",
    "x0 = -220e-3\n",
    "z0 = 3e-3\n",
    "vx0 = 25\n",
    "Tx0 = 0#m171*(7**2)/sc.k\n",
    "Trho0 = 0#1e-4\n",
    "NtimeSteps = 600\n",
    "dt = 100e-6\n",
    "v0 = np.array([np.random.normal(vx0, np.sqrt(sc.k*Tx0/m171), Natoms),\n",
    "               np.random.normal(0, np.sqrt(sc.k*Trho0/m171), Natoms),\n",
    "               np.random.normal(0, np.sqrt(sc.k*Trho0/m171), Natoms)])\n",
    "r0 = np.array([np.zeros(Natoms)+x0, np.zeros(Natoms), np.zeros(Natoms)+z0])"
   ]
  },
  {
   "cell_type": "code",
   "execution_count": 4,
   "metadata": {},
   "outputs": [],
   "source": [
    "kb1 = motSim.motBeam(k556*np.array([1/np.sqrt(2), 0, 1/np.sqrt(2)]), w0, np.zeros(3), gamma556, delta556, S556, 1)\n",
    "kb2 = motSim.motBeam(k556*np.array([-1/np.sqrt(2), 0, 1/np.sqrt(2)]), w0, np.zeros(3), gamma556, delta556, S556, 1)\n",
    "kb3 = motSim.motBeam(k556*np.array([0, 1/np.sqrt(2), 1/np.sqrt(2)]), w0, np.zeros(3), gamma556, delta556, S556, 1)\n",
    "kb4 = motSim.motBeam(k556*np.array([0, -1/np.sqrt(2), 1/np.sqrt(2)]), w0, np.zeros(3), gamma556, delta556, S556, 1)\n",
    "kb5 = motSim.motBeam(k399*np.array([-np.cos(zeemanTheta), 0, np.sin(zeemanTheta)]), zeemanWidth, \n",
    "                      np.array([zeemanX0, 0, zeemanZ0]), gamma399, delta399, S399, -1)\n",
    "kb6 = motSim.motBeam(k399*np.array([-np.cos(zeemanTheta), 0, -np.sin(zeemanTheta)]), zeemanWidth, \n",
    "                      np.array([zeemanX0, 0, -zeemanZ0]), gamma399, delta399, S399/3, -1)\n",
    "kis = np.array([kb1, kb2, kb3, kb4, kb5])#, kb6])"
   ]
  },
  {
   "cell_type": "code",
   "execution_count": 5,
   "metadata": {},
   "outputs": [
    {
     "name": "stdout",
     "output_type": "stream",
     "text": [
      "capture fraction = 0.000\n"
     ]
    }
   ],
   "source": [
    "rnAll, vnAll, cFrac = motSim.RK4MC(kis, m171, muEff, Bp, r0, v0, dt, NtimeSteps, Natoms)"
   ]
  },
  {
   "cell_type": "code",
   "execution_count": 6,
   "metadata": {},
   "outputs": [],
   "source": [
    "beamlen = 50\n",
    "plotSize = 60\n",
    "balpha = 0.08\n",
    "fig = plt.figure(figsize=[6,6])\n",
    "ax = fig.gca(projection='3d')\n",
    "ax.set_xlim([-plotSize/2,plotSize/2])\n",
    "ax.set_ylim([-plotSize/2,plotSize/2])\n",
    "ax.set_zlim([-plotSize/2,plotSize/2])\n",
    "motSim.plotBeams(ax, kis[:-1], plotSize/2, beamlen, beamWidth=w0*(1e3), colors=np.repeat('#9FCC3B',5), alpha=0.1)\n",
    "motSim.plotBeams(ax, kis[-1:], plotSize, beamlen*5, beamWidth=zeemanWidth*(1e3), colors=np.repeat('#1BAAD5',5), alpha=0.08)\n",
    "\n",
    "for i in range(Natoms):\n",
    "    ax.plot(rnAll[::10,0,i]*(1e3), rnAll[::10,1,i]*(1e3), rnAll[::10,2,i]*(1e3), color='k', alpha=0.1)\n",
    "    ax.scatter(rnAll[-1,0,i]*(1e3), rnAll[-1,1,i]*(1e3), rnAll[-1,2,i]*(1e3), c='#CC4129', s=2, alpha=0.5)\n",
    "#     ax.scatter(rnAll[-1,1,i]*(1e3), rnAll[-1,2,i]*(1e3), zs=ax.get_xlim()[0], zdir='x', c='k', s=2, alpha=0.2)\n",
    "#     ax.scatter(rnAll[-1,0,i]*(1e3), rnAll[-1,2,i]*(1e3), zs=ax.get_ylim()[1], zdir='y', c='k', s=2, alpha=0.2)\n",
    "#     ax.scatter(rnAll[-1,0,i]*(1e3), rnAll[-1,1,i]*(1e3), zs=ax.get_zlim()[0], zdir='z', c='k', s=2, alpha=0.2)\n",
    "ax.set_xlabel('x (mm)')\n",
    "ax.set_ylabel('y (mm)')\n",
    "ax.set_zlabel('z (mm)')\n",
    "ax.w_xaxis.set_pane_color((0,0,0,0.01))\n",
    "ax.w_yaxis.set_pane_color((0,0,0,0.01))\n",
    "ax.w_zaxis.set_pane_color((0,0,0,0.01))"
   ]
  },
  {
   "cell_type": "code",
   "execution_count": 8,
   "metadata": {},
   "outputs": [
    {
     "data": {
      "text/plain": [
       "[<matplotlib.lines.Line2D at 0x122951950>]"
      ]
     },
     "execution_count": 8,
     "metadata": {},
     "output_type": "execute_result"
    }
   ],
   "source": [
    "fig, ax = plt.subplots()\n",
    "plt.plot(rnAll[:,0,0],vnAll[:,0,0])"
   ]
  },
  {
   "cell_type": "code",
   "execution_count": 9,
   "metadata": {},
   "outputs": [],
   "source": [
    "fig, ax = plt.subplots()\n",
    "ax.hist(v0[0]);"
   ]
  },
  {
   "cell_type": "code",
   "execution_count": 133,
   "metadata": {},
   "outputs": [],
   "source": [
    "z = np.linspace(-20e-3,20e-3,200)\n",
    "Fkbtest = motSim.FMOT(m171, muEff, Bp, np.array([np.zeros_like(z), np.zeros_like(z), z]),np.zeros((3,200)),kis)\n",
    "fig, ax = plt.subplots()\n",
    "plt.plot(z*(1e3), Fkbtest[2])\n",
    "plt.xlabel('z (mm)')\n",
    "plt.ylabel('F (N)')\n",
    "plt.ylim([-5e-23,5e-23])\n",
    "plt.subplots_adjust(left=0.2, bottom=0.2)"
   ]
  },
  {
   "cell_type": "code",
   "execution_count": 15,
   "metadata": {},
   "outputs": [
    {
     "data": {
      "text/plain": [
       "<matplotlib.legend.Legend at 0x11eb81890>"
      ]
     },
     "execution_count": 15,
     "metadata": {},
     "output_type": "execute_result"
    }
   ],
   "source": [
    "x = np.linspace(-200e-3,20e-3,200)\n",
    "Fkb556test = motSim.FMOT(m171, muEff, Bp, np.array([x, np.zeros_like(x), np.zeros_like(x)]),np.zeros((3,len(x))),kis[:-2])\n",
    "Fkb399test = motSim.FMOT(m171, muEff, Bp, np.array([x, np.zeros_like(x), np.zeros_like(x)+(0e-3)]),np.array([np.ones_like(x)*25, np.zeros_like(x), np.zeros_like(x)]),kis[-2:])\n",
    "Fkb399testv10 = motSim.FMOT(m171, muEff, Bp, np.array([x, np.zeros_like(x), np.zeros_like(x)]),np.array([np.ones_like(x)*10, np.zeros_like(x), np.zeros_like(x)]),kis[-2:])\n",
    "Fkb399testv0 = motSim.FMOT(m171, muEff, Bp, np.array([x, np.zeros_like(x), np.zeros_like(x)]),np.zeros((3,len(x))),kis[-2:])\n",
    "Fkbtest = motSim.FMOT(m171, muEff, Bp, np.array([x, np.zeros_like(x), np.zeros_like(x)]),np.zeros((3,len(x))),kis)\n",
    "fig, ax = plt.subplots()\n",
    "plt.plot(x, Fkb399test[0], label='399, v=25m/s')\n",
    "plt.plot(x, Fkb556test[0], label='556, v=0 m/s')\n",
    "plt.plot(x, Fkb399testv0[0], label='399, v=0 m/s')\n",
    "plt.plot(x, Fkb399testv10[0], label='399, v=10 m/s')\n",
    "plt.plot(x, Fkbtest[0], label='sum')\n",
    "plt.legend()"
   ]
  },
  {
   "cell_type": "markdown",
   "metadata": {},
   "source": [
    "# 5 green orthogonal 1 blue slower MOT"
   ]
  },
  {
   "cell_type": "code",
   "execution_count": 22,
   "metadata": {},
   "outputs": [],
   "source": [
    "w0 = 7e-3\n",
    "S556 = 400\n",
    "S399 = 0.04\n",
    "delta556 = -25*gamma556\n",
    "delta399 = -4.5*gamma399\n",
    "Bp = (3e-2)#fieldGrad\n",
    "muEff = 1.5*muB\n",
    "zeemanTheta = 3*np.pi/180\n",
    "zeemanX0 = 10e-3\n",
    "zeemanZ0 = -3e-3\n",
    "zeemanWidth = 4e-3\n",
    "Natoms = 400\n",
    "x0 = -220e-3\n",
    "z0 = 0\n",
    "vx0 = 25\n",
    "Tx0 = m171*(10**2)/sc.k\n",
    "Trho0 = 1e-4\n",
    "NtimeSteps = 1500\n",
    "dt = 50e-6\n",
    "v0 = np.array([np.random.normal(vx0, np.sqrt(sc.k*Tx0/m171), Natoms),\n",
    "               np.random.normal(0, np.sqrt(sc.k*Trho0/m171), Natoms),\n",
    "               np.random.normal(0, np.sqrt(sc.k*Trho0/m171), Natoms)])\n",
    "r0 = np.array([np.zeros(Natoms)+x0, np.zeros(Natoms), np.zeros(Natoms)+z0])"
   ]
  },
  {
   "cell_type": "code",
   "execution_count": 18,
   "metadata": {},
   "outputs": [],
   "source": [
    "kb1 = motSim.motBeam(k556*np.array([1/np.sqrt(2), 1/np.sqrt(2), 0]), w0, np.zeros(3), gamma556, delta556, S556, 1)\n",
    "kb2 = motSim.motBeam(k556*np.array([-1/np.sqrt(2), 1/np.sqrt(2), 0]), w0, np.zeros(3), gamma556, delta556, S556, 1)\n",
    "kb3 = motSim.motBeam(k556*np.array([1/np.sqrt(2), -1/np.sqrt(2), 0]), w0, np.zeros(3), gamma556, delta556, S556, 1)\n",
    "kb4 = motSim.motBeam(k556*np.array([-1/np.sqrt(2), -1/np.sqrt(2), 0]), w0, np.zeros(3), gamma556, delta556, S556, 1)\n",
    "kb5 = motSim.motBeam(k556*np.array([0, 0, 1]), w0, np.zeros(3), gamma556, delta556, 100, 1)\n",
    "kb6 = motSim.motBeam(k399*np.array([-np.cos(zeemanTheta), 0, np.sin(zeemanTheta)]), zeemanWidth, \n",
    "                      np.array([zeemanX0, 0, zeemanZ0]), gamma399, delta399, S399, -1)\n",
    "kis = np.array([kb1, kb2, kb3, kb4, kb5, kb6])"
   ]
  },
  {
   "cell_type": "code",
   "execution_count": 20,
   "metadata": {},
   "outputs": [
    {
     "name": "stdout",
     "output_type": "stream",
     "text": [
      "capture fraction = 0.015\n"
     ]
    }
   ],
   "source": [
    "rnAll, vnAll, cFrac = motSim.RK4MC(kis, m171, muEff, Bp, r0, v0, dt, NtimeSteps, Natoms)"
   ]
  },
  {
   "cell_type": "code",
   "execution_count": 28,
   "metadata": {},
   "outputs": [],
   "source": [
    "beamlen = 60\n",
    "plotSize = 60\n",
    "balpha = 0.08\n",
    "fig = plt.figure(figsize=[6,6])\n",
    "ax = fig.gca(projection='3d')\n",
    "ax.set_xlim([-20,20])\n",
    "ax.set_ylim([-20,20])\n",
    "ax.set_zlim([-20,20])\n",
    "motSim.plotBeams(ax, kis[:-1], plotSize/2, beamlen, beamWidth=w0*(1e3), colors=np.append(np.repeat('#9FCC3B',5),'#1BAAD5'), alpha=0.08)\n",
    "motSim.plotBeams(ax, [kis[-1]], plotSize, beamlen*2.5, beamWidth=zeemanWidth*(1e3), colors=['#1BAAD5'], alpha=0.08)\n",
    "for i in range(Natoms):\n",
    "    ax.plot(rnAll[::10,0,i]*(1e3), rnAll[::10,1,i]*(1e3), rnAll[::10,2,i]*(1e3), color='k', alpha=0.01)\n",
    "    ax.scatter(rnAll[-1,0,i]*(1e3), rnAll[-1,1,i]*(1e3), rnAll[-1,2,i]*(1e3), c='#CC4129', s=2, alpha=0.5)\n",
    "#     ax.scatter(rnAll[-1,1,i]*(1e3), rnAll[-1,2,i]*(1e3), zs=ax.get_xlim()[0], zdir='x', c='#CC4129', s=2, alpha=0.2)\n",
    "#     ax.scatter(rnAll[-1,0,i]*(1e3), rnAll[-1,2,i]*(1e3), zs=ax.get_ylim()[1], zdir='y', c='#CC4129', s=2, alpha=0.2)\n",
    "#     ax.scatter(rnAll[-1,0,i]*(1e3), rnAll[-1,1,i]*(1e3), zs=ax.get_zlim()[0], zdir='z', c='#CC4129', s=2, alpha=0.2)\n",
    "ax.set_xlabel('x (mm)')\n",
    "ax.set_ylabel('y (mm)')\n",
    "ax.set_zlabel('z (mm)')\n",
    "ax.w_xaxis.set_pane_color((0,0,0,0.01))\n",
    "ax.w_yaxis.set_pane_color((0,0,0,0.01))\n",
    "ax.w_zaxis.set_pane_color((0,0,0,0.01))"
   ]
  },
  {
   "cell_type": "code",
   "execution_count": 23,
   "metadata": {},
   "outputs": [],
   "source": [
    "fig, ax = plt.subplots()\n",
    "ax.hist(v0[0], bins=20)\n",
    "plt.xlabel('$v_x$ (m/s)')\n",
    "plt.ylabel('num atoms');\n",
    "plt.subplots_adjust(left=0.2, bottom=0.2)"
   ]
  },
  {
   "cell_type": "code",
   "execution_count": 16,
   "metadata": {},
   "outputs": [
    {
     "data": {
      "text/plain": [
       "[<matplotlib.lines.Line2D at 0x120f377d0>]"
      ]
     },
     "execution_count": 16,
     "metadata": {},
     "output_type": "execute_result"
    }
   ],
   "source": [
    "t = np.arange(0, dt*NtimeSteps, dt*10)\n",
    "fig, ax = plt.subplots()\n",
    "plt.plot(t,vnAll[::10,0,0])"
   ]
  },
  {
   "cell_type": "code",
   "execution_count": 11,
   "metadata": {},
   "outputs": [
    {
     "data": {
      "text/plain": [
       "[<matplotlib.lines.Line2D at 0x1207c4a10>]"
      ]
     },
     "execution_count": 11,
     "metadata": {},
     "output_type": "execute_result"
    }
   ],
   "source": [
    "fig, ax = plt.subplots()\n",
    "plt.plot(rnAll[::10,0,0],vnAll[::10,0,0])"
   ]
  },
  {
   "cell_type": "markdown",
   "metadata": {},
   "source": [
    "# 5 green orthogonal 2 blue slower MOT"
   ]
  },
  {
   "cell_type": "code",
   "execution_count": 32,
   "metadata": {},
   "outputs": [],
   "source": [
    "w0 = 7e-3\n",
    "delta556 = -30*gamma556\n",
    "delta399 = -3*gamma399\n",
    "Bp = (4e-2)#fieldGrad\n",
    "muEff = 1.5*muB\n",
    "Natoms = 1\n",
    "x0 = -100e-3\n",
    "z0 = 0\n",
    "vx0 = 25\n",
    "Tx0 = 0#m171*(5**2)/sc.k\n",
    "Trho0 = 0#2e-3\n",
    "NtimeSteps = 2000\n",
    "dt = 50e-6\n",
    "v0 = np.array([np.random.normal(vx0, np.sqrt(sc.k*Tx0/m171), Natoms),\n",
    "               np.random.normal(0, np.sqrt(sc.k*Trho0/m171), Natoms),\n",
    "               np.random.normal(0, np.sqrt(sc.k*Trho0/m171), Natoms)])\n",
    "r0 = np.array([np.zeros(Natoms)+x0, np.zeros(Natoms), np.zeros(Natoms)+z0])"
   ]
  },
  {
   "cell_type": "code",
   "execution_count": 33,
   "metadata": {},
   "outputs": [],
   "source": [
    "S556 = 400\n",
    "kb1 = motSim.motBeam(k556*np.array([1/np.sqrt(2), 1/np.sqrt(2), 0]), w0, np.zeros(3), gamma556, delta556, S556, 1)\n",
    "kb2 = motSim.motBeam(k556*np.array([-1/np.sqrt(2), 1/np.sqrt(2), 0]), w0, np.zeros(3), gamma556, delta556, S556, 1)\n",
    "kb3 = motSim.motBeam(k556*np.array([1/np.sqrt(2), -1/np.sqrt(2), 0]), w0, np.zeros(3), gamma556, delta556, S556, 1)\n",
    "kb4 = motSim.motBeam(k556*np.array([-1/np.sqrt(2), -1/np.sqrt(2), 0]), w0, np.zeros(3), gamma556, delta556, S556, 1)\n",
    "kb5 = motSim.motBeam(k556*np.array([0, 0, 1]), w0, np.zeros(3), gamma556, delta556, 100, 1)\n",
    "zeemanTheta = 10*np.pi/180\n",
    "zeemanX0 = -5*w0\n",
    "kb6 = motSim.motBeam(k399*np.array([-np.cos(zeemanTheta), np.sin(zeemanTheta), 0]), w0, \n",
    "                      np.array([zeemanX0, 0, 0]), gamma399, delta399, 0.1, -1)\n",
    "kb7 = motSim.motBeam(k399*np.array([-np.cos(zeemanTheta), -np.sin(zeemanTheta), 0]), w0, \n",
    "                      np.array([zeemanX0, 0, 0]), gamma399, delta399, 0.1, -1)\n",
    "kis = np.array([kb1, kb2, kb3, kb4, kb5, kb6, kb7])"
   ]
  },
  {
   "cell_type": "code",
   "execution_count": 34,
   "metadata": {},
   "outputs": [
    {
     "name": "stdout",
     "output_type": "stream",
     "text": [
      "capture fraction = 0.000\n"
     ]
    }
   ],
   "source": [
    "rnAll, vnAll, cFrac = motSim.RK4MC(kis, m171, muEff, Bp, r0, v0, dt, NtimeSteps, Natoms)"
   ]
  },
  {
   "cell_type": "code",
   "execution_count": 37,
   "metadata": {},
   "outputs": [],
   "source": [
    "beamlen = 50\n",
    "plotSize = 60\n",
    "balpha = 0.08\n",
    "fig = plt.figure(figsize=[6,6])\n",
    "ax = fig.gca(projection='3d')\n",
    "ax.set_xlim([-20,20])\n",
    "ax.set_ylim([-20,20])\n",
    "ax.set_zlim([-20,20])\n",
    "motSim.plotBeams(ax, kis[:-2], plotSize/2, beamlen, beamWidth=w0*(1e3), colors=np.repeat('#9FCC3B',5), alpha=0.1)\n",
    "motSim.plotBeams(ax, kis[-2:], plotSize/2, beamlen, beamWidth=zeemanWidth*(1e3), colors=np.repeat('#1BAAD5',2), alpha=0.1)\n",
    "for i in range(Natoms):\n",
    "    ax.plot(rnAll[::10,0,i]*(1e3), rnAll[::10,1,i]*(1e3), rnAll[::10,2,i]*(1e3), color='k', alpha=0.05)\n",
    "    ax.scatter(rnAll[-1,0,i]*(1e3), rnAll[-1,1,i]*(1e3), rnAll[-1,2,i]*(1e3), c='k', s=2, alpha=0.1)\n",
    "    ax.scatter(rnAll[-1,1,i]*(1e3), rnAll[-1,2,i]*(1e3), zs=ax.get_xlim()[0], zdir='x', c='#CC4129', s=2, alpha=0.2)\n",
    "    ax.scatter(rnAll[-1,0,i]*(1e3), rnAll[-1,2,i]*(1e3), zs=ax.get_ylim()[1], zdir='y', c='#CC4129', s=2, alpha=0.2)\n",
    "    ax.scatter(rnAll[-1,0,i]*(1e3), rnAll[-1,1,i]*(1e3), zs=ax.get_zlim()[0], zdir='z', c='#CC4129', s=2, alpha=0.2)\n",
    "ax.set_xlabel('x (mm)')\n",
    "ax.set_ylabel('y (mm)')\n",
    "ax.set_zlabel('z (mm)')\n",
    "ax.w_xaxis.set_pane_color((0,0,0,0.01))\n",
    "ax.w_yaxis.set_pane_color((0,0,0,0.01))\n",
    "ax.w_zaxis.set_pane_color((0,0,0,0.01))"
   ]
  },
  {
   "cell_type": "code",
   "execution_count": 122,
   "metadata": {},
   "outputs": [
    {
     "data": {
      "text/plain": [
       "[<matplotlib.lines.Line2D at 0x11d06ed10>]"
      ]
     },
     "execution_count": 122,
     "metadata": {},
     "output_type": "execute_result"
    }
   ],
   "source": [
    "t = np.arange(0, dt*NtimeSteps, dt*10)\n",
    "fig, ax = plt.subplots()\n",
    "plt.plot(t,vnAll[::10,0,0])"
   ]
  },
  {
   "cell_type": "markdown",
   "metadata": {},
   "source": [
    "# 5 orthogonal, 4 horizontal coreshell"
   ]
  },
  {
   "cell_type": "code",
   "execution_count": 3,
   "metadata": {},
   "outputs": [],
   "source": [
    "w0 = 5e-3\n",
    "w0Shell = 5e-3\n",
    "delta556 = -30*gamma556\n",
    "delta399 = -1.5*gamma399\n",
    "S556 = 400\n",
    "S399 = 0.3\n",
    "Bp = (4e-2)#fieldGrad\n",
    "muEff = 1.5*muB\n",
    "Natoms = 500\n",
    "x0 = -300e-3\n",
    "z0 = 5e-3\n",
    "vx0 = 25\n",
    "Tx0 = m171*(7**2)/sc.k\n",
    "Trho0 = 1e-4\n",
    "NtimeSteps = 1500\n",
    "dt = 50e-6\n",
    "v0 = np.array([np.random.normal(vx0, np.sqrt(sc.k*Tx0/m171), Natoms),\n",
    "               np.random.normal(0, np.sqrt(sc.k*Trho0/m171), Natoms),\n",
    "               np.random.normal(0, np.sqrt(sc.k*Trho0/m171), Natoms)])\n",
    "r0 = np.array([np.zeros(Natoms)+x0, np.zeros(Natoms), np.zeros(Natoms)+z0])"
   ]
  },
  {
   "cell_type": "code",
   "execution_count": 4,
   "metadata": {},
   "outputs": [],
   "source": [
    "kb1 = motSim.motBeam(k556*np.array([1/np.sqrt(2), 1/np.sqrt(2), 0]), w0, np.zeros(3), gamma556, delta556, S556, 1)\n",
    "kb2 = motSim.motBeam(k556*np.array([-1/np.sqrt(2), 1/np.sqrt(2), 0]), w0, np.zeros(3), gamma556, delta556, S556, 1)\n",
    "kb3 = motSim.motBeam(k556*np.array([1/np.sqrt(2), -1/np.sqrt(2), 0]), w0, np.zeros(3), gamma556, delta556, S556, 1)\n",
    "kb4 = motSim.motBeam(k556*np.array([-1/np.sqrt(2), -1/np.sqrt(2), 0]), w0, np.zeros(3), gamma556, delta556, S556, 1)\n",
    "kb5 = motSim.motBeam(k556*np.array([0, 0, 1]), w0, np.zeros(3), gamma556, delta556, 100, 1)\n",
    "kb1b = motSim.motBeamShell(k399*np.array([1/np.sqrt(2), 1/np.sqrt(2), 0]), w0Shell, np.zeros(3), gamma399, delta399, S399, 1)\n",
    "kb2b = motSim.motBeamShell(k399*np.array([-1/np.sqrt(2), 1/np.sqrt(2), 0]), w0Shell, np.zeros(3), gamma399, delta399, S399, 1)\n",
    "kb3b = motSim.motBeamShell(k399*np.array([1/np.sqrt(2), -1/np.sqrt(2), 0]), w0Shell, np.zeros(3), gamma399, delta399, S399, 1)\n",
    "kb4b = motSim.motBeamShell(k399*np.array([-1/np.sqrt(2), -1/np.sqrt(2), 0]), w0Shell, np.zeros(3), gamma399, delta399, S399, 1)\n",
    "# zeemanTheta = 3.5*np.pi/180\n",
    "# zeemanX0 = 10e-3\n",
    "# zeemanWidth = 4e-3\n",
    "# kb6 = motBeam.motBeam(k399*np.array([-np.cos(zeemanTheta), 0, np.sin(zeemanTheta)]), zeemanWidth, \n",
    "#                       np.array([zeemanX0, 0, -3e-3]), gamma399, delta399, 0.05, -1)\n",
    "kis = np.array([kb1, kb2, kb3, kb4, kb5, kb1b, kb2b, kb3b, kb4b])"
   ]
  },
  {
   "cell_type": "code",
   "execution_count": 5,
   "metadata": {},
   "outputs": [
    {
     "name": "stdout",
     "output_type": "stream",
     "text": [
      "capture fraction = 0.736\n"
     ]
    }
   ],
   "source": [
    "rnAll, vnAll, cFrac = motSim.RK4MC(kis, m171, muEff, Bp, r0, v0, dt, NtimeSteps, Natoms)"
   ]
  },
  {
   "cell_type": "code",
   "execution_count": 6,
   "metadata": {},
   "outputs": [],
   "source": [
    "beamlen = 60\n",
    "plotSize = 60\n",
    "balpha = 0.08\n",
    "fig = plt.figure(figsize=[6,6])\n",
    "ax = fig.gca(projection='3d')\n",
    "ax.set_xlim([-20,20])\n",
    "ax.set_ylim([-20,20])\n",
    "ax.set_zlim([-20,20])\n",
    "motSim.plotBeams(ax, kis[:-4], plotSize/2, beamlen, beamWidth=w0*(1e3), colors=np.repeat('#9FCC3B',5), alpha=0.1)\n",
    "motSim.plotBeams(ax, kis[-4:], plotSize, beamlen/1.5, beamWidth=w0Shell*(1e3), colors=np.repeat('#1BAAD5',4), alpha=0.08)\n",
    "for i in range(Natoms):\n",
    "    ax.plot(rnAll[::10,0,i]*(1e3), rnAll[::10,1,i]*(1e3), rnAll[::10,2,i]*(1e3), color='k', alpha=0.01)\n",
    "    ax.scatter(rnAll[-1,0,i]*(1e3), rnAll[-1,1,i]*(1e3), rnAll[-1,2,i]*(1e3), c='#CC4129', s=2, alpha=0.5)\n",
    "#     ax.scatter(rnAll[-1,1,i]*(1e3), rnAll[-1,2,i]*(1e3), zs=ax.get_xlim()[0], zdir='x', c='#CC4129', s=2, alpha=0.2)\n",
    "#     ax.scatter(rnAll[-1,0,i]*(1e3), rnAll[-1,2,i]*(1e3), zs=ax.get_ylim()[1], zdir='y', c='#CC4129', s=2, alpha=0.2)\n",
    "#     ax.scatter(rnAll[-1,0,i]*(1e3), rnAll[-1,1,i]*(1e3), zs=ax.get_zlim()[0], zdir='z', c='#CC4129', s=2, alpha=0.2)\n",
    "ax.set_xlabel('x (mm)')\n",
    "ax.set_ylabel('y (mm)')\n",
    "ax.set_zlabel('z (mm)')\n",
    "ax.w_xaxis.set_pane_color((0,0,0,0.01))\n",
    "ax.w_yaxis.set_pane_color((0,0,0,0.01))\n",
    "ax.w_zaxis.set_pane_color((0,0,0,0.01))"
   ]
  },
  {
   "cell_type": "code",
   "execution_count": 33,
   "metadata": {},
   "outputs": [
    {
     "data": {
      "text/plain": [
       "<matplotlib.legend.Legend at 0x12f030c50>"
      ]
     },
     "execution_count": 33,
     "metadata": {},
     "output_type": "execute_result"
    }
   ],
   "source": [
    "x = np.linspace(-20e-3,20e-3,200)\n",
    "Fkb556test = motSim.FMOT(m171, muEff, Bp, np.array([x, np.zeros_like(x), np.zeros_like(x)]),np.zeros((3,len(x))),kis[:-2])\n",
    "Fkb399test = motSim.FMOT(m171, muEff, Bp, np.array([x, np.zeros_like(x), np.zeros_like(x)+(0e-3)]),np.array([np.ones_like(x)*25, np.zeros_like(x), np.zeros_like(x)]),kis[-2:])\n",
    "Fkb399testv10 = motSim.FMOT(m171, muEff, Bp, np.array([x, np.zeros_like(x), np.zeros_like(x)]),np.array([np.ones_like(x)*10, np.zeros_like(x), np.zeros_like(x)]),kis[-2:])\n",
    "Fkb399testv0 = motSim.FMOT(m171, muEff, Bp, np.array([x, np.zeros_like(x), np.zeros_like(x)]),np.zeros((3,len(x))),kis[-2:])\n",
    "Fkbtest = motSim.FMOT(m171, muEff, Bp, np.array([x, np.zeros_like(x), np.zeros_like(x)]),np.zeros((3,len(x))),kis)\n",
    "fig, ax = plt.subplots()\n",
    "plt.plot(x, Fkb399test[0], label='399, v=25m/s')\n",
    "plt.plot(x, Fkb556test[0], label='556, v=0 m/s')\n",
    "plt.plot(x, Fkb399testv0[0], label='399, v=0 m/s')\n",
    "plt.plot(x, Fkb399testv10[0], label='399, v=10 m/s')\n",
    "plt.plot(x, Fkbtest[0], label='sum')\n",
    "plt.legend()"
   ]
  },
  {
   "cell_type": "code",
   "execution_count": 6,
   "metadata": {},
   "outputs": [
    {
     "data": {
      "text/plain": [
       "Text(0, 0.5, 'normalized intensity')"
      ]
     },
     "execution_count": 6,
     "metadata": {},
     "output_type": "execute_result"
    }
   ],
   "source": [
    "s = np.linspace(-5*w0, 5*w0, 200)\n",
    "r = np.array([[-s/np.sqrt(2)], s/np.sqrt(2), np.zeros_like(s)])\n",
    "fig, ax = plt.subplots()\n",
    "plt.plot(s*(1e3),kb1b.Sat(r)[0]/S399) #/kb1b.Sat(r)[0,int(len(s)/2)]\n",
    "plt.plot(s*(1e3),kb1.Sat(r)[0]/S556)\n",
    "plt.xlabel(r'$\\rho$ (mm)')\n",
    "plt.ylabel('normalized intensity')"
   ]
  },
  {
   "cell_type": "code",
   "execution_count": 233,
   "metadata": {},
   "outputs": [
    {
     "data": {
      "text/plain": [
       "[<matplotlib.lines.Line2D at 0x1217d4e10>]"
      ]
     },
     "execution_count": 233,
     "metadata": {},
     "output_type": "execute_result"
    }
   ],
   "source": [
    "t = np.arange(0, dt*NtimeSteps, dt*10)\n",
    "fig, ax = plt.subplots()\n",
    "plt.plot(t,vnAll[::10,0,0])"
   ]
  },
  {
   "cell_type": "code",
   "execution_count": 24,
   "metadata": {},
   "outputs": [
    {
     "data": {
      "text/plain": [
       "[<matplotlib.lines.Line2D at 0x12932b6d0>]"
      ]
     },
     "execution_count": 24,
     "metadata": {},
     "output_type": "execute_result"
    }
   ],
   "source": [
    "fig, ax = plt.subplots()\n",
    "plt.plot(rnAll[::10,0,0],vnAll[::10,0,0])"
   ]
  },
  {
   "cell_type": "markdown",
   "metadata": {},
   "source": [
    "# pyramid MOT w/ 1 green mot beam through objective, 1 blue slower"
   ]
  },
  {
   "cell_type": "code",
   "execution_count": 49,
   "metadata": {},
   "outputs": [],
   "source": [
    "w0 = 7e-3\n",
    "S556 = 150\n",
    "S399 = 0.1\n",
    "delta556 = -25*gamma556\n",
    "delta399 = -6*gamma399\n",
    "Bp = (4e-2)#fieldGrad\n",
    "muEff = 1.5*muB\n",
    "zeemanTheta = 3*np.pi/180\n",
    "zeemanX0 = 30e-3\n",
    "zeemanZ0 = -3e-3\n",
    "zeemanWidth = 4e-3\n",
    "Natoms = 500\n",
    "x0 = -220e-3\n",
    "z0 = 0\n",
    "vx0 = 25\n",
    "Tx0 = m171*(10**2)/sc.k\n",
    "Trho0 = 1e-4\n",
    "NtimeSteps = 100\n",
    "dt = 50e-6\n",
    "v0 = np.array([np.random.normal(vx0, np.sqrt(sc.k*Tx0/m171), Natoms),\n",
    "               np.random.normal(0, np.sqrt(sc.k*Trho0/m171), Natoms),\n",
    "               np.random.normal(0, np.sqrt(sc.k*Trho0/m171), Natoms)])\n",
    "r0 = np.array([np.zeros(Natoms)+x0, np.zeros(Natoms), np.zeros(Natoms)+z0])"
   ]
  },
  {
   "cell_type": "code",
   "execution_count": 50,
   "metadata": {},
   "outputs": [],
   "source": [
    "kb1 = motSim.motBeam(k556*np.array([1/np.sqrt(2), 0, 1/np.sqrt(2)]), w0, np.zeros(3), gamma556, delta556, S556, 1)\n",
    "kb2 = motSim.motBeam(k556*np.array([-1/np.sqrt(2), 0, 1/np.sqrt(2)]), w0, np.zeros(3), gamma556, delta556, S556, 1)\n",
    "kb3 = motSim.motBeam(k556*np.array([0, 1/np.sqrt(2), 1/np.sqrt(2)]), w0, np.zeros(3), gamma556, delta556, S556, 1)\n",
    "kb4 = motSim.motBeam(k556*np.array([0, -1/np.sqrt(2), 1/np.sqrt(2)]), w0, np.zeros(3), gamma556, delta556, S556, 1)\n",
    "kb5 = motSim.motBeam(k556*np.array([0, 0, -1]), w0, np.zeros(3), gamma556, delta556, S556*4/np.sqrt(2), 1)\n",
    "kb6 = motSim.motBeam(k399*np.array([-np.cos(zeemanTheta), 0, np.sin(zeemanTheta)]), zeemanWidth, \n",
    "                      np.array([zeemanX0, 0, zeemanZ0]), gamma399, delta399, S399, -1)\n",
    "kis = np.array([kb1, kb2, kb3, kb4, kb5, kb6])"
   ]
  },
  {
   "cell_type": "code",
   "execution_count": 51,
   "metadata": {},
   "outputs": [
    {
     "name": "stdout",
     "output_type": "stream",
     "text": [
      "capture fraction = 0.006\n"
     ]
    }
   ],
   "source": [
    "rnAll, vnAll, cFrac = motSim.RK4MC(kis, m171, muEff, Bp, r0, v0, dt, NtimeSteps, Natoms)"
   ]
  },
  {
   "cell_type": "code",
   "execution_count": 52,
   "metadata": {},
   "outputs": [],
   "source": [
    "beamlen = 65\n",
    "plotSize = 60\n",
    "balpha = 0.08\n",
    "fig = plt.figure(figsize=[6,6])\n",
    "ax = fig.gca(projection='3d')\n",
    "ax.set_xlim([-plotSize/2,plotSize/2])\n",
    "ax.set_ylim([-plotSize/2,plotSize/2])\n",
    "ax.set_zlim([-plotSize/2,plotSize/2])\n",
    "motSim.plotBeams(ax, kis[:-1], plotSize/2, beamlen, beamWidth=w0*(1e3), colors=np.repeat('#9FCC3B',5), alpha=0.08)\n",
    "motSim.plotBeams(ax, kis[-1:], plotSize, beamlen*5, beamWidth=zeemanWidth*(1e3), colors=np.repeat('#1BAAD5',5), alpha=0.08)\n",
    "\n",
    "for i in range(Natoms):\n",
    "    ax.plot(rnAll[::10,0,i]*(1e3), rnAll[::10,1,i]*(1e3), rnAll[::10,2,i]*(1e3), color='k', alpha=0.01)\n",
    "    ax.scatter(rnAll[-1,0,i]*(1e3), rnAll[-1,1,i]*(1e3), rnAll[-1,2,i]*(1e3), c='#CC4129', s=2, alpha=0.5)\n",
    "#     ax.scatter(rnAll[-1,1,i]*(1e3), rnAll[-1,2,i]*(1e3), zs=ax.get_xlim()[0], zdir='x', c='k', s=2, alpha=0.2)\n",
    "#     ax.scatter(rnAll[-1,0,i]*(1e3), rnAll[-1,2,i]*(1e3), zs=ax.get_ylim()[1], zdir='y', c='k', s=2, alpha=0.2)\n",
    "#     ax.scatter(rnAll[-1,0,i]*(1e3), rnAll[-1,1,i]*(1e3), zs=ax.get_zlim()[0], zdir='z', c='k', s=2, alpha=0.2)\n",
    "ax.set_xlabel('x (mm)')\n",
    "ax.set_ylabel('y (mm)')\n",
    "ax.set_zlabel('z (mm)')\n",
    "ax.w_xaxis.set_pane_color((0,0,0,0.01))\n",
    "ax.w_yaxis.set_pane_color((0,0,0,0.01))\n",
    "ax.w_zaxis.set_pane_color((0,0,0,0.01))"
   ]
  },
  {
   "cell_type": "code",
   "execution_count": 98,
   "metadata": {},
   "outputs": [
    {
     "data": {
      "text/plain": [
       "[<matplotlib.lines.Line2D at 0x122491210>]"
      ]
     },
     "execution_count": 98,
     "metadata": {},
     "output_type": "execute_result"
    }
   ],
   "source": [
    "fig, ax = plt.subplots()\n",
    "plt.plot(rnAll[:,0,0],vnAll[:,0,0])"
   ]
  },
  {
   "cell_type": "code",
   "execution_count": 707,
   "metadata": {},
   "outputs": [],
   "source": [
    "fig, ax = plt.subplots()\n",
    "ax.hist(v0[0]);"
   ]
  },
  {
   "cell_type": "markdown",
   "metadata": {},
   "source": [
    "# 8 beam pyramid coreshell MOT, 1 blue slower"
   ]
  },
  {
   "cell_type": "code",
   "execution_count": 54,
   "metadata": {},
   "outputs": [],
   "source": [
    "w0 = 5e-3\n",
    "w0Shell = 5e-3\n",
    "delta556 = -30*gamma556\n",
    "delta399 = -1.5*gamma399\n",
    "S556 = 400\n",
    "S399 = 0.3\n",
    "Bp = (4e-2)#fieldGrad\n",
    "muEff = 1.5*muB\n",
    "Natoms = 500\n",
    "x0 = -220e-3\n",
    "z0 = 3e-3\n",
    "vx0 = 25\n",
    "Tx0 = m171*(10**2)/sc.k\n",
    "Trho0 = 1e-4\n",
    "NtimeSteps = 2000\n",
    "dt = 50e-6\n",
    "v0 = np.array([np.random.normal(vx0, np.sqrt(sc.k*Tx0/m171), Natoms),\n",
    "               np.random.normal(0, np.sqrt(sc.k*Trho0/m171), Natoms),\n",
    "               np.random.normal(0, np.sqrt(sc.k*Trho0/m171), Natoms)])\n",
    "r0 = np.array([np.zeros(Natoms)+x0, np.zeros(Natoms), np.zeros(Natoms)+z0])"
   ]
  },
  {
   "cell_type": "code",
   "execution_count": 56,
   "metadata": {},
   "outputs": [],
   "source": [
    "kb1 = motSim.motBeam(k556*np.array([1/np.sqrt(2), 0, 1/np.sqrt(2)]), w0, np.zeros(3), gamma556, delta556, S556, 1)\n",
    "kb2 = motSim.motBeam(k556*np.array([-1/np.sqrt(2), 0, 1/np.sqrt(2)]), w0, np.zeros(3), gamma556, delta556, S556, 1)\n",
    "kb3 = motSim.motBeam(k556*np.array([0, 1/np.sqrt(2), 1/np.sqrt(2)]), w0, np.zeros(3), gamma556, delta556, S556, 1)\n",
    "kb4 = motSim.motBeam(k556*np.array([0, -1/np.sqrt(2), 1/np.sqrt(2)]), w0, np.zeros(3), gamma556, delta556, S556, 1)\n",
    "kb5 = motSim.motBeam(k556*np.array([1/np.sqrt(2), 0, -1/np.sqrt(2)]), w0, np.zeros(3), gamma556, delta556, S556, 1)\n",
    "kb6 = motSim.motBeam(k556*np.array([-1/np.sqrt(2), 0, -1/np.sqrt(2)]), w0, np.zeros(3), gamma556, delta556, S556, 1)\n",
    "kb7 = motSim.motBeam(k556*np.array([0, 1/np.sqrt(2), -1/np.sqrt(2)]), w0, np.zeros(3), gamma556, delta556, S556, 1)\n",
    "kb8 = motSim.motBeam(k556*np.array([0, -1/np.sqrt(2), -1/np.sqrt(2)]), w0, np.zeros(3), gamma556, delta556, S556, 1)\n",
    "kb1b = motSim.motBeamShell(k399*np.array([-1/np.sqrt(2), 0, 1/np.sqrt(2)]), w0Shell, np.zeros(3), gamma399, delta399, S399, 1)\n",
    "kb2b = motSim.motBeamShell(k399*np.array([1/np.sqrt(2), 0, 1/np.sqrt(2)]), w0Shell, np.zeros(3), gamma399, delta399, S399, 1)\n",
    "kb3b = motSim.motBeamShell(k399*np.array([0, 1/np.sqrt(2), 1/np.sqrt(2)]), w0Shell, np.zeros(3), gamma399, delta399, S399, 1)\n",
    "kb4b = motSim.motBeamShell(k399*np.array([0, -1/np.sqrt(2), 1/np.sqrt(2)]), w0Shell, np.zeros(3), gamma399, delta399, S399, 1)\n",
    "kb5b = motSim.motBeamShell(k399*np.array([1/np.sqrt(2), 0, -1/np.sqrt(2)]), w0Shell, np.zeros(3), gamma399, delta399, S399, 1)\n",
    "kb6b = motSim.motBeamShell(k399*np.array([-1/np.sqrt(2), 0, -1/np.sqrt(2)]), w0Shell, np.zeros(3), gamma399, delta399, S399, 1)\n",
    "kb7b = motSim.motBeamShell(k399*np.array([0, 1/np.sqrt(2), -1/np.sqrt(2)]), w0Shell, np.zeros(3), gamma399, delta399, S399, 1)\n",
    "kb8b = motSim.motBeamShell(k399*np.array([0, -1/np.sqrt(2), -1/np.sqrt(2)]), w0Shell, np.zeros(3), gamma399, delta399, S399, 1)\n",
    "kis = np.array([kb1, kb2, kb3, kb4, kb5, kb6, kb7, kb8,\n",
    "               kb1b, kb2b, kb3b, kb4b, kb5b, kb6b, kb7b, kb8b])"
   ]
  },
  {
   "cell_type": "code",
   "execution_count": 57,
   "metadata": {},
   "outputs": [
    {
     "name": "stdout",
     "output_type": "stream",
     "text": [
      "capture fraction = 0.008\n"
     ]
    }
   ],
   "source": [
    "rnAll, vnAll, cFrac = motSim.RK4MC(kis, m171, muEff, Bp, r0, v0, dt, NtimeSteps, Natoms)"
   ]
  },
  {
   "cell_type": "code",
   "execution_count": 61,
   "metadata": {},
   "outputs": [],
   "source": [
    "beamlen = 65\n",
    "plotSize = 60\n",
    "balpha = 0.08\n",
    "fig = plt.figure(figsize=[6,6])\n",
    "ax = fig.gca(projection='3d')\n",
    "ax.set_xlim([-plotSize/2,plotSize/2])\n",
    "ax.set_ylim([-plotSize/2,plotSize/2])\n",
    "ax.set_zlim([-plotSize/2,plotSize/2])\n",
    "motSim.plotBeams(ax, kis[:-8], plotSize/2, beamlen, beamWidth=w0*(1e3), colors=np.repeat('#9FCC3B',5), alpha=0.08)\n",
    "motSim.plotBeams(ax, kis[-8:], plotSize, beamlen/2, beamWidth=zeemanWidth*(1e3), colors=np.repeat('#1BAAD5',5), alpha=0.08)\n",
    "\n",
    "for i in range(Natoms):\n",
    "    ax.plot(rnAll[::10,0,i]*(1e3), rnAll[::10,1,i]*(1e3), rnAll[::10,2,i]*(1e3), color='k', alpha=0.01)\n",
    "    ax.scatter(rnAll[-1,0,i]*(1e3), rnAll[-1,1,i]*(1e3), rnAll[-1,2,i]*(1e3), c='#CC4129', s=2, alpha=0.5)\n",
    "#     ax.scatter(rnAll[-1,1,i]*(1e3), rnAll[-1,2,i]*(1e3), zs=ax.get_xlim()[0], zdir='x', c='k', s=2, alpha=0.2)\n",
    "#     ax.scatter(rnAll[-1,0,i]*(1e3), rnAll[-1,2,i]*(1e3), zs=ax.get_ylim()[1], zdir='y', c='k', s=2, alpha=0.2)\n",
    "#     ax.scatter(rnAll[-1,0,i]*(1e3), rnAll[-1,1,i]*(1e3), zs=ax.get_zlim()[0], zdir='z', c='k', s=2, alpha=0.2)\n",
    "ax.set_xlabel('x (mm)')\n",
    "ax.set_ylabel('y (mm)')\n",
    "ax.set_zlabel('z (mm)')\n",
    "ax.w_xaxis.set_pane_color((0,0,0,0.01))\n",
    "ax.w_yaxis.set_pane_color((0,0,0,0.01))\n",
    "ax.w_zaxis.set_pane_color((0,0,0,0.01))"
   ]
  },
  {
   "cell_type": "code",
   "execution_count": 98,
   "metadata": {},
   "outputs": [
    {
     "data": {
      "text/plain": [
       "[<matplotlib.lines.Line2D at 0x122491210>]"
      ]
     },
     "execution_count": 98,
     "metadata": {},
     "output_type": "execute_result"
    }
   ],
   "source": [
    "fig, ax = plt.subplots()\n",
    "plt.plot(rnAll[:,0,0],vnAll[:,0,0])"
   ]
  },
  {
   "cell_type": "code",
   "execution_count": 707,
   "metadata": {},
   "outputs": [],
   "source": [
    "fig, ax = plt.subplots()\n",
    "ax.hist(v0[0]);"
   ]
  },
  {
   "cell_type": "markdown",
   "metadata": {},
   "source": [
    "# 4 beam pyramid coreshell MOT"
   ]
  },
  {
   "cell_type": "code",
   "execution_count": 56,
   "metadata": {},
   "outputs": [],
   "source": [
    "w0 = 5e-3\n",
    "w0Shell = 5e-3\n",
    "delta556 = -30*gamma556\n",
    "delta399 = -3*gamma399\n",
    "S556 = 100\n",
    "S399 = 0.1\n",
    "Bp = (2.5e-2)#fieldGrad\n",
    "muEff = 1.5*muB\n",
    "Natoms = 1\n",
    "x0 = -220e-3\n",
    "z0 = 3e-3\n",
    "vx0 = 25\n",
    "Tx0 = 0#m171*(10**2)/sc.k\n",
    "Trho0 = 0#1e-4\n",
    "NtimeSteps = 600\n",
    "dt = 50e-6\n",
    "v0 = np.array([np.random.normal(vx0, np.sqrt(sc.k*Tx0/m171), Natoms),\n",
    "               np.random.normal(0, np.sqrt(sc.k*Trho0/m171), Natoms),\n",
    "               np.random.normal(0, np.sqrt(sc.k*Trho0/m171), Natoms)])\n",
    "r0 = np.array([np.zeros(Natoms)+x0, np.zeros(Natoms), np.zeros(Natoms)+z0])"
   ]
  },
  {
   "cell_type": "code",
   "execution_count": 59,
   "metadata": {},
   "outputs": [],
   "source": [
    "kb1 = motSim.motBeam(k556*np.array([1/np.sqrt(2), 0, 1/np.sqrt(2)]), w0, np.zeros(3), gamma556, delta556, S556, 1)\n",
    "kb2 = motSim.motBeam(k556*np.array([-1/np.sqrt(2), 0, 1/np.sqrt(2)]), w0, np.zeros(3), gamma556, delta556, S556, 1)\n",
    "kb3 = motSim.motBeam(k556*np.array([0, 1/np.sqrt(2), 1/np.sqrt(2)]), w0, np.zeros(3), gamma556, delta556, S556, 1)\n",
    "kb4 = motSim.motBeam(k556*np.array([0, -1/np.sqrt(2), 1/np.sqrt(2)]), w0, np.zeros(3), gamma556, delta556, S556, 1)\n",
    "kb1b = motSim.motBeamShell(k399*np.array([-1/np.sqrt(2), 0, 1/np.sqrt(2)]), w0Shell, np.zeros(3), gamma399, delta399, S399, 1, l=8)\n",
    "kb2b = motSim.motBeamShell(k399*np.array([1/np.sqrt(2), 0, 1/np.sqrt(2)]), w0Shell, np.zeros(3), gamma399, delta399, S399, 1, l=8)\n",
    "kb3b = motSim.motBeamShell(k399*np.array([0, 1/np.sqrt(2), 1/np.sqrt(2)]), w0Shell, np.zeros(3), gamma399, delta399, S399, 1, l=8)\n",
    "kb4b = motSim.motBeamShell(k399*np.array([0, -1/np.sqrt(2), 1/np.sqrt(2)]), w0Shell, np.zeros(3), gamma399, delta399, S399, 1, l=8)\n",
    "kis = np.array([kb1, kb2, kb3, kb4, kb1b, kb2b, kb3b, kb4b])"
   ]
  },
  {
   "cell_type": "code",
   "execution_count": 61,
   "metadata": {},
   "outputs": [
    {
     "name": "stdout",
     "output_type": "stream",
     "text": [
      "capture fraction = 0.000\n"
     ]
    }
   ],
   "source": [
    "rnAll, vnAll, cFrac = motSim.RK4MC(kis, m171, muEff, Bp, r0, v0, dt, NtimeSteps, Natoms)"
   ]
  },
  {
   "cell_type": "code",
   "execution_count": 62,
   "metadata": {},
   "outputs": [],
   "source": [
    "beamlen = 65\n",
    "plotSize = 60\n",
    "balpha = 0.08\n",
    "fig = plt.figure(figsize=[6,6])\n",
    "ax = fig.gca(projection='3d')\n",
    "ax.set_xlim([-plotSize/2,plotSize/2])\n",
    "ax.set_ylim([-plotSize/2,plotSize/2])\n",
    "ax.set_zlim([-plotSize/2,plotSize/2])\n",
    "motSim.plotBeams(ax, kis[:-4], plotSize/2, beamlen, beamWidth=w0*(1e3), colors=np.repeat('#9FCC3B',5), alpha=0.08)\n",
    "motSim.plotBeams(ax, kis[-4:], plotSize, beamlen/2, beamWidth=w0Shell*(1e3), colors=np.repeat('#1BAAD5',5), alpha=0.08)\n",
    "\n",
    "for i in range(Natoms):\n",
    "    ax.plot(rnAll[::10,0,i]*(1e3), rnAll[::10,1,i]*(1e3), rnAll[::10,2,i]*(1e3), color='k', alpha=0.1)\n",
    "    ax.scatter(rnAll[-1,0,i]*(1e3), rnAll[-1,1,i]*(1e3), rnAll[-1,2,i]*(1e3), c='#CC4129', s=2, alpha=0.5)\n",
    "#     ax.scatter(rnAll[-1,1,i]*(1e3), rnAll[-1,2,i]*(1e3), zs=ax.get_xlim()[0], zdir='x', c='k', s=2, alpha=0.2)\n",
    "#     ax.scatter(rnAll[-1,0,i]*(1e3), rnAll[-1,2,i]*(1e3), zs=ax.get_ylim()[1], zdir='y', c='k', s=2, alpha=0.2)\n",
    "#     ax.scatter(rnAll[-1,0,i]*(1e3), rnAll[-1,1,i]*(1e3), zs=ax.get_zlim()[0], zdir='z', c='k', s=2, alpha=0.2)\n",
    "ax.set_xlabel('x (mm)')\n",
    "ax.set_ylabel('y (mm)')\n",
    "ax.set_zlabel('z (mm)')\n",
    "ax.w_xaxis.set_pane_color((0,0,0,0.01))\n",
    "ax.w_yaxis.set_pane_color((0,0,0,0.01))\n",
    "ax.w_zaxis.set_pane_color((0,0,0,0.01))"
   ]
  },
  {
   "cell_type": "code",
   "execution_count": 63,
   "metadata": {},
   "outputs": [
    {
     "data": {
      "text/plain": [
       "[<matplotlib.lines.Line2D at 0x125cc5950>]"
      ]
     },
     "execution_count": 63,
     "metadata": {},
     "output_type": "execute_result"
    }
   ],
   "source": [
    "fig, ax = plt.subplots()\n",
    "plt.plot(rnAll[:,0,0],vnAll[:,0,0])"
   ]
  },
  {
   "cell_type": "code",
   "execution_count": 707,
   "metadata": {},
   "outputs": [],
   "source": [
    "fig, ax = plt.subplots()\n",
    "ax.hist(v0[0]);"
   ]
  },
  {
   "cell_type": "code",
   "execution_count": 60,
   "metadata": {},
   "outputs": [
    {
     "data": {
      "text/plain": [
       "(-5e-23, 5e-23)"
      ]
     },
     "execution_count": 60,
     "metadata": {},
     "output_type": "execute_result"
    }
   ],
   "source": [
    "z = np.linspace(-20e-3,20e-3,200)\n",
    "Fkbtest = motSim.FMOT(m171, muEff, Bp, np.array([np.zeros_like(z), np.zeros_like(z), z]),np.zeros((3,200)),kis)\n",
    "fig, ax = plt.subplots()\n",
    "plt.plot(z, Fkbtest[2])\n",
    "plt.ylim([-5e-23,5e-23])"
   ]
  },
  {
   "cell_type": "code",
   "execution_count": 29,
   "metadata": {},
   "outputs": [
    {
     "data": {
      "text/plain": [
       "<matplotlib.legend.Legend at 0x12760b7d0>"
      ]
     },
     "execution_count": 29,
     "metadata": {},
     "output_type": "execute_result"
    }
   ],
   "source": [
    "x = np.linspace(-50e-3,50e-3,200)\n",
    "Fkb556test = motSim.FMOT(m171, muEff, Bp, np.array([x, np.zeros_like(x), np.zeros_like(x)]),np.zeros((3,len(x))),kis)\n",
    "Fkb399test = motSim.FMOT(m171, muEff, Bp, np.array([x, np.zeros_like(x), np.zeros_like(x)+(0e-3)]),np.array([np.ones_like(x)*25, np.zeros_like(x), np.zeros_like(x)]),kis)\n",
    "Fkb399testv10 = motSim.FMOT(m171, muEff, Bp, np.array([x, np.zeros_like(x), np.zeros_like(x)]),np.array([np.ones_like(x)*10, np.zeros_like(x), np.zeros_like(x)]),kis)\n",
    "Fkb399testv0 = motSim.FMOT(m171, muEff, Bp, np.array([x, np.zeros_like(x), np.zeros_like(x)]),np.zeros((3,len(x))),kis)\n",
    "Fkbtest = motSim.FMOT(m171, muEff, Bp, np.array([x, np.zeros_like(x), np.zeros_like(x)]),np.zeros((3,len(x))),kis)\n",
    "fig, ax = plt.subplots()\n",
    "plt.plot(x, Fkb399test[0], label='399, v=25m/s')\n",
    "# plt.plot(x, Fkb556test[0], label='556, v=0 m/s')\n",
    "# plt.plot(x, Fkb399testv0[0], label='399, v=0 m/s')\n",
    "# plt.plot(x, Fkb399testv10[0], label='399, v=10 m/s')\n",
    "plt.plot(x, Fkbtest[0], label='sum')\n",
    "plt.legend()"
   ]
  },
  {
   "cell_type": "code",
   "execution_count": 10,
   "metadata": {},
   "outputs": [
    {
     "data": {
      "text/plain": [
       "Text(0, 0.5, 'normalized intensity')"
      ]
     },
     "execution_count": 10,
     "metadata": {},
     "output_type": "execute_result"
    }
   ],
   "source": [
    "kbt1 = motSim.motBeamShell(k399*np.array([-1/np.sqrt(2), 0, 1/np.sqrt(2)]), 5e-3, np.zeros(3), gamma399, delta399, S399, 1, l=3)\n",
    "kbt2 = motSim.motBeamShell(k399*np.array([-1/np.sqrt(2), 0, 1/np.sqrt(2)]), 4e-3, np.zeros(3), gamma399, delta399, S399, 1, l=5)\n",
    "s = np.linspace(-5*w0, 5*w0, 200)\n",
    "r = np.array([[-s/np.sqrt(2)], s/np.sqrt(2), np.zeros_like(s)])\n",
    "fig, ax = plt.subplots()\n",
    "plt.plot(s*(1e3),kbt1.Sat(r)[0]/S399) #/kb1b.Sat(r)[0,int(len(s)/2)]\n",
    "plt.plot(s*(1e3),kbt2.Sat(r)[0]/S399)\n",
    "plt.xlabel(r'$\\rho$ (mm)')\n",
    "plt.ylabel('normalized intensity')"
   ]
  },
  {
   "cell_type": "code",
   "execution_count": 5,
   "metadata": {},
   "outputs": [
    {
     "data": {
      "text/plain": [
       "3"
      ]
     },
     "execution_count": 5,
     "metadata": {},
     "output_type": "execute_result"
    }
   ],
   "source": [
    "kbt2.l"
   ]
  },
  {
   "cell_type": "code",
   "execution_count": null,
   "metadata": {},
   "outputs": [],
   "source": []
  }
 ],
 "metadata": {
  "kernelspec": {
   "display_name": "Python 3",
   "language": "python",
   "name": "python3"
  },
  "language_info": {
   "codemirror_mode": {
    "name": "ipython",
    "version": 3
   },
   "file_extension": ".py",
   "mimetype": "text/x-python",
   "name": "python",
   "nbconvert_exporter": "python",
   "pygments_lexer": "ipython3",
   "version": "3.7.4"
  },
  "toc-autonumbering": true,
  "toc-showtags": false
 },
 "nbformat": 4,
 "nbformat_minor": 4
}
