{
 "cells": [
  {
   "cell_type": "code",
   "execution_count": 1,
   "metadata": {},
   "outputs": [],
   "source": [
    "import numpy as np\n",
    "import scipy.constants as sc\n",
    "import matplotlib.pyplot as plt\n",
    "from mpl_toolkits.mplot3d import Axes3D"
   ]
  },
  {
   "cell_type": "markdown",
   "metadata": {},
   "source": [
    "$\\newcommand{\\ket}[1]{\\left|{#1}\\right\\rangle}$\n",
    "$\\newcommand{\\bra}[1]{\\left\\langle{#1}\\right|}$"
   ]
  },
  {
   "cell_type": "code",
   "execution_count": 2,
   "metadata": {},
   "outputs": [],
   "source": [
    "muB=9.274e-24\n",
    "AMU=1.66e-27\n",
    "m171 = 171*AMU\n",
    "fieldGrad = (2e-4)/(1e-2)\n",
    "w0 = 0.01\n",
    "Is556 = (0.139e-3)*(1e4)\n",
    "Is399 = (59.97e-3)*(1e4)\n",
    "l556 = 556e-9\n",
    "l399 = 399e-9\n",
    "k556 = 2*np.pi/l556\n",
    "k399 = 2*np.pi/l399\n",
    "gamma556 = 2*np.pi*180e3\n",
    "gamma399 = 2*np.pi*30e6\n",
    "Td = sc.hbar*gamma556/(2*sc.k)"
   ]
  },
  {
   "cell_type": "markdown",
   "metadata": {},
   "source": [
    "capture velocity estimate:"
   ]
  },
  {
   "cell_type": "markdown",
   "metadata": {},
   "source": [
    "$$\n",
    "\\frac{1}{2} m v^2 = \\frac{\\hbar k \\Gamma}{2} d\n",
    "$$\n",
    "\n",
    "$$\n",
    "v_c = \\sqrt{\\frac{\\hbar k \\Gamma d}{m}}\n",
    "$$"
   ]
  },
  {
   "cell_type": "markdown",
   "metadata": {},
   "source": [
    "MOT parameters:"
   ]
  },
  {
   "cell_type": "code",
   "execution_count": 3,
   "metadata": {},
   "outputs": [],
   "source": [
    "def Beta(s0, delta, k, gamma):\n",
    "    return 8*sc.hbar*(k**2)*delta*s0/(gamma * ((1 + s0 + (2*delta/gamma)**2)**2) )\n",
    "\n",
    "def F(s0, delta, k, gamma, v, muEff, Bp, x):\n",
    "    b = Beta(s0, delta, k, gamma)\n",
    "    kappa = muEff*Bp*b/(sc.hbar*k)\n",
    "    return -b*v - kappa*x\n",
    "\n",
    "def vcMOT(d):\n",
    "    return np.sqrt(sc.hbar*k556*gamma556*d/m171)"
   ]
  },
  {
   "cell_type": "markdown",
   "metadata": {
    "toc-hr-collapsed": false
   },
   "source": [
    "# test RK4 in 1D MOT damped oscillator limit"
   ]
  },
  {
   "cell_type": "code",
   "execution_count": 4,
   "metadata": {},
   "outputs": [],
   "source": [
    "s0 = 400\n",
    "delta = 35*gamma556\n",
    "k = k556\n",
    "gamma = gamma556\n",
    "Bp = fieldGrad\n",
    "muEff = 1.5*muB\n",
    "\n",
    "def F1D(x,v):\n",
    "    return F(s0, delta, k, gamma, v, muEff, Bp, x)"
   ]
  },
  {
   "cell_type": "code",
   "execution_count": 5,
   "metadata": {},
   "outputs": [
    {
     "data": {
      "text/plain": [
       "(5.367706012355765e-23, 1.2531291635988157e-20)"
      ]
     },
     "execution_count": 5,
     "metadata": {},
     "output_type": "execute_result"
    }
   ],
   "source": [
    "b = Beta(s0, delta, k, gamma)\n",
    "kappa = muEff*Bp*b/(sc.hbar*k)\n",
    "b, kappa"
   ]
  },
  {
   "cell_type": "code",
   "execution_count": 301,
   "metadata": {},
   "outputs": [],
   "source": [
    "def dampedOsc(x0, v0, t):\n",
    "    m = m171\n",
    "    b = Beta(s0, delta, k, gamma)\n",
    "    kappa = muEff*Bp*b/(sc.hbar*k)\n",
    "    omega0 = np.sqrt(kappa/m171)\n",
    "    omega = np.sqrt(omega0**2 - (b/(2*m))**2)\n",
    "    x = np.exp(-b*t/(2*m))*(x0*np.cos(omega*t) + ((v0+(b/(2*m))*x0)/omega)*np.sin(omega*t))\n",
    "    return x"
   ]
  },
  {
   "cell_type": "code",
   "execution_count": 302,
   "metadata": {},
   "outputs": [],
   "source": [
    "def RK41D(x0, v0, dt, N):\n",
    "    xn, vn, Fn = np.zeros(N), np.zeros(N), np.zeros(N)\n",
    "    xn[0], vn[0] = x0, v0\n",
    "    for n in range(N-1):\n",
    "        Fn[n] = F1D(xn[n], vn[n])\n",
    "        k1, l1 = dt*F1D(xn[n], vn[n])/m171, dt*vn[n]\n",
    "        k2, l2 = dt*F1D(xn[n] + l1/2, vn[n] + k1/2)/m171, dt*(vn[n] + k1/2)\n",
    "        k3, l3 = dt*F1D(xn[n] + l2/2, vn[n] + k2/2)/m171, dt*(vn[n] + k2/2)\n",
    "        k4, l4 = dt*F1D(xn[n] + l3, vn[n] + k3)/m171, dt*(vn[n] + k3)\n",
    "        xn[n+1] = xn[n] + (1/6)*(l1 + 2*l2 + 2*l3 + l4)\n",
    "        vn[n+1] = vn[n] + (1/6)*(k1 + 2*k2 + 2*k3 + k4)\n",
    "    return xn, vn, Fn"
   ]
  },
  {
   "cell_type": "code",
   "execution_count": 304,
   "metadata": {},
   "outputs": [],
   "source": [
    "dt = 5e-5\n",
    "N = 2000\n",
    "t = np.arange(0,dt*N,dt)\n",
    "xn, vn, Fn = RK41D(0.02, 0, dt, N)\n",
    "xnA = dampedOsc(0.02, 0, t)"
   ]
  },
  {
   "cell_type": "code",
   "execution_count": 305,
   "metadata": {},
   "outputs": [
    {
     "data": {
      "text/plain": [
       "[<matplotlib.lines.Line2D at 0x11d5fc7d0>]"
      ]
     },
     "execution_count": 305,
     "metadata": {},
     "output_type": "execute_result"
    },
    {
     "data": {
      "image/png": "[encoded data removed]",
      "text/plain": [
       "<Figure size 400x300 with 1 Axes>"
      ]
     },
     "metadata": {},
     "output_type": "display_data"
    }
   ],
   "source": [
    "plt.plot(t, xnA)\n",
    "plt.plot(t, xn, 'k', alpha=0.5)"
   ]
  },
  {
   "cell_type": "code",
   "execution_count": 306,
   "metadata": {},
   "outputs": [
    {
     "data": {
      "text/plain": [
       "[<matplotlib.lines.Line2D at 0x11d7ed410>]"
      ]
     },
     "execution_count": 306,
     "metadata": {},
     "output_type": "execute_result"
    },
    {
     "data": {
      "image/png": "[encoded data removed]",
      "text/plain": [
       "<Figure size 400x300 with 1 Axes>"
      ]
     },
     "metadata": {},
     "output_type": "display_data"
    }
   ],
   "source": [
    "plt.plot(Fn)"
   ]
  }
 ],
 "metadata": {
  "kernelspec": {
   "display_name": "Python 3 (ipykernel)",
   "language": "python",
   "name": "python3"
  },
  "language_info": {
   "codemirror_mode": {
    "name": "ipython",
    "version": 3
   },
   "file_extension": ".py",
   "mimetype": "text/x-python",
   "name": "python",
   "nbconvert_exporter": "python",
   "pygments_lexer": "ipython3",
   "version": "3.11.4"
  }
 },
 "nbformat": 4,
 "nbformat_minor": 4
}
