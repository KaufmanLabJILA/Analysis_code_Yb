{
 "cells": [
  {
   "cell_type": "code",
   "execution_count": 279,
   "metadata": {},
   "outputs": [],
   "source": [
    "import numpy as np\n",
    "import matplotlib.pyplot as plt\n",
    "import scipy as sp\n",
    "import scipy.constants\n",
    "from qutip import *\n",
    "import random\n",
    "from numpy.random import choice\n",
    "import matplotlib.cm as cm\n",
    "from sympy import *\n",
    "from IPython.display import Image\n",
    "from sympy.physics.wigner import wigner_6j\n",
    "from sympy.physics.quantum.cg import CG\n",
    "import tqdm\n",
    "from numpy import random\n",
    "\n",
    "\"\"\" \n",
    "constants\n",
    "\"\"\"\n",
    "pi = np.pi\n",
    "c = sp.constants.c\n",
    "epsilon0 = sp.constants.epsilon_0\n",
    "hbar = sp.constants.hbar\n",
    "h = sp.constants.h\n",
    "u = sp.constants.physical_constants['atomic mass constant'][0]\n",
    "kB = sp.constants.physical_constants['Boltzmann constant'][0]\n",
    "mB = sp.constants.physical_constants['Bohr magneton'][0]\n",
    "\n",
    "# α/h [Hz/(V/m)2]=2.48832×10−8 α [a.u.] from https://arxiv.org/pdf/1507.06570.pdf\n",
    "# α [a.u.] = 1.648 777 274 36 x 10-41 α [C2 m2 J-1] #https://physics.nist.gov/cgi-bin/cuu/Value?auepol\n",
    "a_au = 1.64877727436*1e-41"
   ]
  },
  {
   "cell_type": "code",
   "execution_count": 290,
   "metadata": {},
   "outputs": [],
   "source": [
    "def raising_coeff(Fe, Fg, me, mg, Je, Jg):\n",
    "    I = 1/2 #nuclear spin\n",
    "    q = me-mg\n",
    "    cg = CG(Fg, mg, 1, q , Fe, me) #Clebsh-Gordan coeff\n",
    "    return (float(cg.doit()) \n",
    "            * (-1)**(Fg+Je+1+I) \n",
    "            * np.sqrt((2*Fg+1)*(2*Je+1)) \n",
    "            * float(wigner_6j(Je, Jg, 1, Fg, Fe, I))   \n",
    "            )"
   ]
  },
  {
   "cell_type": "code",
   "execution_count": 291,
   "metadata": {},
   "outputs": [],
   "source": [
    "def Rabi(Fg, mFg, Jg, Fe, mFe, Je, intensity, tau, omega):\n",
    "    \n",
    "    return (np.sqrt(2*intensity/epsilon0/c)\n",
    "            *np.sqrt(3*np.pi*epsilon0*hbar*c**3/tau/omega**3)\n",
    "            *raising_coeff(Fe, Fg, mFe, mFg, Je, Jg)\n",
    "            /hbar\n",
    "           )"
   ]
  },
  {
   "cell_type": "code",
   "execution_count": 292,
   "metadata": {},
   "outputs": [],
   "source": [
    "_lambda = 556e-9\n",
    "omega_r = 2*np.pi*58e3\n",
    "m = 171*u\n",
    "#Delta = 2*np.pi*13e3\n",
    "omega =  2*np.pi*(4760.247 + 539385645.457)*1e6 #https://journals.aps.org/pra/pdf/10.1103/PhysRevA.100.042505\n",
    "tau = 866.1e-9"
   ]
  },
  {
   "cell_type": "code",
   "execution_count": 289,
   "metadata": {},
   "outputs": [
    {
     "data": {
      "text/plain": [
       "539.3904057039999"
      ]
     },
     "execution_count": 289,
     "metadata": {},
     "output_type": "execute_result"
    }
   ],
   "source": []
  },
  {
   "cell_type": "code",
   "execution_count": 134,
   "metadata": {},
   "outputs": [
    {
     "name": "stdout",
     "output_type": "stream",
     "text": [
      "Best angle: 45.00 deg\n"
     ]
    }
   ],
   "source": [
    "#optimal angle\n",
    "angle_ls = np.linspace(0, np.pi/2, 301)\n",
    "Rabi_ls = []\n",
    "\n",
    "for angle in angle_ls:\n",
    "    E = 1\n",
    "    Rabi_pi = E*np.cos(angle)*np.sqrt(2/3)\n",
    "    Rabi_sig = E*np.sin(angle)*np.sqrt(1/3)/2\n",
    "    Rabi_ls.append(Rabi_sig*Rabi_pi)\n",
    "\n",
    "angle_opt = angle_ls[int(np.argwhere(Rabi_ls==np.max(Rabi_ls)))]\n",
    "print('Best angle: %.2f deg' %(angle_opt*180/np.pi))"
   ]
  },
  {
   "cell_type": "code",
   "execution_count": 135,
   "metadata": {},
   "outputs": [
    {
     "data": {
      "text/plain": [
       "[<matplotlib.lines.Line2D at 0x7fc42c3812e0>]"
      ]
     },
     "execution_count": 135,
     "metadata": {},
     "output_type": "execute_result"
    },
    {
     "data": {
      "image/png": "[encoded data removed]",
      "text/plain": [
       "<Figure size 432x288 with 1 Axes>"
      ]
     },
     "metadata": {
      "needs_background": "light"
     },
     "output_type": "display_data"
    }
   ],
   "source": [
    "plt.plot(angle_ls, Rabi_ls)"
   ]
  },
  {
   "cell_type": "code",
   "execution_count": 136,
   "metadata": {},
   "outputs": [
    {
     "data": {
      "text/plain": [
       "array([[150]])"
      ]
     },
     "execution_count": 136,
     "metadata": {},
     "output_type": "execute_result"
    }
   ],
   "source": [
    "np.argwhere(Rabi_ls==np.max(Rabi_ls))"
   ]
  },
  {
   "cell_type": "code",
   "execution_count": 137,
   "metadata": {},
   "outputs": [
    {
     "name": "stdout",
     "output_type": "stream",
     "text": [
      "0.5000000000000001 0.5\n",
      "45.00000000000001\n",
      "0.7500000000000002\n"
     ]
    },
    {
     "data": {
      "image/png": "[encoded data removed]",
      "text/plain": [
       "<Figure size 432x288 with 1 Axes>"
      ]
     },
     "metadata": {
      "needs_background": "light"
     },
     "output_type": "display_data"
    }
   ],
   "source": [
    "x = np.linspace(0.1,0.7, 100)\n",
    "y = x*np.sqrt(1-2*x**2)*np.sqrt(2)\n",
    "plt.plot(x, y)\n",
    "y0 = np.max(y)\n",
    "x0 = x[np.argmax(y)]\n",
    "print(y0,x0)\n",
    "print(np.arctan(y0/x0)*180/np.pi)\n",
    "print(x0**2 + 2*y0**2)"
   ]
  },
  {
   "cell_type": "code",
   "execution_count": 296,
   "metadata": {},
   "outputs": [
    {
     "name": "stdout",
     "output_type": "stream",
     "text": [
      "Single Rabi:\n",
      " pi  -49.00154125211462 MHz \n",
      " sigma  49.00154125211462 MHz\n",
      "Raman Rabi:\n",
      " pi  -0.48023020901653835 MHz\n",
      "Raman Rab at FOV:\n",
      " pi  -0.47801387949913315 MHz\n",
      "infidelity at FOV: 5.26E-05\n",
      "infidelity at FOV: 1.37E-05\n",
      "infidelity at centre: 1.27E-05\n",
      "LS 2.0489822251372303 MHz\n",
      "LS fov 1.8851546519122715 MHz\n",
      "LS inf 1.57E-02\n",
      "infidelity at FOV: 4.27E-03\n",
      "infidelity at centre: 4.28E-03\n"
     ]
    }
   ],
   "source": [
    "w_hor = 3.2e-3 #(400 mm lens)\n",
    "w_ver = 0.19e-3\n",
    "Ptot = 0.76*1.5\n",
    "Ps = Ptot/2/2\n",
    "Pp = Ptot-2*Ps\n",
    "Ip = 2*Pp/np.pi/w_hor/w_ver\n",
    "Is = 2*Ps/np.pi/w_hor/w_ver\n",
    "\n",
    "FOV=75e-6\n",
    "\n",
    "DeltaR = 2*np.pi*5e9\n",
    "\n",
    "Omega_p = Rabi(1/2, 1/2, 0, 1/2, 1/2, 1, Ip, tau, omega)\n",
    "Omega_s = Rabi(1/2, -1/2, 0, 1/2, 1/2, 1, Is, tau, omega)\n",
    "\n",
    "Omega_R = Omega_p*Omega_s/DeltaR\n",
    "\n",
    "print('Single Rabi:\\n pi ', Omega_p/2/np.pi/1e6, 'MHz \\n sigma ', Omega_s/2/np.pi/1e6, 'MHz')\n",
    "print('Raman Rabi:\\n pi ', Omega_R/2/np.pi/1e6, 'MHz')\n",
    "\n",
    "Ifov_p = Ip*np.exp(-2*(FOV/2)**2/w_hor/w_ver)\n",
    "Ifov_s = Is*np.exp(-2*(FOV/2)**2/w_hor/w_ver)\n",
    "\n",
    "Omega_p_fov = Rabi(1/2, 1/2, 0, 1/2, 1/2, 1, Ifov_p, tau, omega)\n",
    "Omega_s_fov = Rabi(1/2, -1/2, 0, 1/2, 1/2, 1, Ifov_s, tau, omega)\n",
    "\n",
    "Omega_R_fov = Omega_p_fov*Omega_s_fov/DeltaR\n",
    "\n",
    "pitime_centre = np.pi/Omega_R\n",
    "\n",
    "print('Raman Rab at FOV:\\n pi ', Omega_R_fov/2/np.pi/1e6, 'MHz')\n",
    "print('infidelity at FOV:', \"{:.2E}\".format((np.cos(Omega_R_fov*pitime_centre)*1/2+0.5)))\n",
    "\n",
    "\n",
    "point = FOV/10*7\n",
    "Ipoint_p = Ip*np.exp(-2*(point/2)**2/w_hor/w_ver)\n",
    "Ipoint_s = Is*np.exp(-2*(point/2)**2/w_hor/w_ver)\n",
    "\n",
    "Omega_p_point = Rabi(1/2, 1/2, 0, 1/2, 1/2, 1, Ipoint_p, tau, omega)\n",
    "Omega_s_point = Rabi(1/2, -1/2, 0, 1/2, 1/2, 1, Ipoint_s, tau, omega)\n",
    "\n",
    "Omega_R_point = Omega_p_point*Omega_s_point/DeltaR\n",
    "\n",
    "\n",
    "pitime_point = np.pi/Omega_R_point\n",
    "\n",
    "print('infidelity at FOV:', \"{:.2E}\".format((np.cos(Omega_R_fov*pitime_point)*1/2+0.5)))\n",
    "print('infidelity at centre:', \"{:.2E}\".format((np.cos(Omega_R*pitime_point)*1/2+0.5)))\n",
    "\n",
    "\n",
    "\n",
    "\n",
    "\n",
    "FOV=300e-6\n",
    "DeltaR = 2*np.pi*10e9\n",
    "\n",
    "w_hor = 4.5e-3 #(300 mm lens)\n",
    "w_ver = 0.12e-3\n",
    "Ptot = 0.72*1.5\n",
    "\n",
    "ILS = 2*Ptot/np.pi/w_hor/w_ver\n",
    "Omega_LS = Rabi(1/2, -1/2, 0, 1/2, 1/2, 1, ILS, tau, omega)**2 / DeltaR\n",
    "\n",
    "Ifov_LS = ILS*np.exp(-2*(FOV/2)**2/w_hor/w_ver)\n",
    "Omega_LS_fov = Rabi(1/2, -1/2, 0, 1/2, 1/2, 1, Ifov_LS, tau, omega)**2 /DeltaR\n",
    "\n",
    "print('LS', Omega_LS/np.pi/1e6, 'MHz')\n",
    "print('LS fov', Omega_LS_fov/np.pi/1e6, 'MHz')\n",
    "\n",
    "pitime_centre = np.pi/Omega_LS\n",
    "print('LS inf %.2E' %(np.cos(Omega_LS_fov*pitime_centre)*1/2+0.5))\n",
    "\n",
    "\n",
    "point = FOV/10*7\n",
    "Ipoint_LS = ILS*np.exp(-2*(point/2)**2/w_hor/w_ver)\n",
    "\n",
    "Omega_LS_point = Rabi(1/2, -1/2, 0, 1/2, 1/2, 1, Ipoint_LS, tau, omega)**2 / DeltaR\n",
    "\n",
    "\n",
    "pitime_point = np.pi/Omega_LS_point\n",
    "\n",
    "print('infidelity at FOV:', \"{:.2E}\".format((np.cos(Omega_LS_fov*pitime_point)*1/2+0.5)))\n",
    "print('infidelity at centre:', \"{:.2E}\".format((np.cos(Omega_LS*pitime_point)*1/2+0.5)))\n",
    "\n",
    "\n"
   ]
  },
  {
   "cell_type": "code",
   "execution_count": 258,
   "metadata": {},
   "outputs": [
    {
     "data": {
      "text/plain": [
       "6.451612903225807e-05"
      ]
     },
     "execution_count": 258,
     "metadata": {},
     "output_type": "execute_result"
    }
   ],
   "source": [
    "0.5/.775*100*1e-6"
   ]
  },
  {
   "cell_type": "code",
   "execution_count": 260,
   "metadata": {},
   "outputs": [
    {
     "data": {
      "text/plain": [
       "10"
      ]
     },
     "execution_count": 260,
     "metadata": {},
     "output_type": "execute_result"
    }
   ],
   "source": [
    "a = 5\n",
    "b = 2\n",
    "a*b\n"
   ]
  },
  {
   "cell_type": "code",
   "execution_count": 261,
   "metadata": {},
   "outputs": [
    {
     "data": {
      "text/plain": [
       "5"
      ]
     },
     "execution_count": 261,
     "metadata": {},
     "output_type": "execute_result"
    }
   ],
   "source": [
    "a"
   ]
  },
  {
   "cell_type": "code",
   "execution_count": 259,
   "metadata": {},
   "outputs": [
    {
     "data": {
      "text/plain": [
       "3.36"
      ]
     },
     "execution_count": 259,
     "metadata": {},
     "output_type": "execute_result"
    }
   ],
   "source": [
    "400/75*0.63"
   ]
  },
  {
   "cell_type": "code",
   "execution_count": 140,
   "metadata": {},
   "outputs": [
    {
     "data": {
      "text/plain": [
       "15.198631610980865"
      ]
     },
     "execution_count": 140,
     "metadata": {},
     "output_type": "execute_result"
    }
   ],
   "source": [
    "Omega_LS/1e6"
   ]
  },
  {
   "cell_type": "code",
   "execution_count": 198,
   "metadata": {},
   "outputs": [
    {
     "data": {
      "text/plain": [
       "0.6313812556869881"
      ]
     },
     "execution_count": 198,
     "metadata": {},
     "output_type": "execute_result"
    }
   ],
   "source": [
    "0.556e-6/3.14/1.75e-6*6.24"
   ]
  },
  {
   "cell_type": "code",
   "execution_count": 248,
   "metadata": {},
   "outputs": [
    {
     "data": {
      "text/plain": [
       "0.11242543726620158"
      ]
     },
     "execution_count": 248,
     "metadata": {},
     "output_type": "execute_result"
    }
   ],
   "source": [
    "0.556e-6/3.14/0.63e-3*400"
   ]
  },
  {
   "cell_type": "code",
   "execution_count": 69,
   "metadata": {},
   "outputs": [
    {
     "data": {
      "text/plain": [
       "0.00455"
      ]
     },
     "execution_count": 69,
     "metadata": {},
     "output_type": "execute_result"
    }
   ],
   "source": [
    "0.455e-3*10"
   ]
  },
  {
   "cell_type": "code",
   "execution_count": 201,
   "metadata": {},
   "outputs": [
    {
     "data": {
      "text/plain": [
       "0.17707006369426748"
      ]
     },
     "execution_count": 201,
     "metadata": {},
     "output_type": "execute_result"
    }
   ],
   "source": [
    "0.556e-6/3.14/0.4e-3*400"
   ]
  },
  {
   "cell_type": "code",
   "execution_count": 76,
   "metadata": {},
   "outputs": [
    {
     "data": {
      "text/plain": [
       "4.0"
      ]
     },
     "execution_count": 76,
     "metadata": {},
     "output_type": "execute_result"
    }
   ],
   "source": [
    "0.4*10"
   ]
  },
  {
   "cell_type": "code",
   "execution_count": 63,
   "metadata": {},
   "outputs": [
    {
     "data": {
      "text/plain": [
       "2.5"
      ]
     },
     "execution_count": 63,
     "metadata": {},
     "output_type": "execute_result"
    }
   ],
   "source": [
    ".3*250/30"
   ]
  },
  {
   "cell_type": "code",
   "execution_count": 21,
   "metadata": {},
   "outputs": [
    {
     "data": {
      "text/plain": [
       "4.5"
      ]
     },
     "execution_count": 21,
     "metadata": {},
     "output_type": "execute_result"
    }
   ],
   "source": [
    "0.45*10"
   ]
  },
  {
   "cell_type": "code",
   "execution_count": 31,
   "metadata": {},
   "outputs": [
    {
     "data": {
      "text/plain": [
       "0.14053179658275197"
      ]
     },
     "execution_count": 31,
     "metadata": {},
     "output_type": "execute_result"
    }
   ],
   "source": [
    "0.556e-6/3.14/0.63e-3*500"
   ]
  },
  {
   "cell_type": "code",
   "execution_count": 64,
   "metadata": {},
   "outputs": [
    {
     "data": {
      "text/plain": [
       "0.14755838641188956"
      ]
     },
     "execution_count": 64,
     "metadata": {},
     "output_type": "execute_result"
    }
   ],
   "source": [
    "0.556e-6/3.14/0.3e-3*250"
   ]
  },
  {
   "cell_type": "code",
   "execution_count": 111,
   "metadata": {},
   "outputs": [
    {
     "data": {
      "text/plain": [
       "0.09549085583753146"
      ]
     },
     "execution_count": 111,
     "metadata": {},
     "output_type": "execute_result"
    }
   ],
   "source": [
    "np.pi*(0.13e-3)**2/0.556e-6"
   ]
  },
  {
   "cell_type": "code",
   "execution_count": 166,
   "metadata": {},
   "outputs": [
    {
     "name": "stdout",
     "output_type": "stream",
     "text": [
      "Single Rabi:\n",
      " pi  22.632842426091948 MHz \n",
      " sigma  11.316421213045972 MHz\n",
      "Raman Rabi:\n",
      " pi  0.17074851876143585 MHz\n",
      "Raman Rab at FOV:\n",
      " pi  0.16921867670824225 MHz\n",
      "infidelity at FOV: 1.98E-04\n"
     ]
    }
   ],
   "source": [
    "w_hor = 50e-3\n",
    "w_ver = 0.1e-3\n",
    "Ptot = 1\n",
    "Ps = Ptot*2/4/2\n",
    "Pp = Ptot-2*Ps\n",
    "Ip = 2*Pp/np.pi/w_hor/w_ver\n",
    "Is = 2*Ps/np.pi/w_hor/w_ver\n",
    "\n",
    "FOV=0.30e-3\n",
    "\n",
    "DeltaR = 2*np.pi*3e9\n",
    "\n",
    "Omega_p = Rabi(1/2, 1/2, 0, 3/2, 1/2, 1, Ip, tau, omega)\n",
    "Omega_s = Rabi(1/2, -1/2, 0, 3/2, 1/2, 1, Is, tau, omega)\n",
    "\n",
    "Omega_R = 2*Omega_p*Omega_s/DeltaR\n",
    "\n",
    "print('Single Rabi:\\n pi ', Omega_p/2/np.pi/1e6, 'MHz \\n sigma ', Omega_s/2/np.pi/1e6, 'MHz')\n",
    "print('Raman Rabi:\\n pi ', Omega_R/2/np.pi/1e6, 'MHz')\n",
    "\n",
    "Ifov_p = Ip*np.exp(-2*(FOV/2)**2/w_hor/w_ver)\n",
    "Ifov_s = Is*np.exp(-2*(FOV/2)**2/w_hor/w_ver)\n",
    "\n",
    "Omega_p_fov = Rabi(1/2, 1/2, 0, 3/2, 1/2, 1, Ifov_p, tau, omega)\n",
    "Omega_s_fov = Rabi(1/2, -1/2, 0, 3/2, 1/2, 1, Ifov_s, tau, omega)\n",
    "\n",
    "Omega_R_fov = 2*Omega_p_fov*Omega_s_fov/DeltaR\n",
    "\n",
    "print('Raman Rab at FOV:\\n pi ', Omega_R_fov/2/np.pi/1e6, 'MHz')\n",
    "\n",
    "\n",
    "pitime_centre = np.pi/Omega_R\n",
    "print('infidelity at FOV:', \"{:.2E}\".format(np.cos(Omega_R_fov*pitime_centre)*1/2+0.5))\n",
    "\n"
   ]
  },
  {
   "cell_type": "code",
   "execution_count": 11,
   "metadata": {},
   "outputs": [
    {
     "data": {
      "text/plain": [
       "2.1186440677966102e-09"
      ]
     },
     "execution_count": 11,
     "metadata": {},
     "output_type": "execute_result"
    }
   ],
   "source": [
    "0.5/236e6"
   ]
  },
  {
   "cell_type": "code",
   "execution_count": 12,
   "metadata": {},
   "outputs": [
    {
     "data": {
      "text/plain": [
       "0.48741"
      ]
     },
     "execution_count": 12,
     "metadata": {},
     "output_type": "execute_result"
    }
   ],
   "source": [
    "2.11e-9*231e6"
   ]
  },
  {
   "cell_type": "code",
   "execution_count": 13,
   "metadata": {},
   "outputs": [
    {
     "data": {
      "text/plain": [
       "0.8836939615657327"
      ]
     },
     "execution_count": 13,
     "metadata": {},
     "output_type": "execute_result"
    }
   ],
   "source": [
    "np.cos(0.4871)"
   ]
  },
  {
   "cell_type": "code",
   "execution_count": 22,
   "metadata": {},
   "outputs": [
    {
     "data": {
      "text/plain": [
       "<matplotlib.legend.Legend at 0x7fb8e8fd7370>"
      ]
     },
     "execution_count": 22,
     "metadata": {},
     "output_type": "execute_result"
    },
    {
     "data": {
      "image/png": "[encoded data removed]",
      "text/plain": [
       "<Figure size 432x288 with 1 Axes>"
      ]
     },
     "metadata": {
      "needs_background": "light"
     },
     "output_type": "display_data"
    }
   ],
   "source": [
    "Omega0 = 2*np.pi*(186-11)\n",
    "Omega1 = 2*np.pi*(186)\n",
    "Omega2 = 2*np.pi*(186+11)\n",
    "\n",
    "t = np.linspace(0, 8, 100)*1e-3\n",
    "\n",
    "plt.plot(t, 0.5*(np.cos(Omega0*t)+1), label='max')\n",
    "plt.plot(t, 0.5*(np.cos(Omega1*t)+1), label='mean')\n",
    "plt.plot(t, 0.5*(np.cos(Omega2*t)+1), label='max')\n",
    "plt.legend()"
   ]
  },
  {
   "cell_type": "code",
   "execution_count": 23,
   "metadata": {},
   "outputs": [
    {
     "name": "stdout",
     "output_type": "stream",
     "text": [
      "0.008604974529571041 0.008604974529570986\n"
     ]
    }
   ],
   "source": [
    "t1 = np.pi/Omega1\n",
    "\n",
    "print(0.5*(np.cos(Omega0*t1)+1), 0.5*(np.cos(Omega2*t1)+1))"
   ]
  },
  {
   "cell_type": "code",
   "execution_count": null,
   "metadata": {},
   "outputs": [],
   "source": []
  },
  {
   "cell_type": "code",
   "execution_count": 24,
   "metadata": {},
   "outputs": [
    {
     "name": "stdout",
     "output_type": "stream",
     "text": [
      "Single Rabi:\n",
      " pi  640.153454280648 MHz \n",
      " sigma  320.07672714032407 MHz\n",
      "Single Rabi:\n",
      " pi  615.0526783097264 MHz \n",
      " sigma  307.5263391548632 MHz\n",
      "infidelity at FOV: 3.79E-03\n"
     ]
    }
   ],
   "source": [
    "w_hor = 0.025e-3\n",
    "w_ver = 0.025e-3\n",
    "Ptot = 100e-3\n",
    "Ps = Ptot*2/4/2\n",
    "Pp = Ptot-2*Ps\n",
    "Ip = 2*Pp/np.pi/w_hor/w_ver\n",
    "Is = 2*Ps/np.pi/w_hor/w_ver\n",
    "\n",
    "FOV=0.01e-3\n",
    "\n",
    "Omega_p = Rabi(1/2, 1/2, 0, 3/2, 1/2, 1, Ip, tau, omega)\n",
    "Omega_s = Rabi(1/2, -1/2, 0, 3/2, 1/2, 1, Is, tau, omega)\n",
    "\n",
    "print('Single Rabi:\\n pi ', Omega_p/2/np.pi/1e6, 'MHz \\n sigma ', Omega_s/2/np.pi/1e6, 'MHz')\n",
    "\n",
    "Ifov_p = Ip*np.exp(-2*(FOV/2)**2/w_hor/w_ver)\n",
    "Ifov_s = Is*np.exp(-2*(FOV/2)**2/w_hor/w_ver)\n",
    "\n",
    "Omega_p_fov = Rabi(1/2, 1/2, 0, 3/2, 1/2, 1, Ifov_p, tau, omega)\n",
    "Omega_s_fov = Rabi(1/2, -1/2, 0, 3/2, 1/2, 1, Ifov_s, tau, omega)\n",
    "\n",
    "print('Single Rabi:\\n pi ', Omega_p_fov/2/np.pi/1e6, 'MHz \\n sigma ', Omega_s_fov/2/np.pi/1e6, 'MHz')\n",
    "\n",
    "\n",
    "pitime_centre = np.pi/Omega_p\n",
    "print('infidelity at FOV:', \"{:.2E}\".format(np.cos(Omega_p_fov*pitime_centre)*1/2+0.5))\n",
    "\n"
   ]
  },
  {
   "cell_type": "code",
   "execution_count": 45,
   "metadata": {},
   "outputs": [
    {
     "name": "stdout",
     "output_type": "stream",
     "text": [
      "Single Rabi:\n",
      " pi  226.32842426091943 MHz \n",
      " sigma  113.16421213045972 MHz\n",
      "Raman Rabi:\n",
      " pi  3.9403504329562105 MHz\n",
      "Raman Rab at FOV:\n",
      " pi  3.9364120520419106 MHz\n",
      "infidelity at FOV: 2.46E-06\n"
     ]
    }
   ],
   "source": [
    "w_hor = 1e-3\n",
    "w_ver = 0.05e-3\n",
    "Ptot = 1\n",
    "Ps = Ptot*2/4/2\n",
    "Pp = Ptot-2*Ps\n",
    "Ip = 2*Pp/np.pi/w_hor/w_ver\n",
    "Is = 2*Ps/np.pi/w_hor/w_ver\n",
    "\n",
    "FOV=0.01e-3\n",
    "\n",
    "DeltaR = 2*np.pi*13e9\n",
    "\n",
    "Omega_p = Rabi(1/2, 1/2, 0, 3/2, 1/2, 1, Ip, tau, omega)\n",
    "Omega_s = Rabi(1/2, -1/2, 0, 3/2, 1/2, 1, Is, tau, omega)\n",
    "\n",
    "Omega_R = 2*Omega_p*Omega_s/DeltaR\n",
    "\n",
    "print('Single Rabi:\\n pi ', Omega_p/2/np.pi/1e6, 'MHz \\n sigma ', Omega_s/2/np.pi/1e6, 'MHz')\n",
    "print('Raman Rabi:\\n pi ', Omega_R/2/np.pi/1e6, 'MHz')\n",
    "\n",
    "Ifov_p = Ip*np.exp(-2*(FOV/2)**2/w_hor/w_ver)\n",
    "Ifov_s = Is*np.exp(-2*(FOV/2)**2/w_hor/w_ver)\n",
    "\n",
    "Omega_p_fov = Rabi(1/2, 1/2, 0, 3/2, 1/2, 1, Ifov_p, tau, omega)\n",
    "Omega_s_fov = Rabi(1/2, -1/2, 0, 3/2, 1/2, 1, Ifov_s, tau, omega)\n",
    "\n",
    "Omega_R_fov = 2*Omega_p_fov*Omega_s_fov/DeltaR\n",
    "\n",
    "print('Raman Rab at FOV:\\n pi ', Omega_R_fov/2/np.pi/1e6, 'MHz')\n",
    "\n",
    "\n",
    "pitime_centre = np.pi/Omega_R\n",
    "print('infidelity at FOV:', \"{:.2E}\".format(np.cos(Omega_R_fov*pitime_centre)*1/2+0.5))\n",
    "\n"
   ]
  },
  {
   "cell_type": "code",
   "execution_count": 1,
   "metadata": {},
   "outputs": [
    {
     "data": {
      "text/plain": [
       "37.5"
      ]
     },
     "execution_count": 1,
     "metadata": {},
     "output_type": "execute_result"
    }
   ],
   "source": [
    "250/500*75"
   ]
  },
  {
   "cell_type": "code",
   "execution_count": 6,
   "metadata": {},
   "outputs": [
    {
     "data": {
      "text/plain": [
       "3.0"
      ]
     },
     "execution_count": 6,
     "metadata": {},
     "output_type": "execute_result"
    }
   ],
   "source": [
    "0.4*300/40"
   ]
  },
  {
   "cell_type": "code",
   "execution_count": 5,
   "metadata": {},
   "outputs": [
    {
     "data": {
      "text/plain": [
       "132.80254777070064"
      ]
     },
     "execution_count": 5,
     "metadata": {},
     "output_type": "execute_result"
    }
   ],
   "source": [
    "0.556/3.14/0.4*300"
   ]
  },
  {
   "cell_type": "code",
   "execution_count": 122,
   "metadata": {},
   "outputs": [],
   "source": [
    "C = 1e-9"
   ]
  },
  {
   "cell_type": "code",
   "execution_count": 123,
   "metadata": {},
   "outputs": [],
   "source": [
    "R=1/2/np.pi/C/5e6"
   ]
  },
  {
   "cell_type": "code",
   "execution_count": 124,
   "metadata": {},
   "outputs": [
    {
     "data": {
      "text/plain": [
       "31.830988618379067"
      ]
     },
     "execution_count": 124,
     "metadata": {},
     "output_type": "execute_result"
    }
   ],
   "source": [
    "R"
   ]
  },
  {
   "cell_type": "code",
   "execution_count": 125,
   "metadata": {},
   "outputs": [
    {
     "name": "stdout",
     "output_type": "stream",
     "text": [
      "0.9749279121818236\n"
     ]
    }
   ],
   "source": [
    "pi_pulse = 0.5/70e3\n",
    "\n",
    "print(np.cos(2*np.pi*pi_pulse*5e3))"
   ]
  },
  {
   "cell_type": "code",
   "execution_count": 155,
   "metadata": {},
   "outputs": [
    {
     "data": {
      "text/plain": [
       "89570.06369426749"
      ]
     },
     "execution_count": 155,
     "metadata": {},
     "output_type": "execute_result"
    }
   ],
   "source": [
    "0.3*(6e-3/3.14/0.8e-4/0.8e-4)"
   ]
  },
  {
   "cell_type": "code",
   "execution_count": 175,
   "metadata": {},
   "outputs": [
    {
     "data": {
      "text/plain": [
       "0.00012660000000000001"
      ]
     },
     "execution_count": 175,
     "metadata": {},
     "output_type": "execute_result"
    }
   ],
   "source": [
    "2e2*0.633e-6"
   ]
  },
  {
   "cell_type": "code",
   "execution_count": 174,
   "metadata": {},
   "outputs": [
    {
     "data": {
      "text/plain": [
       "6.329113924050633e-07"
      ]
     },
     "execution_count": 174,
     "metadata": {},
     "output_type": "execute_result"
    }
   ],
   "source": [
    "0.5/790e3"
   ]
  },
  {
   "cell_type": "code",
   "execution_count": 221,
   "metadata": {},
   "outputs": [
    {
     "data": {
      "text/plain": [
       "9.999999999999999e-05"
      ]
     },
     "execution_count": 221,
     "metadata": {},
     "output_type": "execute_result"
    }
   ],
   "source": [
    "1e2*1e-6"
   ]
  },
  {
   "cell_type": "code",
   "execution_count": 177,
   "metadata": {},
   "outputs": [
    {
     "data": {
      "text/plain": [
       "1e-06"
      ]
     },
     "execution_count": 177,
     "metadata": {},
     "output_type": "execute_result"
    }
   ],
   "source": [
    "0.5/0.5e6"
   ]
  },
  {
   "cell_type": "code",
   "execution_count": 192,
   "metadata": {},
   "outputs": [
    {
     "data": {
      "text/plain": [
       "1311.4570000171661"
      ]
     },
     "execution_count": 192,
     "metadata": {},
     "output_type": "execute_result"
    }
   ],
   "source": [
    "539385645.457+4759 - 539389093"
   ]
  },
  {
   "cell_type": "code",
   "execution_count": null,
   "metadata": {},
   "outputs": [],
   "source": []
  },
  {
   "cell_type": "code",
   "execution_count": 295,
   "metadata": {},
   "outputs": [
    {
     "name": "stdout",
     "output_type": "stream",
     "text": [
      "Single Rabi:\n",
      " pi  -48.74565678119178 MHz \n",
      " sigma  48.74565678119177 MHz\n",
      "Raman Rabi:\n",
      " pi  -0.47522781100594946 MHz\n",
      "Raman Rab at FOV:\n",
      " pi  -0.4666053121395469 MHz\n",
      "infidelity at FOV: 2.13E-04\n",
      "infidelity at centre: 2.00E-04\n",
      "LS 2.418937349120341 MHz\n",
      "LS fov 2.3690641374850876 MHz\n",
      "LS inf 1.05E-03\n"
     ]
    }
   ],
   "source": [
    "w_hor = 3.2e-3 #(400 mm lens)\n",
    "w_ver = 0.192e-3\n",
    "Ptot = 0.76*1.5\n",
    "Ps = Ptot/2/2\n",
    "Pp = Ptot-2*Ps\n",
    "Ip = 2*Pp/np.pi/w_hor/w_ver\n",
    "Is = 2*Ps/np.pi/w_hor/w_ver\n",
    "\n",
    "FOV=150e-6\n",
    "\n",
    "DeltaR = 2*np.pi*5e9\n",
    "\n",
    "Omega_p = Rabi(1/2, 1/2, 0, 1/2, 1/2, 1, Ip, tau, omega)\n",
    "Omega_s = Rabi(1/2, -1/2, 0, 1/2, 1/2, 1, Is, tau, omega)\n",
    "\n",
    "Omega_R = Omega_p*Omega_s/DeltaR\n",
    "\n",
    "print('Single Rabi:\\n pi ', Omega_p/2/np.pi/1e6, 'MHz \\n sigma ', Omega_s/2/np.pi/1e6, 'MHz')\n",
    "print('Raman Rabi:\\n pi ', Omega_R/2/np.pi/1e6, 'MHz')\n",
    "\n",
    "Ifov_p = Ip*np.exp(-2*(FOV/2)**2/w_hor/w_ver)\n",
    "Ifov_s = Is*np.exp(-2*(FOV/2)**2/w_hor/w_ver)\n",
    "\n",
    "Omega_p_fov = Rabi(1/2, 1/2, 0, 1/2, 1/2, 1, Ifov_p, tau, omega)\n",
    "Omega_s_fov = Rabi(1/2, -1/2, 0, 1/2, 1/2, 1, Ifov_s, tau, omega)\n",
    "\n",
    "Omega_R_fov = Omega_p_fov*Omega_s_fov/DeltaR\n",
    "\n",
    "print('Raman Rab at FOV:\\n pi ', Omega_R_fov/2/np.pi/1e6, 'MHz')\n",
    "\n",
    "\n",
    "point = FOV/10*7\n",
    "Ipoint_p = Ip*np.exp(-2*(point/2)**2/w_hor/w_ver)\n",
    "Ipoint_s = Is*np.exp(-2*(point/2)**2/w_hor/w_ver)\n",
    "\n",
    "Omega_p_point = Rabi(1/2, 1/2, 0, 1/2, 1/2, 1, Ipoint_p, tau, omega)\n",
    "Omega_s_point = Rabi(1/2, -1/2, 0, 1/2, 1/2, 1, Ipoint_s, tau, omega)\n",
    "\n",
    "Omega_R_point = Omega_p_point*Omega_s_point/DeltaR\n",
    "\n",
    "\n",
    "pitime_point = np.pi/Omega_R_point\n",
    "\n",
    "print('infidelity at FOV:', \"{:.2E}\".format((np.cos(Omega_R_fov*pitime_point)*1/2+0.5)))\n",
    "print('infidelity at centre:', \"{:.2E}\".format((np.cos(Omega_R*pitime_point)*1/2+0.5)))\n",
    "\n",
    "\n",
    "\n",
    "w_hor = 4.5e-3 #(300 mm lens)\n",
    "w_ver = 0.12e-3\n",
    "Ptot = 0.85*1.5\n",
    "FOV=150e-6\n",
    "\n",
    "ILS = 2*Ptot/np.pi/w_hor/w_ver\n",
    "Ifov_LS = ILS*np.exp(-2*(FOV/2)**2/w_hor/w_ver)\n",
    "Omega_LS = Rabi(1/2, -1/2, 0, 1/2, 1/2, 1, ILS, tau, omega)**2 / DeltaR\n",
    "Omega_LS_fov = Rabi(1/2, -1/2, 0, 1/2, 1/2, 1, Ifov_LS, tau, omega)**2 /DeltaR\n",
    "\n",
    "print('LS', Omega_LS/2/np.pi/1e6, 'MHz')\n",
    "print('LS fov', Omega_LS_fov/2/np.pi/1e6, 'MHz')\n",
    "\n",
    "pitime_centre = np.pi/Omega_LS\n",
    "print('LS inf %.2E' %(np.cos(Omega_LS_fov*pitime_centre)*1/2+0.5))\n",
    "\n"
   ]
  },
  {
   "cell_type": "code",
   "execution_count": 294,
   "metadata": {},
   "outputs": [
    {
     "name": "stdout",
     "output_type": "stream",
     "text": [
      "Single Rabi:\n",
      " pi  -13.648117503015273 MHz \n",
      " sigma  13.648117503015273 MHz\n",
      "Raman Rabi:\n",
      " pi  -1.0348395076450658 MHz\n",
      "Raman Rab at FOV:\n",
      " pi  -0.6873961197010305 MHz\n",
      "infidelity at FOV: 8.50E-02\n",
      "infidelity at centre: 1.17E-01\n",
      "LS 134.3854082844634 MHz\n",
      "LS fov 131.61467430472706 MHz\n",
      "LS inf 1.05E-03\n"
     ]
    }
   ],
   "source": [
    "w_hor = 0.5e-3 #(400 mm lens)\n",
    "w_ver = 0.055e-3\n",
    "Ptot = 0.004\n",
    "Ps = Ptot/2/2\n",
    "Pp = Ptot-2*Ps\n",
    "Ip = 2*Pp/np.pi/w_hor/w_ver\n",
    "Is = 2*Ps/np.pi/w_hor/w_ver\n",
    "\n",
    "FOV=150e-6\n",
    "\n",
    "DeltaR = 2*np.pi*180e6\n",
    "\n",
    "Omega_p = Rabi(1/2, 1/2, 0, 1/2, 1/2, 1, Ip, tau, omega)\n",
    "Omega_s = Rabi(1/2, -1/2, 0, 1/2, 1/2, 1, Is, tau, omega)\n",
    "\n",
    "Omega_R = Omega_p*Omega_s/DeltaR\n",
    "\n",
    "print('Single Rabi:\\n pi ', Omega_p/2/np.pi/1e6, 'MHz \\n sigma ', Omega_s/2/np.pi/1e6, 'MHz')\n",
    "print('Raman Rabi:\\n pi ', Omega_R/2/np.pi/1e6, 'MHz')\n",
    "\n",
    "Ifov_p = Ip*np.exp(-2*(FOV/2)**2/w_hor/w_ver)\n",
    "Ifov_s = Is*np.exp(-2*(FOV/2)**2/w_hor/w_ver)\n",
    "\n",
    "Omega_p_fov = Rabi(1/2, 1/2, 0, 1/2, 1/2, 1, Ifov_p, tau, omega)\n",
    "Omega_s_fov = Rabi(1/2, -1/2, 0, 1/2, 1/2, 1, Ifov_s, tau, omega)\n",
    "\n",
    "Omega_R_fov = Omega_p_fov*Omega_s_fov/DeltaR\n",
    "\n",
    "print('Raman Rab at FOV:\\n pi ', Omega_R_fov/2/np.pi/1e6, 'MHz')\n",
    "\n",
    "\n",
    "point = FOV/10*7\n",
    "Ipoint_p = Ip*np.exp(-2*(point/2)**2/w_hor/w_ver)\n",
    "Ipoint_s = Is*np.exp(-2*(point/2)**2/w_hor/w_ver)\n",
    "\n",
    "Omega_p_point = Rabi(1/2, 1/2, 0, 1/2, 1/2, 1, Ipoint_p, tau, omega)\n",
    "Omega_s_point = Rabi(1/2, -1/2, 0, 1/2, 1/2, 1, Ipoint_s, tau, omega)\n",
    "\n",
    "Omega_R_point = Omega_p_point*Omega_s_point/DeltaR\n",
    "\n",
    "\n",
    "pitime_point = np.pi/Omega_R_point\n",
    "\n",
    "print('infidelity at FOV:', \"{:.2E}\".format((np.cos(Omega_R_fov*pitime_point)*1/2+0.5)))\n",
    "print('infidelity at centre:', \"{:.2E}\".format((np.cos(Omega_R*pitime_point)*1/2+0.5)))\n",
    "\n",
    "\n",
    "\n",
    "w_hor = 4.5e-3 #(300 mm lens)\n",
    "w_ver = 0.12e-3\n",
    "Ptot = 0.85*1.5\n",
    "FOV=150e-6\n",
    "\n",
    "ILS = 2*Ptot/np.pi/w_hor/w_ver\n",
    "Ifov_LS = ILS*np.exp(-2*(FOV/2)**2/w_hor/w_ver)\n",
    "Omega_LS = Rabi(1/2, -1/2, 0, 1/2, 1/2, 1, ILS, tau, omega)**2 / DeltaR\n",
    "Omega_LS_fov = Rabi(1/2, -1/2, 0, 1/2, 1/2, 1, Ifov_LS, tau, omega)**2 /DeltaR\n",
    "\n",
    "print('LS', Omega_LS/np.pi/1e6, 'MHz')\n",
    "print('LS fov', Omega_LS_fov/np.pi/1e6, 'MHz')\n",
    "\n",
    "pitime_centre = np.pi/Omega_LS\n",
    "print('LS inf %.2E' %(np.cos(Omega_LS_fov*pitime_centre)*1/2+0.5))\n",
    "\n"
   ]
  },
  {
   "cell_type": "code",
   "execution_count": 274,
   "metadata": {},
   "outputs": [
    {
     "data": {
      "text/plain": [
       "11.999999999999998"
      ]
     },
     "execution_count": 274,
     "metadata": {},
     "output_type": "execute_result"
    }
   ],
   "source": [
    "0.48*5/0.2"
   ]
  },
  {
   "cell_type": "code",
   "execution_count": null,
   "metadata": {},
   "outputs": [],
   "source": []
  }
 ],
 "metadata": {
  "kernelspec": {
   "display_name": "Python 3",
   "language": "python",
   "name": "python3"
  },
  "language_info": {
   "codemirror_mode": {
    "name": "ipython",
    "version": 3
   },
   "file_extension": ".py",
   "mimetype": "text/x-python",
   "name": "python",
   "nbconvert_exporter": "python",
   "pygments_lexer": "ipython3",
   "version": "3.8.3"
  }
 },
 "nbformat": 4,
 "nbformat_minor": 4
}
