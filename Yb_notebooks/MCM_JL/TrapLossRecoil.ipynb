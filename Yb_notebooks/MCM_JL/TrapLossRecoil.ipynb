{
 "cells": [
  {
   "cell_type": "code",
   "execution_count": 1,
   "id": "5cede8c0-b6b3-44fd-b728-58e940d81e48",
   "metadata": {},
   "outputs": [],
   "source": [
    "import numpy as np\n",
    "import matplotlib.pyplot as plt\n",
    "import scipy as sp\n",
    "import scipy.constants\n",
    "from qutip import *\n",
    "import random\n",
    "from numpy.random import choice\n",
    "import matplotlib.cm as cm\n",
    "from sympy import *\n",
    "from IPython.display import Image\n",
    "from sympy.physics.wigner import wigner_6j\n",
    "from sympy.physics.quantum.cg import CG\n",
    "import tqdm\n",
    "from numpy import random\n",
    "from scipy.optimize import curve_fit\n",
    "\n",
    "\"\"\" \n",
    "constants\n",
    "\"\"\"\n",
    "pi = np.pi\n",
    "c = sp.constants.c\n",
    "epsilon0 = sp.constants.epsilon_0\n",
    "hbar = sp.constants.hbar\n",
    "h = sp.constants.h\n",
    "u = sp.constants.physical_constants['atomic mass constant'][0]\n",
    "kB = sp.constants.physical_constants['Boltzmann constant'][0]\n",
    "mB = sp.constants.physical_constants['Bohr magneton'][0]\n",
    "\n",
    "# α/h [Hz/(V/m)2]=2.48832×10−8 α [a.u.] from https://arxiv.org/pdf/1507.06570.pdf\n",
    "# α [a.u.] = 1.648 777 274 36 x 10-41 α [C2 m2 J-1] #https://physics.nist.gov/cgi-bin/cuu/Value?auepol\n",
    "a_au = 1.64877727436*1e-41"
   ]
  },
  {
   "cell_type": "code",
   "execution_count": 2,
   "id": "c0fcfea9-6199-4b8f-8c04-1957fa26f577",
   "metadata": {},
   "outputs": [],
   "source": [
    "#hyperfine reduced matrix element <F||d||F'>\n",
    "def __Fg_d_Fe(Jg_d_Je, Fg, Fe, Jg, Je, I):\n",
    "    return (\n",
    "    Jg_d_Je * (-1)**(Fe+Jg+1+I) * \n",
    "        np.sqrt( (2*Fe+1)*(2*Jg+1) ) \n",
    "        * wigner_6j(Jg, Je, 1, Fe, Fg, I)\n",
    "    )"
   ]
  },
  {
   "cell_type": "code",
   "execution_count": 3,
   "id": "9fddef27-a401-4c78-b296-d58f67f2ef4b",
   "metadata": {},
   "outputs": [],
   "source": [
    "#reduced matrix element <Jg||d||Je>\n",
    "def __Jg_d_Je(omega_0, Jg, Je, tau):\n",
    "    return np.sqrt(\n",
    "        3*np.pi*epsilon0*hbar*c**3/omega_0**3/tau\n",
    "        * (2*Je+1)/(2*Jg+1)\n",
    "    )"
   ]
  },
  {
   "cell_type": "code",
   "execution_count": 4,
   "id": "0bbe0b94-ed72-41b2-ab91-109ddd7cf2da",
   "metadata": {},
   "outputs": [],
   "source": [
    "def Rabi_clock(Fg, Fe, mg, me, d, pol):\n",
    "    q = -(me-mg)\n",
    "    Jg_d_Je = d\n",
    "    \n",
    "    CG_coeff = float(CG(Fe, me, 1, q, Fg, mg).doit())\n",
    "    \n",
    "    Eplus = pol * np.sqrt( intensity / 2 / epsilon0 / c)\n",
    "    \n",
    "    return (\n",
    "    -2 * Jg_d_Je / hbar * Eplus * CG_coeff\n",
    "    )\n",
    "    "
   ]
  },
  {
   "cell_type": "code",
   "execution_count": 5,
   "id": "b479e048-db65-4a14-836a-a583a780dd87",
   "metadata": {},
   "outputs": [],
   "source": [
    "wH = 0.025e-3\n",
    "wV = wH\n",
    "P = 0.6*80e-3\n",
    "intensity = 2*P/np.pi/wV/wH\n",
    "d = 4.5*hbar"
   ]
  },
  {
   "cell_type": "code",
   "execution_count": 6,
   "id": "df86c923-1bea-4b40-8cf9-d21eb884dc6a",
   "metadata": {},
   "outputs": [
    {
     "data": {
      "text/plain": [
       "0.11223749592894952"
      ]
     },
     "execution_count": 6,
     "metadata": {},
     "output_type": "execute_result"
    }
   ],
   "source": [
    "Rabi_clock(1/2, 1/2, 1/2, -1/2, 4.5*hbar,  1)/1e6/2/np.pi"
   ]
  },
  {
   "cell_type": "code",
   "execution_count": 7,
   "id": "48b6922b-3211-4dc4-87da-56df0593d13b",
   "metadata": {},
   "outputs": [
    {
     "data": {
      "text/plain": [
       "-0.07936389447475771"
      ]
     },
     "execution_count": 7,
     "metadata": {},
     "output_type": "execute_result"
    }
   ],
   "source": [
    "Rabi_clock(1/2, 1/2, 1/2, 1/2, 4.5*hbar,  1)/1e6/2/np.pi"
   ]
  },
  {
   "cell_type": "code",
   "execution_count": 8,
   "id": "bf72ea79-ca6b-4d57-9ec9-f8b7a8d5aa7f",
   "metadata": {},
   "outputs": [
    {
     "name": "stdout",
     "output_type": "stream",
     "text": [
      "Lamb-Dicke parameter (eta):  0.6607201946347716\n",
      "eta^2 (2n+1):  0.4365511755982105 (2n+1)\n",
      "Max n for Lamb-Dicke regime: n =  0\n"
     ]
    }
   ],
   "source": [
    "_lambda = 578e-9\n",
    "omega_r = 2*np.pi*8e3\n",
    "m = 171*u\n",
    "tau = 22\n",
    "\n",
    "k = 2*np.pi/_lambda #momentum kick \n",
    "x0 = np.sqrt(hbar/2/m/omega_r) #oscillator length\n",
    "LambDicke = x0*k #Lamb-Dicke parameters\n",
    "print('Lamb-Dicke parameter (eta): ', LambDicke)\n",
    "print('eta^2 (2n+1): ', LambDicke**2, '(2n+1)')\n",
    "print('Max n for Lamb-Dicke regime: n = ', floor(((1/LambDicke**2)-1)/2))"
   ]
  },
  {
   "cell_type": "code",
   "execution_count": 9,
   "id": "a3b8b879-b77b-417e-bb4b-ebbe2165b6ac",
   "metadata": {},
   "outputs": [],
   "source": [
    "N=20 #keep HO states up to N \n",
    "\n",
    "one = basis(4,0)\n",
    "two = basis(4,1)\n",
    "three = basis(4,2)\n",
    "four = basis(4,3)\n",
    "ground = fock(N, 0)\n",
    "\n",
    "a = qutip.tensor(destroy(N), identity(4))\n",
    "adag = qutip.tensor(create(N), identity(4))\n",
    "\n",
    "sig_11 = qutip.tensor(identity(N),one*one.dag())\n",
    "sig_22 = qutip.tensor(identity(N),two*two.dag())\n",
    "sig_33 = qutip.tensor(identity(N),three*three.dag())\n",
    "sig_44 = qutip.tensor(identity(N),four*four.dag())\n",
    "\n",
    "sig_14 = qutip.tensor(identity(N),one*four.dag())\n",
    "sig_41 = qutip.tensor(identity(N),four*one.dag())\n",
    "\n",
    "sig_13 = qutip.tensor(identity(N),one*three.dag())\n",
    "sig_31 = qutip.tensor(identity(N),three*one.dag())\n",
    "\n",
    "sig_24 = qutip.tensor(identity(N),two*four.dag())\n",
    "sig_42 = qutip.tensor(identity(N),four*two.dag())\n",
    "\n",
    "sig_23 = qutip.tensor(identity(N),two*three.dag())\n",
    "sig_32 = qutip.tensor(identity(N),three*two.dag())"
   ]
  },
  {
   "cell_type": "code",
   "execution_count": 10,
   "id": "65d01a5c-39ae-4d0c-a87a-c6241a82c9a8",
   "metadata": {},
   "outputs": [],
   "source": [
    "psi0 = (two)\n",
    "psii = (three)\n",
    "rhoi = psii*psii.dag()\n",
    "i_proj = qutip.tensor(identity(N), rhoi)\n",
    "ground_proj = qutip.tensor(ground*ground.dag(), identity(4))"
   ]
  },
  {
   "cell_type": "code",
   "execution_count": 11,
   "id": "4bd35b11-8272-4bc7-a8c6-b1177cb77d98",
   "metadata": {},
   "outputs": [
    {
     "name": "stdout",
     "output_type": "stream",
     "text": [
      "True\n",
      "n_start:  0.05111530367346818\n",
      "ground state population 0.9513704124610985\n"
     ]
    }
   ],
   "source": [
    "T=1e-6 #initial temperature\n",
    "omega_r_deep = 2*np.pi*63e3\n",
    "n_start =1/(np.exp(hbar*omega_r_deep/T/kB)-1)\n",
    "rho0 = qutip.tensor(thermal_dm(N, n_start), psi0*psi0.dag()) #start in up thermal state\n",
    "print(isherm(rho0))\n",
    "print('n_start: ', n_start)\n",
    "print('ground state population', (rho0*ground_proj).tr())"
   ]
  },
  {
   "cell_type": "code",
   "execution_count": 12,
   "id": "3a4ab38a-d5d9-4470-97be-e2b9530f68fa",
   "metadata": {},
   "outputs": [
    {
     "name": "stdout",
     "output_type": "stream",
     "text": [
      "Magnetic field B 1.6320000000000001 G\n"
     ]
    }
   ],
   "source": [
    "B = 6.8*4.8e-4/20 #magnetic field in T\n",
    "print('Magnetic field B', B*1e4, 'G')\n",
    "\n",
    "delta_Ne = -2*np.pi*582*B*1e4 #excited\n",
    "delta_Ng = -2*np.pi*375*B*1e4 #ground\n",
    "Fg=1/2\n",
    "Fe=1/2"
   ]
  },
  {
   "cell_type": "code",
   "execution_count": 13,
   "id": "dcf8ad89-2b7f-4da6-a02a-912c7cb50640",
   "metadata": {},
   "outputs": [],
   "source": [
    "dt = 1e-8\n",
    "t_ls = np.arange(0, 1000*dt, dt)"
   ]
  },
  {
   "cell_type": "code",
   "execution_count": 14,
   "id": "8ec191e1-e0bb-4742-88cc-40e26ba8282c",
   "metadata": {},
   "outputs": [],
   "source": [
    "#diagonal terms\n",
    "diag_1 = -delta_Ng\n",
    "\n",
    "diag_2 = delta_Ng\n",
    "\n",
    "diag_3 = -delta_Ne\n",
    "\n",
    "diag_4 = delta_Ne"
   ]
  },
  {
   "cell_type": "code",
   "execution_count": 15,
   "id": "cf3c40d4-920e-425f-a3ad-ef16e89a8dbf",
   "metadata": {},
   "outputs": [],
   "source": [
    "def Hp_coeff(t, args):\n",
    "    return np.exp(1j*delta*t)\n",
    "\n",
    "def Hm_coeff(t, args):\n",
    "    return np.exp(-1j*delta*t)"
   ]
  },
  {
   "cell_type": "code",
   "execution_count": 16,
   "id": "ee774e01-4b4c-4166-aa8b-9926bdfa51a8",
   "metadata": {},
   "outputs": [],
   "source": [
    "phi = -np.pi/2\n",
    "angle_pol = (np.pi/4) \n",
    "impurity = 2e-2\n",
    "\n",
    "## polarization ##\n",
    "##################\n",
    "\n",
    "#basis\n",
    "x = np.array([1,0,0])\n",
    "y = np.array([0,1,0])\n",
    "z = np.array([0,0,1])\n",
    "\n",
    "xb = np.array([np.sqrt(1-impurity),impurity,0])\n",
    "yb = np.array([-impurity,np.sqrt(1-impurity),0])\n",
    "zb = np.array([0,0,1])\n",
    "\n",
    "polarization = (np.cos(angle_pol)*xb+np.sin(angle_pol)*np.exp(-1j*phi)*zb)\n",
    "\n",
    "pi_pol = y\n",
    "sigp_pol = 1/np.sqrt(2)*(z-1j*x)\n",
    "sigm_pol = -1/np.sqrt(2)*(z+1j*x)\n",
    "\n",
    "#off-diagonal terms\n",
    "offdiag_31 = Rabi_clock(Fg, Fe, -1/2, -1/2, d, np.dot(polarization, pi_pol)) / 2\n",
    "offdiag_41 = Rabi_clock(Fg, Fe, -1/2, 1/2, d, np.dot(polarization, sigp_pol)) / 2\n",
    "offdiag_32 = Rabi_clock(Fg, Fe, 1/2, -1/2, d, np.dot(polarization, sigm_pol)) / 2\n",
    "offdiag_42 = Rabi_clock(Fg, Fe, 1/2, 1/2, d, np.dot(polarization, pi_pol)) / 2\n",
    "\n",
    "offdiag_14 = np.conjugate(offdiag_41)\n",
    "offdiag_13 = np.conjugate(offdiag_31)\n",
    "offdiag_24 = np.conjugate(offdiag_42)\n",
    "offdiag_23 = np.conjugate(offdiag_32)\n",
    "\n",
    "delta = -(delta_Ng+delta_Ne)\n",
    "\n",
    "H0 = diag_1*sig_11 + diag_2*sig_22 + diag_3*sig_33 + diag_4*sig_44\n",
    "\n",
    "Hm = omega_r*(adag*a + 1/2)\n",
    "\n",
    "H1_diag = H0+Hm\n",
    "\n",
    "H1_offdiag = (offdiag_13*sig_13 +  offdiag_14*sig_14 +\n",
    "                                       offdiag_24*sig_24 + offdiag_23*sig_23)*( (1j*LambDicke*(adag+a)).expm())\n",
    "\n",
    "H1_conj = (offdiag_31*sig_31 + offdiag_41*sig_41\n",
    "                                        + offdiag_42*sig_42 + offdiag_32*sig_32)*( (-1j*LambDicke*(adag+a)).expm())\n",
    "\n",
    "c_ops = []\n",
    "\n",
    "options = qutip.solver.Options(nsteps=100000)\n",
    "\n",
    "output = mesolve([H1_diag, [H1_offdiag, Hp_coeff], [H1_conj, Hm_coeff]], rho0, t_ls, \n",
    "                      c_ops, options=options)"
   ]
  },
  {
   "cell_type": "code",
   "execution_count": 17,
   "id": "4f6692e0-cf3b-4a28-bc36-a0ba3b02143e",
   "metadata": {},
   "outputs": [
    {
     "data": {
      "text/plain": [
       "((0.005050633883346561-3.061538899378514e-17j), 0.005)"
      ]
     },
     "execution_count": 17,
     "metadata": {},
     "output_type": "execute_result"
    }
   ],
   "source": [
    "offdiag_41/offdiag_32, 1/200"
   ]
  },
  {
   "cell_type": "code",
   "execution_count": 18,
   "id": "38d03ed7-9b8c-4f78-a5ea-0dce4a7e7844",
   "metadata": {},
   "outputs": [],
   "source": [
    "rho_ls = output.states\n",
    "\n",
    "P = [(i_proj*rho).tr()  for rho in rho_ls]\n",
    "Pg = [(ground_proj*rho).tr()  for rho in rho_ls]"
   ]
  },
  {
   "cell_type": "code",
   "execution_count": 19,
   "id": "19ae1f5e-5a85-493d-b288-30a67833bc99",
   "metadata": {},
   "outputs": [
    {
     "name": "stdout",
     "output_type": "stream",
     "text": [
      "max fidelity: 0.9964\n",
      "4.47e-06 1e-08\n"
     ]
    },
    {
     "data": {
      "text/plain": [
       "(0.99, 1.0)"
      ]
     },
     "execution_count": 19,
     "metadata": {},
     "output_type": "execute_result"
    },
    {
     "data": {
      "image/png": "[encoded data removed]",
      "text/plain": [
       "<Figure size 1000x500 with 1 Axes>"
      ]
     },
     "metadata": {},
     "output_type": "display_data"
    }
   ],
   "source": [
    "fig, axes = plt.subplots(1,1, dpi=100, sharex=True, figsize=(10,5))\n",
    "axes.plot(t_ls*1e3, np.array(P), color='k', linestyle='-', label = 'mF=-1/2')\n",
    "axes.set_xlabel(r'time (ms)', fontsize=20)\n",
    "axes.set_ylabel(r'|3> population', fontsize=20)\n",
    "print('max fidelity: %.4f' %np.max(abs(np.array(P))))\n",
    "axes.set_ylim(0,1)\n",
    "\n",
    "pi_time_idx = np.argwhere(abs(np.array(P))==np.max(abs(np.array(P))))\n",
    "pi_time = t_ls[pi_time_idx][0][0]\n",
    "print(pi_time, dt)\n",
    "axes.set_ylim(0.99, 1)"
   ]
  },
  {
   "cell_type": "code",
   "execution_count": 20,
   "id": "1954f5a4-8ea3-4c83-afbe-f7192b865934",
   "metadata": {},
   "outputs": [
    {
     "data": {
      "text/plain": [
       "(0.6, 1.0)"
      ]
     },
     "execution_count": 20,
     "metadata": {},
     "output_type": "execute_result"
    },
    {
     "data": {
      "image/png": "[encoded data removed]",
      "text/plain": [
       "<Figure size 1000x500 with 1 Axes>"
      ]
     },
     "metadata": {},
     "output_type": "display_data"
    }
   ],
   "source": [
    "fig, axes = plt.subplots(1,1, dpi=100, sharex=True, figsize=(10,5))\n",
    "axes.plot(t_ls*1e3, Pg, color='k', linestyle='-', label = 'mF=-1/2')\n",
    "axes.set_xlabel(r'time (ms)', fontsize=20)\n",
    "axes.set_ylabel(r'motional n=0 population', fontsize=20)\n",
    "axes.set_ylim(0.6, 1)\n",
    "#axes.set_xlim(0, 0.01)"
   ]
  },
  {
   "cell_type": "markdown",
   "id": "e9a786b0-0dfc-4731-b03d-afea74828c5b",
   "metadata": {},
   "source": [
    "# Trap loss MC"
   ]
  },
  {
   "cell_type": "code",
   "execution_count": 21,
   "id": "4d85910d-9755-420a-9b3c-a4c0cb84973b",
   "metadata": {},
   "outputs": [],
   "source": [
    "U = 8.8*(0.2/7.62)*1e6 #trap deph in Hz"
   ]
  },
  {
   "cell_type": "code",
   "execution_count": 32,
   "id": "d9d4096e-6c78-4e18-a14f-c7e1a936a2b8",
   "metadata": {
    "tags": []
   },
   "outputs": [
    {
     "name": "stdout",
     "output_type": "stream",
     "text": [
      "0\n",
      "1\n",
      "2\n",
      "3\n",
      "4\n",
      "5\n",
      "6\n",
      "7\n",
      "8\n",
      "9\n",
      "10\n",
      "11\n",
      "12\n",
      "13\n",
      "14\n",
      "15\n",
      "16\n",
      "17\n",
      "18\n",
      "19\n",
      "20\n",
      "21\n",
      "22\n",
      "23\n",
      "24\n",
      "25\n",
      "26\n",
      "27\n",
      "28\n",
      "29\n",
      "30\n",
      "31\n",
      "32\n",
      "33\n",
      "34\n",
      "35\n",
      "36\n",
      "37\n",
      "38\n",
      "39\n",
      "40\n",
      "41\n",
      "42\n",
      "43\n",
      "44\n",
      "45\n",
      "46\n",
      "47\n",
      "48\n",
      "49\n",
      "50\n",
      "51\n",
      "52\n",
      "53\n",
      "54\n",
      "55\n",
      "56\n",
      "57\n",
      "58\n",
      "59\n",
      "60\n",
      "61\n",
      "62\n",
      "63\n",
      "64\n",
      "65\n",
      "66\n",
      "67\n",
      "68\n",
      "69\n",
      "70\n",
      "71\n",
      "72\n",
      "73\n",
      "74\n",
      "75\n",
      "76\n",
      "77\n",
      "78\n",
      "79\n",
      "80\n",
      "81\n",
      "82\n",
      "83\n",
      "84\n",
      "85\n",
      "86\n",
      "87\n",
      "88\n",
      "89\n",
      "90\n",
      "91\n",
      "92\n",
      "93\n",
      "94\n",
      "95\n",
      "96\n",
      "97\n",
      "98\n",
      "99\n"
     ]
    }
   ],
   "source": [
    "Ntraj = 100\n",
    "pi_time = 4.47e-06\n",
    "\n",
    "tau_ls = []\n",
    "count_ls = []\n",
    "for nt in range(Ntraj):\n",
    "    t = 0\n",
    "    tf = 0.5e-3\n",
    "    dt = pi_time\n",
    "    \n",
    "    print(nt)\n",
    "    \n",
    "    count = []\n",
    "    \n",
    "    rho = rho0\n",
    "    \n",
    "    while t<tf:\n",
    "        output = mesolve([H1_diag, [H1_offdiag, Hp_coeff], [H1_conj, Hm_coeff]], rho, \n",
    "                         np.arange(t, t+dt, dt/50), c_ops, [a.dag()*a], options=options)\n",
    "        rho = output.states[-1]\n",
    "        nbar_temp = output.expect[0][-1]\n",
    "        E = hbar*omega_r*(nbar_temp+1/2)\n",
    "        eps = random.random()\n",
    "\n",
    "        if (np.exp(-h*U/E) > eps):\n",
    "            tau = t\n",
    "            for idx in range(int((tf-t)/dt)+1):\n",
    "                count.append(0)\n",
    "            t = tf\n",
    "            \n",
    "        else:\n",
    "            t += dt\n",
    "            count.append(1)\n",
    "            \n",
    "    count_ls.append(count)\n",
    "            \n",
    "    tau_ls.append(tau)"
   ]
  },
  {
   "cell_type": "code",
   "execution_count": 43,
   "id": "7e7adbd4-5e63-4a4e-86b8-3c1cb7214b0b",
   "metadata": {},
   "outputs": [],
   "source": [
    "def decay_fit(t, tau):\n",
    "    return np.exp(-t/tau)"
   ]
  },
  {
   "cell_type": "code",
   "execution_count": 44,
   "id": "e137b71b-e70b-48fd-b5a7-fe8f7d5d766e",
   "metadata": {},
   "outputs": [],
   "source": [
    "popt, pcov = curve_fit(decay_fit, np.arange(0, tf, dt), \n",
    "                       np.mean(count_ls, axis=0), p0=1500e-6)"
   ]
  },
  {
   "cell_type": "code",
   "execution_count": 45,
   "id": "8915a9d7-856c-4744-ba9b-3a49ae708d47",
   "metadata": {},
   "outputs": [
    {
     "name": "stdout",
     "output_type": "stream",
     "text": [
      "[1892896.57743949]\n"
     ]
    }
   ],
   "source": [
    "print(popt)"
   ]
  },
  {
   "cell_type": "code",
   "execution_count": 46,
   "id": "566e11e7-29d6-4bda-af30-02fd4a805730",
   "metadata": {},
   "outputs": [
    {
     "data": {
      "text/plain": [
       "0.05"
      ]
     },
     "execution_count": 46,
     "metadata": {},
     "output_type": "execute_result"
    }
   ],
   "source": [
    "3/60"
   ]
  },
  {
   "cell_type": "code",
   "execution_count": 47,
   "id": "0fb48a64-6723-424f-aa24-c80f3c6048c4",
   "metadata": {},
   "outputs": [
    {
     "name": "stderr",
     "output_type": "stream",
     "text": [
      "WARNING:matplotlib.legend:No artists with labels found to put in legend.  Note that artists whose label start with an underscore are ignored when legend() is called with no argument.\n"
     ]
    },
    {
     "data": {
      "text/plain": [
       "<matplotlib.legend.Legend at 0x212594c6520>"
      ]
     },
     "execution_count": 47,
     "metadata": {},
     "output_type": "execute_result"
    },
    {
     "data": {
      "image/png": "[encoded data removed]",
      "text/plain": [
       "<Figure size 640x480 with 1 Axes>"
      ]
     },
     "metadata": {},
     "output_type": "display_data"
    }
   ],
   "source": [
    "plt.plot(np.arange(0, tf, dt)*1e6, np.mean(count_ls, axis=0), 'k.')\n",
    "fine = np.linspace(0, tf, 1000)\n",
    "fit = decay_fit(fine, *popt)\n",
    "#plt.plot(fine*1e6, fit, label='tau = %.2f us' %(popt*1e6))\n",
    "plt.legend()"
   ]
  },
  {
   "cell_type": "code",
   "execution_count": 115,
   "id": "e538adbb",
   "metadata": {},
   "outputs": [
    {
     "name": "stdout",
     "output_type": "stream",
     "text": [
      "7999.999999999999\n",
      "[0.00000000e+00 1.51515152e-06 3.03030303e-06 4.54545455e-06\n",
      " 6.06060606e-06 7.57575758e-06 9.09090909e-06 1.06060606e-05\n",
      " 1.21212121e-05 1.36363636e-05 1.51515152e-05 1.66666667e-05\n",
      " 1.81818182e-05 1.96969697e-05 2.12121212e-05 2.27272727e-05\n",
      " 2.42424242e-05 2.57575758e-05 2.72727273e-05 2.87878788e-05\n",
      " 3.03030303e-05 3.18181818e-05 3.33333333e-05 3.48484848e-05\n",
      " 3.63636364e-05 3.78787879e-05 3.93939394e-05 4.09090909e-05\n",
      " 4.24242424e-05 4.39393939e-05 4.54545455e-05 4.69696970e-05\n",
      " 4.84848485e-05 5.00000000e-05 5.15151515e-05 5.30303030e-05\n",
      " 5.45454545e-05 5.60606061e-05 5.75757576e-05 5.90909091e-05\n",
      " 6.06060606e-05 6.21212121e-05 6.36363636e-05 6.51515152e-05\n",
      " 6.66666667e-05 6.81818182e-05 6.96969697e-05 7.12121212e-05\n",
      " 7.27272727e-05 7.42424242e-05 7.57575758e-05 7.72727273e-05\n",
      " 7.87878788e-05 8.03030303e-05 8.18181818e-05 8.33333333e-05\n",
      " 8.48484848e-05 8.63636364e-05 8.78787879e-05 8.93939394e-05\n",
      " 9.09090909e-05 9.24242424e-05 9.39393939e-05 9.54545455e-05\n",
      " 9.69696970e-05 9.84848485e-05 1.00000000e-04 1.01515152e-04\n",
      " 1.03030303e-04 1.04545455e-04 1.06060606e-04 1.07575758e-04\n",
      " 1.09090909e-04 1.10606061e-04 1.12121212e-04 1.13636364e-04\n",
      " 1.15151515e-04 1.16666667e-04 1.18181818e-04 1.19696970e-04\n",
      " 1.21212121e-04 1.22727273e-04 1.24242424e-04 1.25757576e-04\n",
      " 1.27272727e-04 1.28787879e-04 1.30303030e-04 1.31818182e-04\n",
      " 1.33333333e-04 1.34848485e-04 1.36363636e-04 1.37878788e-04\n",
      " 1.39393939e-04 1.40909091e-04 1.42424242e-04 1.43939394e-04\n",
      " 1.45454545e-04 1.46969697e-04 1.48484848e-04 1.50000000e-04]\n"
     ]
    },
    {
     "data": {
      "image/png": "[encoded data removed]",
      "text/plain": [
       "<Figure size 500x400 with 1 Axes>"
      ]
     },
     "metadata": {},
     "output_type": "display_data"
    }
   ],
   "source": [
    "#monte-carlo for temp measurement\n",
    "from numpy import random\n",
    "from scipy.stats import norm\n",
    "import scipy.constants as sc\n",
    "kB=sc.k #boltzmann cont\n",
    "pi=np.pi\n",
    "c=sc.c\n",
    "h=sc.h\n",
    "g=sc.g\n",
    "eps0 = sc.epsilon_0\n",
    "au=sc.physical_constants['atomic mass constant'][0]\n",
    "\n",
    "m = 171*au #mass\n",
    "_lambda = 759e-9 #532 wavelength\n",
    "w0 = 0.8e-6\n",
    "zR = pi*w0**2/ _lambda #Rayleigh range\n",
    "U = h*0.23e6\n",
    "\n",
    "_lambdaClock = 578e-9\n",
    "Erecoil = h**2/_lambdaClock/2/m\n",
    "\n",
    "############\n",
    "omg_r = 2*np.pi*8e3\n",
    "omg_ax = omg_r*w0/zR/np.sqrt(2)\n",
    "\n",
    "g = scipy.constants.g\n",
    "\n",
    "print(omg_r/2/pi)\n",
    "\n",
    "def KE(vx, vy, vz):\n",
    "    return(m*(vx**2+vy**2+vz**2)/2)\n",
    "\n",
    "def PE(x, y, z):\n",
    "    return -U*(1 - 2*(x**2+y**2)/w0**2 - (z/zR)**2)\n",
    "\n",
    "def scaled_prob(prob, a):\n",
    "    return prob*a\n",
    "\n",
    "# experimental data\n",
    "t_array = np.linspace(0, 150e-6, 100)\n",
    "\n",
    "print(t_array)\n",
    "\n",
    "T = 1e-6\n",
    "Ntraj = 1000\n",
    "recapture_prob_array = []\n",
    "\n",
    "v_std = np.sqrt(kB*T/m)\n",
    "v_array = np.linspace(-5*v_std, 5*v_std, 100000)\n",
    "rpos_std = np.sqrt(kB*T/m/omg_r**2)\n",
    "rpos_array = np.linspace(-5*rpos_std, 5*rpos_std, 100000)\n",
    "axpos_std = np.sqrt(kB*T/m/omg_ax**2)\n",
    "axpos_array = np.linspace(-5*axpos_std, 5*axpos_std, 100000)\n",
    "for i in range(len(t_array)):\n",
    "    dt = t_array[i]\n",
    "    n=0\n",
    "    recapture = 0\n",
    "\n",
    "    xs = norm.rvs(size=Ntraj, scale=rpos_std)\n",
    "    ys = norm.rvs(size=Ntraj, scale=rpos_std)\n",
    "    zs = norm.rvs(size=Ntraj, scale=axpos_std)\n",
    "    vxs = norm.rvs(size=Ntraj, scale=v_std)\n",
    "    vys = norm.rvs(size=Ntraj, scale=v_std)\n",
    "    vzs = norm.rvs(size=Ntraj, scale=v_std)\n",
    "\n",
    "    while n<Ntraj:\n",
    "\n",
    "        xi = xs[n]\n",
    "        yi = ys[n]\n",
    "        zi = zs[n]\n",
    "        vx = vxs[n]\n",
    "        vy = vys[n]\n",
    "        vz = vzs[n]\n",
    "\n",
    "        xf = xi + vx*dt\n",
    "        yf = yi + vy*dt\n",
    "        zf = zi + vz*dt - g*dt**2\n",
    "\n",
    "        Etot = KE(vx, vy, vz) + PE(xf, yf, zf) + n*Erecoil\n",
    "\n",
    "        if Etot < 0:\n",
    "            recapture = recapture + 1\n",
    "        else: \n",
    "            recapture = recapture\n",
    "\n",
    "        n = n+1\n",
    "\n",
    "    recapture_prob = recapture/Ntraj\n",
    "    recapture_prob_array.append(recapture_prob)\n",
    "\n",
    "fig, ax = plt.subplots(figsize=[5,4])\n",
    "plt.plot(t_array*1e6, recapture_prob_array, 'k-', alpha=0.7, label='Monte-Carlo')\n",
    "plt.xlabel('time us')\n",
    "plt.ylabel('recapture prob')\n",
    "plt.title('temperature: %.4f uK' %(T*1e6))\n",
    "plt.show()"
   ]
  },
  {
   "cell_type": "code",
   "execution_count": null,
   "id": "dc9499ce-0bf5-45cc-9335-e209b3cfc9b3",
   "metadata": {},
   "outputs": [],
   "source": []
  }
 ],
 "metadata": {
  "kernelspec": {
   "display_name": "Python 3 (ipykernel)",
   "language": "python",
   "name": "python3"
  },
  "language_info": {
   "codemirror_mode": {
    "name": "ipython",
    "version": 3
   },
   "file_extension": ".py",
   "mimetype": "text/x-python",
   "name": "python",
   "nbconvert_exporter": "python",
   "pygments_lexer": "ipython3",
   "version": "3.9.13"
  }
 },
 "nbformat": 4,
 "nbformat_minor": 5
}
