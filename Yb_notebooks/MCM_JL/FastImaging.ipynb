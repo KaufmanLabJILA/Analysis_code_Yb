{
 "cells": [
  {
   "cell_type": "code",
   "execution_count": 1,
   "id": "42160683-8624-4425-a51d-0624bb2a7857",
   "metadata": {},
   "outputs": [],
   "source": [
    "import numpy as np\n",
    "import matplotlib.pyplot as plt\n",
    "import scipy as sp\n",
    "import scipy.constants\n",
    "from qutip import *\n",
    "import random\n",
    "from numpy.random import choice\n",
    "import matplotlib.cm as cm\n",
    "from sympy import *\n",
    "from IPython.display import Image\n",
    "from sympy.physics.wigner import wigner_6j\n",
    "from sympy.physics.quantum.cg import CG\n",
    "import tqdm\n",
    "from numpy import random\n",
    "from scipy.optimize import curve_fit\n",
    "from scipy.stats import norm\n",
    "\n",
    "\"\"\" \n",
    "constants\n",
    "\"\"\"\n",
    "pi = np.pi\n",
    "c = sp.constants.c\n",
    "epsilon0 = sp.constants.epsilon_0\n",
    "hbar = sp.constants.hbar\n",
    "h = sp.constants.h\n",
    "u = sp.constants.physical_constants['atomic mass constant'][0]\n",
    "kB = sp.constants.physical_constants['Boltzmann constant'][0]\n",
    "mB = sp.constants.physical_constants['Bohr magneton'][0]\n",
    "\n",
    "# α/h [Hz/(V/m)2]=2.48832×10−8 α [a.u.] from https://arxiv.org/pdf/1507.06570.pdf\n",
    "# α [a.u.] = 1.648 777 274 36 x 10-41 α [C2 m2 J-1] #https://physics.nist.gov/cgi-bin/cuu/Value?auepol\n",
    "a_au = 1.64877727436*1e-41"
   ]
  },
  {
   "cell_type": "code",
   "execution_count": 3,
   "id": "e4d08c9c-10a4-4d9d-838c-4278be411697",
   "metadata": {},
   "outputs": [],
   "source": [
    "def Rsc(I, delta, gamma, Isat):\n",
    "    return (gamma/2)**3 / (delta**2 + (gamma/2)**2 )*6 *I/Isat"
   ]
  },
  {
   "cell_type": "code",
   "execution_count": 12,
   "id": "8de0d156-3fee-49a3-b456-73e8559609d9",
   "metadata": {},
   "outputs": [],
   "source": [
    "_lambda = 556e-9\n",
    "k=2*np.pi/_lambda\n",
    "m = 171*u\n",
    "\n",
    "def dv(k):\n",
    "    return (hbar*k/m)**2 \n",
    "\n",
    "def xrms(n, k, t):\n",
    "    x = 0\n",
    "    v = 0\n",
    "    for dn in range(n):\n",
    "        v += dv(k)\n",
    "        x += v*t/n\n",
    "    \n",
    "    return x"
   ]
  },
  {
   "cell_type": "code",
   "execution_count": 13,
   "id": "c81874d8-f432-4bc8-b22a-93903501753a",
   "metadata": {},
   "outputs": [],
   "source": [
    "# 556\n",
    "Isat = 138*1e-6/1e-4\n",
    "gamma = 180e3\n",
    "delta = 0\n",
    "I = Isat"
   ]
  },
  {
   "cell_type": "code",
   "execution_count": 33,
   "id": "f7a6c81f-89c5-41c9-9d53-a27054b85e12",
   "metadata": {},
   "outputs": [],
   "source": [
    "t = 100/Rsc(I, delta, gamma, Isat)"
   ]
  },
  {
   "cell_type": "code",
   "execution_count": 34,
   "id": "8c31600d-ef00-4708-aca8-cf6f07a85685",
   "metadata": {},
   "outputs": [
    {
     "data": {
      "text/plain": [
       "1.6472885444787324e-07"
      ]
     },
     "execution_count": 34,
     "metadata": {},
     "output_type": "execute_result"
    }
   ],
   "source": [
    "xrms(100, k, t)"
   ]
  },
  {
   "cell_type": "code",
   "execution_count": 35,
   "id": "12a1455c-5ab4-4ac2-889b-f3059950437c",
   "metadata": {},
   "outputs": [],
   "source": [
    "_lambda = 556e-9\n",
    "k=2*np.pi/_lambda\n",
    "m = 171*u\n",
    "\n",
    "def dv(k):\n",
    "    return (hbar*k/m)**2 \n",
    "\n",
    "def xrms(n, k, t):\n",
    "    x = 0\n",
    "    v = 0\n",
    "    for dn in range(n):\n",
    "        v += dv(k)\n",
    "        x += v*t/n\n",
    "    \n",
    "    return x"
   ]
  },
  {
   "cell_type": "code",
   "execution_count": 36,
   "id": "918cb0f1-6940-4eec-a661-b7854305fb23",
   "metadata": {},
   "outputs": [],
   "source": [
    "# 399\n",
    "Isat = 138*1e-3/1e-4\n",
    "gamma = 180e3\n",
    "delta = 0\n",
    "I = Isat"
   ]
  },
  {
   "cell_type": "code",
   "execution_count": 37,
   "id": "7873a5b1-3e14-4b46-beb8-d23867f660aa",
   "metadata": {},
   "outputs": [],
   "source": [
    "t = 100/Rsc(I, delta, gamma, Isat)"
   ]
  },
  {
   "cell_type": "code",
   "execution_count": 38,
   "id": "8334d917-122e-42de-812e-1791fca99971",
   "metadata": {},
   "outputs": [
    {
     "data": {
      "text/plain": [
       "1.6472885444787324e-07"
      ]
     },
     "execution_count": 38,
     "metadata": {},
     "output_type": "execute_result"
    }
   ],
   "source": [
    "xrms(100, k, t)"
   ]
  },
  {
   "cell_type": "code",
   "execution_count": null,
   "id": "628f8a93-b787-491a-a5ca-8c9dc04f15e1",
   "metadata": {},
   "outputs": [],
   "source": []
  }
 ],
 "metadata": {
  "kernelspec": {
   "display_name": "Python 3 (ipykernel)",
   "language": "python",
   "name": "python3"
  },
  "language_info": {
   "codemirror_mode": {
    "name": "ipython",
    "version": 3
   },
   "file_extension": ".py",
   "mimetype": "text/x-python",
   "name": "python",
   "nbconvert_exporter": "python",
   "pygments_lexer": "ipython3",
   "version": "3.9.13"
  }
 },
 "nbformat": 4,
 "nbformat_minor": 5
}
