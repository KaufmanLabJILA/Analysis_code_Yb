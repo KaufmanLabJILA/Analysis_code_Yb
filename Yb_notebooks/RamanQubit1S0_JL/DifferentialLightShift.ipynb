{
 "cells": [
  {
   "cell_type": "code",
   "execution_count": 1,
   "metadata": {},
   "outputs": [],
   "source": [
    "import numpy as np\n",
    "import matplotlib.pyplot as plt\n",
    "import scipy as sp\n",
    "import scipy.constants\n",
    "from qutip import *\n",
    "import random\n",
    "from numpy.random import choice\n",
    "import matplotlib.cm as cm\n",
    "from sympy import *\n",
    "from IPython.display import Image\n",
    "from sympy.physics.wigner import wigner_6j\n",
    "from sympy.physics.quantum.cg import CG\n",
    "import tqdm\n",
    "from numpy import random\n",
    "from scipy.optimize import curve_fit\n",
    "\n",
    "\"\"\" \n",
    "constants\n",
    "\"\"\"\n",
    "pi = np.pi\n",
    "c = sp.constants.c\n",
    "epsilon0 = sp.constants.epsilon_0\n",
    "hbar = sp.constants.hbar\n",
    "h = sp.constants.h\n",
    "u = sp.constants.physical_constants['atomic mass constant'][0]\n",
    "kB = sp.constants.physical_constants['Boltzmann constant'][0]\n",
    "mB = sp.constants.physical_constants['Bohr magneton'][0]\n",
    "\n",
    "# α/h [Hz/(V/m)2]=2.48832×10−8 α [a.u.] from https://arxiv.org/pdf/1507.06570.pdf\n",
    "# α [a.u.] = 1.648 777 274 36 x 10-41 α [C2 m2 J-1] #https://physics.nist.gov/cgi-bin/cuu/Value?auepol\n",
    "a_au = 1.64877727436*1e-41"
   ]
  },
  {
   "cell_type": "code",
   "execution_count": 2,
   "metadata": {},
   "outputs": [],
   "source": [
    "#hyperfine reduced matrix element <F||d||F'>\n",
    "def __Fg_d_Fe(Jg_d_Je, Fg, Fe, Jg, Je, I):\n",
    "    return (\n",
    "    Jg_d_Je * (-1)**(Fe+Jg+1+I) * \n",
    "        np.sqrt( (2*Fe+1)*(2*Jg+1) ) \n",
    "        * wigner_6j(Jg, Je, 1, Fe, Fg, I)\n",
    "    )"
   ]
  },
  {
   "cell_type": "code",
   "execution_count": 3,
   "metadata": {},
   "outputs": [],
   "source": [
    "#reduced matrix element <Jg||d||Je>\n",
    "def __Jg_d_Je(omega_0, Jg, Je, tau):\n",
    "    return np.sqrt(\n",
    "        3*np.pi*epsilon0*hbar*c**3/omega_0**3/tau\n",
    "        * (2*Je+1)/(2*Jg+1)\n",
    "    )"
   ]
  },
  {
   "cell_type": "code",
   "execution_count": 4,
   "metadata": {},
   "outputs": [],
   "source": [
    "def Rabi(Fg, Fe, mg, me, Jg, Je, I, omega_0, tau, pol):\n",
    "    q = -(me-mg)\n",
    "    Jg_d_Je = __Jg_d_Je(omega_0, Jg, Je, tau)\n",
    "    \n",
    "    CG_coeff = float(CG(Fe, me, 1, q, Fg, mg).doit())\n",
    "    \n",
    "    Eplus = pol * np.sqrt( intensity / 2 / epsilon0 / c)\n",
    "    \n",
    "    return (\n",
    "    -2 * Jg_d_Je / hbar * Eplus *\n",
    "        (-1)**(Fe+Jg+1+I) * np.sqrt( (2*Fe+1)*(2*Jg+1) ) * CG_coeff * \n",
    "        float(wigner_6j(Je, Jg, 1, Fg, Fe, I))\n",
    "    )"
   ]
  },
  {
   "cell_type": "code",
   "execution_count": 5,
   "metadata": {},
   "outputs": [],
   "source": [
    "def cos_fit(t, f, phi):\n",
    "    return -np.cos(2*np.pi*t*f+phi)*1/2+1/2"
   ]
  },
  {
   "cell_type": "code",
   "execution_count": 6,
   "metadata": {},
   "outputs": [],
   "source": [
    "_lambda = 556e-9\n",
    "m = 171*u\n",
    "omega_0 =  2*np.pi*(4760.247 + 539385645.457)*1e6 \n",
    "#https://journals.aps.org/pra/pdf/10.1103/PhysRevA.100.042505\n",
    "tau = 866.1e-9\n",
    "\n",
    "#total intensity at the atom\n",
    "wV = 0.055e-3\n",
    "wH = 1.3e-3\n",
    "Ptot = 562e-3\n",
    "intensity = 2*Ptot/np.pi/wV/wH"
   ]
  },
  {
   "cell_type": "code",
   "execution_count": 7,
   "metadata": {},
   "outputs": [],
   "source": [
    "Fg = 1/2\n",
    "Je = 1\n",
    "Jg = 0\n",
    "I = 1/2\n",
    "Le = 1\n",
    "Se = 1\n",
    "\n",
    "Fe_12 = 1/2\n",
    "Fe_32 = 3/2"
   ]
  },
  {
   "cell_type": "code",
   "execution_count": 8,
   "metadata": {},
   "outputs": [],
   "source": [
    "one = basis(8,0) #1S0 mF=-1/2\n",
    "two = basis(8,1) #1S0 mF=+1/2\n",
    "three = basis(8,2) #F=1/2 3P1 mF=-1/2\n",
    "four = basis(8,3) #F=1/2 3P1 mF=+1/2\n",
    "five = basis(8,4) #F=3/2 3P1 mF=-3/2\n",
    "six = basis(8,5) #F=3/2 3P1 mF=-1/2\n",
    "seven = basis(8, 6) #F=3/2 3P1 mF=+1/2\n",
    "eight = basis(8, 7) #F=3/2 3P1 mF=+3/2\n",
    "\n",
    "sig_11 = one*one.dag()\n",
    "sig_22 = two*two.dag()\n",
    "sig_33 = three*three.dag()\n",
    "sig_44 = four*four.dag()\n",
    "sig_55 = five*five.dag()\n",
    "sig_66 = six*six.dag()\n",
    "sig_77 = seven*seven.dag()\n",
    "sig_88 = eight*eight.dag()\n",
    "\n",
    "\n",
    "#connections from 1S0 mF=-1/2\n",
    "sig_13 = one*three.dag()\n",
    "sig_31 = three*one.dag()\n",
    "\n",
    "sig_14 = one*four.dag()\n",
    "sig_41 = four*one.dag()\n",
    "\n",
    "sig_51 = five*one.dag()\n",
    "sig_15 = one*five.dag()\n",
    "\n",
    "sig_61 = six*one.dag()\n",
    "sig_16 = one*six.dag()\n",
    "\n",
    "sig_71 = seven*one.dag()\n",
    "sig_17 = one*seven.dag()\n",
    "\n",
    "\n",
    "#connections from 1S0 mF=+1/2\n",
    "sig_23 = two*three.dag()\n",
    "sig_32 = three*two.dag()\n",
    "\n",
    "sig_24 = two*four.dag()\n",
    "sig_42 = four*two.dag()\n",
    "\n",
    "sig_62 = six*two.dag()\n",
    "sig_26 = two*six.dag()\n",
    "\n",
    "sig_72 = seven*two.dag()\n",
    "sig_27 = two*seven.dag()\n",
    "\n",
    "sig_82 = eight*two.dag()\n",
    "sig_28 = two*eight.dag()"
   ]
  },
  {
   "cell_type": "code",
   "execution_count": 9,
   "metadata": {},
   "outputs": [],
   "source": [
    "psi0 = two"
   ]
  },
  {
   "cell_type": "markdown",
   "metadata": {},
   "source": [
    "## As a function of B field"
   ]
  },
  {
   "cell_type": "code",
   "execution_count": 10,
   "metadata": {},
   "outputs": [],
   "source": [
    "Delta_12 = -2*np.pi*6e9 #detuning from the free space resonance of F=1/2\n",
    "Delta_32 = Delta_12-2*np.pi*6e9 #detuning from the free space resonance of F=3/2"
   ]
  },
  {
   "cell_type": "code",
   "execution_count": 34,
   "metadata": {},
   "outputs": [],
   "source": [
    "phi = np.pi/2\n",
    "\n",
    "#total intensity at the atom\n",
    "wV = 0.055e-3\n",
    "wH = 1.3e-3\n",
    "Ptot = 562e-3*0.5\n",
    "intensity = 2*Ptot/np.pi/wV/wH\n",
    "\n",
    "LS_ls = []\n",
    "\n",
    "B_ls = np.linspace(0, 1.5, 100)*1e-4\n",
    "\n",
    "for B in B_ls:\n",
    "    \n",
    "    #Zeeman shifts\n",
    "\n",
    "    gJe = 3/2 + (Se*(Se+1) - Le*(Le+1)) / 2 / Je / (Je+1)  \n",
    "    gFe_12 = (Fe_12*(Fe_12+1) + Je*(Je+1) - I*(I+1)) / 2 / Fe_12 / (Fe_12+1) * gJe\n",
    "    gFe_32 = (Fe_32*(Fe_32+1) + Je*(Je+1) - I*(I+1)) / 2 / Fe_32 / (Fe_32+1) * gJe\n",
    "\n",
    "\n",
    "    delta_N = -2*np.pi*750*B*1e4 #nuclear states splitting\n",
    "\n",
    "    Delta_g1 = -delta_N/2\n",
    "    Delta_g2 = delta_N/2\n",
    "\n",
    "    Delta_e3 = -1/2*gFe_12*mB*B / hbar\n",
    "    Delta_e4 = 1/2*gFe_12*mB*B / hbar\n",
    "    Delta_e5 = -3/2*gFe_32*mB*B / hbar\n",
    "    Delta_e6 = -1/2*gFe_32*mB*B / hbar\n",
    "    Delta_e7 = 1/2*gFe_32*mB*B / hbar\n",
    "    Delta_e8 = 3/2*gFe_32*mB*B / hbar\n",
    "    \n",
    "    #diagonal terms\n",
    "    diag_1 = Delta_g1\n",
    "    diag_2 = Delta_g2\n",
    "\n",
    "    diag_3 = -Delta_12 + Delta_e3\n",
    "    diag_4 = -Delta_12 + Delta_e4\n",
    "\n",
    "    diag_5 = -Delta_32 + Delta_e5\n",
    "    diag_6 = -Delta_32 + Delta_e6\n",
    "    diag_7 = -Delta_32 + Delta_e7\n",
    "    diag_8 = -Delta_32 + Delta_e8\n",
    "    \n",
    "\n",
    "    ## polarization ##\n",
    "    ##################\n",
    "\n",
    "    #basis\n",
    "    x = np.array([1,0,0])\n",
    "    y = np.array([0,1,0])\n",
    "    z = np.array([0,0,1])\n",
    "\n",
    "    polarization = 1/np.sqrt(2)*(y+np.exp(-1j*phi)*z)\n",
    "\n",
    "    #spherical tensor\n",
    "    pi_pol = y\n",
    "    sigp_pol = 1/np.sqrt(2)*(z-1j*x)\n",
    "    sigm_pol = -1/np.sqrt(2)*(z+1j*x)\n",
    "    \n",
    "    #off-diagonal terms\n",
    "    offdiag_31 = Rabi(Fg, Fe_12, -1/2, -1/2, Jg, Je, I, omega_0, tau, np.dot(polarization, pi_pol)) / 2\n",
    "    offdiag_41 = Rabi(Fg, Fe_12, -1/2, 1/2, Jg, Je, I, omega_0, tau, np.dot(polarization, sigp_pol)) / 2\n",
    "    offdiag_32 = Rabi(Fg, Fe_12, 1/2, -1/2, Jg, Je, I, omega_0, tau, np.dot(polarization, sigm_pol)) / 2\n",
    "    offdiag_42 = Rabi(Fg, Fe_12, 1/2, 1/2, Jg, Je, I, omega_0, tau, np.dot(polarization, pi_pol)) / 2\n",
    "\n",
    "    offdiag_51 = Rabi(Fg, Fe_32, -1/2, -3/2, Jg, Je, I, omega_0, tau, np.dot(polarization, sigm_pol)) / 2\n",
    "    offdiag_61 = Rabi(Fg, Fe_32, -1/2, -1/2, Jg, Je, I, omega_0, tau, np.dot(polarization, pi_pol)) / 2\n",
    "    offdiag_71 = Rabi(Fg, Fe_32, -1/2, 1/2, Jg, Je, I, omega_0, tau, np.dot(polarization, sigp_pol)) / 2\n",
    "    \n",
    "    offdiag_62 = Rabi(Fg, Fe_32, 1/2, -1/2, Jg, Je, I, omega_0, tau, np.dot(polarization, sigm_pol)) / 2\n",
    "    offdiag_72 = Rabi(Fg, Fe_32, 1/2, 1/2, Jg, Je, I, omega_0, tau, np.dot(polarization, pi_pol)) / 2\n",
    "    offdiag_82 = Rabi(Fg, Fe_32, 1/2, 3/2, Jg, Je, I, omega_0, tau, np.dot(polarization, sigp_pol)) / 2\n",
    "\n",
    "    offdiag_13 = np.conjugate(offdiag_31)\n",
    "    offdiag_14 = np.conjugate(offdiag_41)\n",
    "    offdiag_23 = np.conjugate(offdiag_32)\n",
    "    offdiag_24 = np.conjugate(offdiag_42)\n",
    "\n",
    "    offdiag_15 = np.conjugate(offdiag_51)\n",
    "    offdiag_16 = np.conjugate(offdiag_61)\n",
    "    offdiag_17 = np.conjugate(offdiag_71)\n",
    "    \n",
    "    offdiag_26 = np.conjugate(offdiag_62)\n",
    "    offdiag_27 = np.conjugate(offdiag_72)\n",
    "    offdiag_28 = np.conjugate(offdiag_82)\n",
    "\n",
    "    LS1 = (offdiag_31*offdiag_13/(2*Delta_12-2*Delta_e3) + \n",
    "           offdiag_41*offdiag_14/(2*Delta_12-2*Delta_e4) + \n",
    "           offdiag_51*offdiag_15/(2*Delta_32-2*Delta_e5) + \n",
    "           offdiag_61*offdiag_16/(2*Delta_32-2*Delta_e6) + \n",
    "           offdiag_71*offdiag_17/(2*Delta_32-2*Delta_e7) \n",
    "          +Delta_g1\n",
    "          )\n",
    "\n",
    "    LS2 = (offdiag_32*offdiag_23/(2*Delta_12-2*Delta_e3) + \n",
    "       offdiag_42*offdiag_24/(2*Delta_12-2*Delta_e4) + \n",
    "       offdiag_62*offdiag_26/(2*Delta_32-2*Delta_e6) + \n",
    "       offdiag_72*offdiag_27/(2*Delta_32-2*Delta_e7) + \n",
    "       offdiag_82*offdiag_28/(2*Delta_32-2*Delta_e8) \n",
    "       + Delta_g2\n",
    "     )\n",
    "    \n",
    "    \n",
    "    LS_ls.append(LS1-LS2)"
   ]
  },
  {
   "cell_type": "code",
   "execution_count": 35,
   "metadata": {},
   "outputs": [
    {
     "data": {
      "text/plain": [
       "Text(0, 0.5, 'ground state splitting (kHz)')"
      ]
     },
     "execution_count": 35,
     "metadata": {},
     "output_type": "execute_result"
    },
    {
     "data": {
      "image/png": "[encoded data removed]",
      "text/plain": [
       "<Figure size 576x432 with 1 Axes>"
      ]
     },
     "metadata": {},
     "output_type": "display_data"
    }
   ],
   "source": [
    "plt.figure(dpi=144, figsize=(4,3))\n",
    "\n",
    "plt.plot(np.array(B_ls)*1e4, np.array(LS_ls)/1e3/2/np.pi, 'k-')\n",
    "plt.xlabel('Magnetic field (G)')\n",
    "plt.ylabel('ground state splitting (kHz)')\n",
    "#plt.ylim(0,)"
   ]
  },
  {
   "cell_type": "code",
   "execution_count": 15,
   "metadata": {},
   "outputs": [
    {
     "data": {
      "text/plain": [
       "7.690618815987815"
      ]
     },
     "execution_count": 15,
     "metadata": {},
     "output_type": "execute_result"
    }
   ],
   "source": [
    "Delta_g1"
   ]
  },
  {
   "cell_type": "markdown",
   "metadata": {},
   "source": [
    "The bare atomic hamiltonian is:\n",
    " $$H_0 =\n",
    "\\begin{align*}\n",
    "        \\begin{pmatrix} \n",
    "        -\\delta_N/2 & 0 & 0 & 0 & 0 & 0 & 0 & 0\\\\ \n",
    "        0 & \\delta_N/2 & 0 & 0 & 0 & 0 & 0 & 0\\\\ \n",
    "        0 & 0 & \\omega_3-\\omega_1 & 0 & 0 & 0 & 0 & 0\\\\\n",
    "        0 & 0 & 0 & \\omega_4-\\omega_1 & 0 & 0 & 0 & 0\\\\\n",
    "        0 & 0 & 0 & 0 &\\omega_5-\\omega_1 & 0 & 0 & 0 \\\\\n",
    "        0 & 0 & 0 & 0 & 0 & \\omega_6-\\omega_1 & 0 & 0\\\\\n",
    "        0 & 0 & 0 & 0 & 0 & 0 & \\omega_7-\\omega_1 & 0 \\\\\n",
    "        0 & 0 & 0 & 0 & 0 & 0 & 0 & \\omega_8-\\omega_1\\\\\n",
    "        \\end{pmatrix} \\\\\n",
    "\\end{align*}$$"
   ]
  },
  {
   "cell_type": "markdown",
   "metadata": {},
   "source": [
    "The atom-field interaction hamiltonian is:\n",
    "\n",
    "$$H_{int} = \\frac{1}{2}\n",
    "\\begin{align*}\n",
    "        \\begin{pmatrix} \n",
    "        0 & 0 & \\Omega_{31}^*(e^{-i\\omega t} + e^{i\\omega t}) & \\Omega_{41}^*(e^{-i\\omega t} + e^{i\\omega t}) & \\Omega_{51}^*(e^{-i\\omega t} + e^{i\\omega t}) & \\Omega_{61}^*(e^{-i\\omega t} + e^{i\\omega t}) & \\Omega_{71}^*(e^{-i\\omega t} + e^{i\\omega t}) & 0\\\\ \n",
    "        0 & 0 & \\Omega_{32}^*(e^{-i\\omega t} + e^{i\\omega t}) & \\Omega_{42}^*(e^{-i\\omega t} + e^{i\\omega t}) & 0 & \\Omega_{62}^*(e^{-i\\omega t} + e^{i\\omega t}) & \\Omega_{72}^*(e^{-i\\omega t} + e^{i\\omega t}) & \\Omega_{82}^*(e^{-i\\omega t} + e^{i\\omega t}) \\\\ \n",
    "        \\Omega_{31}(e^{-i\\omega t} + e^{i\\omega t }) & \\Omega_{32}(e^{-i\\omega t} + e^{i\\omega t }) & 0 & 0 & 0 & 0 & 0 & 0\\\\\n",
    "        \\Omega_{41}(e^{-i\\omega t} + e^{i\\omega t }) & \\Omega_{42}(e^{-i\\omega t} + e^{i\\omega t }) & 0 & 0 & 0 & 0 & 0 & 0\\\\\n",
    "        \\Omega_{51}(e^{-i\\omega t} + e^{i\\omega t }) & 0 & 0 & 0 & 0 & 0 & 0 & 0 \\\\\n",
    "        \\Omega_{61}(e^{-i\\omega t} + e^{i\\omega t }) & \\Omega_{62}(e^{-i\\omega t} + e^{i\\omega t }) & 0 & 0 & 0 &  & 0 & 0\\\\\n",
    "        \\Omega_{71}(e^{-i\\omega t} + e^{i\\omega t }) & \\Omega_{72}(e^{-i\\omega t} + e^{i\\omega t }) & 0 & 0 & 0 & 0 & 0 & 0 \\\\\n",
    "        0 & \\Omega_{82}(e^{-i\\omega t} + e^{i\\omega t }) & 0 & 0 & 0 & 0 & 0 & 0\\\\\n",
    "        \\end{pmatrix} \\\\\n",
    "\\end{align*}$$\n",
    "\n",
    "."
   ]
  },
  {
   "cell_type": "markdown",
   "metadata": {},
   "source": [
    "Also suppose $\\omega_0$ is the free space resonance for F=1/2. \n",
    "- $\\omega = \\omega_0 + \\Delta_{12}$.\n",
    "- $\\omega_3 - \\omega_1 = \\omega_0 + \\delta_N/2 + \\Delta_{e3}$\n",
    "- $\\omega_4 - \\omega_1 = \\omega_0 + \\delta_N/2 + \\Delta_{e4}$\n",
    "- $\\omega_5 - \\omega_1 = \\omega_0 + \\delta_N/2 + \\Delta_{e5}$\n",
    "- $\\omega_6 - \\omega_1 = \\omega_0 + \\delta_N/2 + \\Delta_{e6}$\n",
    "- $\\omega_7 - \\omega_1 = \\omega_0 + \\delta_N/2 + \\Delta_{e7}$\n",
    "- $\\omega_8 - \\omega_1 = \\omega_0 + \\delta_N/2 + \\Delta_{e8}$\n",
    "\n",
    "We allow detunning $\\Delta$ to be positive for blue and negative for red detuning. The Zeeman shifts $\\Delta_{e2,3}$ and $\\delta_N/2$ can be +ve/-ve as well."
   ]
  },
  {
   "cell_type": "markdown",
   "metadata": {},
   "source": [
    "$$H_0 =\n",
    "\\begin{align*}\n",
    "        \\begin{pmatrix} \n",
    "        0 & 0 & 0 & 0\\\\ \n",
    "        0 & \\omega_0 + \\delta_N/2 + \\Delta_{e2} & 0 & 0 \\\\\n",
    "        0 & 0 & \\omega_0 + \\delta_N/2 + \\Delta_{e3} & 0\\\\\n",
    "        0 & 0 & 0 & \\delta_N\n",
    "        \\end{pmatrix} \\\\\n",
    "\\end{align*}$$"
   ]
  },
  {
   "cell_type": "markdown",
   "metadata": {},
   "source": [
    "$$H_{int} = \\frac{1}{2}\n",
    "\\begin{align*}\n",
    "        \\begin{pmatrix} \n",
    "        0 & \\Omega_{21}^*(e^{-i(\\omega_0+\\Delta+\\delta) t} + e^{i(\\omega_0+\\Delta+\\delta) t }) & \\Omega_{31}^*(e^{-(i\\omega_0+\\Delta) t} + e^{i(\\omega_0+\\Delta) t}) & 0\\\\ \n",
    "        \\Omega_{21}(e^{-i(\\omega_0+\\Delta+\\delta) t} + e^{i(\\omega_0+\\Delta+\\delta) t}) & 0 & 0 & \\Omega_{24}(e^{-i(\\omega_0+\\Delta) t} + e^{i(\\omega_0+\\Delta) t}) \\\\\n",
    "        \\Omega_{31}(e^{-i(\\omega_0+\\Delta) t} + e^{i(\\omega_0+\\Delta) t}) & 0 & 0 & \\Omega_{34}(e^{-i(\\omega_0+\\Delta+\\delta) t} + e^{i(\\omega_0+\\Delta+\\delta) t })\\\\\n",
    "        0 & \\Omega_{24}^*(e^{-i(\\omega_0+\\Delta) t} + e^{i(\\omega_0+\\Delta) t}) & \\Omega_{34}^*(e^{-i(\\omega_0+\\Delta+\\delta) t +} + e^{i(\\omega_0+\\Delta+\\delta) t }) & 0\n",
    "        \\end{pmatrix} \\\\\n",
    "\\end{align*} \\\\\n",
    " $$"
   ]
  },
  {
   "cell_type": "markdown",
   "metadata": {},
   "source": [
    "We now move to the rotating frame via\n",
    "$$U =\n",
    "\\begin{align*}\n",
    "        \\begin{pmatrix} \n",
    "        I & 0 & 0 & 0\\\\ \n",
    "        0 & e^{-i(\\omega_0 + \\Delta + \\delta) t} & 0 & 0 \\\\\n",
    "        0 & 0 & e^{-i(\\omega_0 + \\Delta) t} & 0\\\\\n",
    "        0 & 0 & 0 & I\n",
    "        \\end{pmatrix} \\\\\n",
    "\\end{align*} \\\\\n",
    " $$\n",
    " and apply RWA to $H_{int}$."
   ]
  },
  {
   "cell_type": "markdown",
   "metadata": {},
   "source": [
    " $$H_0 =\n",
    "\\begin{align*}\n",
    "        \\begin{pmatrix} \n",
    "        0 & 0 & 0 & 0\\\\ \n",
    "        0 & -\\Delta + \\delta_N/2 + \\Delta_{e2} -\\delta & 0 & 0 \\\\\n",
    "        0 & 0 & -\\Delta + \\delta_N/2 + \\Delta_{e3} & 0\\\\\n",
    "        0 & 0 & 0 & \\delta_N\n",
    "        \\end{pmatrix} \\\\\n",
    "\\end{align*}$$"
   ]
  },
  {
   "cell_type": "markdown",
   "metadata": {},
   "source": [
    "The full Hamniltonian is \n",
    "$$H = \\frac{1}{2}\n",
    "\\begin{align*}\n",
    "        \\begin{pmatrix} \n",
    "        0 & \\Omega_{21}^* & \\Omega_{31}^* & 0\\\\ \n",
    "        \\Omega_{21} & -2\\Delta + \\delta_N + 2\\Delta_{e2} -2\\delta & 0 & \\Omega_{24}e^{i\\delta t} \\\\\n",
    "        \\Omega_{31} & 0 & -2\\Delta + \\delta_N + 2\\Delta_{e3} & \\Omega_{34}e^{-i\\delta t}\\\\\n",
    "        0 & \\Omega_{24}^* e^{-i\\delta t}& \\Omega_{34}^* e^{i\\delta t} & 2\\delta_N\n",
    "        \\end{pmatrix} \\\\\n",
    "\\end{align*} \\\\\n",
    " $$\n",
    "\n"
   ]
  },
  {
   "cell_type": "markdown",
   "metadata": {},
   "source": [
    "Plugging those to the Schrodinger equation, gives the differential equations for the amplitude coefficients:\n",
    "$$ \\begin{matrix} \n",
    "i\\dot{C_1} = \\frac{1}{2}(\\Omega_{21}^* C_2  + \\Omega_{31}^* C_3)\\\\\n",
    "i\\dot{C_2} = \\frac{1}{2}\\Omega_{21}C_1 + \\frac{1}{2}(-2\\Delta +2\\Delta_{e2}+\\delta_N - 2\\delta)C_2 + \\frac{1}{2}\\Omega_{24}e^{i \\delta t}C_4 \\\\\n",
    "i\\dot{C_3} = \\frac{1}{2}\\Omega_{31}C_1 + \\frac{1}{2}(-2\\Delta +2\\Delta_{e3}+\\delta_N)C_3 + \\frac{1}{2}\\Omega_{34}e^{-i \\delta t}C_4 \\\\\n",
    "i\\dot{C_4} = \\frac{1}{2}\\Omega_{24}^*e^{-i \\delta t}C_2 + \\frac{1}{2}\\Omega_{34}^*e^{i \\delta t }C_3 + \\delta_N C_4\\\\\n",
    "\\end{matrix} .$$"
   ]
  },
  {
   "cell_type": "markdown",
   "metadata": {},
   "source": [
    "Since $\\Delta\\gg\\Omega$, $C_{2,3}$ oscillates at much higher frequencies than $C_{1,4}$. We can assume those oscillations average out on the timescales we are concerned about and take $C_{2,3}$ to be constant. \n",
    "$$ \\begin{matrix} \n",
    "C_2 = \\frac{\\Omega_{21}C_1 + \\Omega_{24}e^{i \\delta t}C_4}{2\\Delta- 2\\Delta_{e2}-\\delta_N + 2\\delta} \\\\\n",
    "C_3 = \\frac{\\Omega_{31}C_1 + \\Omega_{34}e^{-i \\delta t}C_4}{2\\Delta -2\\Delta_{e3}-\\delta_N} \\\\\n",
    "\\end{matrix} .$$"
   ]
  },
  {
   "cell_type": "markdown",
   "metadata": {},
   "source": [
    "This allows us to solve for $C_{1,4}$.\n",
    "$$ \\begin{matrix} \n",
    "i\\dot{C_1} = (\\frac{\\Omega_{21}^*\\Omega_{21}}{2(2\\Delta-2\\Delta_{e2}-\\delta_N+2\\delta)} \n",
    "+ \\frac{\\Omega_{31}^*\\Omega_{31}}{2(2\\Delta-2\\Delta_{e3}-\\delta_N)})C_1  + (\\frac{\\Omega_{21}^*\\Omega_{24} e^{i\\delta t}}{2(2\\Delta-2\\Delta_{e2}-\\delta_N+2\\delta)}+ \n",
    "\\frac{\\Omega_{31}^*\\Omega_{34} e^{-i\\delta t }}{2(2\\Delta-2\\Delta_{e3}-\\delta_N)})C_4 \n",
    " \\\\\n",
    "i\\dot{C_4} = (\\frac{\\Omega_{24}^*\\Omega_{24}}{2(2\\Delta-2\\Delta_{e2}-\\delta_N+2\\delta)} \n",
    "+ \\frac{\\Omega_{34}^*\\Omega_{34}}{2(2\\Delta-2\\Delta_{e3}-\\delta_N)} + \\delta_N)C_4  + (\\frac{\\Omega_{24}^*\\Omega_{21} e^{-i\\delta t}}{2(2\\Delta-2\\Delta_{e2}-\\delta_N+2\\delta)}+ \n",
    "\\frac{\\Omega_{34}^*\\Omega_{31} e^{i\\delta t }}{2(2\\Delta-2\\Delta_{e3}-\\delta_N)})C_1 \n",
    "\\end{matrix} .$$"
   ]
  },
  {
   "cell_type": "markdown",
   "metadata": {},
   "source": [
    "Hence we have a new hamiltonian\n",
    "\n",
    "$$H = \\frac{1}{2}\n",
    "\\begin{align*}\n",
    "        \\begin{pmatrix} \n",
    "        \\frac{\\Omega_{21}^*\\Omega_{21}}{2\\Delta-2\\Delta_{e2}-\\delta_N+2\\delta} \n",
    "+ \\frac{\\Omega_{31}^*\\Omega_{31}}{2\\Delta-2\\Delta_{e3}-\\delta_N} & \\frac{\\Omega_{21}^*\\Omega_{24} e^{i\\delta t}}{2\\Delta-2\\Delta_{e2}-\\delta_N+2\\delta}+ \n",
    "\\frac{\\Omega_{31}^*\\Omega_{34} e^{-i\\delta t }}{2\\Delta-2\\Delta_{e3}-\\delta_N}\\\\ \n",
    "        \\frac{\\Omega_{24}^*\\Omega_{21} e^{-i\\delta t}}{2\\Delta-2\\Delta_{e2}-\\delta_N+2\\delta}+ \n",
    "\\frac{\\Omega_{34}^*\\Omega_{31} e^{i\\delta t }}{2\\Delta-2\\Delta_{e3}-\\delta_N} & \\frac{\\Omega_{24}^*\\Omega_{24}}{2\\Delta-2\\Delta_{e2}-\\delta_N+2\\delta} \n",
    "+ \\frac{\\Omega_{34}^*\\Omega_{34}}{2\\Delta-2\\Delta_{e3}-\\delta_N} + 2\\delta_N\n",
    "        \\end{pmatrix} \\\\\n",
    "\\end{align*} .\\\\\n",
    " $$"
   ]
  },
  {
   "cell_type": "markdown",
   "metadata": {},
   "source": [
    "We can now look at the special case where we use a single beam of a given polarization i.e. $\\delta=0$, thus\n",
    "$$H_{one beam} = \\frac{1}{2}\n",
    "\\begin{align*}\n",
    "        \\begin{pmatrix} \n",
    "        \\frac{\\Omega_{21}^*\\Omega_{21}}{2\\Delta-2\\Delta_{e2}-\\delta_N} \n",
    "+ \\frac{\\Omega_{31}^*\\Omega_{31}}{2\\Delta-2\\Delta_{e3}-\\delta_N} & \\frac{\\Omega_{21}^*\\Omega_{24} }{2\\Delta-2\\Delta_{e2}-\\delta_N}+ \n",
    "\\frac{\\Omega_{31}^*\\Omega_{34}}{2\\Delta-2\\Delta_{e3}-\\delta_N}\\\\ \n",
    "        \\frac{\\Omega_{24}^*\\Omega_{21} }{2\\Delta-2\\Delta_{e2}-\\delta_N}+ \n",
    "\\frac{\\Omega_{34}^*\\Omega_{31} }{2\\Delta-2\\Delta_{e3}-\\delta_N} & \\frac{\\Omega_{24}^*\\Omega_{24}}{2\\Delta-2\\Delta_{e2}-\\delta_N} \n",
    "+ \\frac{\\Omega_{34}^*\\Omega_{34}}{2\\Delta-2\\Delta_{e3}-\\delta_N} + 2\\delta_N\n",
    "        \\end{pmatrix} \\\\\n",
    "\\end{align*} .\\\\\n",
    " $$"
   ]
  },
  {
   "cell_type": "markdown",
   "metadata": {},
   "source": [
    "For large Raman detuning $\\Delta$, the Zeman shifts in the denominators can be dropped such that\n",
    "$$H_{one beam} = \\frac{1}{2}\n",
    "\\begin{align*}\n",
    "        \\begin{pmatrix} \n",
    "        \\frac{|\\Omega_{21}|^2+|\\Omega_{31}|^2}{2\\Delta} \n",
    " & \\frac{\\Omega_{21}^*\\Omega_{24} +\\Omega_{31}^*\\Omega_{34}}{2\\Delta}\\\\ \n",
    "        \\frac{\\Omega_{24}^*\\Omega_{21} +\\Omega_{34}^*\\Omega_{31} }{2\\Delta} & \\frac{|\\Omega_{24}|^2+|\\Omega_{34}|^2}{2\\Delta} + 2\\delta_N\n",
    "        \\end{pmatrix} \\\\\n",
    "\\end{align*} .\\\\\n",
    " $$"
   ]
  },
  {
   "cell_type": "markdown",
   "metadata": {},
   "source": [
    "$$\\frac{\\Omega_{21}^*\\Omega_{24} +\\Omega_{31}^*\\Omega_{34}}{2\\Delta} \\propto \\frac{\\frac{i}{2\\sqrt{2}}\\Omega^2 +\\frac{(-i)^*}{2\\sqrt{2}}\\Omega^2}{2\\Delta} = \\frac{\\frac{i}{\\sqrt{2}}\\Omega^2}{2\\Delta}$$"
   ]
  }
 ],
 "metadata": {
  "kernelspec": {
   "display_name": "Python 3 (ipykernel)",
   "language": "python",
   "name": "python3"
  },
  "language_info": {
   "codemirror_mode": {
    "name": "ipython",
    "version": 3
   },
   "file_extension": ".py",
   "mimetype": "text/x-python",
   "name": "python",
   "nbconvert_exporter": "python",
   "pygments_lexer": "ipython3",
   "version": "3.9.13"
  }
 },
 "nbformat": 4,
 "nbformat_minor": 4
}
