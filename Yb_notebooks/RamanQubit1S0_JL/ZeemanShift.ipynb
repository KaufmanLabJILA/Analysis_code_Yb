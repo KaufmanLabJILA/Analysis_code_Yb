{
 "cells": [
  {
   "cell_type": "code",
   "execution_count": 6,
   "metadata": {},
   "outputs": [],
   "source": [
    "import numpy as np\n",
    "import matplotlib.pyplot as plt\n",
    "import scipy as sp\n",
    "import scipy.constants\n",
    "from qutip import *\n",
    "import random\n",
    "from numpy.random import choice\n",
    "import matplotlib.cm as cm\n",
    "from sympy import *\n",
    "from IPython.display import Image\n",
    "from sympy.physics.wigner import wigner_6j\n",
    "from sympy.physics.quantum.cg import CG"
   ]
  },
  {
   "cell_type": "code",
   "execution_count": 7,
   "metadata": {},
   "outputs": [],
   "source": [
    "\"\"\" \n",
    "constants\n",
    "\"\"\"\n",
    "pi = np.pi\n",
    "c = sp.constants.c\n",
    "epsilon0 = sp.constants.epsilon_0\n",
    "hbar = sp.constants.hbar\n",
    "h = sp.constants.h\n",
    "u = sp.constants.physical_constants['atomic mass constant'][0]\n",
    "kB = sp.constants.physical_constants['Boltzmann constant'][0]\n",
    "mB = sp.constants.physical_constants['Bohr magneton'][0]\n",
    "\n",
    "# α/h [Hz/(V/m)2]=2.48832×10−8 α [a.u.] from https://arxiv.org/pdf/1507.06570.pdf\n",
    "# α [a.u.] = 1.648 777 274 36 x 10-41 α [C2 m2 J-1] #https://physics.nist.gov/cgi-bin/cuu/Value?auepol\n",
    "a_au = 1.64877727436*1e-41"
   ]
  },
  {
   "cell_type": "code",
   "execution_count": 9,
   "metadata": {},
   "outputs": [
    {
     "name": "stdout",
     "output_type": "stream",
     "text": [
      "2.0\n",
      "Zeeman shift for 3P1 F=3/2 mF=1/2 in B= 32.64 G\n",
      "B-field shift: 45.6837 MHz\n"
     ]
    }
   ],
   "source": [
    "#Zeeman shift for F=3/2 mF=1/2\n",
    "L = 1\n",
    "S = 1\n",
    "J = 1\n",
    "I = 1/2\n",
    "F = 1/2\n",
    "mF = 1/2\n",
    "\n",
    "gJ = 3/2 + (S*(S+1) - L*(L+1)) / 2 / J / (J+1)  \n",
    "\n",
    "gF = (F*(F+1) + J*(J+1) - I*(I+1)) / 2 / F / (F+1) * gJ\n",
    "print(gF)\n",
    "\n",
    "B = (6.8*4.8)*1e-4\n",
    "Zeeman = mB*gF*B*mF / hbar #weak field\n",
    "\n",
    "print('Zeeman shift for 3P1 F=3/2 mF=1/2 in B=', B*1e4, 'G' )\n",
    "print('B-field shift: %.4f MHz' %(Zeeman/2/pi/1e6))"
   ]
  },
  {
   "cell_type": "code",
   "execution_count": 21,
   "metadata": {},
   "outputs": [
    {
     "data": {
      "text/plain": [
       "1.1842105263157896"
      ]
     },
     "execution_count": 21,
     "metadata": {},
     "output_type": "execute_result"
    }
   ],
   "source": [
    "90*0.1/7.6"
   ]
  },
  {
   "cell_type": "code",
   "execution_count": 9,
   "metadata": {},
   "outputs": [
    {
     "data": {
      "text/plain": [
       "13996.244936072704"
      ]
     },
     "execution_count": 9,
     "metadata": {},
     "output_type": "execute_result"
    }
   ],
   "source": [
    "mB*gF/h/1e6"
   ]
  },
  {
   "cell_type": "code",
   "execution_count": 11,
   "metadata": {},
   "outputs": [
    {
     "data": {
      "text/plain": [
       "0.14061764705882351"
      ]
     },
     "execution_count": 11,
     "metadata": {},
     "output_type": "execute_result"
    }
   ],
   "source": [
    "(0.109/0.005**2 + 0.152/0.003**2)/(1/0.005**2+1/0.003**2)"
   ]
  },
  {
   "cell_type": "code",
   "execution_count": 12,
   "metadata": {},
   "outputs": [
    {
     "data": {
      "text/plain": [
       "0.0025724787771376325"
      ]
     },
     "execution_count": 12,
     "metadata": {},
     "output_type": "execute_result"
    }
   ],
   "source": [
    "np.sqrt(1/(1/0.005**2+1/0.003**2))"
   ]
  },
  {
   "cell_type": "code",
   "execution_count": 13,
   "metadata": {},
   "outputs": [
    {
     "data": {
      "text/plain": [
       "0.14061764705882351"
      ]
     },
     "execution_count": 13,
     "metadata": {},
     "output_type": "execute_result"
    }
   ],
   "source": [
    "np.average([0.109, 0.152], weights=[1/0.005**2, 1/0.003**2])"
   ]
  },
  {
   "cell_type": "code",
   "execution_count": null,
   "metadata": {},
   "outputs": [],
   "source": []
  }
 ],
 "metadata": {
  "kernelspec": {
   "display_name": "Python 3 (ipykernel)",
   "language": "python",
   "name": "python3"
  },
  "language_info": {
   "codemirror_mode": {
    "name": "ipython",
    "version": 3
   },
   "file_extension": ".py",
   "mimetype": "text/x-python",
   "name": "python",
   "nbconvert_exporter": "python",
   "pygments_lexer": "ipython3",
   "version": "3.9.13"
  }
 },
 "nbformat": 4,
 "nbformat_minor": 4
}
