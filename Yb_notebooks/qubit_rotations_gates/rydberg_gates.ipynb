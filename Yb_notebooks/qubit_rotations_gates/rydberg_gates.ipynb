{
 "cells": [
  {
   "cell_type": "code",
   "execution_count": 1,
   "metadata": {},
   "outputs": [],
   "source": [
    "import numpy as np\n",
    "import scipy.constants as sc\n",
    "import sympy.physics.wigner as wigner\n",
    "import matplotlib.pyplot as plt"
   ]
  },
  {
   "cell_type": "code",
   "execution_count": 151,
   "metadata": {},
   "outputs": [
    {
     "name": "stdout",
     "output_type": "stream",
     "text": [
      "111773008944.3313\n"
     ]
    }
   ],
   "source": [
    "pi = np.pi\n",
    "tauR = 50e-6\n",
    "GammaR = 2*pi*10\n",
    "omegaR = 2*pi*sc.c/(308e-9)\n",
    "Gamma0 = 2*pi*(182.4e3)\n",
    "omega0 = 2*pi*(sc.c/(555.8e-9))\n",
    "Isat0 = 0.139*(1e-3)*(1e4)\n",
    "IsatR = sc.hbar*(omegaR**3)*GammaR/(12*pi*(sc.c**2))\n",
    "P0 = 0.005\n",
    "PR = 0.2\n",
    "w0 = 2e-4\n",
    "w1 = 20e-6\n",
    "I0 = P0/(w0*w1)\n",
    "IR = PR/(w0*w1)\n",
    "colorsrc = plt.rcParams[\"axes.prop_cycle\"].by_key()[\"color\"]\n",
    "print(IR/IsatR)"
   ]
  },
  {
   "cell_type": "code",
   "execution_count": 152,
   "metadata": {},
   "outputs": [
    {
     "name": "stdout",
     "output_type": "stream",
     "text": [
      "122308726.01916698 2364032.6662752707\n"
     ]
    }
   ],
   "source": [
    "Omega01p = np.sqrt(I0/(2*(Isat0)))*Gamma0\n",
    "OmegaR1p = np.sqrt(IR/(2*(IsatR)))*GammaR\n",
    "print(Omega01p/(2*np.pi), OmegaR1p/(2*np.pi))"
   ]
  },
  {
   "cell_type": "code",
   "execution_count": 153,
   "metadata": {},
   "outputs": [],
   "source": [
    "def OmegaRaman(delta):\n",
    "    return Omega01p*OmegaR1p/(2*delta)\n",
    "def Rsc(delta):\n",
    "    return Gamma0*(Omega01p**2 + OmegaR1p**2)/(8*(delta**2))"
   ]
  },
  {
   "cell_type": "code",
   "execution_count": 154,
   "metadata": {},
   "outputs": [
    {
     "data": {
      "text/plain": [
       "Text(0, 0.5, '$(2\\\\pi) R_{sc}/\\\\Omega_R$')"
      ]
     },
     "execution_count": 154,
     "metadata": {},
     "output_type": "execute_result"
    },
    {
     "data": {
      "image/png": "[encoded data removed]",
      "text/plain": [
       "<Figure size 400x300 with 2 Axes>"
      ]
     },
     "metadata": {},
     "output_type": "display_data"
    }
   ],
   "source": [
    "deltas = np.linspace(2e7,2e8,100)\n",
    "fig, ax = plt.subplots()\n",
    "plt.plot(deltas*(1e-6), (1e-6)*OmegaRaman(2*np.pi*deltas)/(2*pi))\n",
    "plt.xlabel(r'detuning $\\Delta$ from $^3P_1$ (MHz)')\n",
    "plt.ylabel(r'$\\Omega_R/(2\\pi)$ (MHz)')\n",
    "ax2 = ax.twinx()\n",
    "ax2.plot(deltas*(1e-6), (2*pi)*Rsc(2*np.pi*deltas)/OmegaRaman(2*np.pi*deltas), alpha=0)\n",
    "ax2.set_ylabel(r'$(2\\pi) R_{sc}/\\Omega_R$')"
   ]
  },
  {
   "cell_type": "code",
   "execution_count": 126,
   "metadata": {},
   "outputs": [
    {
     "data": {
      "text/plain": [
       "27508261.768969562"
      ]
     },
     "execution_count": 126,
     "metadata": {},
     "output_type": "execute_result"
    }
   ],
   "source": [
    "Ie = 0.028/(pi*((18e-6)**2))\n",
    "Ie"
   ]
  },
  {
   "cell_type": "code",
   "execution_count": 85,
   "metadata": {},
   "outputs": [
    {
     "data": {
      "text/plain": [
       "432.0987654320987"
      ]
     },
     "execution_count": 85,
     "metadata": {},
     "output_type": "execute_result"
    }
   ],
   "source": [
    "Ie/IR"
   ]
  },
  {
   "cell_type": "code",
   "execution_count": 83,
   "metadata": {},
   "outputs": [
    {
     "data": {
      "text/plain": [
       "1.2988482766511162"
      ]
     },
     "execution_count": 83,
     "metadata": {},
     "output_type": "execute_result"
    }
   ],
   "source": [
    "GammaSrR = sc.hbar*((sc.c/(317e-9))**3)*((2*pi*6e6)**2)/(2*pi*Ie*(sc.c**2))\n",
    "GammaSrR/(2*pi)"
   ]
  },
  {
   "cell_type": "code",
   "execution_count": 87,
   "metadata": {},
   "outputs": [
    {
     "data": {
      "text/plain": [
       "2.148454903666576e-07"
      ]
     },
     "execution_count": 87,
     "metadata": {},
     "output_type": "execute_result"
    }
   ],
   "source": [
    "IsatRe = sc.hbar*((sc.c/(317e-9))**3)*GammaSrR/(12*pi*(sc.c**2))\n",
    "IsatRe"
   ]
  },
  {
   "cell_type": "code",
   "execution_count": 89,
   "metadata": {},
   "outputs": [
    {
     "data": {
      "text/plain": [
       "3141233.5939105144"
      ]
     },
     "execution_count": 89,
     "metadata": {},
     "output_type": "execute_result"
    }
   ],
   "source": [
    "np.sqrt(IR/(2*IsatRe))*GammaSrR"
   ]
  },
  {
   "cell_type": "code",
   "execution_count": null,
   "metadata": {},
   "outputs": [],
   "source": []
  }
 ],
 "metadata": {
  "kernelspec": {
   "display_name": "Python 3",
   "language": "python",
   "name": "python3"
  },
  "language_info": {
   "codemirror_mode": {
    "name": "ipython",
    "version": 3
   },
   "file_extension": ".py",
   "mimetype": "text/x-python",
   "name": "python",
   "nbconvert_exporter": "python",
   "pygments_lexer": "ipython3",
   "version": "3.7.4"
  }
 },
 "nbformat": 4,
 "nbformat_minor": 4
}
