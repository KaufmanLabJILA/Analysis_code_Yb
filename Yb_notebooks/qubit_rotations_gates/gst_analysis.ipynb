{
 "cells": [
  {
   "cell_type": "code",
   "execution_count": 5,
   "metadata": {},
   "outputs": [],
   "source": [
    "import pygsti\n",
    "import pygsti.construction as pc\n",
    "from pygsti.modelpacks.legacy import std1Q_XYI\n",
    "from pygsti.modelpacks import smq1Q_XZ"
   ]
  },
  {
   "cell_type": "code",
   "execution_count": 6,
   "metadata": {},
   "outputs": [],
   "source": [
    "mdl = pc.build_explicit_model(['Q0'],\n",
    "     ['Gi','Gx','Gz'], [ \"I(Q0)\",\"X(pi/2,Q0)\", \"Z(pi/2,Q0)\"],\n",
    "     prepLabels = ['rho0'], prepExpressions=[\"0\"], \n",
    "     effectLabels = ['0','1'], effectExpressions=[\"0\",\"1\"] )"
   ]
  },
  {
   "cell_type": "code",
   "execution_count": 20,
   "metadata": {},
   "outputs": [],
   "source": [
    "target_model = smq1Q_XZ.target_model()      # a Model object\n",
    "prep_fiducials = smq1Q_XZ.prep_fiducials()  # a list of Circuit objects\n",
    "meas_fiducials = smq1Q_XZ.meas_fiducials()  # a list of Circuit objects\n",
    "germs = smq1Q_XZ.germs()                    # a list of Circuit objects\n",
    "maxLengths = [1,2,4,8]\n",
    "exp_design = pygsti.protocols.StandardGSTDesign(target_model, prep_fiducials, meas_fiducials,\n",
    "                                                germs, maxLengths)"
   ]
  },
  {
   "cell_type": "code",
   "execution_count": 21,
   "metadata": {},
   "outputs": [],
   "source": [
    "listOfExperiments = pygsti.construction.make_lsgst_experiment_list(\n",
    "    target_model, prep_fiducials, meas_fiducials, germs, maxLengths)\n",
    "pygsti.io.write_empty_dataset(\"gst_measurements.txt\", listOfExperiments, \"## Columns = 0 count, 1 count\")"
   ]
  },
  {
   "cell_type": "markdown",
   "metadata": {},
   "source": [
    "# test with simulated data"
   ]
  },
  {
   "cell_type": "code",
   "execution_count": 24,
   "metadata": {},
   "outputs": [],
   "source": [
    "import pygsti\n",
    "from pygsti.modelpacks import smq1Q_XZ\n",
    "\n",
    "#Step 1: create an \"experiment design\" for doing GST on the std1Q_XYI gate set\n",
    "target_model = smq1Q_XZ.target_model()      # a Model object\n",
    "prep_fiducials = smq1Q_XZ.prep_fiducials()  # a list of Circuit objects\n",
    "meas_fiducials = smq1Q_XZ.meas_fiducials()  # a list of Circuit objects\n",
    "germs = smq1Q_XZ.germs()                    # a list of Circuit objects\n",
    "maxLengths = [1,2,4,8]\n",
    "exp_design = pygsti.protocols.StandardGSTDesign(target_model, prep_fiducials, meas_fiducials,\n",
    "                                                germs, maxLengths)"
   ]
  },
  {
   "cell_type": "code",
   "execution_count": 26,
   "metadata": {},
   "outputs": [],
   "source": [
    "pygsti.io.write_empty_protocol_data(exp_design, 'test_gst_dir', clobber_ok=True)"
   ]
  },
  {
   "cell_type": "code",
   "execution_count": 15,
   "metadata": {},
   "outputs": [
    {
     "name": "stdout",
     "output_type": "stream",
     "text": [
      "Running idle tomography\n",
      "Computing switchable properties\n"
     ]
    }
   ],
   "source": [
    "report = pygsti.report.construct_standard_report(results, title=\"GST Example Report\", verbosity=1)\n",
    "#HTML\n",
    "report.write_html(\"exampleReport\", auto_open=True, verbosity=1)"
   ]
  },
  {
   "cell_type": "code",
   "execution_count": 24,
   "metadata": {},
   "outputs": [],
   "source": [
    "pygsti.io.write_dataset(\"TestDataSet.txt\", ds)"
   ]
  }
 ],
 "metadata": {
  "kernelspec": {
   "display_name": "Python 3",
   "language": "python",
   "name": "python3"
  },
  "language_info": {
   "codemirror_mode": {
    "name": "ipython",
    "version": 3
   },
   "file_extension": ".py",
   "mimetype": "text/x-python",
   "name": "python",
   "nbconvert_exporter": "python",
   "pygments_lexer": "ipython3",
   "version": "3.8.5"
  }
 },
 "nbformat": 4,
 "nbformat_minor": 5
}
