{
 "cells": [
  {
   "cell_type": "code",
   "execution_count": 73,
   "metadata": {},
   "outputs": [],
   "source": [
    "import numpy as np\n",
    "import re"
   ]
  },
  {
   "cell_type": "markdown",
   "metadata": {},
   "source": [
    "# get list of experiments"
   ]
  },
  {
   "cell_type": "code",
   "execution_count": 91,
   "metadata": {},
   "outputs": [],
   "source": [
    "gst_experiment_list = open(\"gst_measurements.txt\", \"r\")\n",
    "exp_list = list(gst_experiment_list)\n",
    "gst_experiment_list.close()"
   ]
  },
  {
   "cell_type": "code",
   "execution_count": 117,
   "metadata": {},
   "outputs": [],
   "source": [
    "gatelists = []\n",
    "for expline in exp_list[1:]:\n",
    "    gateline = expline.split('@')[0]\n",
    "    linepowersplit = gateline.split('^')\n",
    "    if(len(linepowersplit) == 2):\n",
    "        power = int(linepowersplit[1][0])\n",
    "        linepowersplit[1] = linepowersplit[1][1:]\n",
    "#         print(power)\n",
    "        pattern = \"\\((.*?)\\)\"\n",
    "        substring = re.search(pattern, linepowersplit[0]).group(1)\n",
    "#         print(substring)\n",
    "        for j in range(power-1):\n",
    "            linepowersplit[0] += substring\n",
    "    gateline = \"\".join(linepowersplit)\n",
    "    gateline = gateline.replace('(', \"\")\n",
    "    gateline = gateline.replace(')', \"\")\n",
    "    gatelist = gateline.split(':0')[:-1]\n",
    "    gatelists.append(gatelist)\n",
    "gatelists[0] = [\"empty\"]"
   ]
  },
  {
   "cell_type": "code",
   "execution_count": 122,
   "metadata": {},
   "outputs": [
    {
     "data": {
      "text/plain": [
       "['Gxpi2',\n",
       " 'Gxpi2',\n",
       " 'Gxpi2',\n",
       " 'Gzpi2',\n",
       " 'Gzpi2',\n",
       " 'Gzpi2',\n",
       " 'Gzpi2',\n",
       " 'Gzpi2',\n",
       " 'Gzpi2',\n",
       " 'Gzpi2',\n",
       " 'Gzpi2',\n",
       " 'Gxpi2',\n",
       " 'Gxpi2',\n",
       " 'Gxpi2']"
      ]
     },
     "execution_count": 122,
     "metadata": {},
     "output_type": "execute_result"
    }
   ],
   "source": [
    "gatelists[218]"
   ]
  },
  {
   "cell_type": "code",
   "execution_count": 93,
   "metadata": {
    "tags": []
   },
   "outputs": [
    {
     "data": {
      "text/plain": [
       "292"
      ]
     },
     "execution_count": 93,
     "metadata": {},
     "output_type": "execute_result"
    }
   ],
   "source": [
    "len(gatelists)"
   ]
  },
  {
   "cell_type": "markdown",
   "metadata": {
    "tags": []
   },
   "source": [
    "# generate master scripts"
   ]
  },
  {
   "cell_type": "markdown",
   "metadata": {},
   "source": [
    "$Gx$ should include a z rotation to remove phase acculumated since last $Gx$ due to detuning of drive. $Gx_0(\\pi/2)$ defined to be a pi/2 around x:\n",
    "\n",
    "$$\n",
    "Gx(\\pi/2) = Gx_0(\\pi/2)~ exp(-i \\theta\\sigma_z/2)\n",
    "$$\n",
    "\n",
    "For qubit splitting from field $\\Delta_0$, and time $t$ since last $Gx$, $\\theta = 2\\pi \\Delta_0 t$. And for splitting $\\Delta_z$ under light shift for Z, the time of the Z part of the composite X is \n",
    "\n",
    "$$\n",
    "t_z = \\frac{\\Delta_0}{\\Delta_z} t\n",
    "$$\n",
    "\n",
    "$$\n",
    "Gx(\\pi/2) = Gx_0(\\pi/2)~ Gz(2\\pi \\Delta_z t_z)\n",
    "$$"
   ]
  },
  {
   "cell_type": "code",
   "execution_count": 119,
   "metadata": {},
   "outputs": [
    {
     "data": {
      "text/plain": [
       "454.5454545454545"
      ]
     },
     "execution_count": 119,
     "metadata": {},
     "output_type": "execute_result"
    }
   ],
   "source": [
    "1/(4*zpi2time)"
   ]
  },
  {
   "cell_type": "code",
   "execution_count": 138,
   "metadata": {},
   "outputs": [],
   "source": [
    "f = open(\"qubit_empty_script.mScript\", \"r\")\n",
    "flist = list(f)\n",
    "\n",
    "Gz = [\"on: zrot\\n\",\"t += zpi2time\\n\",\"off: zrot\\n\", \"t += 0.001\\n\"]\n",
    "\n",
    "zpi2time = 0.00055\n",
    "xpi2time = 0.00022\n",
    "delta0 = 1.25519287\n",
    "detlaz = 1/(4*zpi2time)\n",
    "\n",
    "for j, gatelist in enumerate(gatelists):\n",
    "    td = 0\n",
    "    tz = 0\n",
    "    f0 = open(\"gst_scripts/\"+\"\".join(gatelist)+\".mScript\", \"w\")\n",
    "    flist_new = []\n",
    "    for i, line in enumerate(flist):\n",
    "        if (line == \"%STARTQUBIT\\n\"):\n",
    "            flist_new = flist[:i+1].copy() \n",
    "            for gate in gatelist:\n",
    "                if (gate == 'Gzpi2'):\n",
    "                    td += zpi2time\n",
    "                    flist_new += Gz\n",
    "                if (gate == \"Gxpi2\"):\n",
    "                    Gx = [\"on: xrot\\n\",\"t += xpi2time\\n\",\"off: xrot\\n\",\"t += 0.001\\n\"]\n",
    "                    tz = td*(delta0/detlaz)\n",
    "                    nzpulses = int(np.round(tz/0.00005))\n",
    "                    for k in range(nzpulses):\n",
    "                        Gx = [\"on: zrot\\n\",\"t += 0.00005\\n\",\"off: zrot\\n\",\"t += 0.001\\n\"] + Gx   \n",
    "                    flist_new += Gx\n",
    "                    td = xpi2time\n",
    "                td += 0.001 \n",
    "            flist_new += flist[i+1:]\n",
    "            break\n",
    "    for line in flist_new:\n",
    "        f0.write(line)\n",
    "    f0.close()\n",
    "f.close()"
   ]
  },
  {
   "cell_type": "code",
   "execution_count": null,
   "metadata": {},
   "outputs": [],
   "source": []
  }
 ],
 "metadata": {
  "kernelspec": {
   "display_name": "Python 3",
   "language": "python",
   "name": "python3"
  },
  "language_info": {
   "codemirror_mode": {
    "name": "ipython",
    "version": 3
   },
   "file_extension": ".py",
   "mimetype": "text/x-python",
   "name": "python",
   "nbconvert_exporter": "python",
   "pygments_lexer": "ipython3",
   "version": "3.8.5"
  }
 },
 "nbformat": 4,
 "nbformat_minor": 5
}
