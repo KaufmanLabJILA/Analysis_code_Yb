{
 "cells": [
  {
   "cell_type": "code",
   "execution_count": 1,
   "metadata": {},
   "outputs": [],
   "source": [
    "%matplotlib inline\n",
    "\n",
    "###KAUFMAN LAB LIBRARY\n",
    "klib_version = '1.1'\n",
    "\n",
    "import sys\n",
    "sys.path.append('klab_python_lib_Yb/')\n",
    "\n",
    "import klib\n",
    "if klib.__version__ != klib_version:\n",
    "    raise ValueError('Incorrect klib version number.')\n",
    "\n",
    "from klib.imports import *\n",
    "\n",
    "from klib.analysis import *\n",
    "from klib.plotutil import *\n",
    "from klib.motimage2D import *\n",
    "from klib.motimage3D import *\n",
    "from klib.Yb_constants import *\n",
    "from klib.zynq_client import *\n",
    "\n",
    "from skimage import io\n",
    "import matplotlib.pyplot as plt\n",
    "\n",
    "import numpy as np\n",
    "from scipy import special\n",
    "%matplotlib inline\n",
    "import tqdm\n",
    "from scipy.optimize import curve_fit\n",
    "from skimage import feature\n",
    "import scipy.constants as sc\n",
    "from skimage import data\n",
    "import glob\n",
    "from natsort import natsorted\n",
    "#from vimba import *\n",
    "import importlib\n",
    "from mpl_toolkits.axes_grid1 import ImageGrid\n",
    "from scipy.special import jv\n",
    "from mpl_toolkits.axes_grid1 import make_axes_locatable\n",
    "\n",
    "\n",
    "kB=sc.k #boltzmann cont\n",
    "pi=np.pi\n",
    "c=sc.c\n",
    "h=sc.h\n",
    "g=sc.g\n",
    "eps0 = sc.epsilon_0\n",
    "au=sc.physical_constants['atomic mass constant'][0]\n",
    "dataAddress = Path(os.getcwd())\n",
    "from scipy.linalg import expm"
   ]
  },
  {
   "cell_type": "markdown",
   "metadata": {},
   "source": [
    "# generate freqLUT"
   ]
  },
  {
   "cell_type": "code",
   "execution_count": 26,
   "metadata": {},
   "outputs": [],
   "source": [
    "numtones0 = 48\n",
    "numtones1 = 48\n",
    "\n",
    "# freqcenterD1 = 77.5\n",
    "# spacingD1 = 1.2/3\n",
    "\n",
    "# freqcenterD0 = 85\n",
    "# spacingD0 = 1.2\n",
    "\n",
    "fsx = 1.000398609582314\n",
    "fsy = 1.001070102090829\n",
    "\n",
    "freqcenterD1 = 77.5 + 0.15269024706813894 - 0.021543544250239077 + 0.243\n",
    "spacingD1 = 0.6*fsy\n",
    "\n",
    "freqcenterD0 = 85 + 0.2203665053375253 + 0.748\n",
    "spacingD0 = 0.6*fsx\n",
    "\n",
    "freqsD0start = freqcenterD0-spacingD0*(numtones0-1)/2\n",
    "freqsD0end = freqcenterD0+spacingD0*numtones0/2\n",
    "freqsD1start = freqcenterD1-spacingD1*(numtones1-1)/2\n",
    "freqsD1end = freqcenterD1+spacingD1*numtones1/2\n",
    "\n",
    "freqsD0 = np.linspace(freqsD0start, freqsD0end, numtones0)\n",
    "freqsD1 = np.linspace(freqsD1start, freqsD1end, numtones1)"
   ]
  },
  {
   "cell_type": "code",
   "execution_count": 27,
   "metadata": {},
   "outputs": [],
   "source": [
    "arrFreqLUTNew0 = np.transpose(np.tile(freqsD0, (numtones0,1)))\n",
    "arrFreqLUTNew1 = np.tile(freqsD1, (numtones1,1))"
   ]
  },
  {
   "cell_type": "code",
   "execution_count": 28,
   "metadata": {},
   "outputs": [
    {
     "data": {
      "text/plain": [
       "<matplotlib.colorbar.Colorbar at 0x1fe8f48f7f0>"
      ]
     },
     "execution_count": 28,
     "metadata": {},
     "output_type": "execute_result"
    },
    {
     "data": {
      "image/png": "[encoded data removed]",
      "text/plain": [
       "<Figure size 432x288 with 2 Axes>"
      ]
     },
     "metadata": {
      "needs_background": "light"
     },
     "output_type": "display_data"
    }
   ],
   "source": [
    "plt.imshow(arrFreqLUTNew0)\n",
    "plt.colorbar()"
   ]
  },
  {
   "cell_type": "code",
   "execution_count": 29,
   "metadata": {},
   "outputs": [
    {
     "data": {
      "text/plain": [
       "<matplotlib.colorbar.Colorbar at 0x1fe8f290490>"
      ]
     },
     "execution_count": 29,
     "metadata": {},
     "output_type": "execute_result"
    },
    {
     "data": {
      "image/png": "[encoded data removed]",
      "text/plain": [
       "<Figure size 432x288 with 2 Axes>"
      ]
     },
     "metadata": {
      "needs_background": "light"
     },
     "output_type": "display_data"
    }
   ],
   "source": [
    "plt.imshow(arrFreqLUTNew1)\n",
    "plt.colorbar()"
   ]
  },
  {
   "cell_type": "code",
   "execution_count": 30,
   "metadata": {},
   "outputs": [],
   "source": [
    "arrFreqLUTNew = np.stack((arrFreqLUTNew0, arrFreqLUTNew1), axis=2)"
   ]
  },
  {
   "cell_type": "code",
   "execution_count": 31,
   "metadata": {},
   "outputs": [],
   "source": [
    "np.save(\"C://Users/klab/Documents/Chimera-Control-Master/Tweezer LUT/freqLUT.npy\", arrFreqLUTNew)"
   ]
  },
  {
   "cell_type": "markdown",
   "metadata": {},
   "source": [
    "## generate uniform amplitudes"
   ]
  },
  {
   "cell_type": "code",
   "execution_count": 34,
   "metadata": {},
   "outputs": [],
   "source": [
    "arrAmpLUT = np.ones((numtones0, numtones1, 2))*70"
   ]
  },
  {
   "cell_type": "code",
   "execution_count": 35,
   "metadata": {},
   "outputs": [],
   "source": [
    "np.save(\"C://Users/klab/Documents/Chimera-Control-Master/Tweezer LUT/ampLUT.npy\", arrAmpLUT)"
   ]
  },
  {
   "cell_type": "code",
   "execution_count": 12,
   "metadata": {},
   "outputs": [
    {
     "data": {
      "text/plain": [
       "(48, 48, 2)"
      ]
     },
     "execution_count": 12,
     "metadata": {},
     "output_type": "execute_result"
    }
   ],
   "source": [
    "np.shape(arrAmpLUT)"
   ]
  },
  {
   "cell_type": "code",
   "execution_count": 16,
   "metadata": {},
   "outputs": [
    {
     "data": {
      "text/plain": [
       "(48, 48, 2)"
      ]
     },
     "execution_count": 16,
     "metadata": {},
     "output_type": "execute_result"
    }
   ],
   "source": [
    "np.shape(arrFreqLUTNew)"
   ]
  },
  {
   "cell_type": "code",
   "execution_count": 57,
   "metadata": {},
   "outputs": [
    {
     "data": {
      "text/plain": [
       "18.081144737610867"
      ]
     },
     "execution_count": 57,
     "metadata": {},
     "output_type": "execute_result"
    }
   ],
   "source": [
    "tp = 450/7\n",
    "tpdbm = 10*np.log10(tp)\n",
    "tpdbm"
   ]
  },
  {
   "cell_type": "markdown",
   "metadata": {},
   "source": [
    "# generate amplitudes from balanced values"
   ]
  },
  {
   "cell_type": "code",
   "execution_count": 2,
   "metadata": {},
   "outputs": [],
   "source": [
    "ampD0 = np.load('../Yb_data/ampD0.npy')\n",
    "ampD1 = np.load('../Yb_data/ampD1.npy')"
   ]
  },
  {
   "cell_type": "code",
   "execution_count": 3,
   "metadata": {},
   "outputs": [
    {
     "data": {
      "text/plain": [
       "[<matplotlib.lines.Line2D at 0x1e67a981220>]"
      ]
     },
     "execution_count": 3,
     "metadata": {},
     "output_type": "execute_result"
    },
    {
     "data": {
      "image/png": "[encoded data removed]",
      "text/plain": [
       "<Figure size 432x288 with 1 Axes>"
      ]
     },
     "metadata": {
      "needs_background": "light"
     },
     "output_type": "display_data"
    }
   ],
   "source": [
    "plt.plot(ampD0)"
   ]
  },
  {
   "cell_type": "code",
   "execution_count": 4,
   "metadata": {},
   "outputs": [
    {
     "data": {
      "text/plain": [
       "[<matplotlib.lines.Line2D at 0x1e67a4b1c70>]"
      ]
     },
     "execution_count": 4,
     "metadata": {},
     "output_type": "execute_result"
    },
    {
     "data": {
      "image/png": "[encoded data removed]",
      "text/plain": [
       "<Figure size 432x288 with 1 Axes>"
      ]
     },
     "metadata": {
      "needs_background": "light"
     },
     "output_type": "display_data"
    }
   ],
   "source": [
    "plt.plot(ampD1)"
   ]
  },
  {
   "cell_type": "code",
   "execution_count": null,
   "metadata": {},
   "outputs": [],
   "source": [
    "pfitampD0 = np.polyfit()"
   ]
  },
  {
   "cell_type": "code",
   "execution_count": 42,
   "metadata": {},
   "outputs": [],
   "source": [
    "freqlut = np.load(\"C://Users/klab/Documents/Chimera-Control-Master/Tweezer LUT/freqLUT.npy\")\n",
    "freqluttemp = np.load(\"C://Users/klab/Documents/Chimera-Control-Master/Tweezer LUT/freqLUT_temp.npy\")"
   ]
  },
  {
   "cell_type": "code",
   "execution_count": 47,
   "metadata": {},
   "outputs": [
    {
     "data": {
      "text/plain": [
       "1.2127659574468055"
      ]
     },
     "execution_count": 47,
     "metadata": {},
     "output_type": "execute_result"
    }
   ],
   "source": [
    "freqlut[1,0,0] - freqlut[0,0,0]"
   ]
  },
  {
   "cell_type": "code",
   "execution_count": 44,
   "metadata": {},
   "outputs": [
    {
     "data": {
      "text/plain": [
       "0.4042553191489304"
      ]
     },
     "execution_count": 44,
     "metadata": {},
     "output_type": "execute_result"
    }
   ],
   "source": [
    "freqlut[0,1,1] - freqlut[0,0,1]"
   ]
  },
  {
   "cell_type": "code",
   "execution_count": 46,
   "metadata": {},
   "outputs": [
    {
     "data": {
      "text/plain": [
       "0.9999999999999991"
      ]
     },
     "execution_count": 46,
     "metadata": {},
     "output_type": "execute_result"
    }
   ],
   "source": [
    "fsx/((freqluttemp[1,0,0] - freqluttemp[0,0,0])/(freqlut[1,0,0] - freqlut[0,0,0]))"
   ]
  },
  {
   "cell_type": "code",
   "execution_count": 48,
   "metadata": {},
   "outputs": [
    {
     "data": {
      "text/plain": [
       "0.9999999999999911"
      ]
     },
     "execution_count": 48,
     "metadata": {},
     "output_type": "execute_result"
    }
   ],
   "source": [
    "fsy/((freqluttemp[0,1,1] - freqluttemp[0,0,1])/(freqlut[0,1,1] - freqlut[0,0,1]))"
   ]
  },
  {
   "cell_type": "code",
   "execution_count": 50,
   "metadata": {},
   "outputs": [],
   "source": [
    "freqlut = np.load(\"C://Users/klab/Documents/Chimera-Control-Master/Tweezer LUT/freqLUT.npy\")"
   ]
  },
  {
   "cell_type": "code",
   "execution_count": 51,
   "metadata": {},
   "outputs": [
    {
     "data": {
      "text/plain": [
       "1.2132493775785491"
      ]
     },
     "execution_count": 51,
     "metadata": {},
     "output_type": "execute_result"
    }
   ],
   "source": [
    "freqlut[1,0,0] - freqlut[0,0,0]"
   ]
  },
  {
   "cell_type": "code",
   "execution_count": null,
   "metadata": {},
   "outputs": [],
   "source": []
  }
 ],
 "metadata": {
  "kernelspec": {
   "display_name": "Python 3",
   "language": "python",
   "name": "python3"
  },
  "language_info": {
   "codemirror_mode": {
    "name": "ipython",
    "version": 3
   },
   "file_extension": ".py",
   "mimetype": "text/x-python",
   "name": "python",
   "nbconvert_exporter": "python",
   "pygments_lexer": "ipython3",
   "version": "3.8.5"
  }
 },
 "nbformat": 4,
 "nbformat_minor": 4
}
